{
 "cells": [
  {
   "cell_type": "code",
   "execution_count": 188,
   "metadata": {},
   "outputs": [],
   "source": [
    "import numpy as np\n",
    "import pandas as pd\n",
    "import torch\n",
    "\n",
    "from rdkit import Chem, RDLogger\n",
    "from rdkit.Chem import AllChem, DataStructs\n",
    "\n",
    "RDLogger.DisableLog('rdApp.*')\n",
    "\n",
    "from collections import Counter\n",
    "from itertools import product\n",
    "\n",
    "import selfies as sf\n",
    "\n",
    "import matplotlib.pyplot as plt\n",
    "from matplotlib.colors import to_hex\n",
    "\n",
    "from mpl_toolkits.mplot3d import Axes3D\n",
    "\n",
    "from tqdm import tqdm"
   ]
  },
  {
   "cell_type": "code",
   "execution_count": 2,
   "metadata": {},
   "outputs": [],
   "source": [
    "import sys\n",
    "sys.path.append(\"..\")\n",
    "import moses\n",
    "from moses.vae import VAE\n",
    "from moses.vae_property import VAEPROPERTY\n",
    "from moses.utils import CharVocab, StringDataset, SELFIESVocab\n",
    "from moses.vae.trainer import VAETrainer\n",
    "from moses.vae_property.trainer import VAEPROPERTYTrainer\n",
    "\n",
    "from moses.metrics import QED, SA, logP\n",
    "from moses.utils import get_mol"
   ]
  },
  {
   "cell_type": "markdown",
   "metadata": {},
   "source": [
    "# 1. Loading data"
   ]
  },
  {
   "cell_type": "markdown",
   "metadata": {},
   "source": [
    "## 1.1 Loading model"
   ]
  },
  {
   "cell_type": "code",
   "execution_count": 3,
   "metadata": {},
   "outputs": [
    {
     "data": {
      "text/plain": [
       "<All keys matched successfully>"
      ]
     },
     "execution_count": 3,
     "metadata": {},
     "output_type": "execute_result"
    }
   ],
   "source": [
    "folder_path = \"../model_results/ZINC250K_vae_property_obj_ws\"\n",
    "\n",
    "config_path = \"vae_property_config.pt\"\n",
    "model_path = \"vae_property_model_080.pt\"\n",
    "\n",
    "config = torch.load(f\"{folder_path}/{config_path}\")\n",
    "\n",
    "vocab_path = \"vae_property_vocab.pt\"\n",
    "vocab = torch.load(f\"{folder_path}/{vocab_path}\")\n",
    "\n",
    "model = VAEPROPERTY(vocab, config)\n",
    "model.load_state_dict(torch.load(f\"{folder_path}/{model_path}\"))\n",
    "\n"
   ]
  },
  {
   "cell_type": "markdown",
   "metadata": {},
   "source": [
    "## 1.2 Loading train data"
   ]
  },
  {
   "cell_type": "code",
   "execution_count": 4,
   "metadata": {},
   "outputs": [],
   "source": [
    "data_folder_path = \"../moses/dataset/data/ZINC250K\"\n",
    "\n",
    "file_name = \"train.csv\"\n",
    "\n",
    "data = pd.read_csv(f\"{data_folder_path}/{file_name}\")"
   ]
  },
  {
   "cell_type": "code",
   "execution_count": 5,
   "metadata": {},
   "outputs": [
    {
     "data": {
      "text/html": [
       "<div>\n",
       "<style scoped>\n",
       "    .dataframe tbody tr th:only-of-type {\n",
       "        vertical-align: middle;\n",
       "    }\n",
       "\n",
       "    .dataframe tbody tr th {\n",
       "        vertical-align: top;\n",
       "    }\n",
       "\n",
       "    .dataframe thead th {\n",
       "        text-align: right;\n",
       "    }\n",
       "</style>\n",
       "<table border=\"1\" class=\"dataframe\">\n",
       "  <thead>\n",
       "    <tr style=\"text-align: right;\">\n",
       "      <th></th>\n",
       "      <th>SMILES</th>\n",
       "      <th>SELFIES</th>\n",
       "      <th>logP</th>\n",
       "      <th>qed</th>\n",
       "      <th>SAS</th>\n",
       "      <th>obj</th>\n",
       "    </tr>\n",
       "  </thead>\n",
       "  <tbody>\n",
       "    <tr>\n",
       "      <th>0</th>\n",
       "      <td>COCCOc1ccc(CNC(=O)c2cnc3ccc(C)cn23)cc1</td>\n",
       "      <td>[C][O][C][C][O][C][=C][C][=C][Branch2][Ring1][...</td>\n",
       "      <td>2.59792</td>\n",
       "      <td>0.672152</td>\n",
       "      <td>2.174005</td>\n",
       "      <td>1.186756</td>\n",
       "    </tr>\n",
       "    <tr>\n",
       "      <th>1</th>\n",
       "      <td>Cc1cc(C(=O)NC(C)(C)c2cccc(F)c2)[nH]n1</td>\n",
       "      <td>[C][C][C][=C][Branch2][Ring1][Branch2][C][=Bra...</td>\n",
       "      <td>2.52232</td>\n",
       "      <td>0.891576</td>\n",
       "      <td>2.577987</td>\n",
       "      <td>1.879891</td>\n",
       "    </tr>\n",
       "    <tr>\n",
       "      <th>2</th>\n",
       "      <td>CCc1n[nH]c(SCc2nnnn2-c2cc(C)ccc2F)n1</td>\n",
       "      <td>[C][C][C][=N][NH1][C][Branch2][Ring1][=Branch1...</td>\n",
       "      <td>2.08262</td>\n",
       "      <td>0.724791</td>\n",
       "      <td>2.787800</td>\n",
       "      <td>0.836156</td>\n",
       "    </tr>\n",
       "    <tr>\n",
       "      <th>3</th>\n",
       "      <td>COc1ccc(CC(=O)Nc2cccc3ncccc23)cc1</td>\n",
       "      <td>[C][O][C][=C][C][=C][Branch2][Ring1][Branch1][...</td>\n",
       "      <td>3.42460</td>\n",
       "      <td>0.801260</td>\n",
       "      <td>1.647545</td>\n",
       "      <td>2.358755</td>\n",
       "    </tr>\n",
       "    <tr>\n",
       "      <th>4</th>\n",
       "      <td>CCOc1ccc(Cl)c(C(=O)Nc2cc(C)nn2CCC#N)n1</td>\n",
       "      <td>[C][C][O][C][=C][C][=C][Branch1][C][Cl][C][Bra...</td>\n",
       "      <td>2.80460</td>\n",
       "      <td>0.876945</td>\n",
       "      <td>2.582261</td>\n",
       "      <td>1.802464</td>\n",
       "    </tr>\n",
       "  </tbody>\n",
       "</table>\n",
       "</div>"
      ],
      "text/plain": [
       "                                   SMILES  \\\n",
       "0  COCCOc1ccc(CNC(=O)c2cnc3ccc(C)cn23)cc1   \n",
       "1   Cc1cc(C(=O)NC(C)(C)c2cccc(F)c2)[nH]n1   \n",
       "2    CCc1n[nH]c(SCc2nnnn2-c2cc(C)ccc2F)n1   \n",
       "3       COc1ccc(CC(=O)Nc2cccc3ncccc23)cc1   \n",
       "4  CCOc1ccc(Cl)c(C(=O)Nc2cc(C)nn2CCC#N)n1   \n",
       "\n",
       "                                             SELFIES     logP       qed  \\\n",
       "0  [C][O][C][C][O][C][=C][C][=C][Branch2][Ring1][...  2.59792  0.672152   \n",
       "1  [C][C][C][=C][Branch2][Ring1][Branch2][C][=Bra...  2.52232  0.891576   \n",
       "2  [C][C][C][=N][NH1][C][Branch2][Ring1][=Branch1...  2.08262  0.724791   \n",
       "3  [C][O][C][=C][C][=C][Branch2][Ring1][Branch1][...  3.42460  0.801260   \n",
       "4  [C][C][O][C][=C][C][=C][Branch1][C][Cl][C][Bra...  2.80460  0.876945   \n",
       "\n",
       "        SAS       obj  \n",
       "0  2.174005  1.186756  \n",
       "1  2.577987  1.879891  \n",
       "2  2.787800  0.836156  \n",
       "3  1.647545  2.358755  \n",
       "4  2.582261  1.802464  "
      ]
     },
     "execution_count": 5,
     "metadata": {},
     "output_type": "execute_result"
    }
   ],
   "source": [
    "data.head() #it has smiles, selfies, logP, qed, SAS, obj values"
   ]
  },
  {
   "cell_type": "markdown",
   "metadata": {},
   "source": [
    "### 1.2.1 generate whole_latent_data"
   ]
  },
  {
   "cell_type": "code",
   "execution_count": 6,
   "metadata": {},
   "outputs": [],
   "source": [
    "np.random.seed(42)\n",
    "samples = data.iloc[np.random.choice(data.shape[0], 1000, replace=False)]"
   ]
  },
  {
   "cell_type": "code",
   "execution_count": 7,
   "metadata": {},
   "outputs": [],
   "source": [
    "def get_latent_info(mol_smiles, model):\n",
    "    mu, log_var, z, _ = model.forward_encoder(model.string2tensor(mol_smiles).reshape(1,-1))\n",
    "\n",
    "    return mu, log_var, z"
   ]
  },
  {
   "cell_type": "code",
   "execution_count": 8,
   "metadata": {},
   "outputs": [],
   "source": [
    "def get_latent_whole_info(data, model):\n",
    "    mu_list = []\n",
    "    log_var_list = []\n",
    "    z_list = []\n",
    "    for i in range(len(data)):\n",
    "        mu, log_var, z = get_latent_info(data[\"SMILES\"].iloc[i], model)\n",
    "        mu_list.append(mu)\n",
    "        log_var_list.append(log_var)\n",
    "        z_list.append(z)\n",
    "\n",
    "    mu_df = pd.DataFrame([[point.detach().cpu().numpy()]for point in mu_list], columns=[\"mu\"], index=data.index)\n",
    "    logvar_df = pd.DataFrame([[point.detach().cpu().numpy()]for point in log_var_list], columns=[\"logvar\"], index=data.index)\n",
    "    z_df = pd.DataFrame([[point.detach().cpu().numpy()]for point in z_list], columns=[\"z\"], index=data.index)\n",
    "\n",
    "    return mu_df, logvar_df, z_df"
   ]
  },
  {
   "cell_type": "code",
   "execution_count": 9,
   "metadata": {},
   "outputs": [],
   "source": [
    "mu_df, log_var_df, z_df = get_latent_whole_info(samples, model)"
   ]
  },
  {
   "cell_type": "code",
   "execution_count": 10,
   "metadata": {},
   "outputs": [],
   "source": [
    "whole_latent_info = pd.concat([samples, mu_df, log_var_df, z_df], axis=1)"
   ]
  },
  {
   "cell_type": "code",
   "execution_count": 11,
   "metadata": {},
   "outputs": [
    {
     "data": {
      "text/html": [
       "<div>\n",
       "<style scoped>\n",
       "    .dataframe tbody tr th:only-of-type {\n",
       "        vertical-align: middle;\n",
       "    }\n",
       "\n",
       "    .dataframe tbody tr th {\n",
       "        vertical-align: top;\n",
       "    }\n",
       "\n",
       "    .dataframe thead th {\n",
       "        text-align: right;\n",
       "    }\n",
       "</style>\n",
       "<table border=\"1\" class=\"dataframe\">\n",
       "  <thead>\n",
       "    <tr style=\"text-align: right;\">\n",
       "      <th></th>\n",
       "      <th>SMILES</th>\n",
       "      <th>SELFIES</th>\n",
       "      <th>logP</th>\n",
       "      <th>qed</th>\n",
       "      <th>SAS</th>\n",
       "      <th>obj</th>\n",
       "      <th>mu</th>\n",
       "      <th>logvar</th>\n",
       "      <th>z</th>\n",
       "    </tr>\n",
       "  </thead>\n",
       "  <tbody>\n",
       "    <tr>\n",
       "      <th>38683</th>\n",
       "      <td>CC(C)n1nnnc1SCc1cc(F)cc2c1OCOC2</td>\n",
       "      <td>[C][C][Branch1][C][C][N][N][=N][N][=C][Ring1][...</td>\n",
       "      <td>2.55190</td>\n",
       "      <td>0.808834</td>\n",
       "      <td>2.786591</td>\n",
       "      <td>1.257578</td>\n",
       "      <td>[[0.0006688088, -0.04799132, 0.009349651, 0.00...</td>\n",
       "      <td>[[-0.0018990822, -0.0017098114, 0.0023532398, ...</td>\n",
       "      <td>[[-0.34788042, -1.124217, -1.0180868, 0.110421...</td>\n",
       "    </tr>\n",
       "    <tr>\n",
       "      <th>64939</th>\n",
       "      <td>O=C(CCO)N1CCC2(CC(Nc3ncccn3)CO2)C1</td>\n",
       "      <td>[O][=C][Branch1][Ring2][C][C][O][N][C][C][C][B...</td>\n",
       "      <td>0.03090</td>\n",
       "      <td>0.813958</td>\n",
       "      <td>4.044754</td>\n",
       "      <td>0.025037</td>\n",
       "      <td>[[-0.00095851347, 0.021082483, 0.007405185, 0....</td>\n",
       "      <td>[[4.9378723e-05, -0.0030402318, 0.0017250776, ...</td>\n",
       "      <td>[[-0.066773355, -0.31944117, 0.28933546, -0.61...</td>\n",
       "    </tr>\n",
       "    <tr>\n",
       "      <th>3954</th>\n",
       "      <td>COc1c(CN(CCC#N)Cc2ccccn2)c(C)nn1C</td>\n",
       "      <td>[C][O][C][=C][Branch2][Ring1][C][C][N][Branch1...</td>\n",
       "      <td>2.04800</td>\n",
       "      <td>0.782484</td>\n",
       "      <td>2.591605</td>\n",
       "      <td>1.320817</td>\n",
       "      <td>[[0.009314321, 0.0017299056, 0.01059019, -0.00...</td>\n",
       "      <td>[[0.00043804199, -0.0008841902, -0.0006967876,...</td>\n",
       "      <td>[[-0.18035033, 0.8279109, -1.5694437, -1.49101...</td>\n",
       "    </tr>\n",
       "    <tr>\n",
       "      <th>120374</th>\n",
       "      <td>CC(C)CCn1c(=O)c2sccc2n2c(=O)[nH]nc12</td>\n",
       "      <td>[C][C][Branch1][C][C][C][C][N][C][=Branch1][C]...</td>\n",
       "      <td>1.44510</td>\n",
       "      <td>0.787737</td>\n",
       "      <td>2.793158</td>\n",
       "      <td>1.145527</td>\n",
       "      <td>[[0.0019169301, -0.035416692, 0.0028020684, 0....</td>\n",
       "      <td>[[0.0007841289, -0.0021196902, -0.0014276989, ...</td>\n",
       "      <td>[[-0.6388959, 0.10280505, 0.862791, 1.4218786,...</td>\n",
       "    </tr>\n",
       "    <tr>\n",
       "      <th>172861</th>\n",
       "      <td>N#Cc1ccccc1N1CCN(C(=O)CCN2CCCCC2=O)CC1</td>\n",
       "      <td>[N][#C][C][=C][C][=C][C][=C][Ring1][=Branch1][...</td>\n",
       "      <td>1.60948</td>\n",
       "      <td>0.835036</td>\n",
       "      <td>2.200988</td>\n",
       "      <td>1.974191</td>\n",
       "      <td>[[0.0012648702, 0.018271655, -0.010631787, 0.0...</td>\n",
       "      <td>[[-0.000246834, -0.0021136627, -0.0008503087, ...</td>\n",
       "      <td>[[-1.4254918, 0.626089, -0.7045371, -0.8695274...</td>\n",
       "    </tr>\n",
       "    <tr>\n",
       "      <th>...</th>\n",
       "      <td>...</td>\n",
       "      <td>...</td>\n",
       "      <td>...</td>\n",
       "      <td>...</td>\n",
       "      <td>...</td>\n",
       "      <td>...</td>\n",
       "      <td>...</td>\n",
       "      <td>...</td>\n",
       "      <td>...</td>\n",
       "    </tr>\n",
       "    <tr>\n",
       "      <th>3963</th>\n",
       "      <td>CCOc1ccc(C2NC(=O)NC3=C2C(=O)N(CCC(C)C)C3)cc1</td>\n",
       "      <td>[C][C][O][C][=C][C][=C][Branch2][Ring1][=N][C]...</td>\n",
       "      <td>2.58160</td>\n",
       "      <td>0.833919</td>\n",
       "      <td>2.937811</td>\n",
       "      <td>1.231782</td>\n",
       "      <td>[[0.0339616, 0.026932195, -0.010883499, 0.0052...</td>\n",
       "      <td>[[0.00015386939, -0.0031673014, -0.0016510524,...</td>\n",
       "      <td>[[-1.81391, -0.26168096, -0.81667995, 0.461852...</td>\n",
       "    </tr>\n",
       "    <tr>\n",
       "      <th>79890</th>\n",
       "      <td>Cc1cc(C)c(NC(=O)CNc2nc3ccccc3nc2C)c(C)c1</td>\n",
       "      <td>[C][C][=C][C][Branch1][C][C][=C][Branch2][Ring...</td>\n",
       "      <td>3.91408</td>\n",
       "      <td>0.758875</td>\n",
       "      <td>2.142944</td>\n",
       "      <td>1.651432</td>\n",
       "      <td>[[0.024229053, -0.001015991, 0.01246443, 0.001...</td>\n",
       "      <td>[[-0.00049760565, -0.00026541203, -0.000601597...</td>\n",
       "      <td>[[1.4540688, -0.060145635, 0.72156954, 2.17412...</td>\n",
       "    </tr>\n",
       "    <tr>\n",
       "      <th>15295</th>\n",
       "      <td>Cc1cccc(N2CC(C(=O)N3CCOC(C)C3)CC2=O)c1C</td>\n",
       "      <td>[C][C][=C][C][=C][C][Branch2][Ring1][#Branch2]...</td>\n",
       "      <td>1.90364</td>\n",
       "      <td>0.837225</td>\n",
       "      <td>2.955786</td>\n",
       "      <td>1.230338</td>\n",
       "      <td>[[0.0052305683, 0.016977385, -0.02318297, -0.0...</td>\n",
       "      <td>[[-0.0023915023, -0.0017191097, -0.0006081946,...</td>\n",
       "      <td>[[-0.8468702, 0.38266927, -0.011780726, -0.366...</td>\n",
       "    </tr>\n",
       "    <tr>\n",
       "      <th>218373</th>\n",
       "      <td>CN(Cc1cccnc1)S(=O)(=O)N1CCNCC1</td>\n",
       "      <td>[C][N][Branch1][#Branch2][C][C][=C][C][=C][N][...</td>\n",
       "      <td>-0.33660</td>\n",
       "      <td>0.812984</td>\n",
       "      <td>2.360259</td>\n",
       "      <td>1.704662</td>\n",
       "      <td>[[-0.008896768, 0.05477962, -0.019030368, 0.02...</td>\n",
       "      <td>[[0.0043442287, -0.005062647, -0.00561619, 0.0...</td>\n",
       "      <td>[[0.09740945, 1.4767339, 0.62416536, -2.151724...</td>\n",
       "    </tr>\n",
       "    <tr>\n",
       "      <th>165697</th>\n",
       "      <td>CC(C)C(=O)c1ccccc1NC(=O)CSc1nncs1</td>\n",
       "      <td>[C][C][Branch1][C][C][C][=Branch1][C][=O][C][=...</td>\n",
       "      <td>3.10760</td>\n",
       "      <td>0.653603</td>\n",
       "      <td>2.304540</td>\n",
       "      <td>0.963475</td>\n",
       "      <td>[[0.010739546, -0.012579948, -0.004384962, 0.0...</td>\n",
       "      <td>[[-0.0065443926, -0.0024709255, 0.002064824, -...</td>\n",
       "      <td>[[-0.96468264, 0.30832446, -2.4268997, 0.43299...</td>\n",
       "    </tr>\n",
       "  </tbody>\n",
       "</table>\n",
       "<p>1000 rows × 9 columns</p>\n",
       "</div>"
      ],
      "text/plain": [
       "                                              SMILES  \\\n",
       "38683                CC(C)n1nnnc1SCc1cc(F)cc2c1OCOC2   \n",
       "64939             O=C(CCO)N1CCC2(CC(Nc3ncccn3)CO2)C1   \n",
       "3954               COc1c(CN(CCC#N)Cc2ccccn2)c(C)nn1C   \n",
       "120374          CC(C)CCn1c(=O)c2sccc2n2c(=O)[nH]nc12   \n",
       "172861        N#Cc1ccccc1N1CCN(C(=O)CCN2CCCCC2=O)CC1   \n",
       "...                                              ...   \n",
       "3963    CCOc1ccc(C2NC(=O)NC3=C2C(=O)N(CCC(C)C)C3)cc1   \n",
       "79890       Cc1cc(C)c(NC(=O)CNc2nc3ccccc3nc2C)c(C)c1   \n",
       "15295        Cc1cccc(N2CC(C(=O)N3CCOC(C)C3)CC2=O)c1C   \n",
       "218373                CN(Cc1cccnc1)S(=O)(=O)N1CCNCC1   \n",
       "165697             CC(C)C(=O)c1ccccc1NC(=O)CSc1nncs1   \n",
       "\n",
       "                                                  SELFIES     logP       qed  \\\n",
       "38683   [C][C][Branch1][C][C][N][N][=N][N][=C][Ring1][...  2.55190  0.808834   \n",
       "64939   [O][=C][Branch1][Ring2][C][C][O][N][C][C][C][B...  0.03090  0.813958   \n",
       "3954    [C][O][C][=C][Branch2][Ring1][C][C][N][Branch1...  2.04800  0.782484   \n",
       "120374  [C][C][Branch1][C][C][C][C][N][C][=Branch1][C]...  1.44510  0.787737   \n",
       "172861  [N][#C][C][=C][C][=C][C][=C][Ring1][=Branch1][...  1.60948  0.835036   \n",
       "...                                                   ...      ...       ...   \n",
       "3963    [C][C][O][C][=C][C][=C][Branch2][Ring1][=N][C]...  2.58160  0.833919   \n",
       "79890   [C][C][=C][C][Branch1][C][C][=C][Branch2][Ring...  3.91408  0.758875   \n",
       "15295   [C][C][=C][C][=C][C][Branch2][Ring1][#Branch2]...  1.90364  0.837225   \n",
       "218373  [C][N][Branch1][#Branch2][C][C][=C][C][=C][N][... -0.33660  0.812984   \n",
       "165697  [C][C][Branch1][C][C][C][=Branch1][C][=O][C][=...  3.10760  0.653603   \n",
       "\n",
       "             SAS       obj                                                 mu  \\\n",
       "38683   2.786591  1.257578  [[0.0006688088, -0.04799132, 0.009349651, 0.00...   \n",
       "64939   4.044754  0.025037  [[-0.00095851347, 0.021082483, 0.007405185, 0....   \n",
       "3954    2.591605  1.320817  [[0.009314321, 0.0017299056, 0.01059019, -0.00...   \n",
       "120374  2.793158  1.145527  [[0.0019169301, -0.035416692, 0.0028020684, 0....   \n",
       "172861  2.200988  1.974191  [[0.0012648702, 0.018271655, -0.010631787, 0.0...   \n",
       "...          ...       ...                                                ...   \n",
       "3963    2.937811  1.231782  [[0.0339616, 0.026932195, -0.010883499, 0.0052...   \n",
       "79890   2.142944  1.651432  [[0.024229053, -0.001015991, 0.01246443, 0.001...   \n",
       "15295   2.955786  1.230338  [[0.0052305683, 0.016977385, -0.02318297, -0.0...   \n",
       "218373  2.360259  1.704662  [[-0.008896768, 0.05477962, -0.019030368, 0.02...   \n",
       "165697  2.304540  0.963475  [[0.010739546, -0.012579948, -0.004384962, 0.0...   \n",
       "\n",
       "                                                   logvar  \\\n",
       "38683   [[-0.0018990822, -0.0017098114, 0.0023532398, ...   \n",
       "64939   [[4.9378723e-05, -0.0030402318, 0.0017250776, ...   \n",
       "3954    [[0.00043804199, -0.0008841902, -0.0006967876,...   \n",
       "120374  [[0.0007841289, -0.0021196902, -0.0014276989, ...   \n",
       "172861  [[-0.000246834, -0.0021136627, -0.0008503087, ...   \n",
       "...                                                   ...   \n",
       "3963    [[0.00015386939, -0.0031673014, -0.0016510524,...   \n",
       "79890   [[-0.00049760565, -0.00026541203, -0.000601597...   \n",
       "15295   [[-0.0023915023, -0.0017191097, -0.0006081946,...   \n",
       "218373  [[0.0043442287, -0.005062647, -0.00561619, 0.0...   \n",
       "165697  [[-0.0065443926, -0.0024709255, 0.002064824, -...   \n",
       "\n",
       "                                                        z  \n",
       "38683   [[-0.34788042, -1.124217, -1.0180868, 0.110421...  \n",
       "64939   [[-0.066773355, -0.31944117, 0.28933546, -0.61...  \n",
       "3954    [[-0.18035033, 0.8279109, -1.5694437, -1.49101...  \n",
       "120374  [[-0.6388959, 0.10280505, 0.862791, 1.4218786,...  \n",
       "172861  [[-1.4254918, 0.626089, -0.7045371, -0.8695274...  \n",
       "...                                                   ...  \n",
       "3963    [[-1.81391, -0.26168096, -0.81667995, 0.461852...  \n",
       "79890   [[1.4540688, -0.060145635, 0.72156954, 2.17412...  \n",
       "15295   [[-0.8468702, 0.38266927, -0.011780726, -0.366...  \n",
       "218373  [[0.09740945, 1.4767339, 0.62416536, -2.151724...  \n",
       "165697  [[-0.96468264, 0.30832446, -2.4268997, 0.43299...  \n",
       "\n",
       "[1000 rows x 9 columns]"
      ]
     },
     "execution_count": 11,
     "metadata": {},
     "output_type": "execute_result"
    }
   ],
   "source": [
    "whole_latent_info"
   ]
  },
  {
   "cell_type": "markdown",
   "metadata": {},
   "source": [
    "## 1.2.2 for test mol, generate molecular diagram"
   ]
  },
  {
   "cell_type": "code",
   "execution_count": 81,
   "metadata": {},
   "outputs": [
    {
     "name": "stdout",
     "output_type": "stream",
     "text": [
      "0 logP\n",
      "1 qed\n",
      "2 SAS\n",
      "3 obj\n"
     ]
    }
   ],
   "source": [
    "props = [\"logP\", \"qed\", \"SAS\", \"obj\"]\n",
    "\n",
    "for idx, prop in enumerate(props):\n",
    "    print(idx,prop)"
   ]
  },
  {
   "cell_type": "code",
   "execution_count": 200,
   "metadata": {},
   "outputs": [],
   "source": [
    "def sample_latent_space(mu, model, ranges=(3,3), latent_dim=128, n_trials=1000, \n",
    "                        n_grid=6, temp=0.01, orthogonal_vec=(None,None), save_name=None, prop_save_name=None,\n",
    "                        props=None): #note : props should be list of properties among \"logP\", \"qed\", \"SA\", \"obj\n",
    "\n",
    "    np.random.seed(42)\n",
    "\n",
    "    if orthogonal_vec[0] is None or orthogonal_vec[1] is None: # orthogonal vectors are not given -> set two basis vectors\n",
    "        orthogonal_vec = np.eye(latent_dim)[np.random.randint(0, latent_dim, 2)]\n",
    "\n",
    "    x_range, y_range = ranges\n",
    "\n",
    "    dx = np.linspace(-x_range, x_range, 2*n_grid+1)\n",
    "    dy = np.linspace(-y_range, y_range, 2*n_grid+1)\n",
    "\n",
    "    grid = pd.DataFrame(columns=range(2*n_grid+1), index=range(2*n_grid+1))\n",
    "\n",
    "    prop_grid_list = []\n",
    "\n",
    "    for _ in range(len(props)):\n",
    "        prop_grid_list.append(pd.DataFrame(columns=range(2*n_grid+1), index=range(2*n_grid+1)))\n",
    "\n",
    "    for i_x, i_y in tqdm(product(range(2*n_grid+1), range(2*n_grid+1)), desc='whole_iters', total=(2*n_grid+1)**2): #each data points\n",
    "        z_point = mu + dx[i_x]*orthogonal_vec[0] + dy[i_y]*orthogonal_vec[1] # move the point to the direction of the unit vector\n",
    "        most_freq_mol, freq_df = decode_z(z_point, model, n_trials, temp)\n",
    "\n",
    "        grid.iloc[i_x, i_y] = most_freq_mol\n",
    "\n",
    "        for idx, prop in enumerate(props):\n",
    "            prop_grid_list[idx].iloc[i_x, i_y] = calc_avg_prop(freq_df, props=prop)\n",
    "    \n",
    "    if save_name is not None:\n",
    "        grid.to_csv(save_name)\n",
    "    \n",
    "    if prop_save_name is not None:\n",
    "        for idx, prop in enumerate(props):\n",
    "            prop_grid_list[idx].to_csv(f\"{prop_save_name}_{prop}.csv\")\n",
    "    \n",
    "    return grid\n",
    "\n",
    "def decode_z(z, model, n_trials, temp):\n",
    "    # decode n_trials times from z using the model sample function, and pick most frequent one\n",
    "    z_input = torch.tensor(z).repeat(n_trials).reshape(n_trials, -1)\n",
    "\n",
    "    z_input = z_input.float()\n",
    "\n",
    "    decoded_mols = model.sample(n_batch=z_input.shape[0], z=z_input, temp=temp)\n",
    "\n",
    "    valid_decoded_mols = [Chem.MolFromSmiles(mol) for mol in decoded_mols if Chem.MolFromSmiles(mol) is not None]\n",
    "    \n",
    "    print(f\"ratio of valid molecules : {len(valid_decoded_mols)}/{n_trials}\")\n",
    "\n",
    "    canon_dec_mols = [Chem.MolToSmiles(Chem.MolFromSmiles(mol), canonical=True) for mol in decoded_mols if Chem.MolFromSmiles(mol) is not None]\n",
    "\n",
    "    mol_freq = Counter(canon_dec_mols)\n",
    "\n",
    "    most_freq_mol, _ = find_argmax(mol_freq)\n",
    "\n",
    "    freq_df = get_mol_freq(mol_freq)\n",
    "\n",
    "    return most_freq_mol, freq_df\n",
    "\n",
    "def find_argmax(counter):\n",
    "    # Get the most common element and its count\n",
    "    most_common_element = counter.most_common(1)\n",
    "    if most_common_element:\n",
    "        element, count = most_common_element[0]\n",
    "        return element, count\n",
    "    else:\n",
    "        return None, None\n",
    "\n",
    "def get_mol_freq(counter):\n",
    "    # Get the most common element and its count\n",
    "    mols = counter.keys()\n",
    "    counts = counter.values()\n",
    "\n",
    "    freq_df = pd.DataFrame({\"mols\":mols, \"counts\":counts})\n",
    "\n",
    "    return freq_df\n",
    "\n",
    "def calc_avg_prop(freq_df, props=None):\n",
    "    if props is None:\n",
    "        return None\n",
    "    \n",
    "    mols = freq_df[\"mols\"] # smiles\n",
    "    counts = freq_df[\"counts\"]\n",
    "\n",
    "    avg_prop = 0\n",
    "    total_count = 0\n",
    "\n",
    "    for mol, count in zip(mols, counts):\n",
    "        prop = get_mol_prop(mol, props) # if mol is invalid, skip that molecule and exclude from the calculation of average property.\n",
    "\n",
    "        if prop is not None:\n",
    "            total_count += count\n",
    "            avg_prop += prop*count\n",
    "\n",
    "    avg_prop /= total_count\n",
    "\n",
    "    return avg_prop\n",
    "\n",
    "def get_mol_prop(mol, props): # get the property of the molecule\n",
    "    chemmol = Chem.MolFromSmiles(mol)\n",
    "\n",
    "    if chemmol is None:\n",
    "        return None\n",
    "\n",
    "    if props == \"logP\":\n",
    "        return logP(chemmol)\n",
    "    elif props == \"qed\":\n",
    "        return QED(chemmol)\n",
    "    elif props == \"SA\":\n",
    "        return SA(chemmol)\n",
    "    elif props == 'obj':\n",
    "        return 5 * QED(chemmol) - SA(chemmol)\n",
    "    else:\n",
    "        return None\n",
    "    \n",
    "def plot_freq_mols_with_color(freq_mols_grid_df, save_name=None):\n",
    "    # plot grid-wise latent space for each molecules\n",
    "    # and return the color dictionary for each molecule\n",
    "    \n",
    "    n_rows, n_cols = freq_mols_grid_df.shape\n",
    "\n",
    "    mol_positions = {}\n",
    "\n",
    "    # 그리드의 각 칸에 대해 분자를 추적합니다.\n",
    "    for i in range(n_rows):\n",
    "        for j in range(n_cols):\n",
    "            mol = freq_mols_grid_df.iloc[i, j]\n",
    "            if mol:  # 빈 셀을 무시합니다.\n",
    "                mol_smiles = str(mol)\n",
    "                if mol_smiles not in mol_positions:\n",
    "                    mol_positions[mol_smiles] = []\n",
    "                mol_positions[mol_smiles].append((i, j))  # 분자가 존재하는 칸의 위치를 저장합니다.\n",
    "\n",
    "    # 분자별로 고유한 색을 할당합니다, 단 색상은 중심에 위치한 분자로부터의 tanimoto similarity로 정의됩니다.\n",
    "    central_mol = freq_mols_grid_df.iloc[n_rows // 2, n_cols // 2]\n",
    "\n",
    "    unique_colors = {mol_smiles: tuple([calculate_tanomoto_similiarity(mol_smiles, central_mol)]*3) for mol_smiles in mol_positions.keys()}\n",
    "\n",
    "    fig, ax = plt.subplots(n_rows, n_cols, figsize=(10,10))\n",
    "    # TODO : memorize the position of each unique molecules, and indicate the color on each grid.\n",
    "    for i in range(n_rows):\n",
    "        for j in range(n_cols):\n",
    "            color = unique_colors[freq_mols_grid_df.iloc[i,j]]\n",
    "            mol = Chem.MolFromSmiles(freq_mols_grid_df.iloc[i,j])\n",
    "\n",
    "            if mol is not None:\n",
    "                ax[i,j].add_patch(plt.Rectangle((0,0), 1,1, color=color))\n",
    "                ax[i,j].axis(\"off\")\n",
    "            else:\n",
    "                ax[i,j].axis(\"off\")\n",
    "    \n",
    "    if save_name is not None:\n",
    "        plt.savefig(save_name, dpi=300)\n",
    "\n",
    "    plt.show()\n",
    "    plt.clf() \n",
    "    \n",
    "    return unique_colors\n",
    "\n",
    "def calculate_tanomoto_similiarity(mol1, mol2):\n",
    "    fp1 = AllChem.GetMorganFingerprint(Chem.MolFromSmiles(mol1), 2)\n",
    "    fp2 = AllChem.GetMorganFingerprint(Chem.MolFromSmiles(mol2), 2)\n",
    "    return DataStructs.TanimotoSimilarity(fp1, fp2)\n",
    "\n",
    "\n",
    "def plot_freq_mols(freq_mols_grid_info, save_name=None):\n",
    "    if type(freq_mols_grid_info) is str:\n",
    "        plot_prop_mols_from_path(freq_mols_grid_info, save_name)\n",
    "    elif type(freq_mols_grid_info) is pd.DataFrame:\n",
    "        plot_prop_mols_from_df(freq_mols_grid_info, save_name)\n",
    "    else:\n",
    "        raise ValueError(\"Invalid input type\")\n",
    "\n",
    "def plot_freq_mols_from_path(freq_grid_path, save_name=None):\n",
    "    freq_mols_grid = pd.read_csv(freq_grid_path, index_col=0)\n",
    "\n",
    "    plot_freq_mols_from_df(freq_mols_grid, save_name)\n",
    "\n",
    "def plot_freq_mols_from_df(freq_mols_grid, save_name=None):\n",
    "    n_rows, n_cols = freq_mols_grid.shape\n",
    "\n",
    "    fig, ax = plt.subplots(n_rows, n_cols, figsize=(10,10))\n",
    "\n",
    "    for i in range(n_rows):\n",
    "        for j in range(n_cols):\n",
    "            mol = Chem.MolFromSmiles(freq_mols_grid.iloc[i,j])\n",
    "            if mol is not None:\n",
    "                img = Chem.Draw.MolToImage(mol, size=(300,300))\n",
    "                ax[i,j].imshow(img)\n",
    "                ax[i,j].axis(\"off\")\n",
    "            else:\n",
    "                ax[i,j].axis(\"off\")\n",
    "\n",
    "    if save_name is not None:\n",
    "        plt.savefig(save_name, dpi=300)\n",
    "        plt.clf()\n",
    "\n",
    "def plot_prop_mols(prop_grid_info, save_name=None, prop_name=None):\n",
    "    if type(prop_grid_info) is str:\n",
    "        plot_prop_mols_from_path(prop_grid_info, save_name, prop_name)\n",
    "    elif type(prop_grid_info) is pd.DataFrame:\n",
    "        plot_prop_mols_from_df(prop_grid_info, save_name, prop_name)\n",
    "    else:\n",
    "        raise ValueError(\"Invalid input type\")\n",
    "    \n",
    "def plot_prop_mols_from_path(prop_grid_path, save_name=None, prop_name=None):\n",
    "    prop_grid = pd.read_csv(prop_grid_path, index_col=0)\n",
    "\n",
    "    plot_prop_mols_from_df(prop_grid, save_name, prop_name)\n",
    "\n",
    "        \n",
    "def plot_prop_mols_from_df(prop_df, save_name=None, prop_name=None):\n",
    "    fig = plt.figure()\n",
    "    ax = fig.add_subplot(111, projection='3d')\n",
    "\n",
    "    x = prop_df.index\n",
    "    y = np.arange(len(prop_df.columns))\n",
    "\n",
    "    X,Y = np.meshgrid(x,y)\n",
    "\n",
    "    Z = prop_df.values\n",
    "\n",
    "    print(prop_df)\n",
    "    print(x)\n",
    "    print(y)\n",
    "    print(Z)\n",
    "\n",
    "    surf = ax.plot_surface(X, Y, Z, cmap='viridis')\n",
    "\n",
    "    fig.colorbar(surf, ax=ax, shrink=0.5, aspect=5)\n",
    "\n",
    "\n",
    "    ax.set_title(\"property surface in subspace of latent space\")\n",
    "    ax.set_xlabel(\"x\")\n",
    "    ax.set_ylabel(\"y\")\n",
    "    ax.set_zlabel(prop_name)\n",
    "\n",
    "    if save_name is not None:\n",
    "        plt.savefig(save_name, dpi=300)\n",
    "        plt.clf()"
   ]
  },
  {
   "cell_type": "code",
   "execution_count": 14,
   "metadata": {},
   "outputs": [],
   "source": [
    "test_mol = whole_latent_info.iloc[0]"
   ]
  },
  {
   "cell_type": "code",
   "execution_count": 15,
   "metadata": {},
   "outputs": [
    {
     "data": {
      "text/plain": [
       "SMILES                       CC(C)n1nnnc1SCc1cc(F)cc2c1OCOC2\n",
       "SELFIES    [C][C][Branch1][C][C][N][N][=N][N][=C][Ring1][...\n",
       "logP                                                  2.5519\n",
       "qed                                                 0.808834\n",
       "SAS                                                 2.786591\n",
       "obj                                                 1.257578\n",
       "mu         [[0.0006688088, -0.04799132, 0.009349651, 0.00...\n",
       "logvar     [[-0.0018990822, -0.0017098114, 0.0023532398, ...\n",
       "z          [[-0.34788042, -1.124217, -1.0180868, 0.110421...\n",
       "Name: 38683, dtype: object"
      ]
     },
     "execution_count": 15,
     "metadata": {},
     "output_type": "execute_result"
    }
   ],
   "source": [
    "test_mol"
   ]
  },
  {
   "cell_type": "code",
   "execution_count": 16,
   "metadata": {},
   "outputs": [
    {
     "data": {
      "image/jpeg": "[encoded data removed]",
      "image/png": "[encoded data removed]",
      "text/plain": [
       "<PIL.PngImagePlugin.PngImageFile image mode=RGB size=500x500>"
      ]
     },
     "execution_count": 16,
     "metadata": {},
     "output_type": "execute_result"
    }
   ],
   "source": [
    "img = Chem.Draw.MolToImage(Chem.MolFromSmiles(test_mol['SMILES']), size=(500,500))\n",
    "\n",
    "\n",
    "img"
   ]
  },
  {
   "cell_type": "code",
   "execution_count": 204,
   "metadata": {},
   "outputs": [
    {
     "name": "stdout",
     "output_type": "stream",
     "text": [
      "------------- Experiment 0 -------------\n"
     ]
    },
    {
     "name": "stderr",
     "output_type": "stream",
     "text": [
      "whole_iters:   0%|          | 0/441 [00:00<?, ?it/s]"
     ]
    },
    {
     "name": "stdout",
     "output_type": "stream",
     "text": [
      "ratio of valid molecules : 1000/1000\n"
     ]
    },
    {
     "name": "stderr",
     "output_type": "stream",
     "text": [
      "whole_iters:   0%|          | 1/441 [00:02<17:07,  2.34s/it]"
     ]
    },
    {
     "name": "stdout",
     "output_type": "stream",
     "text": [
      "ratio of valid molecules : 1000/1000\n"
     ]
    },
    {
     "name": "stderr",
     "output_type": "stream",
     "text": [
      "whole_iters:   0%|          | 2/441 [00:04<17:35,  2.41s/it]"
     ]
    },
    {
     "name": "stdout",
     "output_type": "stream",
     "text": [
      "ratio of valid molecules : 1000/1000\n"
     ]
    },
    {
     "name": "stderr",
     "output_type": "stream",
     "text": [
      "whole_iters:   1%|          | 3/441 [00:07<17:33,  2.41s/it]"
     ]
    },
    {
     "name": "stdout",
     "output_type": "stream",
     "text": [
      "ratio of valid molecules : 1000/1000\n"
     ]
    },
    {
     "name": "stderr",
     "output_type": "stream",
     "text": [
      "whole_iters:   1%|          | 4/441 [00:09<17:14,  2.37s/it]"
     ]
    },
    {
     "name": "stdout",
     "output_type": "stream",
     "text": [
      "ratio of valid molecules : 1000/1000\n"
     ]
    },
    {
     "name": "stderr",
     "output_type": "stream",
     "text": [
      "whole_iters:   1%|          | 5/441 [00:11<17:01,  2.34s/it]"
     ]
    },
    {
     "name": "stdout",
     "output_type": "stream",
     "text": [
      "ratio of valid molecules : 1000/1000\n"
     ]
    },
    {
     "name": "stderr",
     "output_type": "stream",
     "text": [
      "whole_iters:   1%|▏         | 6/441 [00:14<16:38,  2.30s/it]"
     ]
    },
    {
     "name": "stdout",
     "output_type": "stream",
     "text": [
      "ratio of valid molecules : 1000/1000\n"
     ]
    },
    {
     "name": "stderr",
     "output_type": "stream",
     "text": [
      "whole_iters:   2%|▏         | 7/441 [00:16<16:33,  2.29s/it]"
     ]
    },
    {
     "name": "stdout",
     "output_type": "stream",
     "text": [
      "ratio of valid molecules : 1000/1000\n"
     ]
    },
    {
     "name": "stderr",
     "output_type": "stream",
     "text": [
      "whole_iters:   2%|▏         | 8/441 [00:18<16:37,  2.30s/it]"
     ]
    },
    {
     "name": "stdout",
     "output_type": "stream",
     "text": [
      "ratio of valid molecules : 1000/1000\n"
     ]
    },
    {
     "name": "stderr",
     "output_type": "stream",
     "text": [
      "whole_iters:   2%|▏         | 9/441 [00:21<16:50,  2.34s/it]"
     ]
    },
    {
     "name": "stdout",
     "output_type": "stream",
     "text": [
      "ratio of valid molecules : 1000/1000\n"
     ]
    },
    {
     "name": "stderr",
     "output_type": "stream",
     "text": [
      "whole_iters:   2%|▏         | 10/441 [00:23<17:02,  2.37s/it]"
     ]
    },
    {
     "name": "stdout",
     "output_type": "stream",
     "text": [
      "ratio of valid molecules : 1000/1000\n"
     ]
    },
    {
     "name": "stderr",
     "output_type": "stream",
     "text": [
      "whole_iters:   2%|▏         | 11/441 [00:25<16:45,  2.34s/it]"
     ]
    },
    {
     "name": "stdout",
     "output_type": "stream",
     "text": [
      "ratio of valid molecules : 1000/1000\n"
     ]
    },
    {
     "name": "stderr",
     "output_type": "stream",
     "text": [
      "whole_iters:   3%|▎         | 12/441 [00:28<16:59,  2.38s/it]"
     ]
    },
    {
     "name": "stdout",
     "output_type": "stream",
     "text": [
      "ratio of valid molecules : 1000/1000\n"
     ]
    },
    {
     "name": "stderr",
     "output_type": "stream",
     "text": [
      "whole_iters:   3%|▎         | 13/441 [00:30<17:09,  2.41s/it]"
     ]
    },
    {
     "name": "stdout",
     "output_type": "stream",
     "text": [
      "ratio of valid molecules : 1000/1000\n"
     ]
    },
    {
     "name": "stderr",
     "output_type": "stream",
     "text": [
      "whole_iters:   3%|▎         | 14/441 [00:33<17:07,  2.41s/it]"
     ]
    },
    {
     "name": "stdout",
     "output_type": "stream",
     "text": [
      "ratio of valid molecules : 1000/1000\n"
     ]
    },
    {
     "name": "stderr",
     "output_type": "stream",
     "text": [
      "whole_iters:   3%|▎         | 15/441 [00:35<17:15,  2.43s/it]"
     ]
    },
    {
     "name": "stdout",
     "output_type": "stream",
     "text": [
      "ratio of valid molecules : 1000/1000\n"
     ]
    },
    {
     "name": "stderr",
     "output_type": "stream",
     "text": [
      "whole_iters:   4%|▎         | 16/441 [00:37<17:10,  2.42s/it]"
     ]
    },
    {
     "name": "stdout",
     "output_type": "stream",
     "text": [
      "ratio of valid molecules : 1000/1000\n"
     ]
    },
    {
     "name": "stderr",
     "output_type": "stream",
     "text": [
      "whole_iters:   4%|▍         | 17/441 [00:40<17:03,  2.41s/it]"
     ]
    },
    {
     "name": "stdout",
     "output_type": "stream",
     "text": [
      "ratio of valid molecules : 1000/1000\n"
     ]
    },
    {
     "name": "stderr",
     "output_type": "stream",
     "text": [
      "whole_iters:   4%|▍         | 18/441 [00:42<16:57,  2.41s/it]"
     ]
    },
    {
     "name": "stdout",
     "output_type": "stream",
     "text": [
      "ratio of valid molecules : 1000/1000\n"
     ]
    },
    {
     "name": "stderr",
     "output_type": "stream",
     "text": [
      "whole_iters:   4%|▍         | 19/441 [00:45<17:05,  2.43s/it]"
     ]
    },
    {
     "name": "stdout",
     "output_type": "stream",
     "text": [
      "ratio of valid molecules : 1000/1000\n"
     ]
    },
    {
     "name": "stderr",
     "output_type": "stream",
     "text": [
      "whole_iters:   5%|▍         | 20/441 [00:47<17:00,  2.42s/it]"
     ]
    },
    {
     "name": "stdout",
     "output_type": "stream",
     "text": [
      "ratio of valid molecules : 1000/1000\n"
     ]
    },
    {
     "name": "stderr",
     "output_type": "stream",
     "text": [
      "whole_iters:   5%|▍         | 21/441 [00:50<17:04,  2.44s/it]"
     ]
    },
    {
     "name": "stdout",
     "output_type": "stream",
     "text": [
      "ratio of valid molecules : 1000/1000\n"
     ]
    },
    {
     "name": "stderr",
     "output_type": "stream",
     "text": [
      "whole_iters:   5%|▍         | 22/441 [00:52<16:51,  2.42s/it]"
     ]
    },
    {
     "name": "stdout",
     "output_type": "stream",
     "text": [
      "ratio of valid molecules : 1000/1000\n"
     ]
    },
    {
     "name": "stderr",
     "output_type": "stream",
     "text": [
      "whole_iters:   5%|▌         | 23/441 [00:54<16:46,  2.41s/it]"
     ]
    },
    {
     "name": "stdout",
     "output_type": "stream",
     "text": [
      "ratio of valid molecules : 1000/1000\n"
     ]
    },
    {
     "name": "stderr",
     "output_type": "stream",
     "text": [
      "whole_iters:   5%|▌         | 24/441 [00:57<16:42,  2.40s/it]"
     ]
    }
   ],
   "source": [
    "ranges_list = [(10,10), (20,20), (30,30)]\n",
    "\n",
    "temp_list = [0.01, 0.1, 1]\n",
    "\n",
    "experiments = list(product(ranges_list, temp_list))\n",
    "\n",
    "v1 = np.ones(config.d_z)\n",
    "v1 = v1/np.linalg.norm(v1) # 1/sqrt(128)*np.ones(128)\n",
    "\n",
    "v2 = np.array([1 if i < config.d_z//2 else -1 for i in range(config.d_z)])\n",
    "v2 = v2/np.linalg.norm(v2) # 1/sqrt(128)*[1,1,1,1,1...,-1(65th coord),-1,-1,-1,-1... -1]\n",
    "\n",
    "save_folder_path = \"figures/two_other_orthogonal_basis\"\n",
    "prop_fname = \"test_mol_prop\"\n",
    "mol_fname = \"test_mol\"\n",
    "\n",
    "for i, (ranges, temp) in enumerate(experiments):\n",
    "    print(f\"------------- Experiment {i} -------------\")\n",
    "    \n",
    "    grid = sample_latent_space(test_mol[\"mu\"][0], model, ranges=ranges, temp=temp, n_trials=1000, n_grid=10, orthogonal_vec=(v1,v2),\n",
    "                               prop_save_name=f\"{save_folder_path}/csv_folder/{prop_fname}_{i}.csv\", props=[\"logP\", \"SA\", \"qed\", \"obj\"],\n",
    "                               save_name=f\"{save_folder_path}/csv_folder/{mol_fname}_{i}.csv\")\n",
    "    \n",
    "    plot_freq_mols(grid, save_name=f\"{save_folder_path}/{mol_fname}_{i}.png\")\n",
    "\n",
    "    for prop in [\"logP\", \"SA\", \"qed\", \"obj\"]:\n",
    "        plot_prop_mols(prop_grid_info=f\"{save_folder_path}/csv_folder/{prop_fname}_{i}.csv_{prop}.csv\", save_name=f\"{save_folder_path}/{prop_fname}_{i}_{prop}.png\")"
   ]
  },
  {
   "cell_type": "code",
   "execution_count": null,
   "metadata": {},
   "outputs": [],
   "source": []
  }
 ],
 "metadata": {
  "kernelspec": {
   "display_name": "moses",
   "language": "python",
   "name": "python3"
  },
  "language_info": {
   "codemirror_mode": {
    "name": "ipython",
    "version": 3
   },
   "file_extension": ".py",
   "mimetype": "text/x-python",
   "name": "python",
   "nbconvert_exporter": "python",
   "pygments_lexer": "ipython3",
   "version": "3.8.19"
  }
 },
 "nbformat": 4,
 "nbformat_minor": 2
}
