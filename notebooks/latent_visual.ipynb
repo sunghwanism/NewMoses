{
 "cells": [
  {
   "cell_type": "code",
   "execution_count": 1,
   "metadata": {},
   "outputs": [
    {
     "name": "stderr",
     "output_type": "stream",
     "text": [
      "/Users/jonghopark/miniconda3/envs/moses/lib/python3.8/site-packages/tqdm/auto.py:21: TqdmWarning: IProgress not found. Please update jupyter and ipywidgets. See https://ipywidgets.readthedocs.io/en/stable/user_install.html\n",
      "  from .autonotebook import tqdm as notebook_tqdm\n"
     ]
    }
   ],
   "source": [
    "import numpy as np\n",
    "import pandas as pd\n",
    "import torch\n",
    "\n",
    "from rdkit import Chem, RDLogger\n",
    "from rdkit.Chem import AllChem, DataStructs\n",
    "\n",
    "RDLogger.DisableLog('rdApp.*')\n",
    "\n",
    "from collections import Counter\n",
    "from itertools import product\n",
    "\n",
    "import selfies as sf\n",
    "\n",
    "import matplotlib.pyplot as plt\n",
    "from matplotlib.colors import to_hex\n",
    "\n",
    "from mpl_toolkits.mplot3d import Axes3D\n",
    "\n",
    "import os\n",
    "\n",
    "from tqdm import tqdm"
   ]
  },
  {
   "cell_type": "code",
   "execution_count": 2,
   "metadata": {},
   "outputs": [],
   "source": [
    "import sys\n",
    "sys.path.append(\"..\")\n",
    "import moses\n",
    "from moses.vae import VAE\n",
    "from moses.vae_property import VAEPROPERTY\n",
    "from moses.utils import CharVocab, StringDataset, SELFIESVocab\n",
    "from moses.vae.trainer import VAETrainer\n",
    "from moses.vae_property.trainer import VAEPROPERTYTrainer\n",
    "\n",
    "from moses.metrics import QED, SA, logP\n",
    "from moses.utils import get_mol"
   ]
  },
  {
   "cell_type": "markdown",
   "metadata": {},
   "source": [
    "# 1. Loading data"
   ]
  },
  {
   "cell_type": "markdown",
   "metadata": {},
   "source": [
    "## 1.1 Loading model"
   ]
  },
  {
   "cell_type": "code",
   "execution_count": 3,
   "metadata": {},
   "outputs": [
    {
     "data": {
      "text/plain": [
       "<All keys matched successfully>"
      ]
     },
     "execution_count": 3,
     "metadata": {},
     "output_type": "execute_result"
    }
   ],
   "source": [
    "folder_path = \"../model_results/ZINC250K_vae_selfies\"\n",
    "\n",
    "if \"property\" in folder_path:\n",
    "    config_path = \"vae_property_config.pt\"\n",
    "    model_path = \"vae_property_model.pt\"\n",
    "    vocab_path = \"vae_property_vocab.pt\"\n",
    "\n",
    "else:\n",
    "    config_path = \"vae_config.pt\"\n",
    "    model_path = 'vae_model_060.pt'\n",
    "    vocab_path = 'vae_vocab.pt'\n",
    "\n",
    "config = torch.load(f\"{folder_path}/{config_path}\")\n",
    "\n",
    "vocab = torch.load(f\"{folder_path}/{vocab_path}\")\n",
    "\n",
    "if \"property\" in folder_path:\n",
    "    model = VAEPROPERTY(vocab, config)\n",
    "else:\n",
    "    model = VAE(vocab, config)\n",
    "\n",
    "model.load_state_dict(torch.load(f\"{folder_path}/{model_path}\"))"
   ]
  },
  {
   "cell_type": "markdown",
   "metadata": {},
   "source": [
    "## 1.2 Loading train data"
   ]
  },
  {
   "cell_type": "code",
   "execution_count": 4,
   "metadata": {},
   "outputs": [],
   "source": [
    "data_folder_path = \"../moses/dataset/data/ZINC250K\"\n",
    "\n",
    "file_name = \"train.csv\"\n",
    "\n",
    "data = pd.read_csv(f\"{data_folder_path}/{file_name}\")"
   ]
  },
  {
   "cell_type": "code",
   "execution_count": 5,
   "metadata": {},
   "outputs": [
    {
     "data": {
      "text/html": [
       "<div>\n",
       "<style scoped>\n",
       "    .dataframe tbody tr th:only-of-type {\n",
       "        vertical-align: middle;\n",
       "    }\n",
       "\n",
       "    .dataframe tbody tr th {\n",
       "        vertical-align: top;\n",
       "    }\n",
       "\n",
       "    .dataframe thead th {\n",
       "        text-align: right;\n",
       "    }\n",
       "</style>\n",
       "<table border=\"1\" class=\"dataframe\">\n",
       "  <thead>\n",
       "    <tr style=\"text-align: right;\">\n",
       "      <th></th>\n",
       "      <th>SMILES</th>\n",
       "      <th>SELFIES</th>\n",
       "      <th>logP</th>\n",
       "      <th>qed</th>\n",
       "      <th>SAS</th>\n",
       "      <th>obj</th>\n",
       "    </tr>\n",
       "  </thead>\n",
       "  <tbody>\n",
       "    <tr>\n",
       "      <th>0</th>\n",
       "      <td>COCCOc1ccc(CNC(=O)c2cnc3ccc(C)cn23)cc1</td>\n",
       "      <td>[C][O][C][C][O][C][=C][C][=C][Branch2][Ring1][...</td>\n",
       "      <td>2.59792</td>\n",
       "      <td>0.672152</td>\n",
       "      <td>2.174005</td>\n",
       "      <td>1.186756</td>\n",
       "    </tr>\n",
       "    <tr>\n",
       "      <th>1</th>\n",
       "      <td>Cc1cc(C(=O)NC(C)(C)c2cccc(F)c2)[nH]n1</td>\n",
       "      <td>[C][C][C][=C][Branch2][Ring1][Branch2][C][=Bra...</td>\n",
       "      <td>2.52232</td>\n",
       "      <td>0.891576</td>\n",
       "      <td>2.577987</td>\n",
       "      <td>1.879891</td>\n",
       "    </tr>\n",
       "    <tr>\n",
       "      <th>2</th>\n",
       "      <td>CCc1n[nH]c(SCc2nnnn2-c2cc(C)ccc2F)n1</td>\n",
       "      <td>[C][C][C][=N][NH1][C][Branch2][Ring1][=Branch1...</td>\n",
       "      <td>2.08262</td>\n",
       "      <td>0.724791</td>\n",
       "      <td>2.787800</td>\n",
       "      <td>0.836156</td>\n",
       "    </tr>\n",
       "    <tr>\n",
       "      <th>3</th>\n",
       "      <td>COc1ccc(CC(=O)Nc2cccc3ncccc23)cc1</td>\n",
       "      <td>[C][O][C][=C][C][=C][Branch2][Ring1][Branch1][...</td>\n",
       "      <td>3.42460</td>\n",
       "      <td>0.801260</td>\n",
       "      <td>1.647545</td>\n",
       "      <td>2.358755</td>\n",
       "    </tr>\n",
       "    <tr>\n",
       "      <th>4</th>\n",
       "      <td>CCOc1ccc(Cl)c(C(=O)Nc2cc(C)nn2CCC#N)n1</td>\n",
       "      <td>[C][C][O][C][=C][C][=C][Branch1][C][Cl][C][Bra...</td>\n",
       "      <td>2.80460</td>\n",
       "      <td>0.876945</td>\n",
       "      <td>2.582261</td>\n",
       "      <td>1.802464</td>\n",
       "    </tr>\n",
       "  </tbody>\n",
       "</table>\n",
       "</div>"
      ],
      "text/plain": [
       "                                   SMILES  \\\n",
       "0  COCCOc1ccc(CNC(=O)c2cnc3ccc(C)cn23)cc1   \n",
       "1   Cc1cc(C(=O)NC(C)(C)c2cccc(F)c2)[nH]n1   \n",
       "2    CCc1n[nH]c(SCc2nnnn2-c2cc(C)ccc2F)n1   \n",
       "3       COc1ccc(CC(=O)Nc2cccc3ncccc23)cc1   \n",
       "4  CCOc1ccc(Cl)c(C(=O)Nc2cc(C)nn2CCC#N)n1   \n",
       "\n",
       "                                             SELFIES     logP       qed  \\\n",
       "0  [C][O][C][C][O][C][=C][C][=C][Branch2][Ring1][...  2.59792  0.672152   \n",
       "1  [C][C][C][=C][Branch2][Ring1][Branch2][C][=Bra...  2.52232  0.891576   \n",
       "2  [C][C][C][=N][NH1][C][Branch2][Ring1][=Branch1...  2.08262  0.724791   \n",
       "3  [C][O][C][=C][C][=C][Branch2][Ring1][Branch1][...  3.42460  0.801260   \n",
       "4  [C][C][O][C][=C][C][=C][Branch1][C][Cl][C][Bra...  2.80460  0.876945   \n",
       "\n",
       "        SAS       obj  \n",
       "0  2.174005  1.186756  \n",
       "1  2.577987  1.879891  \n",
       "2  2.787800  0.836156  \n",
       "3  1.647545  2.358755  \n",
       "4  2.582261  1.802464  "
      ]
     },
     "execution_count": 5,
     "metadata": {},
     "output_type": "execute_result"
    }
   ],
   "source": [
    "data.head() #it has smiles, selfies, logP, qed, SAS, obj values"
   ]
  },
  {
   "cell_type": "markdown",
   "metadata": {},
   "source": [
    "### 1.2.1 generate whole_latent_data"
   ]
  },
  {
   "cell_type": "code",
   "execution_count": 6,
   "metadata": {},
   "outputs": [],
   "source": [
    "np.random.seed(42)\n",
    "samples = data.iloc[np.random.choice(data.shape[0], 1000, replace=False)]"
   ]
  },
  {
   "cell_type": "code",
   "execution_count": 7,
   "metadata": {},
   "outputs": [],
   "source": [
    "def get_latent_info(mol_smiles, model):\n",
    "    mu, log_var, z, _ = model.forward_encoder(model.string2tensor(mol_smiles).reshape(1,-1))\n",
    "\n",
    "    return mu, log_var, z"
   ]
  },
  {
   "cell_type": "code",
   "execution_count": 8,
   "metadata": {},
   "outputs": [],
   "source": [
    "def get_latent_whole_info(data, model, use_selfies=False):\n",
    "    mu_list = []\n",
    "    log_var_list = []\n",
    "    z_list = []\n",
    "\n",
    "    if use_selfies:\n",
    "        for i in range(len(data)):\n",
    "            mu, log_var, z = get_latent_info(data[\"SELFIES\"].iloc[i], model)\n",
    "            mu_list.append(mu)\n",
    "            log_var_list.append(log_var)\n",
    "            z_list.append(z)\n",
    "    else:\n",
    "        for i in range(len(data)):\n",
    "            mu, log_var, z = get_latent_info(data[\"SMILES\"].iloc[i], model)\n",
    "            mu_list.append(mu)\n",
    "            log_var_list.append(log_var)\n",
    "            z_list.append(z)\n",
    "    \n",
    "\n",
    "    mu_df = pd.DataFrame([[point.detach().cpu().numpy()]for point in mu_list], columns=[\"mu\"], index=data.index)\n",
    "    logvar_df = pd.DataFrame([[point.detach().cpu().numpy()]for point in log_var_list], columns=[\"logvar\"], index=data.index)\n",
    "    z_df = pd.DataFrame([[point.detach().cpu().numpy()]for point in z_list], columns=[\"z\"], index=data.index)\n",
    "\n",
    "    return mu_df, logvar_df, z_df"
   ]
  },
  {
   "cell_type": "code",
   "execution_count": 9,
   "metadata": {},
   "outputs": [],
   "source": [
    "mu_df, log_var_df, z_df = get_latent_whole_info(samples, model, use_selfies = config.use_selfies)"
   ]
  },
  {
   "cell_type": "code",
   "execution_count": 10,
   "metadata": {},
   "outputs": [],
   "source": [
    "whole_latent_info = pd.concat([samples, mu_df, log_var_df, z_df], axis=1)"
   ]
  },
  {
   "cell_type": "code",
   "execution_count": 11,
   "metadata": {},
   "outputs": [
    {
     "data": {
      "text/html": [
       "<div>\n",
       "<style scoped>\n",
       "    .dataframe tbody tr th:only-of-type {\n",
       "        vertical-align: middle;\n",
       "    }\n",
       "\n",
       "    .dataframe tbody tr th {\n",
       "        vertical-align: top;\n",
       "    }\n",
       "\n",
       "    .dataframe thead th {\n",
       "        text-align: right;\n",
       "    }\n",
       "</style>\n",
       "<table border=\"1\" class=\"dataframe\">\n",
       "  <thead>\n",
       "    <tr style=\"text-align: right;\">\n",
       "      <th></th>\n",
       "      <th>SMILES</th>\n",
       "      <th>SELFIES</th>\n",
       "      <th>logP</th>\n",
       "      <th>qed</th>\n",
       "      <th>SAS</th>\n",
       "      <th>obj</th>\n",
       "      <th>mu</th>\n",
       "      <th>logvar</th>\n",
       "      <th>z</th>\n",
       "    </tr>\n",
       "  </thead>\n",
       "  <tbody>\n",
       "    <tr>\n",
       "      <th>38683</th>\n",
       "      <td>CC(C)n1nnnc1SCc1cc(F)cc2c1OCOC2</td>\n",
       "      <td>[C][C][Branch1][C][C][N][N][=N][N][=C][Ring1][...</td>\n",
       "      <td>2.55190</td>\n",
       "      <td>0.808834</td>\n",
       "      <td>2.786591</td>\n",
       "      <td>1.257578</td>\n",
       "      <td>[[-6.8448484e-05, 0.0034608915, -0.00081660785...</td>\n",
       "      <td>[[-0.003979631, -0.0032232031, 0.002651371, -0...</td>\n",
       "      <td>[[1.0979425, 0.58445644, 1.4298434, 0.41916108...</td>\n",
       "    </tr>\n",
       "    <tr>\n",
       "      <th>64939</th>\n",
       "      <td>O=C(CCO)N1CCC2(CC(Nc3ncccn3)CO2)C1</td>\n",
       "      <td>[O][=C][Branch1][Ring2][C][C][O][N][C][C][C][B...</td>\n",
       "      <td>0.03090</td>\n",
       "      <td>0.813958</td>\n",
       "      <td>4.044754</td>\n",
       "      <td>0.025037</td>\n",
       "      <td>[[-0.0013073161, 0.0026925057, 0.0014745779, -...</td>\n",
       "      <td>[[-0.005001202, -0.0038585477, 0.00047388673, ...</td>\n",
       "      <td>[[0.3143564, -0.4609688, -0.65078884, -0.55082...</td>\n",
       "    </tr>\n",
       "    <tr>\n",
       "      <th>3954</th>\n",
       "      <td>COc1c(CN(CCC#N)Cc2ccccn2)c(C)nn1C</td>\n",
       "      <td>[C][O][C][=C][Branch2][Ring1][C][C][N][Branch1...</td>\n",
       "      <td>2.04800</td>\n",
       "      <td>0.782484</td>\n",
       "      <td>2.591605</td>\n",
       "      <td>1.320817</td>\n",
       "      <td>[[-0.00046313554, 0.0017014891, 0.0013142414, ...</td>\n",
       "      <td>[[-0.0037968904, -0.0030976236, 0.0029896796, ...</td>\n",
       "      <td>[[1.3314342, -1.6117488, 0.5896292, -0.2546068...</td>\n",
       "    </tr>\n",
       "    <tr>\n",
       "      <th>120374</th>\n",
       "      <td>CC(C)CCn1c(=O)c2sccc2n2c(=O)[nH]nc12</td>\n",
       "      <td>[C][C][Branch1][C][C][C][C][N][C][=Branch1][C]...</td>\n",
       "      <td>1.44510</td>\n",
       "      <td>0.787737</td>\n",
       "      <td>2.793158</td>\n",
       "      <td>1.145527</td>\n",
       "      <td>[[-0.0038493723, -0.0016093552, -6.638281e-05,...</td>\n",
       "      <td>[[-0.004235968, -0.0017666724, 0.0011616424, -...</td>\n",
       "      <td>[[1.4515381, -0.13646936, -1.3554575, -0.27786...</td>\n",
       "    </tr>\n",
       "    <tr>\n",
       "      <th>172861</th>\n",
       "      <td>N#Cc1ccccc1N1CCN(C(=O)CCN2CCCCC2=O)CC1</td>\n",
       "      <td>[N][#C][C][=C][C][=C][C][=C][Ring1][=Branch1][...</td>\n",
       "      <td>1.60948</td>\n",
       "      <td>0.835036</td>\n",
       "      <td>2.200988</td>\n",
       "      <td>1.974191</td>\n",
       "      <td>[[-0.0049827695, 0.0018333793, 0.0022754483, -...</td>\n",
       "      <td>[[-0.005468704, -0.0043663234, 0.0018786415, -...</td>\n",
       "      <td>[[-0.5210035, -1.3488808, -1.4310743, -0.11886...</td>\n",
       "    </tr>\n",
       "    <tr>\n",
       "      <th>...</th>\n",
       "      <td>...</td>\n",
       "      <td>...</td>\n",
       "      <td>...</td>\n",
       "      <td>...</td>\n",
       "      <td>...</td>\n",
       "      <td>...</td>\n",
       "      <td>...</td>\n",
       "      <td>...</td>\n",
       "      <td>...</td>\n",
       "    </tr>\n",
       "    <tr>\n",
       "      <th>3963</th>\n",
       "      <td>CCOc1ccc(C2NC(=O)NC3=C2C(=O)N(CCC(C)C)C3)cc1</td>\n",
       "      <td>[C][C][O][C][=C][C][=C][Branch2][Ring1][=N][C]...</td>\n",
       "      <td>2.58160</td>\n",
       "      <td>0.833919</td>\n",
       "      <td>2.937811</td>\n",
       "      <td>1.231782</td>\n",
       "      <td>[[0.0014974196, 0.009064019, -0.007574752, -0....</td>\n",
       "      <td>[[-0.0018871203, -0.0064359605, 0.0049115643, ...</td>\n",
       "      <td>[[-0.62007326, -0.25112593, 0.9754153, 1.29354...</td>\n",
       "    </tr>\n",
       "    <tr>\n",
       "      <th>79890</th>\n",
       "      <td>Cc1cc(C)c(NC(=O)CNc2nc3ccccc3nc2C)c(C)c1</td>\n",
       "      <td>[C][C][=C][C][Branch1][C][C][=C][Branch2][Ring...</td>\n",
       "      <td>3.91408</td>\n",
       "      <td>0.758875</td>\n",
       "      <td>2.142944</td>\n",
       "      <td>1.651432</td>\n",
       "      <td>[[0.0014700331, 0.005404085, -0.001747854, -0....</td>\n",
       "      <td>[[-0.005630061, -0.0035716444, 0.002090253, 0....</td>\n",
       "      <td>[[0.71065205, 1.0510722, -1.2777047, 0.632281,...</td>\n",
       "    </tr>\n",
       "    <tr>\n",
       "      <th>15295</th>\n",
       "      <td>Cc1cccc(N2CC(C(=O)N3CCOC(C)C3)CC2=O)c1C</td>\n",
       "      <td>[C][C][=C][C][=C][C][Branch2][Ring1][#Branch2]...</td>\n",
       "      <td>1.90364</td>\n",
       "      <td>0.837225</td>\n",
       "      <td>2.955786</td>\n",
       "      <td>1.230338</td>\n",
       "      <td>[[-0.0020108297, 0.0033032298, -0.0014532357, ...</td>\n",
       "      <td>[[-0.004667327, -0.0027611703, 0.005034171, 3....</td>\n",
       "      <td>[[-0.64844686, 0.82001764, -0.37277746, -0.670...</td>\n",
       "    </tr>\n",
       "    <tr>\n",
       "      <th>218373</th>\n",
       "      <td>CN(Cc1cccnc1)S(=O)(=O)N1CCNCC1</td>\n",
       "      <td>[C][N][Branch1][#Branch2][C][C][=C][C][=C][N][...</td>\n",
       "      <td>-0.33660</td>\n",
       "      <td>0.812984</td>\n",
       "      <td>2.360259</td>\n",
       "      <td>1.704662</td>\n",
       "      <td>[[-0.0064649954, 0.00051987916, 0.00747793, -0...</td>\n",
       "      <td>[[-0.0017607734, -0.0035702232, 0.00148689, -0...</td>\n",
       "      <td>[[-0.18409616, -0.4356131, 0.54339623, -0.1588...</td>\n",
       "    </tr>\n",
       "    <tr>\n",
       "      <th>165697</th>\n",
       "      <td>CC(C)C(=O)c1ccccc1NC(=O)CSc1nncs1</td>\n",
       "      <td>[C][C][Branch1][C][C][C][=Branch1][C][=O][C][=...</td>\n",
       "      <td>3.10760</td>\n",
       "      <td>0.653603</td>\n",
       "      <td>2.304540</td>\n",
       "      <td>0.963475</td>\n",
       "      <td>[[-0.004997015, -0.0042782053, 0.002745593, -0...</td>\n",
       "      <td>[[-0.005771961, -0.005572062, 0.0012726784, 0....</td>\n",
       "      <td>[[0.43294975, 0.44605193, 0.15693583, 0.365399...</td>\n",
       "    </tr>\n",
       "  </tbody>\n",
       "</table>\n",
       "<p>1000 rows × 9 columns</p>\n",
       "</div>"
      ],
      "text/plain": [
       "                                              SMILES  \\\n",
       "38683                CC(C)n1nnnc1SCc1cc(F)cc2c1OCOC2   \n",
       "64939             O=C(CCO)N1CCC2(CC(Nc3ncccn3)CO2)C1   \n",
       "3954               COc1c(CN(CCC#N)Cc2ccccn2)c(C)nn1C   \n",
       "120374          CC(C)CCn1c(=O)c2sccc2n2c(=O)[nH]nc12   \n",
       "172861        N#Cc1ccccc1N1CCN(C(=O)CCN2CCCCC2=O)CC1   \n",
       "...                                              ...   \n",
       "3963    CCOc1ccc(C2NC(=O)NC3=C2C(=O)N(CCC(C)C)C3)cc1   \n",
       "79890       Cc1cc(C)c(NC(=O)CNc2nc3ccccc3nc2C)c(C)c1   \n",
       "15295        Cc1cccc(N2CC(C(=O)N3CCOC(C)C3)CC2=O)c1C   \n",
       "218373                CN(Cc1cccnc1)S(=O)(=O)N1CCNCC1   \n",
       "165697             CC(C)C(=O)c1ccccc1NC(=O)CSc1nncs1   \n",
       "\n",
       "                                                  SELFIES     logP       qed  \\\n",
       "38683   [C][C][Branch1][C][C][N][N][=N][N][=C][Ring1][...  2.55190  0.808834   \n",
       "64939   [O][=C][Branch1][Ring2][C][C][O][N][C][C][C][B...  0.03090  0.813958   \n",
       "3954    [C][O][C][=C][Branch2][Ring1][C][C][N][Branch1...  2.04800  0.782484   \n",
       "120374  [C][C][Branch1][C][C][C][C][N][C][=Branch1][C]...  1.44510  0.787737   \n",
       "172861  [N][#C][C][=C][C][=C][C][=C][Ring1][=Branch1][...  1.60948  0.835036   \n",
       "...                                                   ...      ...       ...   \n",
       "3963    [C][C][O][C][=C][C][=C][Branch2][Ring1][=N][C]...  2.58160  0.833919   \n",
       "79890   [C][C][=C][C][Branch1][C][C][=C][Branch2][Ring...  3.91408  0.758875   \n",
       "15295   [C][C][=C][C][=C][C][Branch2][Ring1][#Branch2]...  1.90364  0.837225   \n",
       "218373  [C][N][Branch1][#Branch2][C][C][=C][C][=C][N][... -0.33660  0.812984   \n",
       "165697  [C][C][Branch1][C][C][C][=Branch1][C][=O][C][=...  3.10760  0.653603   \n",
       "\n",
       "             SAS       obj                                                 mu  \\\n",
       "38683   2.786591  1.257578  [[-6.8448484e-05, 0.0034608915, -0.00081660785...   \n",
       "64939   4.044754  0.025037  [[-0.0013073161, 0.0026925057, 0.0014745779, -...   \n",
       "3954    2.591605  1.320817  [[-0.00046313554, 0.0017014891, 0.0013142414, ...   \n",
       "120374  2.793158  1.145527  [[-0.0038493723, -0.0016093552, -6.638281e-05,...   \n",
       "172861  2.200988  1.974191  [[-0.0049827695, 0.0018333793, 0.0022754483, -...   \n",
       "...          ...       ...                                                ...   \n",
       "3963    2.937811  1.231782  [[0.0014974196, 0.009064019, -0.007574752, -0....   \n",
       "79890   2.142944  1.651432  [[0.0014700331, 0.005404085, -0.001747854, -0....   \n",
       "15295   2.955786  1.230338  [[-0.0020108297, 0.0033032298, -0.0014532357, ...   \n",
       "218373  2.360259  1.704662  [[-0.0064649954, 0.00051987916, 0.00747793, -0...   \n",
       "165697  2.304540  0.963475  [[-0.004997015, -0.0042782053, 0.002745593, -0...   \n",
       "\n",
       "                                                   logvar  \\\n",
       "38683   [[-0.003979631, -0.0032232031, 0.002651371, -0...   \n",
       "64939   [[-0.005001202, -0.0038585477, 0.00047388673, ...   \n",
       "3954    [[-0.0037968904, -0.0030976236, 0.0029896796, ...   \n",
       "120374  [[-0.004235968, -0.0017666724, 0.0011616424, -...   \n",
       "172861  [[-0.005468704, -0.0043663234, 0.0018786415, -...   \n",
       "...                                                   ...   \n",
       "3963    [[-0.0018871203, -0.0064359605, 0.0049115643, ...   \n",
       "79890   [[-0.005630061, -0.0035716444, 0.002090253, 0....   \n",
       "15295   [[-0.004667327, -0.0027611703, 0.005034171, 3....   \n",
       "218373  [[-0.0017607734, -0.0035702232, 0.00148689, -0...   \n",
       "165697  [[-0.005771961, -0.005572062, 0.0012726784, 0....   \n",
       "\n",
       "                                                        z  \n",
       "38683   [[1.0979425, 0.58445644, 1.4298434, 0.41916108...  \n",
       "64939   [[0.3143564, -0.4609688, -0.65078884, -0.55082...  \n",
       "3954    [[1.3314342, -1.6117488, 0.5896292, -0.2546068...  \n",
       "120374  [[1.4515381, -0.13646936, -1.3554575, -0.27786...  \n",
       "172861  [[-0.5210035, -1.3488808, -1.4310743, -0.11886...  \n",
       "...                                                   ...  \n",
       "3963    [[-0.62007326, -0.25112593, 0.9754153, 1.29354...  \n",
       "79890   [[0.71065205, 1.0510722, -1.2777047, 0.632281,...  \n",
       "15295   [[-0.64844686, 0.82001764, -0.37277746, -0.670...  \n",
       "218373  [[-0.18409616, -0.4356131, 0.54339623, -0.1588...  \n",
       "165697  [[0.43294975, 0.44605193, 0.15693583, 0.365399...  \n",
       "\n",
       "[1000 rows x 9 columns]"
      ]
     },
     "execution_count": 11,
     "metadata": {},
     "output_type": "execute_result"
    }
   ],
   "source": [
    "whole_latent_info"
   ]
  },
  {
   "cell_type": "markdown",
   "metadata": {},
   "source": [
    "## 1.2.2 for test mol, generate molecular diagram"
   ]
  },
  {
   "cell_type": "code",
   "execution_count": 12,
   "metadata": {},
   "outputs": [
    {
     "name": "stdout",
     "output_type": "stream",
     "text": [
      "0 logP\n",
      "1 qed\n",
      "2 SAS\n",
      "3 obj\n"
     ]
    }
   ],
   "source": [
    "props = [\"logP\", \"qed\", \"SAS\", \"obj\"]\n",
    "\n",
    "for idx, prop in enumerate(props):\n",
    "    print(idx,prop)"
   ]
  },
  {
   "cell_type": "code",
   "execution_count": 1,
   "metadata": {},
   "outputs": [],
   "source": [
    "def sample_latent_space(mu, model, ranges=(3,3), latent_dim=128, n_trials=1000, \n",
    "                        n_grid=6, temp=0.01, orthogonal_vec=(None,None), save_name=None, prop_save_name=None,\n",
    "                        props=None, use_selfies=False): #note : props should be list of properties among \"logP\", \"qed\", \"SA\", \"obj\n",
    "\n",
    "    np.random.seed(42)\n",
    "\n",
    "    if orthogonal_vec[0] is None or orthogonal_vec[1] is None: # orthogonal vectors are not given -> set two basis vectors\n",
    "        orthogonal_vec = np.eye(latent_dim)[np.random.randint(0, latent_dim, 2)]\n",
    "\n",
    "    x_range, y_range = ranges\n",
    "\n",
    "    dx = np.linspace(-x_range, x_range, 2*n_grid+1)\n",
    "    dy = np.linspace(-y_range, y_range, 2*n_grid+1)\n",
    "\n",
    "    grid = pd.DataFrame(columns=range(2*n_grid+1), index=range(2*n_grid+1))\n",
    "\n",
    "    prop_grid_list = []\n",
    "\n",
    "    for _ in range(len(props)):\n",
    "        prop_grid_list.append(pd.DataFrame(columns=range(2*n_grid+1), index=range(2*n_grid+1)))\n",
    "\n",
    "    for i_x, i_y in tqdm(product(range(2*n_grid+1), range(2*n_grid+1)), total=(2*n_grid+1)**2,desc='whole_iters'): #each data points\n",
    "        z_point = mu + dx[i_x]*orthogonal_vec[0] + dy[i_y]*orthogonal_vec[1] # move the point to the direction of the unit vector\n",
    "        most_freq_mol, freq_df = decode_z(z_point, model, n_trials, temp, use_selfies=use_selfies)\n",
    "\n",
    "        grid.iloc[i_x, i_y] = most_freq_mol\n",
    "\n",
    "        for idx, prop in enumerate(props):\n",
    "            prop_grid_list[idx].iloc[i_x, i_y] = calc_avg_prop(freq_df, props=prop)\n",
    "                    \n",
    "    if save_name is not None:\n",
    "        grid.to_csv(save_name)\n",
    "    \n",
    "    if prop_save_name is not None:\n",
    "        for idx, prop in enumerate(props):\n",
    "            prop_grid_list[idx].to_csv(f\"{prop_save_name}_{prop}.csv\")\n",
    "    \n",
    "    return grid\n",
    "\n",
    "def decode_z(z, model, n_trials, temp, use_selfies):\n",
    "    # decode n_trials times from z using the model sample function, and pick most frequent one\n",
    "    z_input = torch.tensor(z).repeat(n_trials).reshape(n_trials, -1)\n",
    "\n",
    "    z_input = z_input.float()\n",
    "\n",
    "    decoded_mols = model.sample(n_batch=z_input.shape[0], z=z_input, temp=temp)\n",
    "\n",
    "    if use_selfies:\n",
    "        decoded_mols = [sf.decoder(mol) for mol in decoded_mols]\n",
    "        \n",
    "    valid_decoded_mols = [Chem.MolFromSmiles(mol) for mol in decoded_mols if Chem.MolFromSmiles(mol) is not None]\n",
    "    \n",
    "    print(f\"ratio of valid molecules : {len(valid_decoded_mols)}/{n_trials}\")\n",
    "\n",
    "    canon_dec_mols = [Chem.MolToSmiles(Chem.MolFromSmiles(mol), canonical=True) for mol in decoded_mols if Chem.MolFromSmiles(mol) is not None]\n",
    "\n",
    "    mol_freq = Counter(canon_dec_mols)\n",
    "\n",
    "    most_freq_mol, _ = find_argmax(mol_freq)\n",
    "\n",
    "    freq_df = get_mol_freq(mol_freq)\n",
    "\n",
    "    return most_freq_mol, freq_df\n",
    "\n",
    "def find_argmax(counter):\n",
    "    # Get the most common element and its count\n",
    "    most_common_element = counter.most_common(1)\n",
    "    if most_common_element:\n",
    "        element, count = most_common_element[0]\n",
    "        return element, count\n",
    "    else:\n",
    "        return None, None\n",
    "\n",
    "def get_mol_freq(counter):\n",
    "    # Get the most common element and its count\n",
    "    mols = counter.keys()\n",
    "    counts = counter.values()\n",
    "\n",
    "    freq_df = pd.DataFrame({\"mols\":mols, \"counts\":counts})\n",
    "\n",
    "    return freq_df\n",
    "\n",
    "def calc_avg_prop(freq_df, props=None):\n",
    "    if props is None:\n",
    "        return None\n",
    "    \n",
    "    mols = freq_df[\"mols\"] # smiles\n",
    "    counts = freq_df[\"counts\"]\n",
    "\n",
    "    avg_prop = 0\n",
    "    total_count = 0\n",
    "\n",
    "    for mol, count in zip(mols, counts):\n",
    "        prop = get_mol_prop(mol, props) # if mol is invalid, skip that molecule and exclude from the calculation of average property.\n",
    "\n",
    "        if prop is not None:\n",
    "            total_count += count\n",
    "            avg_prop += prop*count\n",
    "\n",
    "    if total_count == 0:\n",
    "        return None\n",
    "\n",
    "    else:\n",
    "        avg_prop /= total_count\n",
    "        return avg_prop\n",
    "\n",
    "def get_mol_prop(mol, props): # get the property of the molecule\n",
    "    chemmol = Chem.MolFromSmiles(mol)\n",
    "\n",
    "    if chemmol is None:\n",
    "        return None\n",
    "\n",
    "    if props == \"logP\":\n",
    "        return logP(chemmol)\n",
    "    elif props == \"qed\":\n",
    "        return QED(chemmol)\n",
    "    elif props == \"SA\":\n",
    "        return SA(chemmol)\n",
    "    elif props == 'obj':\n",
    "        return 5 * QED(chemmol) - SA(chemmol)\n",
    "    else:\n",
    "        return None\n",
    "    \n",
    "def plot_freq_mols_with_color(freq_mols_grid_df, save_name=None):\n",
    "    # plot grid-wise latent space for each molecules\n",
    "    # and return the color dictionary for each molecule\n",
    "    \n",
    "    n_rows, n_cols = freq_mols_grid_df.shape\n",
    "\n",
    "    mol_positions = {}\n",
    "\n",
    "    # 그리드의 각 칸에 대해 분자를 추적합니다.\n",
    "    for i in range(n_rows):\n",
    "        for j in range(n_cols):\n",
    "            if freq_mols_grid_df.iloc[i,j] is None: # if the cell is invalid \n",
    "                if \"Invalid\" not in mol_positions:\n",
    "                    mol_positions[\"Invalid\"] = []\n",
    "                mol_positions[\"Invalid\"].append((i,j))\n",
    "\n",
    "            mol = freq_mols_grid_df.iloc[i, j]\n",
    "            if mol:  # 빈 셀을 무시합니다.\n",
    "                mol_smiles = str(mol)\n",
    "                if mol_smiles not in mol_positions:\n",
    "                    mol_positions[mol_smiles] = []\n",
    "                mol_positions[mol_smiles].append((i, j))  # 분자가 존재하는 칸의 위치를 저장합니다.\n",
    "\n",
    "    # 분자별로 고유한 색을 할당합니다, 단 색상은 중심에 위치한 분자로부터의 tanimoto similarity로 정의됩니다.\n",
    "    central_mol = freq_mols_grid_df.iloc[n_rows // 2, n_cols // 2]\n",
    "\n",
    "    unique_colors = {mol_smiles: tuple([1-calculate_tanomoto_similiarity(mol_smiles, central_mol)]*3) for mol_smiles in mol_positions.keys() if mol_smiles != \"Invalid\"}\n",
    "    unique_colors['Invalid'] = (1,1,1) # invalid molecules are colored white\n",
    "\n",
    "    fig, ax = plt.subplots(n_rows, n_cols, figsize=(10,10))\n",
    "    for i in range(n_rows):\n",
    "        for j in range(n_cols):\n",
    "            # print(freq_mols_grid_df.iloc[i,j]=='nan', type(freq_mols_grid_df.iloc[i,j]))\n",
    "            if freq_mols_grid_df.iloc[i,j] is None:\n",
    "                color = unique_colors[\"Invalid\"]        \n",
    "                mol = None\n",
    "            else:\n",
    "                color = unique_colors[freq_mols_grid_df.iloc[i,j]]\n",
    "                mol = Chem.MolFromSmiles(freq_mols_grid_df.iloc[i,j])\n",
    "\n",
    "            if mol is not None:\n",
    "                ax[i,j].add_patch(plt.Rectangle((0,0), 1,1, color=color))\n",
    "                ax[i,j].axis(\"off\")\n",
    "            else:\n",
    "                ax[i,j].axis(\"off\")\n",
    "    \n",
    "    if save_name is not None:\n",
    "        plt.savefig(save_name, dpi=300)\n",
    "\n",
    "    plt.show()\n",
    "    plt.clf() \n",
    "    \n",
    "    return unique_colors\n",
    "\n",
    "def calculate_tanomoto_similiarity(mol1, mol2):\n",
    "    \n",
    "    if mol1 is None:\n",
    "        return 0\n",
    "    \n",
    "    fp1 = AllChem.GetMorganFingerprint(Chem.MolFromSmiles(mol1), 2)\n",
    "    fp2 = AllChem.GetMorganFingerprint(Chem.MolFromSmiles(mol2), 2)\n",
    "    return DataStructs.TanimotoSimilarity(fp1, fp2)\n",
    "\n",
    "\n",
    "def plot_freq_mols(freq_mols_grid_info, save_name=None):\n",
    "    if type(freq_mols_grid_info) is str:\n",
    "        plot_freq_mols_from_path(freq_mols_grid_info, save_name)\n",
    "    elif type(freq_mols_grid_info) is pd.DataFrame:\n",
    "        plot_freq_mols_from_df(freq_mols_grid_info, save_name)\n",
    "    else:\n",
    "        raise ValueError(\"Invalid input type\")\n",
    "\n",
    "def plot_freq_mols_from_path(freq_grid_path, save_name=None):\n",
    "    freq_mols_grid = pd.read_csv(freq_grid_path, index_col=0)\n",
    "\n",
    "    plot_freq_mols_from_df(freq_mols_grid, save_name)\n",
    "\n",
    "def plot_freq_mols_from_df(freq_mols_grid, save_name=None):\n",
    "    n_rows, n_cols = freq_mols_grid.shape\n",
    "\n",
    "    fig, ax = plt.subplots(n_rows, n_cols, figsize=(10,10))\n",
    "\n",
    "    for i in range(n_rows):\n",
    "        for j in range(n_cols):\n",
    "            if freq_mols_grid.iloc[i,j] is None:\n",
    "                ax[i,j].axis(\"off\")\n",
    "                continue\n",
    "\n",
    "            mol = Chem.MolFromSmiles(freq_mols_grid.iloc[i,j])\n",
    "            \n",
    "            if mol is not None:\n",
    "                img = Chem.Draw.MolToImage(mol, size=(300,300))\n",
    "                ax[i,j].imshow(img)\n",
    "                ax[i,j].axis(\"off\")\n",
    "            else:\n",
    "                ax[i,j].axis(\"off\")\n",
    "\n",
    "    if save_name is not None:\n",
    "        plt.savefig(save_name, dpi=300)\n",
    "        plt.clf()\n",
    "\n",
    "def plot_prop_mols(prop_grid_info, save_name=None, prop_name=None):\n",
    "    if type(prop_grid_info) is str:\n",
    "        plot_prop_mols_from_path(prop_grid_info, save_name, prop_name)\n",
    "    elif type(prop_grid_info) is pd.DataFrame:\n",
    "        plot_prop_mols_from_df(prop_grid_info, save_name, prop_name)\n",
    "    else:\n",
    "        raise ValueError(\"Invalid input type\")\n",
    "    \n",
    "def plot_prop_mols_from_path(prop_grid_path, save_name=None, prop_name=None):\n",
    "    prop_grid = pd.read_csv(prop_grid_path, index_col=0)\n",
    "\n",
    "    plot_prop_mols_from_df(prop_grid, save_name, prop_name)\n",
    "    \n",
    "def plot_prop_mols_from_df(prop_df, save_name=None, prop_name=None):\n",
    "    fig = plt.figure()\n",
    "    ax = fig.add_subplot(111, projection='3d')\n",
    "\n",
    "    x = prop_df.index\n",
    "    y = np.arange(len(prop_df.columns))\n",
    "\n",
    "    X,Y = np.meshgrid(x,y)\n",
    "\n",
    "    Z = prop_df.values\n",
    "\n",
    "    print(prop_df)\n",
    "    print(x)\n",
    "    print(y)\n",
    "    print(Z)\n",
    "\n",
    "    surf = ax.plot_surface(X, Y, Z, cmap='viridis')\n",
    "\n",
    "    fig.colorbar(surf, ax=ax, shrink=0.5, aspect=5)\n",
    "\n",
    "\n",
    "    ax.set_title(\"property surface in subspace of latent space\")\n",
    "    ax.set_xlabel(\"x\")\n",
    "    ax.set_ylabel(\"y\")\n",
    "    ax.set_zlabel(prop_name)\n",
    "\n",
    "    if save_name is not None:\n",
    "        plt.savefig(save_name, dpi=300)\n",
    "        plt.clf()"
   ]
  },
  {
   "cell_type": "code",
   "execution_count": 14,
   "metadata": {},
   "outputs": [],
   "source": [
    "test_mol = whole_latent_info.iloc[0]"
   ]
  },
  {
   "cell_type": "code",
   "execution_count": 15,
   "metadata": {},
   "outputs": [
    {
     "data": {
      "text/plain": [
       "SMILES                       CC(C)n1nnnc1SCc1cc(F)cc2c1OCOC2\n",
       "SELFIES    [C][C][Branch1][C][C][N][N][=N][N][=C][Ring1][...\n",
       "logP                                                  2.5519\n",
       "qed                                                 0.808834\n",
       "SAS                                                 2.786591\n",
       "obj                                                 1.257578\n",
       "mu         [[-6.8448484e-05, 0.0034608915, -0.00081660785...\n",
       "logvar     [[-0.003979631, -0.0032232031, 0.002651371, -0...\n",
       "z          [[1.0979425, 0.58445644, 1.4298434, 0.41916108...\n",
       "Name: 38683, dtype: object"
      ]
     },
     "execution_count": 15,
     "metadata": {},
     "output_type": "execute_result"
    }
   ],
   "source": [
    "test_mol"
   ]
  },
  {
   "cell_type": "code",
   "execution_count": 16,
   "metadata": {},
   "outputs": [
    {
     "data": {
      "image/jpeg": "[encoded data removed]",
      "image/png": "[encoded data removed]",
      "text/plain": [
       "<PIL.PngImagePlugin.PngImageFile image mode=RGB size=500x500>"
      ]
     },
     "execution_count": 16,
     "metadata": {},
     "output_type": "execute_result"
    }
   ],
   "source": [
    "img = Chem.Draw.MolToImage(Chem.MolFromSmiles(test_mol['SMILES']), size=(500,500))\n",
    "\n",
    "\n",
    "img"
   ]
  },
  {
   "cell_type": "code",
   "execution_count": 18,
   "metadata": {},
   "outputs": [
    {
     "data": {
      "text/plain": [
       "'../model_results/ZINC250K_vae_selfies'"
      ]
     },
     "execution_count": 18,
     "metadata": {},
     "output_type": "execute_result"
    }
   ],
   "source": []
  },
  {
   "cell_type": "code",
   "execution_count": 19,
   "metadata": {},
   "outputs": [],
   "source": [
    "ranges_list = [(10,10), (20,20), (30,30)]\n",
    "\n",
    "temp_list = [0.01, 0.1, 1]\n",
    "\n",
    "experiments = list(product(ranges_list, temp_list))\n",
    "\n",
    "v1 = np.ones(config.d_z)\n",
    "v1 = v1/np.linalg.norm(v1) # 1/sqrt(128)*np.ones(128)\n",
    "\n",
    "v2 = np.array([1 if i < config.d_z//2 else -1 for i in range(config.d_z)])\n",
    "v2 = v2/np.linalg.norm(v2) # 1/sqrt(128)*[1,1,1,1,1...,-1(65th coord),-1,-1,-1,-1... -1]\n",
    "\n",
    "if config.use_selfies and \"property\" in folder_path:\n",
    "    save_folder_path = f\"figures/VAEprop_selfies/two_other_orthogonal_basis\"\n",
    "elif config.use_selfies:\n",
    "    save_folder_path = f\"figures/VAE_selfies/two_other_orthogonal_basis\"\n",
    "elif \"property\" in folder_path: #since smiles vae config doesn't have reg_prop_tasks\n",
    "    save_folder_path = f\"figures/VAEprop_smiles/two_other_orthogonal_basis\"\n",
    "else:\n",
    "    save_folder_path = f\"figures/VAE_smiles/two_other_orthogonal_basis\"\n",
    "\n",
    "prop_fname = \"test_mol_prop\"\n",
    "mol_fname = \"test_mol\""
   ]
  },
  {
   "cell_type": "code",
   "execution_count": 20,
   "metadata": {},
   "outputs": [
    {
     "data": {
      "text/plain": [
       "'../model_results/ZINC250K_vae_selfies'"
      ]
     },
     "execution_count": 20,
     "metadata": {},
     "output_type": "execute_result"
    }
   ],
   "source": [
    "folder_path"
   ]
  },
  {
   "cell_type": "code",
   "execution_count": 21,
   "metadata": {},
   "outputs": [],
   "source": [
    "# generate path for each experiment\n",
    "\n",
    "folder_list = [f\"{save_folder_path}/{folder_name}\" for folder_name in ['csv_folder', 'mol_plot', 'prop_plot', \"color_plot\"]]\n",
    "\n",
    "for folder in folder_list:\n",
    "    if not os.path.exists(folder):\n",
    "        os.makedirs(folder, exist_ok=True)"
   ]
  },
  {
   "cell_type": "code",
   "execution_count": 30,
   "metadata": {},
   "outputs": [
    {
     "name": "stdout",
     "output_type": "stream",
     "text": [
      "------------- Experiment 0 -------------\n",
      "------------- Experiment 1 -------------\n",
      "------------- Experiment 2 -------------\n"
     ]
    },
    {
     "name": "stderr",
     "output_type": "stream",
     "text": [
      "whole_iters:   0%|          | 0/441 [00:00<?, ?it/s]"
     ]
    },
    {
     "name": "stdout",
     "output_type": "stream",
     "text": [
      "ratio of valid molecules : 100/100\n",
      "100\n",
      "100\n",
      "100\n"
     ]
    },
    {
     "name": "stderr",
     "output_type": "stream",
     "text": [
      "whole_iters:   0%|          | 1/441 [00:00<06:46,  1.08it/s]"
     ]
    },
    {
     "name": "stdout",
     "output_type": "stream",
     "text": [
      "100\n",
      "ratio of valid molecules : 100/100\n",
      "100\n",
      "100\n",
      "100\n"
     ]
    },
    {
     "name": "stderr",
     "output_type": "stream",
     "text": [
      "whole_iters:   0%|          | 2/441 [00:01<06:47,  1.08it/s]"
     ]
    },
    {
     "name": "stdout",
     "output_type": "stream",
     "text": [
      "100\n",
      "ratio of valid molecules : 100/100\n",
      "100\n",
      "100\n",
      "100\n"
     ]
    },
    {
     "name": "stderr",
     "output_type": "stream",
     "text": [
      "whole_iters:   1%|          | 3/441 [00:02<06:52,  1.06it/s]"
     ]
    },
    {
     "name": "stdout",
     "output_type": "stream",
     "text": [
      "100\n",
      "ratio of valid molecules : 100/100\n",
      "100\n",
      "100\n",
      "100\n"
     ]
    },
    {
     "name": "stderr",
     "output_type": "stream",
     "text": [
      "whole_iters:   1%|          | 4/441 [00:03<07:10,  1.01it/s]"
     ]
    },
    {
     "name": "stdout",
     "output_type": "stream",
     "text": [
      "100\n",
      "ratio of valid molecules : 100/100\n",
      "100\n",
      "100\n",
      "100\n"
     ]
    },
    {
     "name": "stderr",
     "output_type": "stream",
     "text": [
      "whole_iters:   1%|          | 5/441 [00:04<07:13,  1.01it/s]"
     ]
    },
    {
     "name": "stdout",
     "output_type": "stream",
     "text": [
      "100\n",
      "ratio of valid molecules : 100/100\n",
      "100\n",
      "100\n",
      "100\n"
     ]
    },
    {
     "name": "stderr",
     "output_type": "stream",
     "text": [
      "whole_iters:   1%|▏         | 6/441 [00:05<07:05,  1.02it/s]"
     ]
    },
    {
     "name": "stdout",
     "output_type": "stream",
     "text": [
      "100\n",
      "ratio of valid molecules : 100/100\n",
      "100\n",
      "100\n",
      "100\n"
     ]
    },
    {
     "name": "stderr",
     "output_type": "stream",
     "text": [
      "whole_iters:   2%|▏         | 7/441 [00:06<07:06,  1.02it/s]"
     ]
    },
    {
     "name": "stdout",
     "output_type": "stream",
     "text": [
      "100\n",
      "ratio of valid molecules : 100/100\n",
      "100\n",
      "100\n",
      "100\n"
     ]
    },
    {
     "name": "stderr",
     "output_type": "stream",
     "text": [
      "whole_iters:   2%|▏         | 8/441 [00:07<07:10,  1.01it/s]"
     ]
    },
    {
     "name": "stdout",
     "output_type": "stream",
     "text": [
      "100\n",
      "ratio of valid molecules : 100/100\n",
      "100\n",
      "100\n",
      "100\n"
     ]
    },
    {
     "name": "stderr",
     "output_type": "stream",
     "text": [
      "whole_iters:   2%|▏         | 9/441 [00:08<07:13,  1.00s/it]"
     ]
    },
    {
     "name": "stdout",
     "output_type": "stream",
     "text": [
      "100\n",
      "ratio of valid molecules : 100/100\n",
      "100\n",
      "100\n",
      "100\n"
     ]
    },
    {
     "name": "stderr",
     "output_type": "stream",
     "text": [
      "whole_iters:   2%|▏         | 10/441 [00:09<07:14,  1.01s/it]"
     ]
    },
    {
     "name": "stdout",
     "output_type": "stream",
     "text": [
      "100\n",
      "ratio of valid molecules : 100/100\n",
      "100\n",
      "100\n",
      "100\n"
     ]
    },
    {
     "name": "stderr",
     "output_type": "stream",
     "text": [
      "whole_iters:   2%|▏         | 11/441 [00:10<07:11,  1.00s/it]"
     ]
    },
    {
     "name": "stdout",
     "output_type": "stream",
     "text": [
      "100\n",
      "ratio of valid molecules : 100/100\n",
      "100\n",
      "100\n",
      "100\n"
     ]
    },
    {
     "name": "stderr",
     "output_type": "stream",
     "text": [
      "whole_iters:   3%|▎         | 12/441 [00:11<07:12,  1.01s/it]"
     ]
    },
    {
     "name": "stdout",
     "output_type": "stream",
     "text": [
      "100\n",
      "ratio of valid molecules : 100/100\n",
      "100\n",
      "100\n",
      "100\n"
     ]
    },
    {
     "name": "stderr",
     "output_type": "stream",
     "text": [
      "whole_iters:   3%|▎         | 13/441 [00:12<07:12,  1.01s/it]"
     ]
    },
    {
     "name": "stdout",
     "output_type": "stream",
     "text": [
      "100\n",
      "ratio of valid molecules : 100/100\n",
      "100\n",
      "100\n",
      "100\n"
     ]
    },
    {
     "name": "stderr",
     "output_type": "stream",
     "text": [
      "whole_iters:   3%|▎         | 14/441 [00:13<07:15,  1.02s/it]"
     ]
    },
    {
     "name": "stdout",
     "output_type": "stream",
     "text": [
      "100\n",
      "ratio of valid molecules : 100/100\n",
      "100\n",
      "100\n",
      "100\n"
     ]
    },
    {
     "name": "stderr",
     "output_type": "stream",
     "text": [
      "whole_iters:   3%|▎         | 15/441 [00:14<07:14,  1.02s/it]"
     ]
    },
    {
     "name": "stdout",
     "output_type": "stream",
     "text": [
      "100\n",
      "ratio of valid molecules : 100/100\n",
      "100\n",
      "100\n",
      "100\n"
     ]
    },
    {
     "name": "stderr",
     "output_type": "stream",
     "text": [
      "whole_iters:   4%|▎         | 16/441 [00:16<07:29,  1.06s/it]"
     ]
    },
    {
     "name": "stdout",
     "output_type": "stream",
     "text": [
      "100\n",
      "ratio of valid molecules : 100/100\n",
      "100\n",
      "100\n",
      "100\n"
     ]
    },
    {
     "name": "stderr",
     "output_type": "stream",
     "text": [
      "whole_iters:   4%|▍         | 17/441 [00:17<07:31,  1.07s/it]"
     ]
    },
    {
     "name": "stdout",
     "output_type": "stream",
     "text": [
      "100\n",
      "ratio of valid molecules : 100/100\n",
      "100\n",
      "100\n",
      "100\n"
     ]
    },
    {
     "name": "stderr",
     "output_type": "stream",
     "text": [
      "whole_iters:   4%|▍         | 18/441 [00:18<07:30,  1.07s/it]"
     ]
    },
    {
     "name": "stdout",
     "output_type": "stream",
     "text": [
      "100\n",
      "ratio of valid molecules : 100/100\n",
      "100\n",
      "100\n",
      "100\n"
     ]
    },
    {
     "name": "stderr",
     "output_type": "stream",
     "text": [
      "whole_iters:   4%|▍         | 19/441 [00:19<07:34,  1.08s/it]"
     ]
    },
    {
     "name": "stdout",
     "output_type": "stream",
     "text": [
      "100\n",
      "ratio of valid molecules : 100/100\n",
      "100\n",
      "100\n",
      "100\n"
     ]
    },
    {
     "name": "stderr",
     "output_type": "stream",
     "text": [
      "whole_iters:   5%|▍         | 20/441 [00:20<07:33,  1.08s/it]"
     ]
    },
    {
     "name": "stdout",
     "output_type": "stream",
     "text": [
      "100\n",
      "ratio of valid molecules : 100/100\n",
      "100\n",
      "100\n",
      "100\n"
     ]
    },
    {
     "name": "stderr",
     "output_type": "stream",
     "text": [
      "whole_iters:   5%|▍         | 21/441 [00:21<07:31,  1.08s/it]"
     ]
    },
    {
     "name": "stdout",
     "output_type": "stream",
     "text": [
      "100\n",
      "ratio of valid molecules : 100/100\n",
      "100\n",
      "100\n",
      "100\n"
     ]
    },
    {
     "name": "stderr",
     "output_type": "stream",
     "text": [
      "whole_iters:   5%|▍         | 22/441 [00:22<07:07,  1.02s/it]"
     ]
    },
    {
     "name": "stdout",
     "output_type": "stream",
     "text": [
      "100\n",
      "ratio of valid molecules : 100/100\n",
      "100\n",
      "100\n",
      "100\n"
     ]
    },
    {
     "name": "stderr",
     "output_type": "stream",
     "text": [
      "whole_iters:   5%|▌         | 23/441 [00:23<06:49,  1.02it/s]"
     ]
    },
    {
     "name": "stdout",
     "output_type": "stream",
     "text": [
      "100\n",
      "ratio of valid molecules : 100/100\n",
      "100\n",
      "100\n",
      "100\n"
     ]
    },
    {
     "name": "stderr",
     "output_type": "stream",
     "text": [
      "whole_iters:   5%|▌         | 24/441 [00:24<06:44,  1.03it/s]"
     ]
    },
    {
     "name": "stdout",
     "output_type": "stream",
     "text": [
      "100\n",
      "ratio of valid molecules : 100/100\n",
      "100\n",
      "100\n",
      "100\n"
     ]
    },
    {
     "name": "stderr",
     "output_type": "stream",
     "text": [
      "whole_iters:   6%|▌         | 25/441 [00:25<07:00,  1.01s/it]"
     ]
    },
    {
     "name": "stdout",
     "output_type": "stream",
     "text": [
      "100\n",
      "ratio of valid molecules : 100/100\n",
      "100\n",
      "100\n",
      "100\n"
     ]
    },
    {
     "name": "stderr",
     "output_type": "stream",
     "text": [
      "whole_iters:   6%|▌         | 26/441 [00:26<06:49,  1.01it/s]"
     ]
    },
    {
     "name": "stdout",
     "output_type": "stream",
     "text": [
      "100\n",
      "ratio of valid molecules : 100/100\n",
      "100\n",
      "100\n",
      "100\n"
     ]
    },
    {
     "name": "stderr",
     "output_type": "stream",
     "text": [
      "whole_iters:   6%|▌         | 27/441 [00:27<06:45,  1.02it/s]"
     ]
    },
    {
     "name": "stdout",
     "output_type": "stream",
     "text": [
      "100\n",
      "ratio of valid molecules : 100/100\n",
      "100\n",
      "100\n",
      "100\n"
     ]
    },
    {
     "name": "stderr",
     "output_type": "stream",
     "text": [
      "whole_iters:   6%|▋         | 28/441 [00:28<06:42,  1.03it/s]"
     ]
    },
    {
     "name": "stdout",
     "output_type": "stream",
     "text": [
      "100\n",
      "ratio of valid molecules : 100/100\n",
      "100\n",
      "100\n",
      "100\n"
     ]
    },
    {
     "name": "stderr",
     "output_type": "stream",
     "text": [
      "whole_iters:   7%|▋         | 29/441 [00:29<06:40,  1.03it/s]"
     ]
    },
    {
     "name": "stdout",
     "output_type": "stream",
     "text": [
      "100\n",
      "ratio of valid molecules : 100/100\n",
      "100\n",
      "100\n",
      "100\n"
     ]
    },
    {
     "name": "stderr",
     "output_type": "stream",
     "text": [
      "whole_iters:   7%|▋         | 30/441 [00:30<07:00,  1.02s/it]"
     ]
    },
    {
     "name": "stdout",
     "output_type": "stream",
     "text": [
      "100\n",
      "ratio of valid molecules : 100/100\n",
      "100\n",
      "100\n",
      "100\n"
     ]
    },
    {
     "name": "stderr",
     "output_type": "stream",
     "text": [
      "whole_iters:   7%|▋         | 31/441 [00:31<06:59,  1.02s/it]"
     ]
    },
    {
     "name": "stdout",
     "output_type": "stream",
     "text": [
      "100\n",
      "ratio of valid molecules : 100/100\n",
      "100\n",
      "100\n",
      "100\n"
     ]
    },
    {
     "name": "stderr",
     "output_type": "stream",
     "text": [
      "whole_iters:   7%|▋         | 32/441 [00:32<07:03,  1.04s/it]"
     ]
    },
    {
     "name": "stdout",
     "output_type": "stream",
     "text": [
      "100\n",
      "ratio of valid molecules : 100/100\n",
      "100\n",
      "100\n",
      "100\n"
     ]
    },
    {
     "name": "stderr",
     "output_type": "stream",
     "text": [
      "whole_iters:   7%|▋         | 33/441 [00:33<07:03,  1.04s/it]"
     ]
    },
    {
     "name": "stdout",
     "output_type": "stream",
     "text": [
      "100\n",
      "ratio of valid molecules : 100/100\n",
      "100\n",
      "100\n",
      "100\n"
     ]
    },
    {
     "name": "stderr",
     "output_type": "stream",
     "text": [
      "whole_iters:   8%|▊         | 34/441 [00:34<07:01,  1.04s/it]"
     ]
    },
    {
     "name": "stdout",
     "output_type": "stream",
     "text": [
      "100\n",
      "ratio of valid molecules : 100/100\n",
      "100\n",
      "100\n",
      "100\n"
     ]
    },
    {
     "name": "stderr",
     "output_type": "stream",
     "text": [
      "whole_iters:   8%|▊         | 35/441 [00:35<06:58,  1.03s/it]"
     ]
    },
    {
     "name": "stdout",
     "output_type": "stream",
     "text": [
      "100\n",
      "ratio of valid molecules : 100/100\n",
      "100\n",
      "100\n",
      "100\n"
     ]
    },
    {
     "name": "stderr",
     "output_type": "stream",
     "text": [
      "whole_iters:   8%|▊         | 36/441 [00:36<06:57,  1.03s/it]"
     ]
    },
    {
     "name": "stdout",
     "output_type": "stream",
     "text": [
      "100\n",
      "ratio of valid molecules : 100/100\n",
      "100\n",
      "100\n",
      "100\n"
     ]
    },
    {
     "name": "stderr",
     "output_type": "stream",
     "text": [
      "whole_iters:   8%|▊         | 37/441 [00:37<06:59,  1.04s/it]"
     ]
    },
    {
     "name": "stdout",
     "output_type": "stream",
     "text": [
      "100\n",
      "ratio of valid molecules : 100/100\n",
      "100\n",
      "100\n",
      "100\n"
     ]
    },
    {
     "name": "stderr",
     "output_type": "stream",
     "text": [
      "whole_iters:   9%|▊         | 38/441 [00:38<07:00,  1.04s/it]"
     ]
    },
    {
     "name": "stdout",
     "output_type": "stream",
     "text": [
      "100\n",
      "ratio of valid molecules : 100/100\n",
      "100\n",
      "100\n",
      "100\n"
     ]
    },
    {
     "name": "stderr",
     "output_type": "stream",
     "text": [
      "whole_iters:   9%|▉         | 39/441 [00:39<07:08,  1.07s/it]"
     ]
    },
    {
     "name": "stdout",
     "output_type": "stream",
     "text": [
      "100\n",
      "ratio of valid molecules : 100/100\n",
      "100\n",
      "100\n",
      "100\n"
     ]
    },
    {
     "name": "stderr",
     "output_type": "stream",
     "text": [
      "whole_iters:   9%|▉         | 40/441 [00:40<07:13,  1.08s/it]"
     ]
    },
    {
     "name": "stdout",
     "output_type": "stream",
     "text": [
      "100\n",
      "ratio of valid molecules : 100/100\n",
      "100\n",
      "100\n",
      "100\n"
     ]
    },
    {
     "name": "stderr",
     "output_type": "stream",
     "text": [
      "whole_iters:   9%|▉         | 41/441 [00:41<07:16,  1.09s/it]"
     ]
    },
    {
     "name": "stdout",
     "output_type": "stream",
     "text": [
      "100\n",
      "ratio of valid molecules : 100/100\n",
      "100\n",
      "100\n",
      "100\n"
     ]
    },
    {
     "name": "stderr",
     "output_type": "stream",
     "text": [
      "whole_iters:  10%|▉         | 42/441 [00:43<07:15,  1.09s/it]"
     ]
    },
    {
     "name": "stdout",
     "output_type": "stream",
     "text": [
      "100\n",
      "ratio of valid molecules : 100/100\n",
      "100\n",
      "100\n",
      "100\n"
     ]
    },
    {
     "name": "stderr",
     "output_type": "stream",
     "text": [
      "whole_iters:  10%|▉         | 43/441 [00:43<06:51,  1.03s/it]"
     ]
    },
    {
     "name": "stdout",
     "output_type": "stream",
     "text": [
      "100\n",
      "ratio of valid molecules : 100/100\n",
      "100\n",
      "100\n",
      "100\n"
     ]
    },
    {
     "name": "stderr",
     "output_type": "stream",
     "text": [
      "whole_iters:  10%|▉         | 44/441 [00:44<06:41,  1.01s/it]"
     ]
    },
    {
     "name": "stdout",
     "output_type": "stream",
     "text": [
      "100\n",
      "ratio of valid molecules : 100/100\n",
      "100\n",
      "100\n",
      "100\n"
     ]
    },
    {
     "name": "stderr",
     "output_type": "stream",
     "text": [
      "whole_iters:  10%|█         | 45/441 [00:45<06:30,  1.01it/s]"
     ]
    },
    {
     "name": "stdout",
     "output_type": "stream",
     "text": [
      "100\n",
      "ratio of valid molecules : 100/100\n",
      "100\n",
      "100\n",
      "100\n"
     ]
    },
    {
     "name": "stderr",
     "output_type": "stream",
     "text": [
      "whole_iters:  10%|█         | 46/441 [00:46<06:40,  1.01s/it]"
     ]
    },
    {
     "name": "stdout",
     "output_type": "stream",
     "text": [
      "100\n",
      "ratio of valid molecules : 100/100\n",
      "100\n",
      "100\n",
      "100\n"
     ]
    },
    {
     "name": "stderr",
     "output_type": "stream",
     "text": [
      "whole_iters:  11%|█         | 47/441 [00:47<06:35,  1.00s/it]"
     ]
    },
    {
     "name": "stdout",
     "output_type": "stream",
     "text": [
      "100\n",
      "ratio of valid molecules : 100/100\n",
      "100\n",
      "100\n",
      "100\n"
     ]
    },
    {
     "name": "stderr",
     "output_type": "stream",
     "text": [
      "whole_iters:  11%|█         | 48/441 [00:48<06:33,  1.00s/it]"
     ]
    },
    {
     "name": "stdout",
     "output_type": "stream",
     "text": [
      "100\n",
      "ratio of valid molecules : 100/100\n",
      "100\n",
      "100\n",
      "100\n"
     ]
    },
    {
     "name": "stderr",
     "output_type": "stream",
     "text": [
      "whole_iters:  11%|█         | 49/441 [00:49<06:34,  1.01s/it]"
     ]
    },
    {
     "name": "stdout",
     "output_type": "stream",
     "text": [
      "100\n",
      "ratio of valid molecules : 100/100\n",
      "100\n",
      "100\n",
      "100\n"
     ]
    },
    {
     "name": "stderr",
     "output_type": "stream",
     "text": [
      "whole_iters:  11%|█▏        | 50/441 [00:50<06:32,  1.00s/it]"
     ]
    },
    {
     "name": "stdout",
     "output_type": "stream",
     "text": [
      "100\n",
      "ratio of valid molecules : 100/100\n",
      "100\n",
      "100\n",
      "100\n"
     ]
    },
    {
     "name": "stderr",
     "output_type": "stream",
     "text": [
      "whole_iters:  12%|█▏        | 51/441 [00:51<06:32,  1.01s/it]"
     ]
    },
    {
     "name": "stdout",
     "output_type": "stream",
     "text": [
      "100\n",
      "ratio of valid molecules : 100/100\n",
      "100\n",
      "100\n",
      "100\n"
     ]
    },
    {
     "name": "stderr",
     "output_type": "stream",
     "text": [
      "whole_iters:  12%|█▏        | 52/441 [00:52<06:36,  1.02s/it]"
     ]
    },
    {
     "name": "stdout",
     "output_type": "stream",
     "text": [
      "100\n",
      "ratio of valid molecules : 100/100\n",
      "100\n",
      "100\n",
      "100\n"
     ]
    },
    {
     "name": "stderr",
     "output_type": "stream",
     "text": [
      "whole_iters:  12%|█▏        | 53/441 [00:54<06:38,  1.03s/it]"
     ]
    },
    {
     "name": "stdout",
     "output_type": "stream",
     "text": [
      "100\n",
      "ratio of valid molecules : 100/100\n",
      "100\n",
      "100\n",
      "100\n"
     ]
    },
    {
     "name": "stderr",
     "output_type": "stream",
     "text": [
      "whole_iters:  12%|█▏        | 54/441 [00:55<06:40,  1.03s/it]"
     ]
    },
    {
     "name": "stdout",
     "output_type": "stream",
     "text": [
      "100\n",
      "ratio of valid molecules : 100/100\n",
      "100\n",
      "100\n",
      "100\n"
     ]
    },
    {
     "name": "stderr",
     "output_type": "stream",
     "text": [
      "whole_iters:  12%|█▏        | 55/441 [00:56<06:37,  1.03s/it]"
     ]
    },
    {
     "name": "stdout",
     "output_type": "stream",
     "text": [
      "100\n",
      "ratio of valid molecules : 100/100\n",
      "100\n",
      "100\n",
      "100\n"
     ]
    },
    {
     "name": "stderr",
     "output_type": "stream",
     "text": [
      "whole_iters:  13%|█▎        | 56/441 [00:57<06:40,  1.04s/it]"
     ]
    },
    {
     "name": "stdout",
     "output_type": "stream",
     "text": [
      "100\n",
      "ratio of valid molecules : 100/100\n",
      "100\n",
      "100\n",
      "100\n"
     ]
    },
    {
     "name": "stderr",
     "output_type": "stream",
     "text": [
      "whole_iters:  13%|█▎        | 57/441 [00:58<06:44,  1.05s/it]"
     ]
    },
    {
     "name": "stdout",
     "output_type": "stream",
     "text": [
      "100\n",
      "ratio of valid molecules : 100/100\n",
      "100\n",
      "100\n",
      "100\n"
     ]
    },
    {
     "name": "stderr",
     "output_type": "stream",
     "text": [
      "whole_iters:  13%|█▎        | 58/441 [00:59<06:41,  1.05s/it]"
     ]
    },
    {
     "name": "stdout",
     "output_type": "stream",
     "text": [
      "100\n",
      "ratio of valid molecules : 100/100\n",
      "100\n",
      "100\n",
      "100\n"
     ]
    },
    {
     "name": "stderr",
     "output_type": "stream",
     "text": [
      "whole_iters:  13%|█▎        | 59/441 [01:00<06:44,  1.06s/it]"
     ]
    },
    {
     "name": "stdout",
     "output_type": "stream",
     "text": [
      "100\n",
      "ratio of valid molecules : 100/100\n",
      "100\n",
      "100\n",
      "100\n"
     ]
    },
    {
     "name": "stderr",
     "output_type": "stream",
     "text": [
      "whole_iters:  14%|█▎        | 60/441 [01:01<06:59,  1.10s/it]"
     ]
    },
    {
     "name": "stdout",
     "output_type": "stream",
     "text": [
      "100\n",
      "ratio of valid molecules : 100/100\n",
      "100\n",
      "100\n",
      "100\n"
     ]
    },
    {
     "name": "stderr",
     "output_type": "stream",
     "text": [
      "whole_iters:  14%|█▍        | 61/441 [01:02<06:56,  1.10s/it]"
     ]
    },
    {
     "name": "stdout",
     "output_type": "stream",
     "text": [
      "100\n",
      "ratio of valid molecules : 100/100\n",
      "100\n",
      "100\n",
      "100\n"
     ]
    },
    {
     "name": "stderr",
     "output_type": "stream",
     "text": [
      "whole_iters:  14%|█▍        | 62/441 [01:03<07:02,  1.12s/it]"
     ]
    },
    {
     "name": "stdout",
     "output_type": "stream",
     "text": [
      "100\n",
      "ratio of valid molecules : 100/100\n",
      "100\n",
      "100\n",
      "100\n"
     ]
    },
    {
     "name": "stderr",
     "output_type": "stream",
     "text": [
      "whole_iters:  14%|█▍        | 63/441 [01:04<07:04,  1.12s/it]"
     ]
    },
    {
     "name": "stdout",
     "output_type": "stream",
     "text": [
      "100\n",
      "ratio of valid molecules : 100/100\n",
      "100\n",
      "100\n",
      "100\n"
     ]
    },
    {
     "name": "stderr",
     "output_type": "stream",
     "text": [
      "whole_iters:  15%|█▍        | 64/441 [01:05<06:44,  1.07s/it]"
     ]
    },
    {
     "name": "stdout",
     "output_type": "stream",
     "text": [
      "100\n",
      "ratio of valid molecules : 100/100\n",
      "100\n",
      "100\n",
      "100\n"
     ]
    },
    {
     "name": "stderr",
     "output_type": "stream",
     "text": [
      "whole_iters:  15%|█▍        | 65/441 [01:06<06:30,  1.04s/it]"
     ]
    },
    {
     "name": "stdout",
     "output_type": "stream",
     "text": [
      "100\n",
      "ratio of valid molecules : 100/100\n",
      "100\n",
      "100\n",
      "100\n"
     ]
    },
    {
     "name": "stderr",
     "output_type": "stream",
     "text": [
      "whole_iters:  15%|█▍        | 66/441 [01:07<06:28,  1.04s/it]"
     ]
    },
    {
     "name": "stdout",
     "output_type": "stream",
     "text": [
      "100\n",
      "ratio of valid molecules : 100/100\n",
      "100\n",
      "100\n",
      "100\n"
     ]
    },
    {
     "name": "stderr",
     "output_type": "stream",
     "text": [
      "whole_iters:  15%|█▌        | 67/441 [01:08<06:15,  1.00s/it]"
     ]
    },
    {
     "name": "stdout",
     "output_type": "stream",
     "text": [
      "100\n",
      "ratio of valid molecules : 100/100\n",
      "100\n",
      "100\n",
      "100\n"
     ]
    },
    {
     "name": "stderr",
     "output_type": "stream",
     "text": [
      "whole_iters:  15%|█▌        | 68/441 [01:09<06:13,  1.00s/it]"
     ]
    },
    {
     "name": "stdout",
     "output_type": "stream",
     "text": [
      "100\n",
      "ratio of valid molecules : 100/100\n",
      "100\n",
      "100\n",
      "100\n"
     ]
    },
    {
     "name": "stderr",
     "output_type": "stream",
     "text": [
      "whole_iters:  16%|█▌        | 69/441 [01:10<06:13,  1.00s/it]"
     ]
    },
    {
     "name": "stdout",
     "output_type": "stream",
     "text": [
      "100\n",
      "ratio of valid molecules : 100/100\n",
      "100\n",
      "100\n",
      "100\n"
     ]
    },
    {
     "name": "stderr",
     "output_type": "stream",
     "text": [
      "whole_iters:  16%|█▌        | 70/441 [01:11<06:14,  1.01s/it]"
     ]
    },
    {
     "name": "stdout",
     "output_type": "stream",
     "text": [
      "100\n",
      "ratio of valid molecules : 100/100\n",
      "100\n",
      "100\n",
      "100\n"
     ]
    },
    {
     "name": "stderr",
     "output_type": "stream",
     "text": [
      "whole_iters:  16%|█▌        | 71/441 [01:12<06:13,  1.01s/it]"
     ]
    },
    {
     "name": "stdout",
     "output_type": "stream",
     "text": [
      "100\n",
      "ratio of valid molecules : 100/100\n",
      "100\n",
      "100\n",
      "100\n"
     ]
    },
    {
     "name": "stderr",
     "output_type": "stream",
     "text": [
      "whole_iters:  16%|█▋        | 72/441 [01:13<06:17,  1.02s/it]"
     ]
    },
    {
     "name": "stdout",
     "output_type": "stream",
     "text": [
      "100\n",
      "ratio of valid molecules : 100/100\n",
      "100\n",
      "100\n",
      "100\n"
     ]
    },
    {
     "name": "stderr",
     "output_type": "stream",
     "text": [
      "whole_iters:  17%|█▋        | 73/441 [01:14<06:18,  1.03s/it]"
     ]
    },
    {
     "name": "stdout",
     "output_type": "stream",
     "text": [
      "100\n",
      "ratio of valid molecules : 100/100\n",
      "100\n",
      "100\n",
      "100\n"
     ]
    },
    {
     "name": "stderr",
     "output_type": "stream",
     "text": [
      "whole_iters:  17%|█▋        | 74/441 [01:16<06:20,  1.04s/it]"
     ]
    },
    {
     "name": "stdout",
     "output_type": "stream",
     "text": [
      "100\n",
      "ratio of valid molecules : 100/100\n",
      "100\n",
      "100\n",
      "100\n"
     ]
    },
    {
     "name": "stderr",
     "output_type": "stream",
     "text": [
      "whole_iters:  17%|█▋        | 75/441 [01:17<06:17,  1.03s/it]"
     ]
    },
    {
     "name": "stdout",
     "output_type": "stream",
     "text": [
      "100\n",
      "ratio of valid molecules : 100/100\n",
      "100\n",
      "100\n",
      "100\n"
     ]
    },
    {
     "name": "stderr",
     "output_type": "stream",
     "text": [
      "whole_iters:  17%|█▋        | 76/441 [01:18<06:21,  1.05s/it]"
     ]
    },
    {
     "name": "stdout",
     "output_type": "stream",
     "text": [
      "100\n",
      "ratio of valid molecules : 100/100\n",
      "100\n",
      "100\n",
      "100\n"
     ]
    },
    {
     "name": "stderr",
     "output_type": "stream",
     "text": [
      "whole_iters:  17%|█▋        | 77/441 [01:19<06:30,  1.07s/it]"
     ]
    },
    {
     "name": "stdout",
     "output_type": "stream",
     "text": [
      "100\n",
      "ratio of valid molecules : 100/100\n",
      "100\n",
      "100\n",
      "100\n"
     ]
    },
    {
     "name": "stderr",
     "output_type": "stream",
     "text": [
      "whole_iters:  18%|█▊        | 78/441 [01:20<06:45,  1.12s/it]"
     ]
    },
    {
     "name": "stdout",
     "output_type": "stream",
     "text": [
      "100\n",
      "ratio of valid molecules : 100/100\n",
      "100\n",
      "100\n",
      "100\n"
     ]
    },
    {
     "name": "stderr",
     "output_type": "stream",
     "text": [
      "whole_iters:  18%|█▊        | 79/441 [01:21<06:38,  1.10s/it]"
     ]
    },
    {
     "name": "stdout",
     "output_type": "stream",
     "text": [
      "100\n",
      "ratio of valid molecules : 100/100\n",
      "100\n",
      "100\n",
      "100\n"
     ]
    },
    {
     "name": "stderr",
     "output_type": "stream",
     "text": [
      "whole_iters:  18%|█▊        | 80/441 [01:22<06:31,  1.08s/it]"
     ]
    },
    {
     "name": "stdout",
     "output_type": "stream",
     "text": [
      "100\n",
      "ratio of valid molecules : 100/100\n",
      "100\n",
      "100\n",
      "100\n"
     ]
    },
    {
     "name": "stderr",
     "output_type": "stream",
     "text": [
      "whole_iters:  18%|█▊        | 81/441 [01:23<06:32,  1.09s/it]"
     ]
    },
    {
     "name": "stdout",
     "output_type": "stream",
     "text": [
      "100\n",
      "ratio of valid molecules : 100/100\n",
      "100\n",
      "100\n",
      "100\n"
     ]
    },
    {
     "name": "stderr",
     "output_type": "stream",
     "text": [
      "whole_iters:  19%|█▊        | 82/441 [01:24<06:35,  1.10s/it]"
     ]
    },
    {
     "name": "stdout",
     "output_type": "stream",
     "text": [
      "100\n",
      "ratio of valid molecules : 100/100\n",
      "100\n",
      "100\n",
      "100\n"
     ]
    },
    {
     "name": "stderr",
     "output_type": "stream",
     "text": [
      "whole_iters:  19%|█▉        | 83/441 [01:25<06:40,  1.12s/it]"
     ]
    },
    {
     "name": "stdout",
     "output_type": "stream",
     "text": [
      "100\n",
      "ratio of valid molecules : 100/100\n",
      "100\n",
      "100\n",
      "100\n"
     ]
    },
    {
     "name": "stderr",
     "output_type": "stream",
     "text": [
      "whole_iters:  19%|█▉        | 84/441 [01:27<06:44,  1.13s/it]"
     ]
    },
    {
     "name": "stdout",
     "output_type": "stream",
     "text": [
      "100\n",
      "ratio of valid molecules : 100/100\n",
      "100\n",
      "100\n",
      "100\n"
     ]
    },
    {
     "name": "stderr",
     "output_type": "stream",
     "text": [
      "whole_iters:  19%|█▉        | 85/441 [01:28<06:22,  1.07s/it]"
     ]
    },
    {
     "name": "stdout",
     "output_type": "stream",
     "text": [
      "100\n",
      "ratio of valid molecules : 100/100\n",
      "100\n",
      "100\n",
      "100\n"
     ]
    },
    {
     "name": "stderr",
     "output_type": "stream",
     "text": [
      "whole_iters:  20%|█▉        | 86/441 [01:29<06:12,  1.05s/it]"
     ]
    },
    {
     "name": "stdout",
     "output_type": "stream",
     "text": [
      "100\n",
      "ratio of valid molecules : 100/100\n",
      "100\n",
      "100\n",
      "100\n"
     ]
    },
    {
     "name": "stderr",
     "output_type": "stream",
     "text": [
      "whole_iters:  20%|█▉        | 87/441 [01:30<05:58,  1.01s/it]"
     ]
    },
    {
     "name": "stdout",
     "output_type": "stream",
     "text": [
      "100\n",
      "ratio of valid molecules : 100/100\n",
      "100\n",
      "100\n",
      "100\n"
     ]
    },
    {
     "name": "stderr",
     "output_type": "stream",
     "text": [
      "whole_iters:  20%|█▉        | 88/441 [01:30<05:49,  1.01it/s]"
     ]
    },
    {
     "name": "stdout",
     "output_type": "stream",
     "text": [
      "100\n",
      "ratio of valid molecules : 100/100\n",
      "100\n",
      "100\n",
      "100\n"
     ]
    },
    {
     "name": "stderr",
     "output_type": "stream",
     "text": [
      "whole_iters:  20%|██        | 89/441 [01:31<05:43,  1.03it/s]"
     ]
    },
    {
     "name": "stdout",
     "output_type": "stream",
     "text": [
      "100\n",
      "ratio of valid molecules : 100/100\n",
      "100\n",
      "100\n",
      "100\n"
     ]
    },
    {
     "name": "stderr",
     "output_type": "stream",
     "text": [
      "whole_iters:  20%|██        | 90/441 [01:32<05:40,  1.03it/s]"
     ]
    },
    {
     "name": "stdout",
     "output_type": "stream",
     "text": [
      "100\n",
      "ratio of valid molecules : 100/100\n",
      "100\n",
      "100\n",
      "100\n"
     ]
    },
    {
     "name": "stderr",
     "output_type": "stream",
     "text": [
      "whole_iters:  21%|██        | 91/441 [01:33<05:44,  1.02it/s]"
     ]
    },
    {
     "name": "stdout",
     "output_type": "stream",
     "text": [
      "100\n",
      "ratio of valid molecules : 100/100\n",
      "100\n",
      "100\n",
      "100\n"
     ]
    },
    {
     "name": "stderr",
     "output_type": "stream",
     "text": [
      "whole_iters:  21%|██        | 92/441 [01:34<05:45,  1.01it/s]"
     ]
    },
    {
     "name": "stdout",
     "output_type": "stream",
     "text": [
      "100\n",
      "ratio of valid molecules : 100/100\n",
      "100\n",
      "100\n",
      "100\n"
     ]
    },
    {
     "name": "stderr",
     "output_type": "stream",
     "text": [
      "whole_iters:  21%|██        | 93/441 [01:35<05:44,  1.01it/s]"
     ]
    },
    {
     "name": "stdout",
     "output_type": "stream",
     "text": [
      "100\n",
      "ratio of valid molecules : 100/100\n",
      "100\n",
      "100\n",
      "100\n"
     ]
    },
    {
     "name": "stderr",
     "output_type": "stream",
     "text": [
      "whole_iters:  21%|██▏       | 94/441 [01:36<05:44,  1.01it/s]"
     ]
    },
    {
     "name": "stdout",
     "output_type": "stream",
     "text": [
      "100\n",
      "ratio of valid molecules : 100/100\n",
      "100\n",
      "100\n",
      "100\n"
     ]
    },
    {
     "name": "stderr",
     "output_type": "stream",
     "text": [
      "whole_iters:  22%|██▏       | 95/441 [01:37<05:46,  1.00s/it]"
     ]
    },
    {
     "name": "stdout",
     "output_type": "stream",
     "text": [
      "100\n",
      "ratio of valid molecules : 100/100\n",
      "100\n",
      "100\n",
      "100\n"
     ]
    },
    {
     "name": "stderr",
     "output_type": "stream",
     "text": [
      "whole_iters:  22%|██▏       | 96/441 [01:39<06:00,  1.05s/it]"
     ]
    },
    {
     "name": "stdout",
     "output_type": "stream",
     "text": [
      "100\n",
      "ratio of valid molecules : 100/100\n",
      "100\n",
      "100\n",
      "100\n"
     ]
    },
    {
     "name": "stderr",
     "output_type": "stream",
     "text": [
      "whole_iters:  22%|██▏       | 97/441 [01:40<06:03,  1.06s/it]"
     ]
    },
    {
     "name": "stdout",
     "output_type": "stream",
     "text": [
      "100\n",
      "ratio of valid molecules : 100/100\n",
      "100\n",
      "100\n",
      "100\n"
     ]
    },
    {
     "name": "stderr",
     "output_type": "stream",
     "text": [
      "whole_iters:  22%|██▏       | 98/441 [01:41<06:09,  1.08s/it]"
     ]
    },
    {
     "name": "stdout",
     "output_type": "stream",
     "text": [
      "100\n",
      "ratio of valid molecules : 100/100\n",
      "100\n",
      "100\n",
      "100\n"
     ]
    },
    {
     "name": "stderr",
     "output_type": "stream",
     "text": [
      "whole_iters:  22%|██▏       | 99/441 [01:42<06:08,  1.08s/it]"
     ]
    },
    {
     "name": "stdout",
     "output_type": "stream",
     "text": [
      "100\n",
      "ratio of valid molecules : 100/100\n",
      "100\n",
      "100\n",
      "100\n"
     ]
    },
    {
     "name": "stderr",
     "output_type": "stream",
     "text": [
      "whole_iters:  23%|██▎       | 100/441 [01:43<06:07,  1.08s/it]"
     ]
    },
    {
     "name": "stdout",
     "output_type": "stream",
     "text": [
      "100\n",
      "ratio of valid molecules : 100/100\n",
      "100\n",
      "100\n",
      "100\n"
     ]
    },
    {
     "name": "stderr",
     "output_type": "stream",
     "text": [
      "whole_iters:  23%|██▎       | 101/441 [01:44<06:11,  1.09s/it]"
     ]
    },
    {
     "name": "stdout",
     "output_type": "stream",
     "text": [
      "100\n",
      "ratio of valid molecules : 100/100\n",
      "100\n",
      "100\n",
      "100\n"
     ]
    },
    {
     "name": "stderr",
     "output_type": "stream",
     "text": [
      "whole_iters:  23%|██▎       | 102/441 [01:45<06:18,  1.12s/it]"
     ]
    },
    {
     "name": "stdout",
     "output_type": "stream",
     "text": [
      "100\n",
      "ratio of valid molecules : 100/100\n",
      "100\n",
      "100\n",
      "100\n"
     ]
    },
    {
     "name": "stderr",
     "output_type": "stream",
     "text": [
      "whole_iters:  23%|██▎       | 103/441 [01:46<06:26,  1.14s/it]"
     ]
    },
    {
     "name": "stdout",
     "output_type": "stream",
     "text": [
      "100\n",
      "ratio of valid molecules : 100/100\n",
      "100\n",
      "100\n",
      "100\n"
     ]
    },
    {
     "name": "stderr",
     "output_type": "stream",
     "text": [
      "whole_iters:  24%|██▎       | 104/441 [01:48<06:27,  1.15s/it]"
     ]
    },
    {
     "name": "stdout",
     "output_type": "stream",
     "text": [
      "100\n",
      "ratio of valid molecules : 100/100\n",
      "100\n",
      "100\n",
      "100\n"
     ]
    },
    {
     "name": "stderr",
     "output_type": "stream",
     "text": [
      "whole_iters:  24%|██▍       | 105/441 [01:49<06:31,  1.16s/it]"
     ]
    },
    {
     "name": "stdout",
     "output_type": "stream",
     "text": [
      "100\n",
      "ratio of valid molecules : 100/100\n",
      "100\n",
      "100\n",
      "100\n"
     ]
    },
    {
     "name": "stderr",
     "output_type": "stream",
     "text": [
      "whole_iters:  24%|██▍       | 106/441 [01:50<06:08,  1.10s/it]"
     ]
    },
    {
     "name": "stdout",
     "output_type": "stream",
     "text": [
      "100\n",
      "ratio of valid molecules : 100/100\n",
      "100\n",
      "100\n",
      "100\n"
     ]
    },
    {
     "name": "stderr",
     "output_type": "stream",
     "text": [
      "whole_iters:  24%|██▍       | 107/441 [01:51<05:56,  1.07s/it]"
     ]
    },
    {
     "name": "stdout",
     "output_type": "stream",
     "text": [
      "100\n",
      "ratio of valid molecules : 100/100\n",
      "100\n",
      "100\n",
      "100\n"
     ]
    },
    {
     "name": "stderr",
     "output_type": "stream",
     "text": [
      "whole_iters:  24%|██▍       | 108/441 [01:52<05:45,  1.04s/it]"
     ]
    },
    {
     "name": "stdout",
     "output_type": "stream",
     "text": [
      "100\n",
      "ratio of valid molecules : 100/100\n",
      "100\n",
      "100\n",
      "100\n"
     ]
    },
    {
     "name": "stderr",
     "output_type": "stream",
     "text": [
      "whole_iters:  25%|██▍       | 109/441 [01:53<05:42,  1.03s/it]"
     ]
    },
    {
     "name": "stdout",
     "output_type": "stream",
     "text": [
      "100\n",
      "ratio of valid molecules : 100/100\n",
      "100\n",
      "100\n",
      "100\n"
     ]
    },
    {
     "name": "stderr",
     "output_type": "stream",
     "text": [
      "whole_iters:  25%|██▍       | 110/441 [01:54<05:42,  1.04s/it]"
     ]
    },
    {
     "name": "stdout",
     "output_type": "stream",
     "text": [
      "100\n",
      "ratio of valid molecules : 100/100\n",
      "100\n",
      "100\n",
      "100\n"
     ]
    },
    {
     "name": "stderr",
     "output_type": "stream",
     "text": [
      "whole_iters:  25%|██▌       | 111/441 [01:55<05:41,  1.04s/it]"
     ]
    },
    {
     "name": "stdout",
     "output_type": "stream",
     "text": [
      "100\n",
      "ratio of valid molecules : 100/100\n",
      "100\n",
      "100\n",
      "100\n"
     ]
    },
    {
     "name": "stderr",
     "output_type": "stream",
     "text": [
      "whole_iters:  25%|██▌       | 112/441 [01:56<05:43,  1.04s/it]"
     ]
    },
    {
     "name": "stdout",
     "output_type": "stream",
     "text": [
      "100\n",
      "ratio of valid molecules : 100/100\n",
      "100\n",
      "100\n",
      "100\n"
     ]
    },
    {
     "name": "stderr",
     "output_type": "stream",
     "text": [
      "whole_iters:  26%|██▌       | 113/441 [01:57<05:46,  1.06s/it]"
     ]
    },
    {
     "name": "stdout",
     "output_type": "stream",
     "text": [
      "100\n",
      "ratio of valid molecules : 100/100\n",
      "100\n",
      "100\n",
      "100\n"
     ]
    },
    {
     "name": "stderr",
     "output_type": "stream",
     "text": [
      "whole_iters:  26%|██▌       | 114/441 [01:58<05:45,  1.06s/it]"
     ]
    },
    {
     "name": "stdout",
     "output_type": "stream",
     "text": [
      "100\n",
      "ratio of valid molecules : 100/100\n",
      "100\n",
      "100\n",
      "100\n"
     ]
    },
    {
     "name": "stderr",
     "output_type": "stream",
     "text": [
      "whole_iters:  26%|██▌       | 115/441 [01:59<05:46,  1.06s/it]"
     ]
    },
    {
     "name": "stdout",
     "output_type": "stream",
     "text": [
      "100\n",
      "ratio of valid molecules : 100/100\n",
      "100\n",
      "100\n",
      "100\n"
     ]
    },
    {
     "name": "stderr",
     "output_type": "stream",
     "text": [
      "whole_iters:  26%|██▋       | 116/441 [02:00<05:48,  1.07s/it]"
     ]
    },
    {
     "name": "stdout",
     "output_type": "stream",
     "text": [
      "100\n",
      "ratio of valid molecules : 100/100\n",
      "100\n",
      "100\n",
      "100\n"
     ]
    },
    {
     "name": "stderr",
     "output_type": "stream",
     "text": [
      "whole_iters:  27%|██▋       | 117/441 [02:01<05:45,  1.07s/it]"
     ]
    },
    {
     "name": "stdout",
     "output_type": "stream",
     "text": [
      "100\n",
      "ratio of valid molecules : 100/100\n",
      "100\n",
      "100\n",
      "100\n"
     ]
    },
    {
     "name": "stderr",
     "output_type": "stream",
     "text": [
      "whole_iters:  27%|██▋       | 118/441 [02:02<05:50,  1.08s/it]"
     ]
    },
    {
     "name": "stdout",
     "output_type": "stream",
     "text": [
      "100\n",
      "ratio of valid molecules : 100/100\n",
      "100\n",
      "100\n",
      "100\n"
     ]
    },
    {
     "name": "stderr",
     "output_type": "stream",
     "text": [
      "whole_iters:  27%|██▋       | 119/441 [02:03<05:52,  1.09s/it]"
     ]
    },
    {
     "name": "stdout",
     "output_type": "stream",
     "text": [
      "100\n",
      "ratio of valid molecules : 100/100\n",
      "100\n",
      "100\n",
      "100\n"
     ]
    },
    {
     "name": "stderr",
     "output_type": "stream",
     "text": [
      "whole_iters:  27%|██▋       | 120/441 [02:05<05:50,  1.09s/it]"
     ]
    },
    {
     "name": "stdout",
     "output_type": "stream",
     "text": [
      "100\n",
      "ratio of valid molecules : 100/100\n",
      "100\n",
      "100\n",
      "100\n"
     ]
    },
    {
     "name": "stderr",
     "output_type": "stream",
     "text": [
      "whole_iters:  27%|██▋       | 121/441 [02:06<05:48,  1.09s/it]"
     ]
    },
    {
     "name": "stdout",
     "output_type": "stream",
     "text": [
      "100\n",
      "ratio of valid molecules : 100/100\n",
      "100\n",
      "100\n",
      "100\n"
     ]
    },
    {
     "name": "stderr",
     "output_type": "stream",
     "text": [
      "whole_iters:  28%|██▊       | 122/441 [02:07<06:03,  1.14s/it]"
     ]
    },
    {
     "name": "stdout",
     "output_type": "stream",
     "text": [
      "100\n",
      "ratio of valid molecules : 100/100\n",
      "100\n",
      "100\n",
      "100\n"
     ]
    },
    {
     "name": "stderr",
     "output_type": "stream",
     "text": [
      "whole_iters:  28%|██▊       | 123/441 [02:08<06:05,  1.15s/it]"
     ]
    },
    {
     "name": "stdout",
     "output_type": "stream",
     "text": [
      "100\n",
      "ratio of valid molecules : 100/100\n",
      "100\n",
      "100\n",
      "100\n"
     ]
    },
    {
     "name": "stderr",
     "output_type": "stream",
     "text": [
      "whole_iters:  28%|██▊       | 124/441 [02:09<06:00,  1.14s/it]"
     ]
    },
    {
     "name": "stdout",
     "output_type": "stream",
     "text": [
      "100\n",
      "ratio of valid molecules : 100/100\n",
      "100\n",
      "100\n",
      "100\n"
     ]
    },
    {
     "name": "stderr",
     "output_type": "stream",
     "text": [
      "whole_iters:  28%|██▊       | 125/441 [02:10<06:04,  1.15s/it]"
     ]
    },
    {
     "name": "stdout",
     "output_type": "stream",
     "text": [
      "100\n",
      "ratio of valid molecules : 100/100\n",
      "100\n",
      "100\n",
      "100\n"
     ]
    },
    {
     "name": "stderr",
     "output_type": "stream",
     "text": [
      "whole_iters:  29%|██▊       | 126/441 [02:12<06:09,  1.17s/it]"
     ]
    },
    {
     "name": "stdout",
     "output_type": "stream",
     "text": [
      "100\n",
      "ratio of valid molecules : 100/100\n",
      "100\n",
      "100\n",
      "100\n"
     ]
    },
    {
     "name": "stderr",
     "output_type": "stream",
     "text": [
      "whole_iters:  29%|██▉       | 127/441 [02:13<05:57,  1.14s/it]"
     ]
    },
    {
     "name": "stdout",
     "output_type": "stream",
     "text": [
      "100\n",
      "ratio of valid molecules : 100/100\n",
      "100\n",
      "100\n",
      "100\n"
     ]
    },
    {
     "name": "stderr",
     "output_type": "stream",
     "text": [
      "whole_iters:  29%|██▉       | 128/441 [02:14<05:41,  1.09s/it]"
     ]
    },
    {
     "name": "stdout",
     "output_type": "stream",
     "text": [
      "100\n",
      "ratio of valid molecules : 100/100\n",
      "100\n",
      "100\n",
      "100\n"
     ]
    },
    {
     "name": "stderr",
     "output_type": "stream",
     "text": [
      "whole_iters:  29%|██▉       | 129/441 [02:15<05:29,  1.06s/it]"
     ]
    },
    {
     "name": "stdout",
     "output_type": "stream",
     "text": [
      "100\n",
      "ratio of valid molecules : 100/100\n",
      "100\n",
      "100\n",
      "100\n"
     ]
    },
    {
     "name": "stderr",
     "output_type": "stream",
     "text": [
      "whole_iters:  29%|██▉       | 130/441 [02:16<05:37,  1.08s/it]"
     ]
    },
    {
     "name": "stdout",
     "output_type": "stream",
     "text": [
      "100\n",
      "ratio of valid molecules : 100/100\n",
      "100\n",
      "100\n",
      "100\n"
     ]
    },
    {
     "name": "stderr",
     "output_type": "stream",
     "text": [
      "whole_iters:  30%|██▉       | 131/441 [02:17<05:27,  1.06s/it]"
     ]
    },
    {
     "name": "stdout",
     "output_type": "stream",
     "text": [
      "100\n",
      "ratio of valid molecules : 100/100\n",
      "100\n",
      "100\n",
      "100\n"
     ]
    },
    {
     "name": "stderr",
     "output_type": "stream",
     "text": [
      "whole_iters:  30%|██▉       | 132/441 [02:18<05:20,  1.04s/it]"
     ]
    },
    {
     "name": "stdout",
     "output_type": "stream",
     "text": [
      "100\n",
      "ratio of valid molecules : 100/100\n",
      "100\n",
      "100\n",
      "100\n"
     ]
    },
    {
     "name": "stderr",
     "output_type": "stream",
     "text": [
      "whole_iters:  30%|███       | 133/441 [02:19<05:20,  1.04s/it]"
     ]
    },
    {
     "name": "stdout",
     "output_type": "stream",
     "text": [
      "100\n",
      "ratio of valid molecules : 100/100\n",
      "100\n",
      "100\n",
      "100\n"
     ]
    },
    {
     "name": "stderr",
     "output_type": "stream",
     "text": [
      "whole_iters:  30%|███       | 134/441 [02:20<05:20,  1.04s/it]"
     ]
    },
    {
     "name": "stdout",
     "output_type": "stream",
     "text": [
      "100\n",
      "ratio of valid molecules : 100/100\n",
      "100\n",
      "100\n",
      "100\n"
     ]
    },
    {
     "name": "stderr",
     "output_type": "stream",
     "text": [
      "whole_iters:  31%|███       | 135/441 [02:21<05:21,  1.05s/it]"
     ]
    },
    {
     "name": "stdout",
     "output_type": "stream",
     "text": [
      "100\n",
      "ratio of valid molecules : 100/100\n",
      "100\n",
      "100\n",
      "100\n"
     ]
    },
    {
     "name": "stderr",
     "output_type": "stream",
     "text": [
      "whole_iters:  31%|███       | 136/441 [02:22<05:22,  1.06s/it]"
     ]
    },
    {
     "name": "stdout",
     "output_type": "stream",
     "text": [
      "100\n",
      "ratio of valid molecules : 100/100\n",
      "100\n",
      "100\n",
      "100\n"
     ]
    },
    {
     "name": "stderr",
     "output_type": "stream",
     "text": [
      "whole_iters:  31%|███       | 137/441 [02:23<05:22,  1.06s/it]"
     ]
    },
    {
     "name": "stdout",
     "output_type": "stream",
     "text": [
      "100\n",
      "ratio of valid molecules : 100/100\n",
      "100\n",
      "100\n",
      "100\n"
     ]
    },
    {
     "name": "stderr",
     "output_type": "stream",
     "text": [
      "whole_iters:  31%|███▏      | 138/441 [02:24<05:28,  1.09s/it]"
     ]
    },
    {
     "name": "stdout",
     "output_type": "stream",
     "text": [
      "100\n",
      "ratio of valid molecules : 100/100\n",
      "100\n",
      "100\n",
      "100\n"
     ]
    },
    {
     "name": "stderr",
     "output_type": "stream",
     "text": [
      "whole_iters:  32%|███▏      | 139/441 [02:25<05:36,  1.11s/it]"
     ]
    },
    {
     "name": "stdout",
     "output_type": "stream",
     "text": [
      "100\n",
      "ratio of valid molecules : 100/100\n",
      "100\n",
      "100\n",
      "100\n"
     ]
    },
    {
     "name": "stderr",
     "output_type": "stream",
     "text": [
      "whole_iters:  32%|███▏      | 140/441 [02:26<05:31,  1.10s/it]"
     ]
    },
    {
     "name": "stdout",
     "output_type": "stream",
     "text": [
      "100\n",
      "ratio of valid molecules : 100/100\n",
      "100\n",
      "100\n",
      "100\n"
     ]
    },
    {
     "name": "stderr",
     "output_type": "stream",
     "text": [
      "whole_iters:  32%|███▏      | 141/441 [02:28<05:32,  1.11s/it]"
     ]
    },
    {
     "name": "stdout",
     "output_type": "stream",
     "text": [
      "100\n",
      "ratio of valid molecules : 100/100\n",
      "100\n",
      "100\n",
      "100\n"
     ]
    },
    {
     "name": "stderr",
     "output_type": "stream",
     "text": [
      "whole_iters:  32%|███▏      | 142/441 [02:29<05:34,  1.12s/it]"
     ]
    },
    {
     "name": "stdout",
     "output_type": "stream",
     "text": [
      "100\n",
      "ratio of valid molecules : 100/100\n",
      "100\n",
      "100\n",
      "100\n"
     ]
    },
    {
     "name": "stderr",
     "output_type": "stream",
     "text": [
      "whole_iters:  32%|███▏      | 143/441 [02:30<05:36,  1.13s/it]"
     ]
    },
    {
     "name": "stdout",
     "output_type": "stream",
     "text": [
      "100\n",
      "ratio of valid molecules : 100/100\n",
      "100\n",
      "100\n",
      "100\n"
     ]
    },
    {
     "name": "stderr",
     "output_type": "stream",
     "text": [
      "whole_iters:  33%|███▎      | 144/441 [02:31<05:34,  1.12s/it]"
     ]
    },
    {
     "name": "stdout",
     "output_type": "stream",
     "text": [
      "100\n",
      "ratio of valid molecules : 100/100\n",
      "100\n",
      "100\n",
      "100\n"
     ]
    },
    {
     "name": "stderr",
     "output_type": "stream",
     "text": [
      "whole_iters:  33%|███▎      | 145/441 [02:32<05:32,  1.12s/it]"
     ]
    },
    {
     "name": "stdout",
     "output_type": "stream",
     "text": [
      "100\n",
      "ratio of valid molecules : 100/100\n",
      "100\n",
      "100\n",
      "100\n"
     ]
    },
    {
     "name": "stderr",
     "output_type": "stream",
     "text": [
      "whole_iters:  33%|███▎      | 146/441 [02:33<05:32,  1.13s/it]"
     ]
    },
    {
     "name": "stdout",
     "output_type": "stream",
     "text": [
      "100\n",
      "ratio of valid molecules : 100/100\n",
      "100\n",
      "100\n",
      "100\n"
     ]
    },
    {
     "name": "stderr",
     "output_type": "stream",
     "text": [
      "whole_iters:  33%|███▎      | 147/441 [02:34<05:33,  1.14s/it]"
     ]
    },
    {
     "name": "stdout",
     "output_type": "stream",
     "text": [
      "100\n",
      "ratio of valid molecules : 100/100\n",
      "100\n",
      "100\n",
      "100\n"
     ]
    },
    {
     "name": "stderr",
     "output_type": "stream",
     "text": [
      "whole_iters:  34%|███▎      | 148/441 [02:35<05:16,  1.08s/it]"
     ]
    },
    {
     "name": "stdout",
     "output_type": "stream",
     "text": [
      "100\n",
      "ratio of valid molecules : 100/100\n",
      "100\n",
      "100\n",
      "100\n"
     ]
    },
    {
     "name": "stderr",
     "output_type": "stream",
     "text": [
      "whole_iters:  34%|███▍      | 149/441 [02:36<05:03,  1.04s/it]"
     ]
    },
    {
     "name": "stdout",
     "output_type": "stream",
     "text": [
      "100\n",
      "ratio of valid molecules : 100/100\n",
      "100\n",
      "100\n",
      "100\n"
     ]
    },
    {
     "name": "stderr",
     "output_type": "stream",
     "text": [
      "whole_iters:  34%|███▍      | 150/441 [02:37<04:55,  1.01s/it]"
     ]
    },
    {
     "name": "stdout",
     "output_type": "stream",
     "text": [
      "100\n",
      "ratio of valid molecules : 100/100\n",
      "100\n",
      "100\n",
      "100\n"
     ]
    },
    {
     "name": "stderr",
     "output_type": "stream",
     "text": [
      "whole_iters:  34%|███▍      | 151/441 [02:38<04:51,  1.01s/it]"
     ]
    },
    {
     "name": "stdout",
     "output_type": "stream",
     "text": [
      "100\n",
      "ratio of valid molecules : 100/100\n",
      "100\n",
      "100\n",
      "100\n"
     ]
    },
    {
     "name": "stderr",
     "output_type": "stream",
     "text": [
      "whole_iters:  34%|███▍      | 152/441 [02:39<04:49,  1.00s/it]"
     ]
    },
    {
     "name": "stdout",
     "output_type": "stream",
     "text": [
      "100\n",
      "ratio of valid molecules : 100/100\n",
      "100\n",
      "100\n",
      "100\n"
     ]
    },
    {
     "name": "stderr",
     "output_type": "stream",
     "text": [
      "whole_iters:  35%|███▍      | 153/441 [02:40<04:45,  1.01it/s]"
     ]
    },
    {
     "name": "stdout",
     "output_type": "stream",
     "text": [
      "100\n",
      "ratio of valid molecules : 100/100\n",
      "100\n",
      "100\n",
      "100\n"
     ]
    },
    {
     "name": "stderr",
     "output_type": "stream",
     "text": [
      "whole_iters:  35%|███▍      | 154/441 [02:41<04:44,  1.01it/s]"
     ]
    },
    {
     "name": "stdout",
     "output_type": "stream",
     "text": [
      "100\n",
      "ratio of valid molecules : 100/100\n",
      "100\n",
      "100\n",
      "100\n"
     ]
    },
    {
     "name": "stderr",
     "output_type": "stream",
     "text": [
      "whole_iters:  35%|███▌      | 155/441 [02:42<04:46,  1.00s/it]"
     ]
    },
    {
     "name": "stdout",
     "output_type": "stream",
     "text": [
      "100\n",
      "ratio of valid molecules : 100/100\n",
      "100\n",
      "100\n",
      "100\n"
     ]
    },
    {
     "name": "stderr",
     "output_type": "stream",
     "text": [
      "whole_iters:  35%|███▌      | 156/441 [02:43<04:51,  1.02s/it]"
     ]
    },
    {
     "name": "stdout",
     "output_type": "stream",
     "text": [
      "100\n",
      "ratio of valid molecules : 100/100\n",
      "100\n",
      "100\n",
      "100\n"
     ]
    },
    {
     "name": "stderr",
     "output_type": "stream",
     "text": [
      "whole_iters:  36%|███▌      | 157/441 [02:44<04:57,  1.05s/it]"
     ]
    },
    {
     "name": "stdout",
     "output_type": "stream",
     "text": [
      "100\n",
      "ratio of valid molecules : 100/100\n",
      "100\n",
      "100\n",
      "100\n"
     ]
    },
    {
     "name": "stderr",
     "output_type": "stream",
     "text": [
      "whole_iters:  36%|███▌      | 158/441 [02:45<05:00,  1.06s/it]"
     ]
    },
    {
     "name": "stdout",
     "output_type": "stream",
     "text": [
      "100\n",
      "ratio of valid molecules : 100/100\n",
      "100\n",
      "100\n",
      "100\n"
     ]
    },
    {
     "name": "stderr",
     "output_type": "stream",
     "text": [
      "whole_iters:  36%|███▌      | 159/441 [02:47<05:01,  1.07s/it]"
     ]
    },
    {
     "name": "stdout",
     "output_type": "stream",
     "text": [
      "100\n",
      "ratio of valid molecules : 100/100\n",
      "100\n",
      "100\n",
      "100\n"
     ]
    },
    {
     "name": "stderr",
     "output_type": "stream",
     "text": [
      "whole_iters:  36%|███▋      | 160/441 [02:48<05:04,  1.09s/it]"
     ]
    },
    {
     "name": "stdout",
     "output_type": "stream",
     "text": [
      "100\n",
      "ratio of valid molecules : 100/100\n",
      "100\n",
      "100\n",
      "100\n"
     ]
    },
    {
     "name": "stderr",
     "output_type": "stream",
     "text": [
      "whole_iters:  37%|███▋      | 161/441 [02:49<05:03,  1.08s/it]"
     ]
    },
    {
     "name": "stdout",
     "output_type": "stream",
     "text": [
      "100\n",
      "ratio of valid molecules : 100/100\n",
      "100\n",
      "100\n",
      "100\n"
     ]
    },
    {
     "name": "stderr",
     "output_type": "stream",
     "text": [
      "whole_iters:  37%|███▋      | 162/441 [02:50<05:02,  1.08s/it]"
     ]
    },
    {
     "name": "stdout",
     "output_type": "stream",
     "text": [
      "100\n",
      "ratio of valid molecules : 100/100\n",
      "100\n",
      "100\n",
      "100\n"
     ]
    },
    {
     "name": "stderr",
     "output_type": "stream",
     "text": [
      "whole_iters:  37%|███▋      | 163/441 [02:51<05:03,  1.09s/it]"
     ]
    },
    {
     "name": "stdout",
     "output_type": "stream",
     "text": [
      "100\n",
      "ratio of valid molecules : 100/100\n",
      "100\n",
      "100\n",
      "100\n"
     ]
    },
    {
     "name": "stderr",
     "output_type": "stream",
     "text": [
      "whole_iters:  37%|███▋      | 164/441 [02:52<05:06,  1.11s/it]"
     ]
    },
    {
     "name": "stdout",
     "output_type": "stream",
     "text": [
      "100\n",
      "ratio of valid molecules : 100/100\n",
      "100\n",
      "100\n",
      "100\n"
     ]
    },
    {
     "name": "stderr",
     "output_type": "stream",
     "text": [
      "whole_iters:  37%|███▋      | 165/441 [02:53<05:10,  1.13s/it]"
     ]
    },
    {
     "name": "stdout",
     "output_type": "stream",
     "text": [
      "100\n",
      "ratio of valid molecules : 100/100\n",
      "100\n",
      "100\n",
      "100\n"
     ]
    },
    {
     "name": "stderr",
     "output_type": "stream",
     "text": [
      "whole_iters:  38%|███▊      | 166/441 [02:54<05:18,  1.16s/it]"
     ]
    },
    {
     "name": "stdout",
     "output_type": "stream",
     "text": [
      "100\n",
      "ratio of valid molecules : 100/100\n",
      "100\n",
      "100\n",
      "100\n"
     ]
    },
    {
     "name": "stderr",
     "output_type": "stream",
     "text": [
      "whole_iters:  38%|███▊      | 167/441 [02:56<05:20,  1.17s/it]"
     ]
    },
    {
     "name": "stdout",
     "output_type": "stream",
     "text": [
      "100\n",
      "ratio of valid molecules : 100/100\n",
      "100\n",
      "100\n",
      "100\n"
     ]
    },
    {
     "name": "stderr",
     "output_type": "stream",
     "text": [
      "whole_iters:  38%|███▊      | 168/441 [02:57<05:15,  1.15s/it]"
     ]
    },
    {
     "name": "stdout",
     "output_type": "stream",
     "text": [
      "100\n",
      "ratio of valid molecules : 100/100\n",
      "100\n",
      "100\n",
      "100\n"
     ]
    },
    {
     "name": "stderr",
     "output_type": "stream",
     "text": [
      "whole_iters:  38%|███▊      | 169/441 [02:58<05:02,  1.11s/it]"
     ]
    },
    {
     "name": "stdout",
     "output_type": "stream",
     "text": [
      "100\n",
      "ratio of valid molecules : 100/100\n",
      "100\n",
      "100\n",
      "100\n"
     ]
    },
    {
     "name": "stderr",
     "output_type": "stream",
     "text": [
      "whole_iters:  39%|███▊      | 170/441 [02:59<04:53,  1.08s/it]"
     ]
    },
    {
     "name": "stdout",
     "output_type": "stream",
     "text": [
      "100\n",
      "ratio of valid molecules : 100/100\n",
      "100\n",
      "100\n",
      "100\n"
     ]
    },
    {
     "name": "stderr",
     "output_type": "stream",
     "text": [
      "whole_iters:  39%|███▉      | 171/441 [03:00<04:42,  1.05s/it]"
     ]
    },
    {
     "name": "stdout",
     "output_type": "stream",
     "text": [
      "100\n",
      "ratio of valid molecules : 100/100\n",
      "100\n",
      "100\n",
      "100\n"
     ]
    },
    {
     "name": "stderr",
     "output_type": "stream",
     "text": [
      "whole_iters:  39%|███▉      | 172/441 [03:01<04:37,  1.03s/it]"
     ]
    },
    {
     "name": "stdout",
     "output_type": "stream",
     "text": [
      "100\n",
      "ratio of valid molecules : 100/100\n",
      "100\n",
      "100\n",
      "100\n"
     ]
    },
    {
     "name": "stderr",
     "output_type": "stream",
     "text": [
      "whole_iters:  39%|███▉      | 173/441 [03:02<04:34,  1.02s/it]"
     ]
    },
    {
     "name": "stdout",
     "output_type": "stream",
     "text": [
      "100\n",
      "ratio of valid molecules : 100/100\n",
      "100\n",
      "100\n",
      "100\n"
     ]
    },
    {
     "name": "stderr",
     "output_type": "stream",
     "text": [
      "whole_iters:  39%|███▉      | 174/441 [03:03<04:34,  1.03s/it]"
     ]
    },
    {
     "name": "stdout",
     "output_type": "stream",
     "text": [
      "100\n",
      "ratio of valid molecules : 100/100\n",
      "100\n",
      "100\n",
      "100\n"
     ]
    },
    {
     "name": "stderr",
     "output_type": "stream",
     "text": [
      "whole_iters:  40%|███▉      | 175/441 [03:04<04:33,  1.03s/it]"
     ]
    },
    {
     "name": "stdout",
     "output_type": "stream",
     "text": [
      "100\n",
      "ratio of valid molecules : 100/100\n",
      "100\n",
      "100\n",
      "100\n"
     ]
    },
    {
     "name": "stderr",
     "output_type": "stream",
     "text": [
      "whole_iters:  40%|███▉      | 176/441 [03:05<04:33,  1.03s/it]"
     ]
    },
    {
     "name": "stdout",
     "output_type": "stream",
     "text": [
      "100\n",
      "ratio of valid molecules : 100/100\n",
      "100\n",
      "100\n",
      "100\n"
     ]
    },
    {
     "name": "stderr",
     "output_type": "stream",
     "text": [
      "whole_iters:  40%|████      | 177/441 [03:06<04:33,  1.04s/it]"
     ]
    },
    {
     "name": "stdout",
     "output_type": "stream",
     "text": [
      "100\n",
      "ratio of valid molecules : 100/100\n",
      "100\n",
      "100\n",
      "100\n"
     ]
    },
    {
     "name": "stderr",
     "output_type": "stream",
     "text": [
      "whole_iters:  40%|████      | 178/441 [03:07<04:36,  1.05s/it]"
     ]
    },
    {
     "name": "stdout",
     "output_type": "stream",
     "text": [
      "100\n",
      "ratio of valid molecules : 100/100\n",
      "100\n",
      "100\n",
      "100\n"
     ]
    },
    {
     "name": "stderr",
     "output_type": "stream",
     "text": [
      "whole_iters:  41%|████      | 179/441 [03:08<04:40,  1.07s/it]"
     ]
    },
    {
     "name": "stdout",
     "output_type": "stream",
     "text": [
      "100\n",
      "ratio of valid molecules : 100/100\n",
      "100\n",
      "100\n",
      "100\n"
     ]
    },
    {
     "name": "stderr",
     "output_type": "stream",
     "text": [
      "whole_iters:  41%|████      | 180/441 [03:09<04:38,  1.07s/it]"
     ]
    },
    {
     "name": "stdout",
     "output_type": "stream",
     "text": [
      "100\n",
      "ratio of valid molecules : 100/100\n",
      "100\n",
      "100\n",
      "100\n"
     ]
    },
    {
     "name": "stderr",
     "output_type": "stream",
     "text": [
      "whole_iters:  41%|████      | 181/441 [03:10<04:38,  1.07s/it]"
     ]
    },
    {
     "name": "stdout",
     "output_type": "stream",
     "text": [
      "100\n",
      "ratio of valid molecules : 100/100\n",
      "100\n",
      "100\n",
      "100\n"
     ]
    },
    {
     "name": "stderr",
     "output_type": "stream",
     "text": [
      "whole_iters:  41%|████▏     | 182/441 [03:11<04:44,  1.10s/it]"
     ]
    },
    {
     "name": "stdout",
     "output_type": "stream",
     "text": [
      "100\n",
      "ratio of valid molecules : 100/100\n",
      "100\n",
      "100\n",
      "100\n"
     ]
    },
    {
     "name": "stderr",
     "output_type": "stream",
     "text": [
      "whole_iters:  41%|████▏     | 183/441 [03:13<04:48,  1.12s/it]"
     ]
    },
    {
     "name": "stdout",
     "output_type": "stream",
     "text": [
      "100\n",
      "ratio of valid molecules : 100/100\n",
      "100\n",
      "100\n",
      "100\n"
     ]
    },
    {
     "name": "stderr",
     "output_type": "stream",
     "text": [
      "whole_iters:  42%|████▏     | 184/441 [03:14<04:51,  1.13s/it]"
     ]
    },
    {
     "name": "stdout",
     "output_type": "stream",
     "text": [
      "100\n",
      "ratio of valid molecules : 100/100\n",
      "100\n",
      "100\n",
      "100\n"
     ]
    },
    {
     "name": "stderr",
     "output_type": "stream",
     "text": [
      "whole_iters:  42%|████▏     | 185/441 [03:15<04:51,  1.14s/it]"
     ]
    },
    {
     "name": "stdout",
     "output_type": "stream",
     "text": [
      "100\n",
      "ratio of valid molecules : 100/100\n",
      "100\n",
      "100\n",
      "100\n"
     ]
    },
    {
     "name": "stderr",
     "output_type": "stream",
     "text": [
      "whole_iters:  42%|████▏     | 186/441 [03:16<04:54,  1.15s/it]"
     ]
    },
    {
     "name": "stdout",
     "output_type": "stream",
     "text": [
      "100\n",
      "ratio of valid molecules : 100/100\n",
      "100\n",
      "100\n",
      "100\n"
     ]
    },
    {
     "name": "stderr",
     "output_type": "stream",
     "text": [
      "whole_iters:  42%|████▏     | 187/441 [03:17<04:57,  1.17s/it]"
     ]
    },
    {
     "name": "stdout",
     "output_type": "stream",
     "text": [
      "100\n",
      "ratio of valid molecules : 100/100\n",
      "100\n",
      "100\n",
      "100\n"
     ]
    },
    {
     "name": "stderr",
     "output_type": "stream",
     "text": [
      "whole_iters:  43%|████▎     | 188/441 [03:19<04:59,  1.18s/it]"
     ]
    },
    {
     "name": "stdout",
     "output_type": "stream",
     "text": [
      "100\n",
      "ratio of valid molecules : 100/100\n",
      "100\n",
      "100\n",
      "100\n"
     ]
    },
    {
     "name": "stderr",
     "output_type": "stream",
     "text": [
      "whole_iters:  43%|████▎     | 189/441 [03:20<04:59,  1.19s/it]"
     ]
    },
    {
     "name": "stdout",
     "output_type": "stream",
     "text": [
      "100\n",
      "ratio of valid molecules : 100/100\n",
      "100\n",
      "100\n",
      "100\n"
     ]
    },
    {
     "name": "stderr",
     "output_type": "stream",
     "text": [
      "whole_iters:  43%|████▎     | 190/441 [03:21<04:42,  1.13s/it]"
     ]
    },
    {
     "name": "stdout",
     "output_type": "stream",
     "text": [
      "100\n",
      "ratio of valid molecules : 100/100\n",
      "100\n",
      "100\n",
      "100\n"
     ]
    },
    {
     "name": "stderr",
     "output_type": "stream",
     "text": [
      "whole_iters:  43%|████▎     | 191/441 [03:22<04:33,  1.09s/it]"
     ]
    },
    {
     "name": "stdout",
     "output_type": "stream",
     "text": [
      "100\n",
      "ratio of valid molecules : 100/100\n",
      "100\n",
      "100\n",
      "100\n"
     ]
    },
    {
     "name": "stderr",
     "output_type": "stream",
     "text": [
      "whole_iters:  44%|████▎     | 192/441 [03:23<04:26,  1.07s/it]"
     ]
    },
    {
     "name": "stdout",
     "output_type": "stream",
     "text": [
      "100\n",
      "ratio of valid molecules : 100/100\n",
      "100\n",
      "100\n",
      "100\n"
     ]
    },
    {
     "name": "stderr",
     "output_type": "stream",
     "text": [
      "whole_iters:  44%|████▍     | 193/441 [03:24<04:24,  1.07s/it]"
     ]
    },
    {
     "name": "stdout",
     "output_type": "stream",
     "text": [
      "100\n",
      "ratio of valid molecules : 100/100\n",
      "100\n",
      "100\n",
      "100\n"
     ]
    },
    {
     "name": "stderr",
     "output_type": "stream",
     "text": [
      "whole_iters:  44%|████▍     | 194/441 [03:25<04:20,  1.05s/it]"
     ]
    },
    {
     "name": "stdout",
     "output_type": "stream",
     "text": [
      "100\n",
      "ratio of valid molecules : 100/100\n",
      "100\n",
      "100\n",
      "100\n"
     ]
    },
    {
     "name": "stderr",
     "output_type": "stream",
     "text": [
      "whole_iters:  44%|████▍     | 195/441 [03:26<04:19,  1.06s/it]"
     ]
    },
    {
     "name": "stdout",
     "output_type": "stream",
     "text": [
      "100\n",
      "ratio of valid molecules : 100/100\n",
      "100\n",
      "100\n",
      "100\n"
     ]
    },
    {
     "name": "stderr",
     "output_type": "stream",
     "text": [
      "whole_iters:  44%|████▍     | 196/441 [03:27<04:18,  1.05s/it]"
     ]
    },
    {
     "name": "stdout",
     "output_type": "stream",
     "text": [
      "100\n",
      "ratio of valid molecules : 100/100\n",
      "100\n",
      "100\n",
      "100\n"
     ]
    },
    {
     "name": "stderr",
     "output_type": "stream",
     "text": [
      "whole_iters:  45%|████▍     | 197/441 [03:28<04:16,  1.05s/it]"
     ]
    },
    {
     "name": "stdout",
     "output_type": "stream",
     "text": [
      "100\n",
      "ratio of valid molecules : 100/100\n",
      "100\n",
      "100\n",
      "100\n"
     ]
    },
    {
     "name": "stderr",
     "output_type": "stream",
     "text": [
      "whole_iters:  45%|████▍     | 198/441 [03:29<04:16,  1.06s/it]"
     ]
    },
    {
     "name": "stdout",
     "output_type": "stream",
     "text": [
      "100\n",
      "ratio of valid molecules : 100/100\n",
      "100\n",
      "100\n",
      "100\n"
     ]
    },
    {
     "name": "stderr",
     "output_type": "stream",
     "text": [
      "whole_iters:  45%|████▌     | 199/441 [03:30<04:16,  1.06s/it]"
     ]
    },
    {
     "name": "stdout",
     "output_type": "stream",
     "text": [
      "100\n",
      "ratio of valid molecules : 100/100\n",
      "100\n",
      "100\n",
      "100\n"
     ]
    },
    {
     "name": "stderr",
     "output_type": "stream",
     "text": [
      "whole_iters:  45%|████▌     | 200/441 [03:31<04:17,  1.07s/it]"
     ]
    },
    {
     "name": "stdout",
     "output_type": "stream",
     "text": [
      "100\n",
      "ratio of valid molecules : 100/100\n",
      "100\n",
      "100\n",
      "100\n"
     ]
    },
    {
     "name": "stderr",
     "output_type": "stream",
     "text": [
      "whole_iters:  46%|████▌     | 201/441 [03:32<04:19,  1.08s/it]"
     ]
    },
    {
     "name": "stdout",
     "output_type": "stream",
     "text": [
      "100\n",
      "ratio of valid molecules : 100/100\n",
      "100\n",
      "100\n",
      "100\n"
     ]
    },
    {
     "name": "stderr",
     "output_type": "stream",
     "text": [
      "whole_iters:  46%|████▌     | 202/441 [03:33<04:22,  1.10s/it]"
     ]
    },
    {
     "name": "stdout",
     "output_type": "stream",
     "text": [
      "100\n",
      "ratio of valid molecules : 100/100\n",
      "100\n",
      "100\n",
      "100\n"
     ]
    },
    {
     "name": "stderr",
     "output_type": "stream",
     "text": [
      "whole_iters:  46%|████▌     | 203/441 [03:35<04:24,  1.11s/it]"
     ]
    },
    {
     "name": "stdout",
     "output_type": "stream",
     "text": [
      "100\n",
      "ratio of valid molecules : 100/100\n",
      "100\n",
      "100\n",
      "100\n"
     ]
    },
    {
     "name": "stderr",
     "output_type": "stream",
     "text": [
      "whole_iters:  46%|████▋     | 204/441 [03:36<04:27,  1.13s/it]"
     ]
    },
    {
     "name": "stdout",
     "output_type": "stream",
     "text": [
      "100\n",
      "ratio of valid molecules : 100/100\n",
      "100\n",
      "100\n",
      "100\n"
     ]
    },
    {
     "name": "stderr",
     "output_type": "stream",
     "text": [
      "whole_iters:  46%|████▋     | 205/441 [03:37<04:29,  1.14s/it]"
     ]
    },
    {
     "name": "stdout",
     "output_type": "stream",
     "text": [
      "100\n",
      "ratio of valid molecules : 100/100\n",
      "100\n",
      "100\n",
      "100\n"
     ]
    },
    {
     "name": "stderr",
     "output_type": "stream",
     "text": [
      "whole_iters:  47%|████▋     | 206/441 [03:38<04:25,  1.13s/it]"
     ]
    },
    {
     "name": "stdout",
     "output_type": "stream",
     "text": [
      "100\n",
      "ratio of valid molecules : 100/100\n",
      "100\n",
      "100\n",
      "100\n"
     ]
    },
    {
     "name": "stderr",
     "output_type": "stream",
     "text": [
      "whole_iters:  47%|████▋     | 207/441 [03:39<04:31,  1.16s/it]"
     ]
    },
    {
     "name": "stdout",
     "output_type": "stream",
     "text": [
      "100\n",
      "ratio of valid molecules : 100/100\n",
      "100\n",
      "100\n",
      "100\n"
     ]
    },
    {
     "name": "stderr",
     "output_type": "stream",
     "text": [
      "whole_iters:  47%|████▋     | 208/441 [03:40<04:29,  1.16s/it]"
     ]
    },
    {
     "name": "stdout",
     "output_type": "stream",
     "text": [
      "100\n",
      "ratio of valid molecules : 100/100\n",
      "100\n",
      "100\n",
      "100\n"
     ]
    },
    {
     "name": "stderr",
     "output_type": "stream",
     "text": [
      "whole_iters:  47%|████▋     | 209/441 [03:42<04:31,  1.17s/it]"
     ]
    },
    {
     "name": "stdout",
     "output_type": "stream",
     "text": [
      "100\n",
      "ratio of valid molecules : 100/100\n",
      "100\n",
      "100\n",
      "100\n"
     ]
    },
    {
     "name": "stderr",
     "output_type": "stream",
     "text": [
      "whole_iters:  48%|████▊     | 210/441 [03:43<04:34,  1.19s/it]"
     ]
    },
    {
     "name": "stdout",
     "output_type": "stream",
     "text": [
      "100\n",
      "ratio of valid molecules : 100/100\n",
      "100\n",
      "100\n",
      "100\n"
     ]
    },
    {
     "name": "stderr",
     "output_type": "stream",
     "text": [
      "whole_iters:  48%|████▊     | 211/441 [03:44<04:21,  1.14s/it]"
     ]
    },
    {
     "name": "stdout",
     "output_type": "stream",
     "text": [
      "100\n",
      "ratio of valid molecules : 100/100\n",
      "100\n",
      "100\n",
      "100\n"
     ]
    },
    {
     "name": "stderr",
     "output_type": "stream",
     "text": [
      "whole_iters:  48%|████▊     | 212/441 [03:45<04:16,  1.12s/it]"
     ]
    },
    {
     "name": "stdout",
     "output_type": "stream",
     "text": [
      "100\n",
      "ratio of valid molecules : 100/100\n",
      "100\n",
      "100\n",
      "100\n"
     ]
    },
    {
     "name": "stderr",
     "output_type": "stream",
     "text": [
      "whole_iters:  48%|████▊     | 213/441 [03:46<04:06,  1.08s/it]"
     ]
    },
    {
     "name": "stdout",
     "output_type": "stream",
     "text": [
      "100\n",
      "ratio of valid molecules : 100/100\n",
      "100\n",
      "100\n",
      "100\n"
     ]
    },
    {
     "name": "stderr",
     "output_type": "stream",
     "text": [
      "whole_iters:  49%|████▊     | 214/441 [03:47<04:01,  1.06s/it]"
     ]
    },
    {
     "name": "stdout",
     "output_type": "stream",
     "text": [
      "100\n",
      "ratio of valid molecules : 100/100\n",
      "100\n",
      "100\n",
      "100\n"
     ]
    },
    {
     "name": "stderr",
     "output_type": "stream",
     "text": [
      "whole_iters:  49%|████▉     | 215/441 [03:48<04:09,  1.11s/it]"
     ]
    },
    {
     "name": "stdout",
     "output_type": "stream",
     "text": [
      "100\n",
      "ratio of valid molecules : 100/100\n",
      "100\n",
      "100\n",
      "100\n"
     ]
    },
    {
     "name": "stderr",
     "output_type": "stream",
     "text": [
      "whole_iters:  49%|████▉     | 216/441 [03:49<04:06,  1.10s/it]"
     ]
    },
    {
     "name": "stdout",
     "output_type": "stream",
     "text": [
      "100\n",
      "ratio of valid molecules : 100/100\n",
      "100\n",
      "100\n",
      "100\n"
     ]
    },
    {
     "name": "stderr",
     "output_type": "stream",
     "text": [
      "whole_iters:  49%|████▉     | 217/441 [03:50<04:04,  1.09s/it]"
     ]
    },
    {
     "name": "stdout",
     "output_type": "stream",
     "text": [
      "100\n",
      "ratio of valid molecules : 100/100\n",
      "100\n",
      "100\n",
      "100\n"
     ]
    },
    {
     "name": "stderr",
     "output_type": "stream",
     "text": [
      "whole_iters:  49%|████▉     | 218/441 [03:52<04:16,  1.15s/it]"
     ]
    },
    {
     "name": "stdout",
     "output_type": "stream",
     "text": [
      "100\n",
      "ratio of valid molecules : 100/100\n",
      "100\n",
      "100\n",
      "100\n"
     ]
    },
    {
     "name": "stderr",
     "output_type": "stream",
     "text": [
      "whole_iters:  50%|████▉     | 219/441 [03:53<04:13,  1.14s/it]"
     ]
    },
    {
     "name": "stdout",
     "output_type": "stream",
     "text": [
      "100\n",
      "ratio of valid molecules : 100/100\n",
      "100\n",
      "100\n",
      "100\n"
     ]
    },
    {
     "name": "stderr",
     "output_type": "stream",
     "text": [
      "whole_iters:  50%|████▉     | 220/441 [03:54<04:12,  1.14s/it]"
     ]
    },
    {
     "name": "stdout",
     "output_type": "stream",
     "text": [
      "100\n",
      "ratio of valid molecules : 100/100\n",
      "100\n",
      "100\n",
      "100\n"
     ]
    },
    {
     "name": "stderr",
     "output_type": "stream",
     "text": [
      "whole_iters:  50%|█████     | 221/441 [03:55<04:12,  1.15s/it]"
     ]
    },
    {
     "name": "stdout",
     "output_type": "stream",
     "text": [
      "100\n",
      "ratio of valid molecules : 100/100\n",
      "100\n",
      "100\n",
      "100\n"
     ]
    },
    {
     "name": "stderr",
     "output_type": "stream",
     "text": [
      "whole_iters:  50%|█████     | 222/441 [03:56<04:12,  1.15s/it]"
     ]
    },
    {
     "name": "stdout",
     "output_type": "stream",
     "text": [
      "100\n",
      "ratio of valid molecules : 100/100\n",
      "100\n",
      "100\n",
      "100\n"
     ]
    },
    {
     "name": "stderr",
     "output_type": "stream",
     "text": [
      "whole_iters:  51%|█████     | 223/441 [03:57<04:10,  1.15s/it]"
     ]
    },
    {
     "name": "stdout",
     "output_type": "stream",
     "text": [
      "100\n",
      "ratio of valid molecules : 100/100\n",
      "100\n",
      "100\n",
      "100\n"
     ]
    },
    {
     "name": "stderr",
     "output_type": "stream",
     "text": [
      "whole_iters:  51%|█████     | 224/441 [03:59<04:12,  1.16s/it]"
     ]
    },
    {
     "name": "stdout",
     "output_type": "stream",
     "text": [
      "100\n",
      "ratio of valid molecules : 100/100\n",
      "100\n",
      "100\n",
      "100\n"
     ]
    },
    {
     "name": "stderr",
     "output_type": "stream",
     "text": [
      "whole_iters:  51%|█████     | 225/441 [04:00<04:13,  1.17s/it]"
     ]
    },
    {
     "name": "stdout",
     "output_type": "stream",
     "text": [
      "100\n",
      "ratio of valid molecules : 100/100\n",
      "100\n",
      "100\n",
      "100\n"
     ]
    },
    {
     "name": "stderr",
     "output_type": "stream",
     "text": [
      "whole_iters:  51%|█████     | 226/441 [04:01<04:13,  1.18s/it]"
     ]
    },
    {
     "name": "stdout",
     "output_type": "stream",
     "text": [
      "100\n",
      "ratio of valid molecules : 100/100\n",
      "100\n",
      "100\n",
      "100\n"
     ]
    },
    {
     "name": "stderr",
     "output_type": "stream",
     "text": [
      "whole_iters:  51%|█████▏    | 227/441 [04:02<04:12,  1.18s/it]"
     ]
    },
    {
     "name": "stdout",
     "output_type": "stream",
     "text": [
      "100\n",
      "ratio of valid molecules : 100/100\n",
      "100\n",
      "100\n",
      "100\n"
     ]
    },
    {
     "name": "stderr",
     "output_type": "stream",
     "text": [
      "whole_iters:  52%|█████▏    | 228/441 [04:03<04:10,  1.18s/it]"
     ]
    },
    {
     "name": "stdout",
     "output_type": "stream",
     "text": [
      "100\n",
      "ratio of valid molecules : 100/100\n",
      "100\n",
      "100\n",
      "100\n"
     ]
    },
    {
     "name": "stderr",
     "output_type": "stream",
     "text": [
      "whole_iters:  52%|█████▏    | 229/441 [04:04<04:10,  1.18s/it]"
     ]
    },
    {
     "name": "stdout",
     "output_type": "stream",
     "text": [
      "100\n",
      "ratio of valid molecules : 100/100\n",
      "100\n",
      "100\n",
      "100\n"
     ]
    },
    {
     "name": "stderr",
     "output_type": "stream",
     "text": [
      "whole_iters:  52%|█████▏    | 230/441 [04:06<04:06,  1.17s/it]"
     ]
    },
    {
     "name": "stdout",
     "output_type": "stream",
     "text": [
      "100\n",
      "ratio of valid molecules : 100/100\n",
      "100\n",
      "100\n",
      "100\n"
     ]
    },
    {
     "name": "stderr",
     "output_type": "stream",
     "text": [
      "whole_iters:  52%|█████▏    | 231/441 [04:07<04:06,  1.17s/it]"
     ]
    },
    {
     "name": "stdout",
     "output_type": "stream",
     "text": [
      "100\n",
      "ratio of valid molecules : 100/100\n",
      "100\n",
      "100\n",
      "100\n"
     ]
    },
    {
     "name": "stderr",
     "output_type": "stream",
     "text": [
      "whole_iters:  53%|█████▎    | 232/441 [04:08<03:59,  1.15s/it]"
     ]
    },
    {
     "name": "stdout",
     "output_type": "stream",
     "text": [
      "100\n",
      "ratio of valid molecules : 100/100\n",
      "100\n",
      "100\n",
      "100\n"
     ]
    },
    {
     "name": "stderr",
     "output_type": "stream",
     "text": [
      "whole_iters:  53%|█████▎    | 233/441 [04:09<03:49,  1.10s/it]"
     ]
    },
    {
     "name": "stdout",
     "output_type": "stream",
     "text": [
      "100\n",
      "ratio of valid molecules : 100/100\n",
      "100\n",
      "100\n",
      "100\n"
     ]
    },
    {
     "name": "stderr",
     "output_type": "stream",
     "text": [
      "whole_iters:  53%|█████▎    | 234/441 [04:10<03:43,  1.08s/it]"
     ]
    },
    {
     "name": "stdout",
     "output_type": "stream",
     "text": [
      "100\n",
      "ratio of valid molecules : 100/100\n",
      "100\n",
      "100\n",
      "100\n"
     ]
    },
    {
     "name": "stderr",
     "output_type": "stream",
     "text": [
      "whole_iters:  53%|█████▎    | 235/441 [04:11<03:39,  1.07s/it]"
     ]
    },
    {
     "name": "stdout",
     "output_type": "stream",
     "text": [
      "100\n",
      "ratio of valid molecules : 100/100\n",
      "100\n",
      "100\n",
      "100\n"
     ]
    },
    {
     "name": "stderr",
     "output_type": "stream",
     "text": [
      "whole_iters:  54%|█████▎    | 236/441 [04:12<03:37,  1.06s/it]"
     ]
    },
    {
     "name": "stdout",
     "output_type": "stream",
     "text": [
      "100\n",
      "ratio of valid molecules : 100/100\n",
      "100\n",
      "100\n",
      "100\n"
     ]
    },
    {
     "name": "stderr",
     "output_type": "stream",
     "text": [
      "whole_iters:  54%|█████▎    | 237/441 [04:13<03:34,  1.05s/it]"
     ]
    },
    {
     "name": "stdout",
     "output_type": "stream",
     "text": [
      "100\n",
      "ratio of valid molecules : 100/100\n",
      "100\n",
      "100\n",
      "100\n"
     ]
    },
    {
     "name": "stderr",
     "output_type": "stream",
     "text": [
      "whole_iters:  54%|█████▍    | 238/441 [04:14<03:38,  1.08s/it]"
     ]
    },
    {
     "name": "stdout",
     "output_type": "stream",
     "text": [
      "100\n",
      "ratio of valid molecules : 100/100\n",
      "100\n",
      "100\n",
      "100\n"
     ]
    },
    {
     "name": "stderr",
     "output_type": "stream",
     "text": [
      "whole_iters:  54%|█████▍    | 239/441 [04:15<03:37,  1.08s/it]"
     ]
    },
    {
     "name": "stdout",
     "output_type": "stream",
     "text": [
      "100\n",
      "ratio of valid molecules : 100/100\n",
      "100\n",
      "100\n",
      "100\n"
     ]
    },
    {
     "name": "stderr",
     "output_type": "stream",
     "text": [
      "whole_iters:  54%|█████▍    | 240/441 [04:16<03:36,  1.07s/it]"
     ]
    },
    {
     "name": "stdout",
     "output_type": "stream",
     "text": [
      "100\n",
      "ratio of valid molecules : 100/100\n",
      "100\n",
      "100\n",
      "100\n"
     ]
    },
    {
     "name": "stderr",
     "output_type": "stream",
     "text": [
      "whole_iters:  55%|█████▍    | 241/441 [04:17<03:35,  1.08s/it]"
     ]
    },
    {
     "name": "stdout",
     "output_type": "stream",
     "text": [
      "100\n",
      "ratio of valid molecules : 100/100\n",
      "100\n",
      "100\n",
      "100\n"
     ]
    },
    {
     "name": "stderr",
     "output_type": "stream",
     "text": [
      "whole_iters:  55%|█████▍    | 242/441 [04:19<03:41,  1.11s/it]"
     ]
    },
    {
     "name": "stdout",
     "output_type": "stream",
     "text": [
      "100\n",
      "ratio of valid molecules : 100/100\n",
      "100\n",
      "100\n",
      "100\n"
     ]
    },
    {
     "name": "stderr",
     "output_type": "stream",
     "text": [
      "whole_iters:  55%|█████▌    | 243/441 [04:20<03:40,  1.11s/it]"
     ]
    },
    {
     "name": "stdout",
     "output_type": "stream",
     "text": [
      "100\n",
      "ratio of valid molecules : 100/100\n",
      "100\n",
      "100\n",
      "100\n"
     ]
    },
    {
     "name": "stderr",
     "output_type": "stream",
     "text": [
      "whole_iters:  55%|█████▌    | 244/441 [04:21<03:40,  1.12s/it]"
     ]
    },
    {
     "name": "stdout",
     "output_type": "stream",
     "text": [
      "100\n",
      "ratio of valid molecules : 100/100\n",
      "100\n",
      "100\n",
      "100\n"
     ]
    },
    {
     "name": "stderr",
     "output_type": "stream",
     "text": [
      "whole_iters:  56%|█████▌    | 245/441 [04:22<03:39,  1.12s/it]"
     ]
    },
    {
     "name": "stdout",
     "output_type": "stream",
     "text": [
      "100\n",
      "ratio of valid molecules : 100/100\n",
      "100\n",
      "100\n",
      "100\n"
     ]
    },
    {
     "name": "stderr",
     "output_type": "stream",
     "text": [
      "whole_iters:  56%|█████▌    | 246/441 [04:23<03:43,  1.15s/it]"
     ]
    },
    {
     "name": "stdout",
     "output_type": "stream",
     "text": [
      "100\n",
      "ratio of valid molecules : 100/100\n",
      "100\n",
      "100\n",
      "100\n"
     ]
    },
    {
     "name": "stderr",
     "output_type": "stream",
     "text": [
      "whole_iters:  56%|█████▌    | 247/441 [04:24<03:44,  1.16s/it]"
     ]
    },
    {
     "name": "stdout",
     "output_type": "stream",
     "text": [
      "100\n",
      "ratio of valid molecules : 100/100\n",
      "100\n",
      "100\n",
      "100\n"
     ]
    },
    {
     "name": "stderr",
     "output_type": "stream",
     "text": [
      "whole_iters:  56%|█████▌    | 248/441 [04:26<03:43,  1.16s/it]"
     ]
    },
    {
     "name": "stdout",
     "output_type": "stream",
     "text": [
      "100\n",
      "ratio of valid molecules : 100/100\n",
      "100\n",
      "100\n",
      "100\n"
     ]
    },
    {
     "name": "stderr",
     "output_type": "stream",
     "text": [
      "whole_iters:  56%|█████▋    | 249/441 [04:27<03:42,  1.16s/it]"
     ]
    },
    {
     "name": "stdout",
     "output_type": "stream",
     "text": [
      "100\n",
      "ratio of valid molecules : 100/100\n",
      "100\n",
      "100\n",
      "100\n"
     ]
    },
    {
     "name": "stderr",
     "output_type": "stream",
     "text": [
      "whole_iters:  57%|█████▋    | 250/441 [04:28<03:41,  1.16s/it]"
     ]
    },
    {
     "name": "stdout",
     "output_type": "stream",
     "text": [
      "100\n",
      "ratio of valid molecules : 100/100\n",
      "100\n",
      "100\n",
      "100\n"
     ]
    },
    {
     "name": "stderr",
     "output_type": "stream",
     "text": [
      "whole_iters:  57%|█████▋    | 251/441 [04:29<03:40,  1.16s/it]"
     ]
    },
    {
     "name": "stdout",
     "output_type": "stream",
     "text": [
      "100\n",
      "ratio of valid molecules : 100/100\n",
      "100\n",
      "100\n",
      "100\n"
     ]
    },
    {
     "name": "stderr",
     "output_type": "stream",
     "text": [
      "whole_iters:  57%|█████▋    | 252/441 [04:30<03:38,  1.16s/it]"
     ]
    },
    {
     "name": "stdout",
     "output_type": "stream",
     "text": [
      "100\n",
      "ratio of valid molecules : 100/100\n",
      "100\n",
      "100\n",
      "100\n"
     ]
    },
    {
     "name": "stderr",
     "output_type": "stream",
     "text": [
      "whole_iters:  57%|█████▋    | 253/441 [04:31<03:28,  1.11s/it]"
     ]
    },
    {
     "name": "stdout",
     "output_type": "stream",
     "text": [
      "100\n",
      "ratio of valid molecules : 100/100\n",
      "100\n",
      "100\n",
      "100\n"
     ]
    },
    {
     "name": "stderr",
     "output_type": "stream",
     "text": [
      "whole_iters:  58%|█████▊    | 254/441 [04:32<03:22,  1.08s/it]"
     ]
    },
    {
     "name": "stdout",
     "output_type": "stream",
     "text": [
      "100\n",
      "ratio of valid molecules : 100/100\n",
      "100\n",
      "100\n",
      "100\n"
     ]
    },
    {
     "name": "stderr",
     "output_type": "stream",
     "text": [
      "whole_iters:  58%|█████▊    | 255/441 [04:33<03:17,  1.06s/it]"
     ]
    },
    {
     "name": "stdout",
     "output_type": "stream",
     "text": [
      "100\n",
      "ratio of valid molecules : 100/100\n",
      "100\n",
      "100\n",
      "100\n"
     ]
    },
    {
     "name": "stderr",
     "output_type": "stream",
     "text": [
      "whole_iters:  58%|█████▊    | 256/441 [04:34<03:14,  1.05s/it]"
     ]
    },
    {
     "name": "stdout",
     "output_type": "stream",
     "text": [
      "100\n",
      "ratio of valid molecules : 100/100\n",
      "100\n",
      "100\n",
      "100\n"
     ]
    },
    {
     "name": "stderr",
     "output_type": "stream",
     "text": [
      "whole_iters:  58%|█████▊    | 257/441 [04:35<03:16,  1.07s/it]"
     ]
    },
    {
     "name": "stdout",
     "output_type": "stream",
     "text": [
      "100\n",
      "ratio of valid molecules : 100/100\n",
      "100\n",
      "100\n",
      "100\n"
     ]
    },
    {
     "name": "stderr",
     "output_type": "stream",
     "text": [
      "whole_iters:  59%|█████▊    | 258/441 [04:36<03:16,  1.07s/it]"
     ]
    },
    {
     "name": "stdout",
     "output_type": "stream",
     "text": [
      "100\n",
      "ratio of valid molecules : 100/100\n",
      "100\n",
      "100\n",
      "100\n"
     ]
    },
    {
     "name": "stderr",
     "output_type": "stream",
     "text": [
      "whole_iters:  59%|█████▊    | 259/441 [04:37<03:14,  1.07s/it]"
     ]
    },
    {
     "name": "stdout",
     "output_type": "stream",
     "text": [
      "100\n",
      "ratio of valid molecules : 100/100\n",
      "100\n",
      "100\n",
      "100\n"
     ]
    },
    {
     "name": "stderr",
     "output_type": "stream",
     "text": [
      "whole_iters:  59%|█████▉    | 260/441 [04:38<03:11,  1.06s/it]"
     ]
    },
    {
     "name": "stdout",
     "output_type": "stream",
     "text": [
      "100\n",
      "ratio of valid molecules : 100/100\n",
      "100\n",
      "100\n",
      "100\n"
     ]
    },
    {
     "name": "stderr",
     "output_type": "stream",
     "text": [
      "whole_iters:  59%|█████▉    | 261/441 [04:40<03:11,  1.06s/it]"
     ]
    },
    {
     "name": "stdout",
     "output_type": "stream",
     "text": [
      "100\n",
      "ratio of valid molecules : 100/100\n",
      "100\n",
      "100\n",
      "100\n"
     ]
    },
    {
     "name": "stderr",
     "output_type": "stream",
     "text": [
      "whole_iters:  59%|█████▉    | 262/441 [04:41<03:15,  1.09s/it]"
     ]
    },
    {
     "name": "stdout",
     "output_type": "stream",
     "text": [
      "100\n",
      "ratio of valid molecules : 100/100\n",
      "100\n",
      "100\n",
      "100\n"
     ]
    },
    {
     "name": "stderr",
     "output_type": "stream",
     "text": [
      "whole_iters:  60%|█████▉    | 263/441 [04:42<03:16,  1.10s/it]"
     ]
    },
    {
     "name": "stdout",
     "output_type": "stream",
     "text": [
      "100\n",
      "ratio of valid molecules : 100/100\n",
      "100\n",
      "100\n",
      "100\n"
     ]
    },
    {
     "name": "stderr",
     "output_type": "stream",
     "text": [
      "whole_iters:  60%|█████▉    | 264/441 [04:43<03:16,  1.11s/it]"
     ]
    },
    {
     "name": "stdout",
     "output_type": "stream",
     "text": [
      "100\n",
      "ratio of valid molecules : 100/100\n",
      "100\n",
      "100\n",
      "100\n"
     ]
    },
    {
     "name": "stderr",
     "output_type": "stream",
     "text": [
      "whole_iters:  60%|██████    | 265/441 [04:44<03:18,  1.13s/it]"
     ]
    },
    {
     "name": "stdout",
     "output_type": "stream",
     "text": [
      "100\n",
      "ratio of valid molecules : 100/100\n",
      "100\n",
      "100\n",
      "100\n"
     ]
    },
    {
     "name": "stderr",
     "output_type": "stream",
     "text": [
      "whole_iters:  60%|██████    | 266/441 [04:45<03:23,  1.16s/it]"
     ]
    },
    {
     "name": "stdout",
     "output_type": "stream",
     "text": [
      "100\n",
      "ratio of valid molecules : 100/100\n",
      "100\n",
      "100\n",
      "100\n"
     ]
    },
    {
     "name": "stderr",
     "output_type": "stream",
     "text": [
      "whole_iters:  61%|██████    | 267/441 [04:47<03:25,  1.18s/it]"
     ]
    },
    {
     "name": "stdout",
     "output_type": "stream",
     "text": [
      "100\n",
      "ratio of valid molecules : 100/100\n",
      "100\n",
      "100\n",
      "100\n"
     ]
    },
    {
     "name": "stderr",
     "output_type": "stream",
     "text": [
      "whole_iters:  61%|██████    | 268/441 [04:48<03:27,  1.20s/it]"
     ]
    },
    {
     "name": "stdout",
     "output_type": "stream",
     "text": [
      "100\n",
      "ratio of valid molecules : 100/100\n",
      "100\n",
      "100\n",
      "100\n"
     ]
    },
    {
     "name": "stderr",
     "output_type": "stream",
     "text": [
      "whole_iters:  61%|██████    | 269/441 [04:49<03:33,  1.24s/it]"
     ]
    },
    {
     "name": "stdout",
     "output_type": "stream",
     "text": [
      "100\n",
      "ratio of valid molecules : 100/100\n",
      "100\n",
      "100\n",
      "100\n"
     ]
    },
    {
     "name": "stderr",
     "output_type": "stream",
     "text": [
      "whole_iters:  61%|██████    | 270/441 [04:50<03:31,  1.24s/it]"
     ]
    },
    {
     "name": "stdout",
     "output_type": "stream",
     "text": [
      "100\n",
      "ratio of valid molecules : 100/100\n",
      "100\n",
      "100\n",
      "100\n"
     ]
    },
    {
     "name": "stderr",
     "output_type": "stream",
     "text": [
      "whole_iters:  61%|██████▏   | 271/441 [04:52<03:31,  1.24s/it]"
     ]
    },
    {
     "name": "stdout",
     "output_type": "stream",
     "text": [
      "100\n",
      "ratio of valid molecules : 100/100\n",
      "100\n",
      "100\n",
      "100\n"
     ]
    },
    {
     "name": "stderr",
     "output_type": "stream",
     "text": [
      "whole_iters:  62%|██████▏   | 272/441 [04:53<03:28,  1.23s/it]"
     ]
    },
    {
     "name": "stdout",
     "output_type": "stream",
     "text": [
      "100\n",
      "ratio of valid molecules : 100/100\n",
      "100\n",
      "100\n",
      "100\n"
     ]
    },
    {
     "name": "stderr",
     "output_type": "stream",
     "text": [
      "whole_iters:  62%|██████▏   | 273/441 [04:54<03:23,  1.21s/it]"
     ]
    },
    {
     "name": "stdout",
     "output_type": "stream",
     "text": [
      "100\n",
      "ratio of valid molecules : 100/100\n",
      "100\n",
      "100\n",
      "100\n"
     ]
    },
    {
     "name": "stderr",
     "output_type": "stream",
     "text": [
      "whole_iters:  62%|██████▏   | 274/441 [04:55<03:12,  1.15s/it]"
     ]
    },
    {
     "name": "stdout",
     "output_type": "stream",
     "text": [
      "100\n",
      "ratio of valid molecules : 100/100\n",
      "100\n",
      "100\n",
      "100\n"
     ]
    },
    {
     "name": "stderr",
     "output_type": "stream",
     "text": [
      "whole_iters:  62%|██████▏   | 275/441 [04:56<03:08,  1.14s/it]"
     ]
    },
    {
     "name": "stdout",
     "output_type": "stream",
     "text": [
      "100\n",
      "ratio of valid molecules : 100/100\n",
      "100\n",
      "100\n",
      "100\n"
     ]
    },
    {
     "name": "stderr",
     "output_type": "stream",
     "text": [
      "whole_iters:  63%|██████▎   | 276/441 [04:57<03:05,  1.12s/it]"
     ]
    },
    {
     "name": "stdout",
     "output_type": "stream",
     "text": [
      "100\n",
      "ratio of valid molecules : 100/100\n",
      "100\n",
      "100\n",
      "100\n"
     ]
    },
    {
     "name": "stderr",
     "output_type": "stream",
     "text": [
      "whole_iters:  63%|██████▎   | 277/441 [04:58<03:04,  1.12s/it]"
     ]
    },
    {
     "name": "stdout",
     "output_type": "stream",
     "text": [
      "100\n",
      "ratio of valid molecules : 100/100\n",
      "100\n",
      "100\n",
      "100\n"
     ]
    },
    {
     "name": "stderr",
     "output_type": "stream",
     "text": [
      "whole_iters:  63%|██████▎   | 278/441 [05:00<03:03,  1.13s/it]"
     ]
    },
    {
     "name": "stdout",
     "output_type": "stream",
     "text": [
      "100\n",
      "ratio of valid molecules : 100/100\n",
      "100\n",
      "100\n",
      "100\n"
     ]
    },
    {
     "name": "stderr",
     "output_type": "stream",
     "text": [
      "whole_iters:  63%|██████▎   | 279/441 [05:01<03:04,  1.14s/it]"
     ]
    },
    {
     "name": "stdout",
     "output_type": "stream",
     "text": [
      "100\n",
      "ratio of valid molecules : 100/100\n",
      "100\n",
      "100\n",
      "100\n"
     ]
    },
    {
     "name": "stderr",
     "output_type": "stream",
     "text": [
      "whole_iters:  63%|██████▎   | 280/441 [05:02<03:03,  1.14s/it]"
     ]
    },
    {
     "name": "stdout",
     "output_type": "stream",
     "text": [
      "100\n",
      "ratio of valid molecules : 100/100\n",
      "100\n",
      "100\n",
      "100\n"
     ]
    },
    {
     "name": "stderr",
     "output_type": "stream",
     "text": [
      "whole_iters:  64%|██████▎   | 281/441 [05:03<02:59,  1.12s/it]"
     ]
    },
    {
     "name": "stdout",
     "output_type": "stream",
     "text": [
      "100\n",
      "ratio of valid molecules : 100/100\n",
      "100\n",
      "100\n",
      "100\n"
     ]
    },
    {
     "name": "stderr",
     "output_type": "stream",
     "text": [
      "whole_iters:  64%|██████▍   | 282/441 [05:04<02:57,  1.11s/it]"
     ]
    },
    {
     "name": "stdout",
     "output_type": "stream",
     "text": [
      "100\n",
      "ratio of valid molecules : 100/100\n",
      "100\n",
      "100\n",
      "100\n"
     ]
    },
    {
     "name": "stderr",
     "output_type": "stream",
     "text": [
      "whole_iters:  64%|██████▍   | 283/441 [05:05<02:57,  1.13s/it]"
     ]
    },
    {
     "name": "stdout",
     "output_type": "stream",
     "text": [
      "100\n",
      "ratio of valid molecules : 100/100\n",
      "100\n",
      "100\n",
      "100\n"
     ]
    },
    {
     "name": "stderr",
     "output_type": "stream",
     "text": [
      "whole_iters:  64%|██████▍   | 284/441 [05:06<02:58,  1.14s/it]"
     ]
    },
    {
     "name": "stdout",
     "output_type": "stream",
     "text": [
      "100\n",
      "ratio of valid molecules : 100/100\n",
      "100\n",
      "100\n",
      "100\n"
     ]
    },
    {
     "name": "stderr",
     "output_type": "stream",
     "text": [
      "whole_iters:  65%|██████▍   | 285/441 [05:07<02:57,  1.14s/it]"
     ]
    },
    {
     "name": "stdout",
     "output_type": "stream",
     "text": [
      "100\n",
      "ratio of valid molecules : 100/100\n",
      "100\n",
      "100\n",
      "100\n"
     ]
    },
    {
     "name": "stderr",
     "output_type": "stream",
     "text": [
      "whole_iters:  65%|██████▍   | 286/441 [05:09<02:55,  1.13s/it]"
     ]
    },
    {
     "name": "stdout",
     "output_type": "stream",
     "text": [
      "100\n",
      "ratio of valid molecules : 100/100\n",
      "100\n",
      "100\n",
      "100\n"
     ]
    },
    {
     "name": "stderr",
     "output_type": "stream",
     "text": [
      "whole_iters:  65%|██████▌   | 287/441 [05:10<02:55,  1.14s/it]"
     ]
    },
    {
     "name": "stdout",
     "output_type": "stream",
     "text": [
      "100\n",
      "ratio of valid molecules : 100/100\n",
      "100\n",
      "100\n",
      "100\n"
     ]
    },
    {
     "name": "stderr",
     "output_type": "stream",
     "text": [
      "whole_iters:  65%|██████▌   | 288/441 [05:11<02:56,  1.15s/it]"
     ]
    },
    {
     "name": "stdout",
     "output_type": "stream",
     "text": [
      "100\n",
      "ratio of valid molecules : 100/100\n",
      "100\n",
      "100\n",
      "100\n"
     ]
    },
    {
     "name": "stderr",
     "output_type": "stream",
     "text": [
      "whole_iters:  66%|██████▌   | 289/441 [05:12<02:58,  1.18s/it]"
     ]
    },
    {
     "name": "stdout",
     "output_type": "stream",
     "text": [
      "100\n",
      "ratio of valid molecules : 100/100\n",
      "100\n",
      "100\n",
      "100\n"
     ]
    },
    {
     "name": "stderr",
     "output_type": "stream",
     "text": [
      "whole_iters:  66%|██████▌   | 290/441 [05:13<02:58,  1.19s/it]"
     ]
    },
    {
     "name": "stdout",
     "output_type": "stream",
     "text": [
      "100\n",
      "ratio of valid molecules : 100/100\n",
      "100\n",
      "100\n",
      "100\n"
     ]
    },
    {
     "name": "stderr",
     "output_type": "stream",
     "text": [
      "whole_iters:  66%|██████▌   | 291/441 [05:14<02:56,  1.17s/it]"
     ]
    },
    {
     "name": "stdout",
     "output_type": "stream",
     "text": [
      "100\n",
      "ratio of valid molecules : 100/100\n",
      "100\n",
      "100\n",
      "100\n"
     ]
    },
    {
     "name": "stderr",
     "output_type": "stream",
     "text": [
      "whole_iters:  66%|██████▌   | 292/441 [05:16<02:54,  1.17s/it]"
     ]
    },
    {
     "name": "stdout",
     "output_type": "stream",
     "text": [
      "100\n",
      "ratio of valid molecules : 100/100\n",
      "100\n",
      "100\n",
      "100\n"
     ]
    },
    {
     "name": "stderr",
     "output_type": "stream",
     "text": [
      "whole_iters:  66%|██████▋   | 293/441 [05:17<02:52,  1.16s/it]"
     ]
    },
    {
     "name": "stdout",
     "output_type": "stream",
     "text": [
      "100\n",
      "ratio of valid molecules : 100/100\n",
      "100\n",
      "100\n",
      "100\n"
     ]
    },
    {
     "name": "stderr",
     "output_type": "stream",
     "text": [
      "whole_iters:  67%|██████▋   | 294/441 [05:18<02:50,  1.16s/it]"
     ]
    },
    {
     "name": "stdout",
     "output_type": "stream",
     "text": [
      "100\n",
      "ratio of valid molecules : 100/100\n",
      "100\n",
      "100\n",
      "100\n"
     ]
    },
    {
     "name": "stderr",
     "output_type": "stream",
     "text": [
      "whole_iters:  67%|██████▋   | 295/441 [05:19<02:42,  1.12s/it]"
     ]
    },
    {
     "name": "stdout",
     "output_type": "stream",
     "text": [
      "100\n",
      "ratio of valid molecules : 100/100\n",
      "100\n",
      "100\n",
      "100\n"
     ]
    },
    {
     "name": "stderr",
     "output_type": "stream",
     "text": [
      "whole_iters:  67%|██████▋   | 296/441 [05:20<02:38,  1.09s/it]"
     ]
    },
    {
     "name": "stdout",
     "output_type": "stream",
     "text": [
      "100\n",
      "ratio of valid molecules : 100/100\n",
      "100\n",
      "100\n",
      "100\n"
     ]
    },
    {
     "name": "stderr",
     "output_type": "stream",
     "text": [
      "whole_iters:  67%|██████▋   | 297/441 [05:21<02:34,  1.07s/it]"
     ]
    },
    {
     "name": "stdout",
     "output_type": "stream",
     "text": [
      "100\n",
      "ratio of valid molecules : 100/100\n",
      "100\n",
      "100\n",
      "100\n"
     ]
    },
    {
     "name": "stderr",
     "output_type": "stream",
     "text": [
      "whole_iters:  68%|██████▊   | 298/441 [05:22<02:31,  1.06s/it]"
     ]
    },
    {
     "name": "stdout",
     "output_type": "stream",
     "text": [
      "100\n",
      "ratio of valid molecules : 100/100\n",
      "100\n",
      "100\n",
      "100\n"
     ]
    },
    {
     "name": "stderr",
     "output_type": "stream",
     "text": [
      "whole_iters:  68%|██████▊   | 299/441 [05:23<02:28,  1.05s/it]"
     ]
    },
    {
     "name": "stdout",
     "output_type": "stream",
     "text": [
      "100\n",
      "ratio of valid molecules : 100/100\n",
      "100\n",
      "100\n",
      "100\n"
     ]
    },
    {
     "name": "stderr",
     "output_type": "stream",
     "text": [
      "whole_iters:  68%|██████▊   | 300/441 [05:24<02:29,  1.06s/it]"
     ]
    },
    {
     "name": "stdout",
     "output_type": "stream",
     "text": [
      "100\n",
      "ratio of valid molecules : 100/100\n",
      "100\n",
      "100\n",
      "100\n"
     ]
    },
    {
     "name": "stderr",
     "output_type": "stream",
     "text": [
      "whole_iters:  68%|██████▊   | 301/441 [05:25<02:30,  1.08s/it]"
     ]
    },
    {
     "name": "stdout",
     "output_type": "stream",
     "text": [
      "100\n",
      "ratio of valid molecules : 100/100\n",
      "100\n",
      "100\n",
      "100\n"
     ]
    },
    {
     "name": "stderr",
     "output_type": "stream",
     "text": [
      "whole_iters:  68%|██████▊   | 302/441 [05:26<02:32,  1.09s/it]"
     ]
    },
    {
     "name": "stdout",
     "output_type": "stream",
     "text": [
      "100\n",
      "ratio of valid molecules : 100/100\n",
      "100\n",
      "100\n",
      "100\n"
     ]
    },
    {
     "name": "stderr",
     "output_type": "stream",
     "text": [
      "whole_iters:  69%|██████▊   | 303/441 [05:28<02:32,  1.10s/it]"
     ]
    },
    {
     "name": "stdout",
     "output_type": "stream",
     "text": [
      "100\n",
      "ratio of valid molecules : 100/100\n",
      "100\n",
      "100\n",
      "100\n"
     ]
    },
    {
     "name": "stderr",
     "output_type": "stream",
     "text": [
      "whole_iters:  69%|██████▉   | 304/441 [05:29<02:31,  1.11s/it]"
     ]
    },
    {
     "name": "stdout",
     "output_type": "stream",
     "text": [
      "100\n",
      "ratio of valid molecules : 100/100\n",
      "100\n",
      "100\n",
      "100\n"
     ]
    },
    {
     "name": "stderr",
     "output_type": "stream",
     "text": [
      "whole_iters:  69%|██████▉   | 305/441 [05:30<02:35,  1.14s/it]"
     ]
    },
    {
     "name": "stdout",
     "output_type": "stream",
     "text": [
      "100\n",
      "ratio of valid molecules : 100/100\n",
      "100\n",
      "100\n",
      "100\n"
     ]
    },
    {
     "name": "stderr",
     "output_type": "stream",
     "text": [
      "whole_iters:  69%|██████▉   | 306/441 [05:31<02:35,  1.15s/it]"
     ]
    },
    {
     "name": "stdout",
     "output_type": "stream",
     "text": [
      "100\n",
      "ratio of valid molecules : 100/100\n",
      "100\n",
      "100\n",
      "100\n"
     ]
    },
    {
     "name": "stderr",
     "output_type": "stream",
     "text": [
      "whole_iters:  70%|██████▉   | 307/441 [05:32<02:37,  1.17s/it]"
     ]
    },
    {
     "name": "stdout",
     "output_type": "stream",
     "text": [
      "100\n",
      "ratio of valid molecules : 100/100\n",
      "100\n",
      "100\n",
      "100\n"
     ]
    },
    {
     "name": "stderr",
     "output_type": "stream",
     "text": [
      "whole_iters:  70%|██████▉   | 308/441 [05:33<02:36,  1.17s/it]"
     ]
    },
    {
     "name": "stdout",
     "output_type": "stream",
     "text": [
      "100\n",
      "ratio of valid molecules : 100/100\n",
      "100\n",
      "100\n",
      "100\n"
     ]
    },
    {
     "name": "stderr",
     "output_type": "stream",
     "text": [
      "whole_iters:  70%|███████   | 309/441 [05:35<02:34,  1.17s/it]"
     ]
    },
    {
     "name": "stdout",
     "output_type": "stream",
     "text": [
      "100\n",
      "ratio of valid molecules : 100/100\n",
      "100\n",
      "100\n",
      "100\n"
     ]
    },
    {
     "name": "stderr",
     "output_type": "stream",
     "text": [
      "whole_iters:  70%|███████   | 310/441 [05:36<02:34,  1.18s/it]"
     ]
    },
    {
     "name": "stdout",
     "output_type": "stream",
     "text": [
      "100\n",
      "ratio of valid molecules : 100/100\n",
      "100\n",
      "100\n",
      "100\n"
     ]
    },
    {
     "name": "stderr",
     "output_type": "stream",
     "text": [
      "whole_iters:  71%|███████   | 311/441 [05:37<02:32,  1.17s/it]"
     ]
    },
    {
     "name": "stdout",
     "output_type": "stream",
     "text": [
      "100\n",
      "ratio of valid molecules : 100/100\n",
      "100\n",
      "100\n",
      "100\n"
     ]
    },
    {
     "name": "stderr",
     "output_type": "stream",
     "text": [
      "whole_iters:  71%|███████   | 312/441 [05:38<02:34,  1.20s/it]"
     ]
    },
    {
     "name": "stdout",
     "output_type": "stream",
     "text": [
      "100\n",
      "ratio of valid molecules : 100/100\n",
      "100\n",
      "100\n",
      "100\n"
     ]
    },
    {
     "name": "stderr",
     "output_type": "stream",
     "text": [
      "whole_iters:  71%|███████   | 313/441 [05:39<02:35,  1.21s/it]"
     ]
    },
    {
     "name": "stdout",
     "output_type": "stream",
     "text": [
      "100\n",
      "ratio of valid molecules : 100/100\n",
      "100\n",
      "100\n",
      "100\n"
     ]
    },
    {
     "name": "stderr",
     "output_type": "stream",
     "text": [
      "whole_iters:  71%|███████   | 314/441 [05:41<02:35,  1.22s/it]"
     ]
    },
    {
     "name": "stdout",
     "output_type": "stream",
     "text": [
      "100\n",
      "ratio of valid molecules : 100/100\n",
      "100\n",
      "100\n",
      "100\n"
     ]
    },
    {
     "name": "stderr",
     "output_type": "stream",
     "text": [
      "whole_iters:  71%|███████▏  | 315/441 [05:42<02:37,  1.25s/it]"
     ]
    },
    {
     "name": "stdout",
     "output_type": "stream",
     "text": [
      "100\n",
      "ratio of valid molecules : 100/100\n",
      "100\n",
      "100\n",
      "100\n"
     ]
    },
    {
     "name": "stderr",
     "output_type": "stream",
     "text": [
      "whole_iters:  72%|███████▏  | 316/441 [05:43<02:31,  1.21s/it]"
     ]
    },
    {
     "name": "stdout",
     "output_type": "stream",
     "text": [
      "100\n",
      "ratio of valid molecules : 100/100\n",
      "100\n",
      "100\n",
      "100\n"
     ]
    },
    {
     "name": "stderr",
     "output_type": "stream",
     "text": [
      "whole_iters:  72%|███████▏  | 317/441 [05:44<02:23,  1.16s/it]"
     ]
    },
    {
     "name": "stdout",
     "output_type": "stream",
     "text": [
      "100\n",
      "ratio of valid molecules : 100/100\n",
      "100\n",
      "100\n",
      "100\n"
     ]
    },
    {
     "name": "stderr",
     "output_type": "stream",
     "text": [
      "whole_iters:  72%|███████▏  | 318/441 [05:45<02:18,  1.12s/it]"
     ]
    },
    {
     "name": "stdout",
     "output_type": "stream",
     "text": [
      "100\n",
      "ratio of valid molecules : 100/100\n",
      "100\n",
      "100\n",
      "100\n"
     ]
    },
    {
     "name": "stderr",
     "output_type": "stream",
     "text": [
      "whole_iters:  72%|███████▏  | 319/441 [05:46<02:14,  1.10s/it]"
     ]
    },
    {
     "name": "stdout",
     "output_type": "stream",
     "text": [
      "100\n",
      "ratio of valid molecules : 100/100\n",
      "100\n",
      "100\n",
      "100\n"
     ]
    },
    {
     "name": "stderr",
     "output_type": "stream",
     "text": [
      "whole_iters:  73%|███████▎  | 320/441 [05:47<02:12,  1.10s/it]"
     ]
    },
    {
     "name": "stdout",
     "output_type": "stream",
     "text": [
      "100\n",
      "ratio of valid molecules : 100/100\n",
      "100\n",
      "100\n",
      "100\n"
     ]
    },
    {
     "name": "stderr",
     "output_type": "stream",
     "text": [
      "whole_iters:  73%|███████▎  | 321/441 [05:49<02:18,  1.16s/it]"
     ]
    },
    {
     "name": "stdout",
     "output_type": "stream",
     "text": [
      "100\n",
      "ratio of valid molecules : 100/100\n",
      "100\n",
      "100\n",
      "100\n"
     ]
    },
    {
     "name": "stderr",
     "output_type": "stream",
     "text": [
      "whole_iters:  73%|███████▎  | 322/441 [05:50<02:17,  1.16s/it]"
     ]
    },
    {
     "name": "stdout",
     "output_type": "stream",
     "text": [
      "100\n",
      "ratio of valid molecules : 100/100\n",
      "100\n",
      "100\n",
      "100\n"
     ]
    },
    {
     "name": "stderr",
     "output_type": "stream",
     "text": [
      "whole_iters:  73%|███████▎  | 323/441 [05:51<02:17,  1.17s/it]"
     ]
    },
    {
     "name": "stdout",
     "output_type": "stream",
     "text": [
      "100\n",
      "ratio of valid molecules : 100/100\n",
      "100\n",
      "100\n",
      "100\n"
     ]
    },
    {
     "name": "stderr",
     "output_type": "stream",
     "text": [
      "whole_iters:  73%|███████▎  | 324/441 [05:52<02:14,  1.15s/it]"
     ]
    },
    {
     "name": "stdout",
     "output_type": "stream",
     "text": [
      "100\n",
      "ratio of valid molecules : 100/100\n",
      "100\n",
      "100\n",
      "100\n"
     ]
    },
    {
     "name": "stderr",
     "output_type": "stream",
     "text": [
      "whole_iters:  74%|███████▎  | 325/441 [05:53<02:12,  1.15s/it]"
     ]
    },
    {
     "name": "stdout",
     "output_type": "stream",
     "text": [
      "100\n",
      "ratio of valid molecules : 100/100\n",
      "100\n",
      "100\n",
      "100\n"
     ]
    },
    {
     "name": "stderr",
     "output_type": "stream",
     "text": [
      "whole_iters:  74%|███████▍  | 326/441 [05:54<02:11,  1.15s/it]"
     ]
    },
    {
     "name": "stdout",
     "output_type": "stream",
     "text": [
      "100\n",
      "ratio of valid molecules : 100/100\n",
      "100\n",
      "100\n",
      "100\n"
     ]
    },
    {
     "name": "stderr",
     "output_type": "stream",
     "text": [
      "whole_iters:  74%|███████▍  | 327/441 [05:56<02:11,  1.15s/it]"
     ]
    },
    {
     "name": "stdout",
     "output_type": "stream",
     "text": [
      "100\n",
      "ratio of valid molecules : 100/100\n",
      "100\n",
      "100\n",
      "100\n"
     ]
    },
    {
     "name": "stderr",
     "output_type": "stream",
     "text": [
      "whole_iters:  74%|███████▍  | 328/441 [05:57<02:09,  1.15s/it]"
     ]
    },
    {
     "name": "stdout",
     "output_type": "stream",
     "text": [
      "100\n",
      "ratio of valid molecules : 100/100\n",
      "100\n",
      "100\n",
      "100\n"
     ]
    },
    {
     "name": "stderr",
     "output_type": "stream",
     "text": [
      "whole_iters:  75%|███████▍  | 329/441 [05:58<02:10,  1.16s/it]"
     ]
    },
    {
     "name": "stdout",
     "output_type": "stream",
     "text": [
      "100\n",
      "ratio of valid molecules : 100/100\n",
      "100\n",
      "100\n",
      "100\n"
     ]
    },
    {
     "name": "stderr",
     "output_type": "stream",
     "text": [
      "whole_iters:  75%|███████▍  | 330/441 [05:59<02:08,  1.16s/it]"
     ]
    },
    {
     "name": "stdout",
     "output_type": "stream",
     "text": [
      "100\n",
      "ratio of valid molecules : 100/100\n",
      "100\n",
      "100\n",
      "100\n"
     ]
    },
    {
     "name": "stderr",
     "output_type": "stream",
     "text": [
      "whole_iters:  75%|███████▌  | 331/441 [06:00<02:07,  1.15s/it]"
     ]
    },
    {
     "name": "stdout",
     "output_type": "stream",
     "text": [
      "100\n",
      "ratio of valid molecules : 100/100\n",
      "100\n",
      "100\n",
      "100\n"
     ]
    },
    {
     "name": "stderr",
     "output_type": "stream",
     "text": [
      "whole_iters:  75%|███████▌  | 332/441 [06:01<02:05,  1.15s/it]"
     ]
    },
    {
     "name": "stdout",
     "output_type": "stream",
     "text": [
      "100\n",
      "ratio of valid molecules : 100/100\n",
      "100\n",
      "100\n",
      "100\n"
     ]
    },
    {
     "name": "stderr",
     "output_type": "stream",
     "text": [
      "whole_iters:  76%|███████▌  | 333/441 [06:02<02:04,  1.15s/it]"
     ]
    },
    {
     "name": "stdout",
     "output_type": "stream",
     "text": [
      "100\n",
      "ratio of valid molecules : 100/100\n",
      "100\n",
      "100\n",
      "100\n"
     ]
    },
    {
     "name": "stderr",
     "output_type": "stream",
     "text": [
      "whole_iters:  76%|███████▌  | 334/441 [06:04<02:03,  1.15s/it]"
     ]
    },
    {
     "name": "stdout",
     "output_type": "stream",
     "text": [
      "100\n",
      "ratio of valid molecules : 100/100\n",
      "100\n",
      "100\n",
      "100\n"
     ]
    },
    {
     "name": "stderr",
     "output_type": "stream",
     "text": [
      "whole_iters:  76%|███████▌  | 335/441 [06:05<02:01,  1.15s/it]"
     ]
    },
    {
     "name": "stdout",
     "output_type": "stream",
     "text": [
      "100\n",
      "ratio of valid molecules : 100/100\n",
      "100\n",
      "100\n",
      "100\n"
     ]
    },
    {
     "name": "stderr",
     "output_type": "stream",
     "text": [
      "whole_iters:  76%|███████▌  | 336/441 [06:06<02:03,  1.17s/it]"
     ]
    },
    {
     "name": "stdout",
     "output_type": "stream",
     "text": [
      "100\n",
      "ratio of valid molecules : 100/100\n",
      "100\n",
      "100\n",
      "100\n"
     ]
    },
    {
     "name": "stderr",
     "output_type": "stream",
     "text": [
      "whole_iters:  76%|███████▋  | 337/441 [06:07<01:56,  1.12s/it]"
     ]
    },
    {
     "name": "stdout",
     "output_type": "stream",
     "text": [
      "100\n",
      "ratio of valid molecules : 100/100\n",
      "100\n",
      "100\n",
      "100\n"
     ]
    },
    {
     "name": "stderr",
     "output_type": "stream",
     "text": [
      "whole_iters:  77%|███████▋  | 338/441 [06:08<01:52,  1.09s/it]"
     ]
    },
    {
     "name": "stdout",
     "output_type": "stream",
     "text": [
      "100\n",
      "ratio of valid molecules : 100/100\n",
      "100\n",
      "100\n",
      "100\n"
     ]
    },
    {
     "name": "stderr",
     "output_type": "stream",
     "text": [
      "whole_iters:  77%|███████▋  | 339/441 [06:09<01:49,  1.08s/it]"
     ]
    },
    {
     "name": "stdout",
     "output_type": "stream",
     "text": [
      "100\n",
      "ratio of valid molecules : 100/100\n",
      "100\n",
      "100\n",
      "100\n"
     ]
    },
    {
     "name": "stderr",
     "output_type": "stream",
     "text": [
      "whole_iters:  77%|███████▋  | 340/441 [06:10<01:49,  1.08s/it]"
     ]
    },
    {
     "name": "stdout",
     "output_type": "stream",
     "text": [
      "100\n",
      "ratio of valid molecules : 100/100\n",
      "100\n",
      "100\n",
      "100\n"
     ]
    },
    {
     "name": "stderr",
     "output_type": "stream",
     "text": [
      "whole_iters:  77%|███████▋  | 341/441 [06:11<01:48,  1.08s/it]"
     ]
    },
    {
     "name": "stdout",
     "output_type": "stream",
     "text": [
      "100\n",
      "ratio of valid molecules : 100/100\n",
      "100\n",
      "100\n",
      "100\n"
     ]
    },
    {
     "name": "stderr",
     "output_type": "stream",
     "text": [
      "whole_iters:  78%|███████▊  | 342/441 [06:12<01:46,  1.08s/it]"
     ]
    },
    {
     "name": "stdout",
     "output_type": "stream",
     "text": [
      "100\n",
      "ratio of valid molecules : 100/100\n",
      "100\n",
      "100\n",
      "100\n"
     ]
    },
    {
     "name": "stderr",
     "output_type": "stream",
     "text": [
      "whole_iters:  78%|███████▊  | 343/441 [06:13<01:45,  1.08s/it]"
     ]
    },
    {
     "name": "stdout",
     "output_type": "stream",
     "text": [
      "100\n",
      "ratio of valid molecules : 100/100\n",
      "100\n",
      "100\n",
      "100\n"
     ]
    },
    {
     "name": "stderr",
     "output_type": "stream",
     "text": [
      "whole_iters:  78%|███████▊  | 344/441 [06:15<01:46,  1.10s/it]"
     ]
    },
    {
     "name": "stdout",
     "output_type": "stream",
     "text": [
      "100\n",
      "ratio of valid molecules : 100/100\n",
      "100\n",
      "100\n",
      "100\n"
     ]
    },
    {
     "name": "stderr",
     "output_type": "stream",
     "text": [
      "whole_iters:  78%|███████▊  | 345/441 [06:16<01:46,  1.11s/it]"
     ]
    },
    {
     "name": "stdout",
     "output_type": "stream",
     "text": [
      "100\n",
      "ratio of valid molecules : 100/100\n",
      "100\n",
      "100\n",
      "100\n"
     ]
    },
    {
     "name": "stderr",
     "output_type": "stream",
     "text": [
      "whole_iters:  78%|███████▊  | 346/441 [06:17<01:51,  1.17s/it]"
     ]
    },
    {
     "name": "stdout",
     "output_type": "stream",
     "text": [
      "100\n",
      "ratio of valid molecules : 100/100\n",
      "100\n",
      "100\n",
      "100\n"
     ]
    },
    {
     "name": "stderr",
     "output_type": "stream",
     "text": [
      "whole_iters:  79%|███████▊  | 347/441 [06:18<01:50,  1.17s/it]"
     ]
    },
    {
     "name": "stdout",
     "output_type": "stream",
     "text": [
      "100\n",
      "ratio of valid molecules : 100/100\n",
      "100\n",
      "100\n",
      "100\n"
     ]
    },
    {
     "name": "stderr",
     "output_type": "stream",
     "text": [
      "whole_iters:  79%|███████▉  | 348/441 [06:19<01:52,  1.21s/it]"
     ]
    },
    {
     "name": "stdout",
     "output_type": "stream",
     "text": [
      "100\n",
      "ratio of valid molecules : 100/100\n",
      "100\n",
      "100\n",
      "100\n"
     ]
    },
    {
     "name": "stderr",
     "output_type": "stream",
     "text": [
      "whole_iters:  79%|███████▉  | 349/441 [06:21<01:50,  1.20s/it]"
     ]
    },
    {
     "name": "stdout",
     "output_type": "stream",
     "text": [
      "100\n",
      "ratio of valid molecules : 100/100\n",
      "100\n",
      "100\n",
      "100\n"
     ]
    },
    {
     "name": "stderr",
     "output_type": "stream",
     "text": [
      "whole_iters:  79%|███████▉  | 350/441 [06:22<01:49,  1.21s/it]"
     ]
    },
    {
     "name": "stdout",
     "output_type": "stream",
     "text": [
      "100\n",
      "ratio of valid molecules : 100/100\n",
      "100\n",
      "100\n",
      "100\n"
     ]
    },
    {
     "name": "stderr",
     "output_type": "stream",
     "text": [
      "whole_iters:  80%|███████▉  | 351/441 [06:23<01:47,  1.20s/it]"
     ]
    },
    {
     "name": "stdout",
     "output_type": "stream",
     "text": [
      "100\n",
      "ratio of valid molecules : 100/100\n",
      "100\n",
      "100\n",
      "100\n"
     ]
    },
    {
     "name": "stderr",
     "output_type": "stream",
     "text": [
      "whole_iters:  80%|███████▉  | 352/441 [06:24<01:46,  1.20s/it]"
     ]
    },
    {
     "name": "stdout",
     "output_type": "stream",
     "text": [
      "100\n",
      "ratio of valid molecules : 100/100\n",
      "100\n",
      "100\n",
      "100\n"
     ]
    },
    {
     "name": "stderr",
     "output_type": "stream",
     "text": [
      "whole_iters:  80%|████████  | 353/441 [06:25<01:46,  1.21s/it]"
     ]
    },
    {
     "name": "stdout",
     "output_type": "stream",
     "text": [
      "100\n",
      "ratio of valid molecules : 100/100\n",
      "100\n",
      "100\n",
      "100\n"
     ]
    },
    {
     "name": "stderr",
     "output_type": "stream",
     "text": [
      "whole_iters:  80%|████████  | 354/441 [06:27<01:45,  1.21s/it]"
     ]
    },
    {
     "name": "stdout",
     "output_type": "stream",
     "text": [
      "100\n",
      "ratio of valid molecules : 100/100\n",
      "100\n",
      "100\n",
      "100\n"
     ]
    },
    {
     "name": "stderr",
     "output_type": "stream",
     "text": [
      "whole_iters:  80%|████████  | 355/441 [06:28<01:43,  1.20s/it]"
     ]
    },
    {
     "name": "stdout",
     "output_type": "stream",
     "text": [
      "100\n",
      "ratio of valid molecules : 100/100\n",
      "100\n",
      "100\n",
      "100\n"
     ]
    },
    {
     "name": "stderr",
     "output_type": "stream",
     "text": [
      "whole_iters:  81%|████████  | 356/441 [06:29<01:40,  1.19s/it]"
     ]
    },
    {
     "name": "stdout",
     "output_type": "stream",
     "text": [
      "100\n",
      "ratio of valid molecules : 100/100\n",
      "100\n",
      "100\n",
      "100\n"
     ]
    },
    {
     "name": "stderr",
     "output_type": "stream",
     "text": [
      "whole_iters:  81%|████████  | 357/441 [06:30<01:38,  1.17s/it]"
     ]
    },
    {
     "name": "stdout",
     "output_type": "stream",
     "text": [
      "100\n",
      "ratio of valid molecules : 100/100\n",
      "100\n",
      "100\n",
      "100\n"
     ]
    },
    {
     "name": "stderr",
     "output_type": "stream",
     "text": [
      "whole_iters:  81%|████████  | 358/441 [06:31<01:35,  1.14s/it]"
     ]
    },
    {
     "name": "stdout",
     "output_type": "stream",
     "text": [
      "100\n",
      "ratio of valid molecules : 100/100\n",
      "100\n",
      "100\n",
      "100\n"
     ]
    },
    {
     "name": "stderr",
     "output_type": "stream",
     "text": [
      "whole_iters:  81%|████████▏ | 359/441 [06:32<01:31,  1.12s/it]"
     ]
    },
    {
     "name": "stdout",
     "output_type": "stream",
     "text": [
      "100\n",
      "ratio of valid molecules : 100/100\n",
      "100\n",
      "100\n",
      "100\n"
     ]
    },
    {
     "name": "stderr",
     "output_type": "stream",
     "text": [
      "whole_iters:  82%|████████▏ | 360/441 [06:33<01:29,  1.10s/it]"
     ]
    },
    {
     "name": "stdout",
     "output_type": "stream",
     "text": [
      "100\n",
      "ratio of valid molecules : 100/100\n",
      "100\n",
      "100\n",
      "100\n"
     ]
    },
    {
     "name": "stderr",
     "output_type": "stream",
     "text": [
      "whole_iters:  82%|████████▏ | 361/441 [06:35<01:29,  1.12s/it]"
     ]
    },
    {
     "name": "stdout",
     "output_type": "stream",
     "text": [
      "100\n",
      "ratio of valid molecules : 100/100\n",
      "100\n",
      "100\n",
      "100\n"
     ]
    },
    {
     "name": "stderr",
     "output_type": "stream",
     "text": [
      "whole_iters:  82%|████████▏ | 362/441 [06:36<01:29,  1.13s/it]"
     ]
    },
    {
     "name": "stdout",
     "output_type": "stream",
     "text": [
      "100\n",
      "ratio of valid molecules : 100/100\n",
      "100\n",
      "100\n",
      "100\n"
     ]
    },
    {
     "name": "stderr",
     "output_type": "stream",
     "text": [
      "whole_iters:  82%|████████▏ | 363/441 [06:37<01:28,  1.13s/it]"
     ]
    },
    {
     "name": "stdout",
     "output_type": "stream",
     "text": [
      "100\n",
      "ratio of valid molecules : 100/100\n",
      "100\n",
      "100\n",
      "100\n"
     ]
    },
    {
     "name": "stderr",
     "output_type": "stream",
     "text": [
      "whole_iters:  83%|████████▎ | 364/441 [06:38<01:27,  1.14s/it]"
     ]
    },
    {
     "name": "stdout",
     "output_type": "stream",
     "text": [
      "100\n",
      "ratio of valid molecules : 100/100\n",
      "100\n",
      "100\n",
      "100\n"
     ]
    },
    {
     "name": "stderr",
     "output_type": "stream",
     "text": [
      "whole_iters:  83%|████████▎ | 365/441 [06:39<01:26,  1.14s/it]"
     ]
    },
    {
     "name": "stdout",
     "output_type": "stream",
     "text": [
      "100\n",
      "ratio of valid molecules : 100/100\n",
      "100\n",
      "100\n",
      "100\n"
     ]
    },
    {
     "name": "stderr",
     "output_type": "stream",
     "text": [
      "whole_iters:  83%|████████▎ | 366/441 [06:40<01:26,  1.15s/it]"
     ]
    },
    {
     "name": "stdout",
     "output_type": "stream",
     "text": [
      "100\n",
      "ratio of valid molecules : 100/100\n",
      "100\n",
      "100\n",
      "100\n"
     ]
    },
    {
     "name": "stderr",
     "output_type": "stream",
     "text": [
      "whole_iters:  83%|████████▎ | 367/441 [06:41<01:25,  1.16s/it]"
     ]
    },
    {
     "name": "stdout",
     "output_type": "stream",
     "text": [
      "100\n",
      "ratio of valid molecules : 100/100\n",
      "100\n",
      "100\n",
      "100\n"
     ]
    },
    {
     "name": "stderr",
     "output_type": "stream",
     "text": [
      "whole_iters:  83%|████████▎ | 368/441 [06:43<01:24,  1.16s/it]"
     ]
    },
    {
     "name": "stdout",
     "output_type": "stream",
     "text": [
      "100\n",
      "ratio of valid molecules : 100/100\n",
      "100\n",
      "100\n",
      "100\n"
     ]
    },
    {
     "name": "stderr",
     "output_type": "stream",
     "text": [
      "whole_iters:  84%|████████▎ | 369/441 [06:44<01:23,  1.16s/it]"
     ]
    },
    {
     "name": "stdout",
     "output_type": "stream",
     "text": [
      "100\n",
      "ratio of valid molecules : 100/100\n",
      "100\n",
      "100\n",
      "100\n"
     ]
    },
    {
     "name": "stderr",
     "output_type": "stream",
     "text": [
      "whole_iters:  84%|████████▍ | 370/441 [06:45<01:22,  1.16s/it]"
     ]
    },
    {
     "name": "stdout",
     "output_type": "stream",
     "text": [
      "100\n",
      "ratio of valid molecules : 100/100\n",
      "100\n",
      "100\n",
      "100\n"
     ]
    },
    {
     "name": "stderr",
     "output_type": "stream",
     "text": [
      "whole_iters:  84%|████████▍ | 371/441 [06:46<01:22,  1.18s/it]"
     ]
    },
    {
     "name": "stdout",
     "output_type": "stream",
     "text": [
      "100\n",
      "ratio of valid molecules : 100/100\n",
      "100\n",
      "100\n",
      "100\n"
     ]
    },
    {
     "name": "stderr",
     "output_type": "stream",
     "text": [
      "whole_iters:  84%|████████▍ | 372/441 [06:47<01:21,  1.18s/it]"
     ]
    },
    {
     "name": "stdout",
     "output_type": "stream",
     "text": [
      "100\n",
      "ratio of valid molecules : 100/100\n",
      "100\n",
      "100\n",
      "100\n"
     ]
    },
    {
     "name": "stderr",
     "output_type": "stream",
     "text": [
      "whole_iters:  85%|████████▍ | 373/441 [06:49<01:19,  1.17s/it]"
     ]
    },
    {
     "name": "stdout",
     "output_type": "stream",
     "text": [
      "100\n",
      "ratio of valid molecules : 100/100\n",
      "100\n",
      "100\n",
      "100\n"
     ]
    },
    {
     "name": "stderr",
     "output_type": "stream",
     "text": [
      "whole_iters:  85%|████████▍ | 374/441 [06:50<01:18,  1.17s/it]"
     ]
    },
    {
     "name": "stdout",
     "output_type": "stream",
     "text": [
      "100\n",
      "ratio of valid molecules : 100/100\n",
      "100\n",
      "100\n",
      "100\n"
     ]
    },
    {
     "name": "stderr",
     "output_type": "stream",
     "text": [
      "whole_iters:  85%|████████▌ | 375/441 [06:51<01:16,  1.17s/it]"
     ]
    },
    {
     "name": "stdout",
     "output_type": "stream",
     "text": [
      "100\n",
      "ratio of valid molecules : 100/100\n",
      "100\n",
      "100\n",
      "100\n"
     ]
    },
    {
     "name": "stderr",
     "output_type": "stream",
     "text": [
      "whole_iters:  85%|████████▌ | 376/441 [06:52<01:16,  1.17s/it]"
     ]
    },
    {
     "name": "stdout",
     "output_type": "stream",
     "text": [
      "100\n",
      "ratio of valid molecules : 100/100\n",
      "100\n",
      "100\n",
      "100\n"
     ]
    },
    {
     "name": "stderr",
     "output_type": "stream",
     "text": [
      "whole_iters:  85%|████████▌ | 377/441 [06:53<01:17,  1.21s/it]"
     ]
    },
    {
     "name": "stdout",
     "output_type": "stream",
     "text": [
      "100\n",
      "ratio of valid molecules : 100/100\n",
      "100\n",
      "100\n",
      "100\n"
     ]
    },
    {
     "name": "stderr",
     "output_type": "stream",
     "text": [
      "whole_iters:  86%|████████▌ | 378/441 [06:54<01:15,  1.20s/it]"
     ]
    },
    {
     "name": "stdout",
     "output_type": "stream",
     "text": [
      "100\n",
      "ratio of valid molecules : 100/100\n",
      "100\n",
      "100\n",
      "100\n"
     ]
    },
    {
     "name": "stderr",
     "output_type": "stream",
     "text": [
      "whole_iters:  86%|████████▌ | 379/441 [06:56<01:13,  1.18s/it]"
     ]
    },
    {
     "name": "stdout",
     "output_type": "stream",
     "text": [
      "100\n",
      "ratio of valid molecules : 100/100\n",
      "100\n",
      "100\n",
      "100\n"
     ]
    },
    {
     "name": "stderr",
     "output_type": "stream",
     "text": [
      "whole_iters:  86%|████████▌ | 380/441 [06:57<01:10,  1.15s/it]"
     ]
    },
    {
     "name": "stdout",
     "output_type": "stream",
     "text": [
      "100\n",
      "ratio of valid molecules : 100/100\n",
      "100\n",
      "100\n",
      "100\n"
     ]
    },
    {
     "name": "stderr",
     "output_type": "stream",
     "text": [
      "whole_iters:  86%|████████▋ | 381/441 [06:58<01:09,  1.16s/it]"
     ]
    },
    {
     "name": "stdout",
     "output_type": "stream",
     "text": [
      "100\n",
      "ratio of valid molecules : 100/100\n",
      "100\n",
      "100\n",
      "100\n"
     ]
    },
    {
     "name": "stderr",
     "output_type": "stream",
     "text": [
      "whole_iters:  87%|████████▋ | 382/441 [06:59<01:07,  1.14s/it]"
     ]
    },
    {
     "name": "stdout",
     "output_type": "stream",
     "text": [
      "100\n",
      "ratio of valid molecules : 100/100\n",
      "100\n",
      "100\n",
      "100\n"
     ]
    },
    {
     "name": "stderr",
     "output_type": "stream",
     "text": [
      "whole_iters:  87%|████████▋ | 383/441 [07:00<01:05,  1.14s/it]"
     ]
    },
    {
     "name": "stdout",
     "output_type": "stream",
     "text": [
      "100\n",
      "ratio of valid molecules : 100/100\n",
      "100\n",
      "100\n",
      "100\n"
     ]
    },
    {
     "name": "stderr",
     "output_type": "stream",
     "text": [
      "whole_iters:  87%|████████▋ | 384/441 [07:01<01:04,  1.13s/it]"
     ]
    },
    {
     "name": "stdout",
     "output_type": "stream",
     "text": [
      "100\n",
      "ratio of valid molecules : 100/100\n",
      "100\n",
      "100\n",
      "100\n"
     ]
    },
    {
     "name": "stderr",
     "output_type": "stream",
     "text": [
      "whole_iters:  87%|████████▋ | 385/441 [07:02<01:03,  1.14s/it]"
     ]
    },
    {
     "name": "stdout",
     "output_type": "stream",
     "text": [
      "100\n",
      "ratio of valid molecules : 100/100\n",
      "100\n",
      "100\n",
      "100\n"
     ]
    },
    {
     "name": "stderr",
     "output_type": "stream",
     "text": [
      "whole_iters:  88%|████████▊ | 386/441 [07:04<01:02,  1.13s/it]"
     ]
    },
    {
     "name": "stdout",
     "output_type": "stream",
     "text": [
      "100\n",
      "ratio of valid molecules : 100/100\n",
      "100\n",
      "100\n",
      "100\n"
     ]
    },
    {
     "name": "stderr",
     "output_type": "stream",
     "text": [
      "whole_iters:  88%|████████▊ | 387/441 [07:05<01:00,  1.13s/it]"
     ]
    },
    {
     "name": "stdout",
     "output_type": "stream",
     "text": [
      "100\n",
      "ratio of valid molecules : 100/100\n",
      "100\n",
      "100\n",
      "100\n"
     ]
    },
    {
     "name": "stderr",
     "output_type": "stream",
     "text": [
      "whole_iters:  88%|████████▊ | 388/441 [07:06<00:59,  1.13s/it]"
     ]
    },
    {
     "name": "stdout",
     "output_type": "stream",
     "text": [
      "100\n",
      "ratio of valid molecules : 100/100\n",
      "100\n",
      "100\n",
      "100\n"
     ]
    },
    {
     "name": "stderr",
     "output_type": "stream",
     "text": [
      "whole_iters:  88%|████████▊ | 389/441 [07:07<00:58,  1.13s/it]"
     ]
    },
    {
     "name": "stdout",
     "output_type": "stream",
     "text": [
      "100\n",
      "ratio of valid molecules : 100/100\n",
      "100\n",
      "100\n",
      "100\n"
     ]
    },
    {
     "name": "stderr",
     "output_type": "stream",
     "text": [
      "whole_iters:  88%|████████▊ | 390/441 [07:08<00:57,  1.13s/it]"
     ]
    },
    {
     "name": "stdout",
     "output_type": "stream",
     "text": [
      "100\n",
      "ratio of valid molecules : 100/100\n",
      "100\n",
      "100\n",
      "100\n"
     ]
    },
    {
     "name": "stderr",
     "output_type": "stream",
     "text": [
      "whole_iters:  89%|████████▊ | 391/441 [07:09<00:57,  1.14s/it]"
     ]
    },
    {
     "name": "stdout",
     "output_type": "stream",
     "text": [
      "100\n",
      "ratio of valid molecules : 100/100\n",
      "100\n",
      "100\n",
      "100\n"
     ]
    },
    {
     "name": "stderr",
     "output_type": "stream",
     "text": [
      "whole_iters:  89%|████████▉ | 392/441 [07:10<00:55,  1.14s/it]"
     ]
    },
    {
     "name": "stdout",
     "output_type": "stream",
     "text": [
      "100\n",
      "ratio of valid molecules : 100/100\n",
      "100\n",
      "100\n",
      "100\n"
     ]
    },
    {
     "name": "stderr",
     "output_type": "stream",
     "text": [
      "whole_iters:  89%|████████▉ | 393/441 [07:11<00:54,  1.14s/it]"
     ]
    },
    {
     "name": "stdout",
     "output_type": "stream",
     "text": [
      "100\n",
      "ratio of valid molecules : 100/100\n",
      "100\n",
      "100\n",
      "100\n"
     ]
    },
    {
     "name": "stderr",
     "output_type": "stream",
     "text": [
      "whole_iters:  89%|████████▉ | 394/441 [07:13<00:53,  1.13s/it]"
     ]
    },
    {
     "name": "stdout",
     "output_type": "stream",
     "text": [
      "100\n",
      "ratio of valid molecules : 100/100\n",
      "100\n",
      "100\n",
      "100\n"
     ]
    },
    {
     "name": "stderr",
     "output_type": "stream",
     "text": [
      "whole_iters:  90%|████████▉ | 395/441 [07:14<00:52,  1.13s/it]"
     ]
    },
    {
     "name": "stdout",
     "output_type": "stream",
     "text": [
      "100\n",
      "ratio of valid molecules : 100/100\n",
      "100\n",
      "100\n",
      "100\n"
     ]
    },
    {
     "name": "stderr",
     "output_type": "stream",
     "text": [
      "whole_iters:  90%|████████▉ | 396/441 [07:15<00:51,  1.14s/it]"
     ]
    },
    {
     "name": "stdout",
     "output_type": "stream",
     "text": [
      "100\n",
      "ratio of valid molecules : 100/100\n",
      "100\n",
      "100\n",
      "100\n"
     ]
    },
    {
     "name": "stderr",
     "output_type": "stream",
     "text": [
      "whole_iters:  90%|█████████ | 397/441 [07:16<00:50,  1.14s/it]"
     ]
    },
    {
     "name": "stdout",
     "output_type": "stream",
     "text": [
      "100\n",
      "ratio of valid molecules : 100/100\n",
      "100\n",
      "100\n",
      "100\n"
     ]
    },
    {
     "name": "stderr",
     "output_type": "stream",
     "text": [
      "whole_iters:  90%|█████████ | 398/441 [07:17<00:48,  1.14s/it]"
     ]
    },
    {
     "name": "stdout",
     "output_type": "stream",
     "text": [
      "100\n",
      "ratio of valid molecules : 100/100\n",
      "100\n",
      "100\n",
      "100\n"
     ]
    },
    {
     "name": "stderr",
     "output_type": "stream",
     "text": [
      "whole_iters:  90%|█████████ | 399/441 [07:18<00:48,  1.14s/it]"
     ]
    },
    {
     "name": "stdout",
     "output_type": "stream",
     "text": [
      "100\n",
      "ratio of valid molecules : 100/100\n",
      "100\n",
      "100\n",
      "100\n"
     ]
    },
    {
     "name": "stderr",
     "output_type": "stream",
     "text": [
      "whole_iters:  91%|█████████ | 400/441 [07:19<00:45,  1.12s/it]"
     ]
    },
    {
     "name": "stdout",
     "output_type": "stream",
     "text": [
      "100\n",
      "ratio of valid molecules : 100/100\n",
      "100\n",
      "100\n",
      "100\n"
     ]
    },
    {
     "name": "stderr",
     "output_type": "stream",
     "text": [
      "whole_iters:  91%|█████████ | 401/441 [07:20<00:43,  1.10s/it]"
     ]
    },
    {
     "name": "stdout",
     "output_type": "stream",
     "text": [
      "100\n",
      "ratio of valid molecules : 100/100\n",
      "100\n",
      "100\n",
      "100\n"
     ]
    },
    {
     "name": "stderr",
     "output_type": "stream",
     "text": [
      "whole_iters:  91%|█████████ | 402/441 [07:21<00:42,  1.09s/it]"
     ]
    },
    {
     "name": "stdout",
     "output_type": "stream",
     "text": [
      "100\n",
      "ratio of valid molecules : 100/100\n",
      "100\n",
      "100\n",
      "100\n"
     ]
    },
    {
     "name": "stderr",
     "output_type": "stream",
     "text": [
      "whole_iters:  91%|█████████▏| 403/441 [07:23<00:41,  1.09s/it]"
     ]
    },
    {
     "name": "stdout",
     "output_type": "stream",
     "text": [
      "100\n",
      "ratio of valid molecules : 100/100\n",
      "100\n",
      "100\n",
      "100\n"
     ]
    },
    {
     "name": "stderr",
     "output_type": "stream",
     "text": [
      "whole_iters:  92%|█████████▏| 404/441 [07:24<00:41,  1.12s/it]"
     ]
    },
    {
     "name": "stdout",
     "output_type": "stream",
     "text": [
      "100\n",
      "ratio of valid molecules : 100/100\n",
      "100\n",
      "100\n",
      "100\n"
     ]
    },
    {
     "name": "stderr",
     "output_type": "stream",
     "text": [
      "whole_iters:  92%|█████████▏| 405/441 [07:25<00:40,  1.12s/it]"
     ]
    },
    {
     "name": "stdout",
     "output_type": "stream",
     "text": [
      "100\n",
      "ratio of valid molecules : 100/100\n",
      "100\n",
      "100\n",
      "100\n"
     ]
    },
    {
     "name": "stderr",
     "output_type": "stream",
     "text": [
      "whole_iters:  92%|█████████▏| 406/441 [07:26<00:39,  1.12s/it]"
     ]
    },
    {
     "name": "stdout",
     "output_type": "stream",
     "text": [
      "100\n",
      "ratio of valid molecules : 100/100\n",
      "100\n",
      "100\n",
      "100\n"
     ]
    },
    {
     "name": "stderr",
     "output_type": "stream",
     "text": [
      "whole_iters:  92%|█████████▏| 407/441 [07:27<00:38,  1.12s/it]"
     ]
    },
    {
     "name": "stdout",
     "output_type": "stream",
     "text": [
      "100\n",
      "ratio of valid molecules : 100/100\n",
      "100\n",
      "100\n",
      "100\n"
     ]
    },
    {
     "name": "stderr",
     "output_type": "stream",
     "text": [
      "whole_iters:  93%|█████████▎| 408/441 [07:28<00:37,  1.13s/it]"
     ]
    },
    {
     "name": "stdout",
     "output_type": "stream",
     "text": [
      "100\n",
      "ratio of valid molecules : 100/100\n",
      "100\n",
      "100\n",
      "100\n"
     ]
    },
    {
     "name": "stderr",
     "output_type": "stream",
     "text": [
      "whole_iters:  93%|█████████▎| 409/441 [07:29<00:36,  1.13s/it]"
     ]
    },
    {
     "name": "stdout",
     "output_type": "stream",
     "text": [
      "100\n",
      "ratio of valid molecules : 100/100\n",
      "100\n",
      "100\n",
      "100\n"
     ]
    },
    {
     "name": "stderr",
     "output_type": "stream",
     "text": [
      "whole_iters:  93%|█████████▎| 410/441 [07:31<00:35,  1.13s/it]"
     ]
    },
    {
     "name": "stdout",
     "output_type": "stream",
     "text": [
      "100\n",
      "ratio of valid molecules : 100/100\n",
      "100\n",
      "100\n",
      "100\n"
     ]
    },
    {
     "name": "stderr",
     "output_type": "stream",
     "text": [
      "whole_iters:  93%|█████████▎| 411/441 [07:32<00:33,  1.13s/it]"
     ]
    },
    {
     "name": "stdout",
     "output_type": "stream",
     "text": [
      "100\n",
      "ratio of valid molecules : 100/100\n",
      "100\n",
      "100\n",
      "100\n"
     ]
    },
    {
     "name": "stderr",
     "output_type": "stream",
     "text": [
      "whole_iters:  93%|█████████▎| 412/441 [07:33<00:32,  1.13s/it]"
     ]
    },
    {
     "name": "stdout",
     "output_type": "stream",
     "text": [
      "100\n",
      "ratio of valid molecules : 100/100\n",
      "100\n",
      "100\n",
      "100\n"
     ]
    },
    {
     "name": "stderr",
     "output_type": "stream",
     "text": [
      "whole_iters:  94%|█████████▎| 413/441 [07:34<00:31,  1.14s/it]"
     ]
    },
    {
     "name": "stdout",
     "output_type": "stream",
     "text": [
      "100\n",
      "ratio of valid molecules : 100/100\n",
      "100\n",
      "100\n",
      "100\n"
     ]
    },
    {
     "name": "stderr",
     "output_type": "stream",
     "text": [
      "whole_iters:  94%|█████████▍| 414/441 [07:35<00:30,  1.14s/it]"
     ]
    },
    {
     "name": "stdout",
     "output_type": "stream",
     "text": [
      "100\n",
      "ratio of valid molecules : 100/100\n",
      "100\n",
      "100\n",
      "100\n"
     ]
    },
    {
     "name": "stderr",
     "output_type": "stream",
     "text": [
      "whole_iters:  94%|█████████▍| 415/441 [07:36<00:29,  1.14s/it]"
     ]
    },
    {
     "name": "stdout",
     "output_type": "stream",
     "text": [
      "100\n",
      "ratio of valid molecules : 100/100\n",
      "100\n",
      "100\n",
      "100\n"
     ]
    },
    {
     "name": "stderr",
     "output_type": "stream",
     "text": [
      "whole_iters:  94%|█████████▍| 416/441 [07:37<00:28,  1.14s/it]"
     ]
    },
    {
     "name": "stdout",
     "output_type": "stream",
     "text": [
      "100\n",
      "ratio of valid molecules : 100/100\n",
      "100\n",
      "100\n",
      "100\n"
     ]
    },
    {
     "name": "stderr",
     "output_type": "stream",
     "text": [
      "whole_iters:  95%|█████████▍| 417/441 [07:39<00:27,  1.17s/it]"
     ]
    },
    {
     "name": "stdout",
     "output_type": "stream",
     "text": [
      "100\n",
      "ratio of valid molecules : 100/100\n",
      "100\n",
      "100\n",
      "100\n"
     ]
    },
    {
     "name": "stderr",
     "output_type": "stream",
     "text": [
      "whole_iters:  95%|█████████▍| 418/441 [07:40<00:26,  1.16s/it]"
     ]
    },
    {
     "name": "stdout",
     "output_type": "stream",
     "text": [
      "100\n",
      "ratio of valid molecules : 100/100\n",
      "100\n",
      "100\n",
      "100\n"
     ]
    },
    {
     "name": "stderr",
     "output_type": "stream",
     "text": [
      "whole_iters:  95%|█████████▌| 419/441 [07:41<00:25,  1.15s/it]"
     ]
    },
    {
     "name": "stdout",
     "output_type": "stream",
     "text": [
      "100\n",
      "ratio of valid molecules : 100/100\n",
      "100\n",
      "100\n",
      "100\n"
     ]
    },
    {
     "name": "stderr",
     "output_type": "stream",
     "text": [
      "whole_iters:  95%|█████████▌| 420/441 [07:42<00:24,  1.16s/it]"
     ]
    },
    {
     "name": "stdout",
     "output_type": "stream",
     "text": [
      "100\n",
      "ratio of valid molecules : 100/100\n",
      "100\n",
      "100\n",
      "100\n"
     ]
    },
    {
     "name": "stderr",
     "output_type": "stream",
     "text": [
      "whole_iters:  95%|█████████▌| 421/441 [07:43<00:22,  1.13s/it]"
     ]
    },
    {
     "name": "stdout",
     "output_type": "stream",
     "text": [
      "100\n",
      "ratio of valid molecules : 100/100\n",
      "100\n",
      "100\n",
      "100\n"
     ]
    },
    {
     "name": "stderr",
     "output_type": "stream",
     "text": [
      "whole_iters:  96%|█████████▌| 422/441 [07:44<00:21,  1.11s/it]"
     ]
    },
    {
     "name": "stdout",
     "output_type": "stream",
     "text": [
      "100\n",
      "ratio of valid molecules : 100/100\n",
      "100\n",
      "100\n",
      "100\n"
     ]
    },
    {
     "name": "stderr",
     "output_type": "stream",
     "text": [
      "whole_iters:  96%|█████████▌| 423/441 [07:45<00:19,  1.10s/it]"
     ]
    },
    {
     "name": "stdout",
     "output_type": "stream",
     "text": [
      "100\n",
      "ratio of valid molecules : 100/100\n",
      "100\n",
      "100\n",
      "100\n"
     ]
    },
    {
     "name": "stderr",
     "output_type": "stream",
     "text": [
      "whole_iters:  96%|█████████▌| 424/441 [07:46<00:18,  1.11s/it]"
     ]
    },
    {
     "name": "stdout",
     "output_type": "stream",
     "text": [
      "100\n",
      "ratio of valid molecules : 100/100\n",
      "100\n",
      "100\n",
      "100\n"
     ]
    },
    {
     "name": "stderr",
     "output_type": "stream",
     "text": [
      "whole_iters:  96%|█████████▋| 425/441 [07:47<00:17,  1.11s/it]"
     ]
    },
    {
     "name": "stdout",
     "output_type": "stream",
     "text": [
      "100\n",
      "ratio of valid molecules : 100/100\n",
      "100\n",
      "100\n",
      "100\n"
     ]
    },
    {
     "name": "stderr",
     "output_type": "stream",
     "text": [
      "whole_iters:  97%|█████████▋| 426/441 [07:49<00:16,  1.11s/it]"
     ]
    },
    {
     "name": "stdout",
     "output_type": "stream",
     "text": [
      "100\n",
      "ratio of valid molecules : 100/100\n",
      "100\n",
      "100\n",
      "100\n"
     ]
    },
    {
     "name": "stderr",
     "output_type": "stream",
     "text": [
      "whole_iters:  97%|█████████▋| 427/441 [07:50<00:15,  1.12s/it]"
     ]
    },
    {
     "name": "stdout",
     "output_type": "stream",
     "text": [
      "100\n",
      "ratio of valid molecules : 100/100\n",
      "100\n",
      "100\n",
      "100\n"
     ]
    },
    {
     "name": "stderr",
     "output_type": "stream",
     "text": [
      "whole_iters:  97%|█████████▋| 428/441 [07:51<00:14,  1.12s/it]"
     ]
    },
    {
     "name": "stdout",
     "output_type": "stream",
     "text": [
      "100\n",
      "ratio of valid molecules : 100/100\n",
      "100\n",
      "100\n",
      "100\n"
     ]
    },
    {
     "name": "stderr",
     "output_type": "stream",
     "text": [
      "whole_iters:  97%|█████████▋| 429/441 [07:52<00:13,  1.12s/it]"
     ]
    },
    {
     "name": "stdout",
     "output_type": "stream",
     "text": [
      "100\n",
      "ratio of valid molecules : 100/100\n",
      "100\n",
      "100\n",
      "100\n"
     ]
    },
    {
     "name": "stderr",
     "output_type": "stream",
     "text": [
      "whole_iters:  98%|█████████▊| 430/441 [07:53<00:12,  1.14s/it]"
     ]
    },
    {
     "name": "stdout",
     "output_type": "stream",
     "text": [
      "100\n",
      "ratio of valid molecules : 100/100\n",
      "100\n",
      "100\n",
      "100\n"
     ]
    },
    {
     "name": "stderr",
     "output_type": "stream",
     "text": [
      "whole_iters:  98%|█████████▊| 431/441 [07:54<00:11,  1.13s/it]"
     ]
    },
    {
     "name": "stdout",
     "output_type": "stream",
     "text": [
      "100\n",
      "ratio of valid molecules : 100/100\n",
      "100\n",
      "100\n",
      "100\n"
     ]
    },
    {
     "name": "stderr",
     "output_type": "stream",
     "text": [
      "whole_iters:  98%|█████████▊| 432/441 [07:55<00:10,  1.13s/it]"
     ]
    },
    {
     "name": "stdout",
     "output_type": "stream",
     "text": [
      "100\n",
      "ratio of valid molecules : 100/100\n",
      "100\n",
      "100\n",
      "100\n"
     ]
    },
    {
     "name": "stderr",
     "output_type": "stream",
     "text": [
      "whole_iters:  98%|█████████▊| 433/441 [07:57<00:09,  1.13s/it]"
     ]
    },
    {
     "name": "stdout",
     "output_type": "stream",
     "text": [
      "100\n",
      "ratio of valid molecules : 100/100\n",
      "100\n",
      "100\n",
      "100\n"
     ]
    },
    {
     "name": "stderr",
     "output_type": "stream",
     "text": [
      "whole_iters:  98%|█████████▊| 434/441 [07:58<00:07,  1.13s/it]"
     ]
    },
    {
     "name": "stdout",
     "output_type": "stream",
     "text": [
      "100\n",
      "ratio of valid molecules : 100/100\n",
      "100\n",
      "100\n",
      "100\n"
     ]
    },
    {
     "name": "stderr",
     "output_type": "stream",
     "text": [
      "whole_iters:  99%|█████████▊| 435/441 [07:59<00:06,  1.13s/it]"
     ]
    },
    {
     "name": "stdout",
     "output_type": "stream",
     "text": [
      "100\n",
      "ratio of valid molecules : 100/100\n",
      "100\n",
      "100\n",
      "100\n"
     ]
    },
    {
     "name": "stderr",
     "output_type": "stream",
     "text": [
      "whole_iters:  99%|█████████▉| 436/441 [08:00<00:05,  1.14s/it]"
     ]
    },
    {
     "name": "stdout",
     "output_type": "stream",
     "text": [
      "100\n",
      "ratio of valid molecules : 100/100\n",
      "100\n",
      "100\n",
      "100\n"
     ]
    },
    {
     "name": "stderr",
     "output_type": "stream",
     "text": [
      "whole_iters:  99%|█████████▉| 437/441 [08:01<00:04,  1.13s/it]"
     ]
    },
    {
     "name": "stdout",
     "output_type": "stream",
     "text": [
      "100\n",
      "ratio of valid molecules : 100/100\n",
      "100\n",
      "100\n",
      "100\n"
     ]
    },
    {
     "name": "stderr",
     "output_type": "stream",
     "text": [
      "whole_iters:  99%|█████████▉| 438/441 [08:02<00:03,  1.14s/it]"
     ]
    },
    {
     "name": "stdout",
     "output_type": "stream",
     "text": [
      "100\n",
      "ratio of valid molecules : 100/100\n",
      "100\n",
      "100\n",
      "100\n"
     ]
    },
    {
     "name": "stderr",
     "output_type": "stream",
     "text": [
      "whole_iters: 100%|█████████▉| 439/441 [08:03<00:02,  1.15s/it]"
     ]
    },
    {
     "name": "stdout",
     "output_type": "stream",
     "text": [
      "100\n",
      "ratio of valid molecules : 100/100\n",
      "100\n",
      "100\n",
      "100\n"
     ]
    },
    {
     "name": "stderr",
     "output_type": "stream",
     "text": [
      "whole_iters: 100%|█████████▉| 440/441 [08:05<00:01,  1.15s/it]"
     ]
    },
    {
     "name": "stdout",
     "output_type": "stream",
     "text": [
      "100\n",
      "ratio of valid molecules : 100/100\n",
      "100\n",
      "100\n",
      "100\n"
     ]
    },
    {
     "name": "stderr",
     "output_type": "stream",
     "text": [
      "whole_iters: 100%|██████████| 441/441 [08:06<00:00,  1.10s/it]"
     ]
    },
    {
     "name": "stdout",
     "output_type": "stream",
     "text": [
      "100\n"
     ]
    },
    {
     "name": "stderr",
     "output_type": "stream",
     "text": [
      "\n",
      "Exception ignored in: <bound method IPythonKernel._clean_thread_parent_frames of <ipykernel.ipkernel.IPythonKernel object at 0x10ac7d370>>\n",
      "Traceback (most recent call last):\n",
      "  File \"/Users/jonghopark/miniconda3/envs/moses/lib/python3.8/site-packages/ipykernel/ipkernel.py\", line 770, in _clean_thread_parent_frames\n",
      "    def _clean_thread_parent_frames(\n",
      "KeyboardInterrupt: \n"
     ]
    },
    {
     "name": "stdout",
     "output_type": "stream",
     "text": [
      "           0         1         2         3         4         5         6  \\\n",
      "0   1.577071  1.820122  1.701107  1.726383  1.809799  1.842556  1.892006   \n",
      "1   1.693164  1.584457  1.717308  1.885898  1.795472  1.913336  1.901650   \n",
      "2   1.695172  1.801093  1.967790  1.861840  1.761180  1.873779  1.959348   \n",
      "3   1.935970  1.960246  1.692185  1.772073  1.749058  1.905704  1.989602   \n",
      "4   1.885802  1.855916  2.005695  1.889247  1.985727  1.969153  1.914151   \n",
      "5   1.838656  2.062854  1.769993  1.850605  1.922657  1.853826  2.058566   \n",
      "6   1.702283  1.890856  1.734964  1.904200  1.978011  2.027788  2.260999   \n",
      "7   1.937214  1.902491  1.976077  1.982097  1.981304  1.898091  2.301225   \n",
      "8   1.875944  1.917528  1.943567  2.089116  2.051865  2.199978  2.131305   \n",
      "9   1.965113  1.835541  1.907992  2.051186  2.104512  2.140057  2.238349   \n",
      "10  2.011650  1.913701  2.068888  1.980553  2.101565  2.320433  2.272588   \n",
      "11  2.030011  1.989669  2.118621  2.155955  2.203598  2.332834  2.226968   \n",
      "12  2.099849  2.231906  2.069406  1.996272  2.209655  2.288318  2.395796   \n",
      "13  2.199332  2.160522  2.108995  2.239075  2.346966  2.153729  2.280845   \n",
      "14  2.122209  2.145151  2.057703  2.221662  2.149705  2.529761  2.509873   \n",
      "15  2.131916  2.198267  2.207093  2.339602  2.323527  2.518679  2.387789   \n",
      "16  2.104267  2.475093  2.277863  2.465720  2.335380  2.417677  2.514295   \n",
      "17  2.372666  2.351159  2.350498  2.250384  2.329708  2.251564  2.524283   \n",
      "18  2.379938  2.533759  2.363856  2.547855  2.317977  2.398779  2.467695   \n",
      "19  2.357641  2.300666  2.556535  2.482008  2.477591  2.464459  2.418207   \n",
      "20  2.349279  2.219566  2.493839  2.430952  2.477435  2.504379  2.332025   \n",
      "\n",
      "           7         8         9  ...        11        12        13        14  \\\n",
      "0   1.801095  1.818206  1.931130  ...  2.190517  2.264535  2.135753  2.263040   \n",
      "1   1.984357  1.968326  1.941520  ...  1.940006  2.009130  1.943294  2.369053   \n",
      "2   1.840861  2.142581  2.103188  ...  2.144362  2.305686  2.147430  2.440645   \n",
      "3   2.004307  1.961162  2.165503  ...  2.002603  2.278424  2.375951  2.091622   \n",
      "4   1.945036  2.163031  2.001847  ...  2.173043  2.287072  2.259695  2.391095   \n",
      "5   2.102915  2.239167  2.266716  ...  2.072871  2.356623  2.330328  2.409129   \n",
      "6   2.364842  2.127094  2.193296  ...  2.598763  2.368101  2.347293  2.442065   \n",
      "7   2.062369  2.218095  2.327556  ...  2.459052  2.082094  2.484390  2.376306   \n",
      "8   2.105224  2.189368  2.255432  ...  2.355058  2.309124  2.243356  2.353184   \n",
      "9   2.230669  2.219454  2.368862  ...  2.488507  2.515487  2.535884  2.429073   \n",
      "10  2.287668  2.405808  2.198175  ...  2.383355  2.363745  2.498312  2.557271   \n",
      "11  2.551862  2.509566  2.472524  ...  2.570241  2.493530  2.300415  2.411013   \n",
      "12  2.347349  2.259085  2.497003  ...  2.292470  2.537046  2.440652  2.555620   \n",
      "13  2.441053  2.341274  2.392992  ...  2.528129  2.396749  2.494465  2.628118   \n",
      "14  2.412453  2.412492  2.500678  ...  2.424748  2.462739  2.494568  2.529060   \n",
      "15  2.621888  2.573041  2.536920  ...  2.477795  2.535803  2.530747  2.445911   \n",
      "16  2.348983  2.316698  2.505167  ...  2.566347  2.305990  2.479564  2.485886   \n",
      "17  2.447740  2.445390  2.500202  ...  2.491329  2.414420  2.465190  2.550065   \n",
      "18  2.380097  2.442066  2.668102  ...  2.578001  2.386663  2.337964  2.395075   \n",
      "19  2.618727  2.461190  2.360866  ...  2.305417  2.347162  2.416635  2.479105   \n",
      "20  2.268747  2.330028  2.618475  ...  2.444184  2.573495  2.477938  2.593476   \n",
      "\n",
      "          15        16        17        18        19        20  \n",
      "0   2.276925  2.327817  2.117906  2.285996  2.412086  2.436465  \n",
      "1   2.387657  2.239693  2.355914  2.451974  2.445827  2.368590  \n",
      "2   2.310239  2.375653  2.375736  2.508932  2.560416  2.489534  \n",
      "3   2.272611  2.315327  2.212950  2.444178  2.270125  2.406901  \n",
      "4   2.399303  2.318196  2.478939  2.353813  2.519165  2.413607  \n",
      "5   2.359436  2.271301  2.543384  2.379101  2.418830  2.427408  \n",
      "6   2.338496  2.416734  2.285696  2.444078  2.238538  2.445819  \n",
      "7   2.385087  2.559094  2.421573  2.415666  2.540109  2.461730  \n",
      "8   2.621093  2.383041  2.358180  2.463939  2.499405  2.420138  \n",
      "9   2.436106  2.401312  2.525292  2.412503  2.438808  2.389109  \n",
      "10  2.551003  2.577264  2.502599  2.503500  2.384855  2.420056  \n",
      "11  2.521349  2.386498  2.577202  2.589907  2.569496  2.499968  \n",
      "12  2.497889  2.505227  2.514919  2.581933  2.404366  2.368246  \n",
      "13  2.531358  2.527637  2.488631  2.495483  2.551101  2.551524  \n",
      "14  2.482790  2.342726  2.583119  2.434851  2.691435  2.513741  \n",
      "15  2.466600  2.614321  2.590232  2.361983  2.526816  2.626949  \n",
      "16  2.556765  2.394476  2.566024  2.495345  2.537957  2.329718  \n",
      "17  2.342121  2.494637  2.460736  2.496286  2.525683  2.407494  \n",
      "18  2.462078  2.428956  2.469049  2.534584  2.446102  2.552669  \n",
      "19  2.373165  2.395913  2.474902  2.618841  2.547793  2.406209  \n",
      "20  2.409761  2.557438  2.566407  2.506282  2.661750  2.592206  \n",
      "\n",
      "[21 rows x 21 columns]\n",
      "Index([0, 1, 2, 3, 4, 5, 6, 7, 8, 9, 10, 11, 12, 13, 14, 15, 16, 17, 18, 19,\n",
      "       20],\n",
      "      dtype='int64')\n",
      "[ 0  1  2  3  4  5  6  7  8  9 10 11 12 13 14 15 16 17 18 19 20]\n",
      "[[1.5770708 1.8201216 1.7011074 1.7263832 1.8097994 1.8425562 1.8920062\n",
      "  1.801095  1.8182055 1.9311302 2.0312428 2.1905168 2.2645349 2.135753\n",
      "  2.2630399 2.2769251 2.3278166 2.1179055 2.2859962 2.4120861 2.4364653]\n",
      " [1.6931644 1.5844567 1.717308  1.8858982 1.7954723 1.9133362 1.9016503\n",
      "  1.9843567 1.968326  1.9415204 1.8784383 1.9400056 2.0091301 1.9432941\n",
      "  2.3690526 2.3876569 2.2396929 2.3559144 2.4519738 2.445827  2.3685903]\n",
      " [1.6951718 1.8010933 1.9677898 1.86184   1.7611798 1.873779  1.9593485\n",
      "  1.8408612 2.1425808 2.1031883 2.1200062 2.1443623 2.3056857 2.1474303\n",
      "  2.4406446 2.3102391 2.3756531 2.375736  2.5089317 2.560416  2.4895343]\n",
      " [1.9359703 1.9602458 1.6921854 1.7720728 1.7490584 1.9057041 1.9896018\n",
      "  2.0043066 1.9611617 2.1655026 2.2746657 2.0026028 2.2784238 2.3759505\n",
      "  2.091622  2.272611  2.315327  2.2129501 2.4441784 2.2701253 2.4069014]\n",
      " [1.8858022 1.8559161 2.0056948 1.889247  1.9857272 1.9691533 1.9141505\n",
      "  1.945036  2.1630313 2.0018474 2.0860699 2.1730433 2.2870724 2.2596948\n",
      "  2.3910953 2.3993034 2.3181958 2.4789394 2.3538134 2.5191652 2.4136066]\n",
      " [1.8386558 2.0628539 1.7699932 1.8506049 1.9226572 1.8538258 2.058566\n",
      "  2.1029148 2.2391672 2.2667165 2.2671085 2.0728706 2.3566228 2.3303281\n",
      "  2.4091294 2.3594356 2.2713012 2.5433842 2.379101  2.4188296 2.4274076]\n",
      " [1.7022826 1.8908562 1.7349644 1.9041998 1.978011  2.0277883 2.2609986\n",
      "  2.3648424 2.1270937 2.1932955 2.2736553 2.5987626 2.3681009 2.3472932\n",
      "  2.442065  2.3384956 2.4167336 2.2856963 2.4440776 2.2385376 2.4458188]\n",
      " [1.9372138 1.9024905 1.976077  1.982097  1.9813037 1.8980906 2.3012246\n",
      "  2.0623692 2.2180951 2.327556  2.0625058 2.4590524 2.0820941 2.48439\n",
      "  2.3763064 2.3850869 2.5590941 2.4215728 2.4156664 2.5401088 2.4617299]\n",
      " [1.8759439 1.917528  1.943567  2.0891162 2.051865  2.1999784 2.1313051\n",
      "  2.1052238 2.1893682 2.2554315 2.2451887 2.3550575 2.3091244 2.2433557\n",
      "  2.3531842 2.6210925 2.3830405 2.3581795 2.4639387 2.4994045 2.4201377]\n",
      " [1.9651129 1.835541  1.9079915 2.0511856 2.1045123 2.140057  2.238349\n",
      "  2.2306687 2.2194543 2.3688618 2.419848  2.4885073 2.5154866 2.5358845\n",
      "  2.4290731 2.4361062 2.4013117 2.5252916 2.4125031 2.4388084 2.3891093]\n",
      " [2.0116499 1.9137012 2.0688878 1.9805531 2.1015645 2.320433  2.2725876\n",
      "  2.2876676 2.4058078 2.1981745 2.2587815 2.3833554 2.3637454 2.4983117\n",
      "  2.5572707 2.551003  2.5772644 2.5025987 2.5034998 2.3848546 2.4200555]\n",
      " [2.0300109 1.9896686 2.1186206 2.1559548 2.2035975 2.3328338 2.2269676\n",
      "  2.5518618 2.5095662 2.4725238 2.5704856 2.5702405 2.4935296 2.3004145\n",
      "  2.4110134 2.5213492 2.3864981 2.5772018 2.5899068 2.5694964 2.4999676]\n",
      " [2.0998486 2.2319056 2.0694058 1.9962719 2.2096547 2.2883182 2.3957958\n",
      "  2.3473486 2.2590846 2.4970032 2.4935428 2.29247   2.537046  2.4406518\n",
      "  2.5556204 2.4978886 2.5052266 2.5149185 2.5819331 2.4043657 2.368246 ]\n",
      " [2.1993322 2.1605219 2.1089951 2.2390745 2.346966  2.1537287 2.2808446\n",
      "  2.4410527 2.3412739 2.3929916 2.4615719 2.5281292 2.3967487 2.4944649\n",
      "  2.628118  2.5313582 2.5276372 2.4886309 2.495483  2.5511009 2.5515236]\n",
      " [2.1222095 2.145151  2.0577026 2.2216616 2.1497045 2.5297608 2.5098728\n",
      "  2.4124532 2.4124916 2.5006778 2.5142232 2.4247484 2.4627388 2.494568\n",
      "  2.5290602 2.4827896 2.3427264 2.5831189 2.4348507 2.6914346 2.5137413]\n",
      " [2.1319157 2.198267  2.2070932 2.3396021 2.323527  2.5186794 2.3877892\n",
      "  2.6218876 2.5730406 2.5369198 2.6856614 2.4777949 2.535803  2.5307474\n",
      "  2.4459112 2.4666004 2.6143206 2.590232  2.3619828 2.5268156 2.6269489]\n",
      " [2.1042668 2.4750932 2.277863  2.46572   2.3353802 2.4176772 2.5142947\n",
      "  2.3489827 2.3166979 2.5051665 2.4863402 2.5663471 2.3059895 2.4795635\n",
      "  2.4858858 2.5567654 2.3944755 2.5660236 2.4953452 2.537957  2.3297184]\n",
      " [2.3726663 2.3511587 2.3504984 2.2503838 2.3297079 2.2515638 2.5242829\n",
      "  2.4477398 2.4453902 2.5002017 2.4028227 2.4913292 2.4144204 2.4651897\n",
      "  2.5500652 2.3421213 2.4946374 2.4607357 2.4962856 2.5256826 2.4074938]\n",
      " [2.379938  2.533759  2.3638556 2.5478548 2.3179769 2.3987793 2.4676948\n",
      "  2.3800974 2.4420657 2.6681017 2.4280499 2.5780006 2.3866634 2.3379639\n",
      "  2.395075  2.4620783 2.4289555 2.469049  2.5345844 2.4461024 2.5526688]\n",
      " [2.3576411 2.300666  2.5565346 2.4820078 2.477591  2.4644586 2.4182065\n",
      "  2.6187266 2.4611901 2.3608656 2.5550113 2.3054168 2.3471617 2.416635\n",
      "  2.4791054 2.3731648 2.3959128 2.4749024 2.6188414 2.5477932 2.4062094]\n",
      " [2.3492788 2.2195658 2.4938391 2.4309522 2.477435  2.5043788 2.332025\n",
      "  2.2687474 2.3300275 2.6184748 2.5127563 2.4441836 2.5734946 2.4779376\n",
      "  2.593476  2.409761  2.5574382 2.566407  2.5062821 2.6617501 2.5922062]]\n",
      "           0         1         2         3         4         5         6  \\\n",
      "0   2.508796  2.371574  2.413895  2.433495  2.502998  2.438576  2.550117   \n",
      "1   2.372502  2.507522  2.430101  2.564532  2.463320  2.488900  2.503748   \n",
      "2   2.371308  2.577695  2.548887  2.507987  2.597936  2.539736  2.633134   \n",
      "3   2.447643  2.372500  2.620445  2.645185  2.702726  2.531036  2.490230   \n",
      "4   2.517456  2.526788  2.474443  2.580706  2.575038  2.562987  2.698229   \n",
      "5   2.600175  2.470701  2.665838  2.575874  2.626585  2.657643  2.671248   \n",
      "6   2.576224  2.500826  2.601012  2.535101  2.539683  2.555323  2.487015   \n",
      "7   2.446536  2.631344  2.669048  2.666941  2.621483  2.771836  2.617612   \n",
      "8   2.589653  2.656411  2.592410  2.609848  2.645745  2.572300  2.739314   \n",
      "9   2.596198  2.593052  2.706887  2.751748  2.737774  2.640208  2.689055   \n",
      "10  2.678339  2.631111  2.674944  2.657482  2.589975  2.479401  2.626558   \n",
      "11  2.677938  2.731839  2.711156  2.692261  2.794357  2.741138  2.768775   \n",
      "12  2.587143  2.631938  2.649338  2.733976  2.769162  2.909177  2.692483   \n",
      "13  2.765053  2.609093  2.699833  2.604604  2.643291  2.649709  2.732775   \n",
      "14  2.649828  2.683886  2.706820  2.756963  2.805830  2.625226  2.668216   \n",
      "15  2.678919  2.671380  2.780062  2.837315  2.716685  2.635197  2.794148   \n",
      "16  2.650107  2.568638  2.694624  2.714288  2.725967  2.634130  2.678339   \n",
      "17  2.663691  2.805998  2.666125  2.868808  2.697683  2.672181  2.714109   \n",
      "18  2.638481  2.681532  2.705501  2.671666  2.879763  2.718891  2.676272   \n",
      "19  2.623835  2.739495  2.696564  2.689767  2.735104  2.772249  2.634523   \n",
      "20  2.688605  2.577875  2.697267  2.738571  2.627862  2.507097  2.632380   \n",
      "\n",
      "           7         8         9  ...        11        12        13        14  \\\n",
      "0   2.600609  2.594607  2.607520  ...  2.614433  2.675278  2.556425  2.629663   \n",
      "1   2.604651  2.639118  2.512878  ...  2.645942  2.708535  2.925546  2.812765   \n",
      "2   2.595080  2.620747  2.648658  ...  2.616002  2.670381  2.776045  2.704038   \n",
      "3   2.613009  2.542784  2.652920  ...  2.791316  2.587184  2.773291  2.744326   \n",
      "4   2.652757  2.579297  2.632141  ...  2.581520  2.813207  2.834962  2.862342   \n",
      "5   2.703090  2.644212  2.581247  ...  2.698927  2.646304  2.791290  2.719783   \n",
      "6   2.579430  2.723438  2.611423  ...  2.611052  2.648607  2.585587  2.674650   \n",
      "7   2.859443  2.681388  2.756254  ...  2.620952  2.725328  2.779969  2.707779   \n",
      "8   2.698320  2.609213  2.537205  ...  2.593796  2.631789  2.737124  2.715405   \n",
      "9   2.716268  2.702091  2.711026  ...  2.638295  2.870069  2.777187  2.749795   \n",
      "10  2.813254  2.630991  2.655543  ...  2.757107  2.795560  2.776867  2.728996   \n",
      "11  2.583519  2.672157  2.634021  ...  2.857095  2.702590  2.551731  2.699311   \n",
      "12  2.645756  2.664959  2.681949  ...  2.758328  2.647375  2.829700  2.551731   \n",
      "13  2.768448  2.705848  2.661750  ...  2.606961  2.762759  2.560749  2.755040   \n",
      "14  2.699179  2.673553  2.680136  ...  2.737911  2.650087  2.630662  2.735857   \n",
      "15  2.555491  2.647764  2.734366  ...  2.599774  2.676905  2.628013  2.814243   \n",
      "16  2.708799  2.737666  2.773645  ...  2.767797  2.731683  2.724265  2.750277   \n",
      "17  2.908085  2.661164  2.771016  ...  2.720063  2.731196  2.789700  2.574810   \n",
      "18  2.688294  2.728796  2.680668  ...  2.636580  2.789506  2.796660  2.807457   \n",
      "19  2.550472  2.686610  2.596487  ...  2.773447  2.708984  2.629056  2.684149   \n",
      "20  2.713486  2.670156  2.695994  ...  2.605842  2.675670  2.741397  2.854547   \n",
      "\n",
      "          15        16        17        18        19        20  \n",
      "0   2.741340  2.708961  2.781732  2.785093  2.819983  2.808065  \n",
      "1   2.682739  2.764209  2.625951  2.723612  2.594524  2.618140  \n",
      "2   2.654657  2.674342  2.715143  2.657161  2.723482  2.579336  \n",
      "3   2.630998  2.660555  2.802206  2.746263  2.654646  2.649633  \n",
      "4   2.541902  2.619743  2.609729  2.672033  2.656910  2.646051  \n",
      "5   2.767390  2.673307  2.579894  2.567897  2.598529  2.653809  \n",
      "6   2.665174  2.576066  2.663658  2.618082  2.687022  2.687353  \n",
      "7   2.661465  2.683215  2.851976  2.684293  2.706271  2.594658  \n",
      "8   2.540021  2.651552  2.702749  2.642492  2.782263  2.578438  \n",
      "9   2.678069  2.714972  2.621324  2.675569  2.711732  2.722170  \n",
      "10  2.771587  2.693558  2.773080  2.562599  2.612120  2.787248  \n",
      "11  2.822837  2.629895  2.564757  2.710988  2.639695  2.746206  \n",
      "12  2.667017  2.632521  2.613290  2.746508  2.773380  2.832862  \n",
      "13  2.486669  2.658500  2.786533  2.707183  2.675025  2.784911  \n",
      "14  2.654788  2.761272  2.745428  2.849505  2.677849  2.778721  \n",
      "15  2.627825  2.663927  2.777719  2.821455  2.763646  2.809457  \n",
      "16  2.581943  2.740040  2.666924  2.927259  2.864412  2.937039  \n",
      "17  2.761433  2.789064  2.887491  2.797034  2.840687  2.862471  \n",
      "18  2.804447  2.806965  2.830813  2.844148  2.705323  2.921529  \n",
      "19  2.846095  2.955649  2.858725  2.775133  2.980343  2.858530  \n",
      "20  2.895006  2.935430  2.958642  2.972388  2.888742  2.928578  \n",
      "\n",
      "[21 rows x 21 columns]\n",
      "Index([0, 1, 2, 3, 4, 5, 6, 7, 8, 9, 10, 11, 12, 13, 14, 15, 16, 17, 18, 19,\n",
      "       20],\n",
      "      dtype='int64')\n",
      "[ 0  1  2  3  4  5  6  7  8  9 10 11 12 13 14 15 16 17 18 19 20]\n",
      "[[2.50879644 2.37157408 2.41389512 2.43349516 2.50299761 2.43857641\n",
      "  2.55011719 2.60060908 2.59460713 2.60752018 2.47495384 2.61443327\n",
      "  2.6752782  2.55642463 2.6296633  2.74134011 2.70896141 2.78173175\n",
      "  2.78509344 2.81998296 2.80806487]\n",
      " [2.37250205 2.50752227 2.43010134 2.56453238 2.46331987 2.48890022\n",
      "  2.50374802 2.60465131 2.63911757 2.51287849 2.58269731 2.645942\n",
      "  2.7085355  2.92554636 2.81276501 2.68273891 2.76420935 2.62595089\n",
      "  2.72361167 2.59452442 2.6181401 ]\n",
      " [2.37130849 2.57769495 2.54888669 2.50798739 2.5979357  2.53973584\n",
      "  2.6331336  2.59507986 2.62074731 2.64865829 2.63470311 2.61600159\n",
      "  2.67038098 2.77604541 2.70403786 2.65465665 2.67434215 2.71514316\n",
      "  2.65716054 2.72348235 2.57933552]\n",
      " [2.44764256 2.37249982 2.62044516 2.64518548 2.70272587 2.53103581\n",
      "  2.49022983 2.61300879 2.54278403 2.65292001 2.65551019 2.79131553\n",
      "  2.58718442 2.77329104 2.7443258  2.63099829 2.66055518 2.80220642\n",
      "  2.74626332 2.65464647 2.6496335 ]\n",
      " [2.5174557  2.52678837 2.47444295 2.58070648 2.57503823 2.56298693\n",
      "  2.69822904 2.65275712 2.57929709 2.63214061 2.55024583 2.58151973\n",
      "  2.81320723 2.83496174 2.86234156 2.54190182 2.61974298 2.60972943\n",
      "  2.67203314 2.65690993 2.64605143]\n",
      " [2.60017509 2.47070062 2.66583784 2.57587401 2.62658517 2.65764285\n",
      "  2.67124834 2.70309028 2.64421184 2.58124655 2.6444838  2.69892735\n",
      "  2.6463042  2.79128977 2.7197834  2.76738997 2.67330691 2.5798945\n",
      "  2.56789654 2.59852897 2.65380931]\n",
      " [2.57622369 2.50082568 2.60101209 2.5351015  2.53968326 2.555323\n",
      "  2.48701511 2.57943009 2.72343849 2.6114228  2.71565629 2.61105217\n",
      "  2.64860667 2.58558683 2.67465033 2.66517402 2.5760656  2.66365832\n",
      "  2.61808159 2.68702185 2.68735293]\n",
      " [2.44653591 2.63134414 2.66904786 2.66694062 2.62148271 2.7718364\n",
      "  2.61761193 2.85944255 2.68138762 2.75625394 2.78009612 2.62095176\n",
      "  2.72532822 2.77996899 2.70777904 2.66146496 2.6832146  2.8519761\n",
      "  2.68429343 2.70627056 2.59465779]\n",
      " [2.58965344 2.65641068 2.59240997 2.609848   2.64574455 2.57230022\n",
      "  2.73931449 2.69831962 2.60921282 2.53720463 2.64957637 2.59379627\n",
      "  2.63178931 2.73712408 2.71540499 2.54002117 2.65155209 2.70274941\n",
      "  2.64249226 2.78226307 2.57843837]\n",
      " [2.59619824 2.59305156 2.70688656 2.75174811 2.73777423 2.64020829\n",
      "  2.6890554  2.71626771 2.70209149 2.71102599 2.65240806 2.63829512\n",
      "  2.87006907 2.77718719 2.7497947  2.67806946 2.71497201 2.62132434\n",
      "  2.67556947 2.71173231 2.72217041]\n",
      " [2.67833887 2.63111127 2.67494431 2.65748247 2.58997547 2.47940129\n",
      "  2.62655803 2.81325423 2.6309912  2.65554263 2.59578372 2.75710709\n",
      "  2.79555951 2.77686698 2.7289958  2.77158749 2.69355794 2.77307983\n",
      "  2.56259923 2.61211968 2.78724781]\n",
      " [2.67793778 2.73183925 2.71115621 2.69226116 2.79435716 2.74113807\n",
      "  2.7687748  2.58351852 2.67215705 2.63402098 2.64998547 2.85709474\n",
      "  2.70259025 2.55173098 2.69931089 2.82283715 2.62989486 2.56475652\n",
      "  2.7109878  2.63969468 2.74620568]\n",
      " [2.58714296 2.63193755 2.64933833 2.73397576 2.76916157 2.9091768\n",
      "  2.69248253 2.64575588 2.66495855 2.68194862 2.71971171 2.7583278\n",
      "  2.6473746  2.82969966 2.55173078 2.66701728 2.63252126 2.61328984\n",
      "  2.74650831 2.77338045 2.83286176]\n",
      " [2.76505321 2.60909341 2.69983293 2.60460443 2.64329139 2.64970941\n",
      "  2.73277493 2.76844785 2.70584766 2.66174976 2.67926758 2.60696105\n",
      "  2.76275885 2.56074926 2.75504027 2.48666929 2.65849969 2.78653299\n",
      "  2.70718278 2.6750253  2.78491146]\n",
      " [2.64982846 2.68388572 2.70682011 2.7569633  2.80583016 2.62522611\n",
      "  2.66821627 2.69917881 2.6735527  2.68013624 2.69740043 2.73791129\n",
      "  2.65008695 2.63066182 2.73585685 2.65478811 2.76127237 2.74542819\n",
      "  2.84950521 2.67784863 2.77872091]\n",
      " [2.67891869 2.67138018 2.78006245 2.83731481 2.71668502 2.63519672\n",
      "  2.79414834 2.55549099 2.6477636  2.73436614 2.6535102  2.5997741\n",
      "  2.67690454 2.62801258 2.81424283 2.62782501 2.66392735 2.77771919\n",
      "  2.82145466 2.76364585 2.80945731]\n",
      " [2.65010699 2.56863788 2.69462356 2.71428848 2.72596714 2.63413047\n",
      "  2.67833853 2.708799   2.7376663  2.77364549 2.60653021 2.76779713\n",
      "  2.73168333 2.72426525 2.75027689 2.58194295 2.74004044 2.66692399\n",
      "  2.92725938 2.86441188 2.93703931]\n",
      " [2.66369112 2.80599817 2.66612476 2.86880793 2.69768315 2.67218109\n",
      "  2.71410939 2.90808513 2.6611639  2.771016   2.62327658 2.72006341\n",
      "  2.73119571 2.78969984 2.57480966 2.7614328  2.78906406 2.88749072\n",
      "  2.79703381 2.84068671 2.86247123]\n",
      " [2.6384812  2.68153202 2.70550119 2.67166609 2.87976323 2.71889093\n",
      "  2.67627225 2.68829429 2.72879582 2.68066806 2.61911125 2.63658011\n",
      "  2.78950566 2.79666001 2.80745652 2.80444684 2.80696547 2.83081267\n",
      "  2.8441484  2.70532289 2.92152883]\n",
      " [2.62383454 2.73949482 2.69656427 2.68976734 2.73510427 2.77224871\n",
      "  2.63452335 2.55047168 2.68660991 2.59648698 2.69826581 2.77344729\n",
      "  2.70898402 2.62905552 2.6841486  2.84609471 2.95564881 2.85872486\n",
      "  2.77513278 2.98034252 2.85852956]\n",
      " [2.68860504 2.57787475 2.69726687 2.73857093 2.62786224 2.50709733\n",
      "  2.63238028 2.71348558 2.67015586 2.69599435 2.64564774 2.60584222\n",
      "  2.67566993 2.74139709 2.85454689 2.89500643 2.93543029 2.95864153\n",
      "  2.97238776 2.88874188 2.92857769]]\n",
      "           0         1         2         3         4         5         6  \\\n",
      "0   0.744409  0.766607  0.744205  0.765986  0.775569  0.780689  0.773412   \n",
      "1   0.748057  0.735898  0.774106  0.760005  0.764990  0.772091  0.776124   \n",
      "2   0.744366  0.768057  0.763752  0.760483  0.761802  0.791356  0.782512   \n",
      "3   0.761429  0.766970  0.770749  0.766262  0.786882  0.786979  0.778454   \n",
      "4   0.755189  0.769781  0.773002  0.784461  0.789577  0.772232  0.776840   \n",
      "5   0.747114  0.788593  0.781348  0.777337  0.780505  0.770794  0.776055   \n",
      "6   0.775620  0.781115  0.757868  0.778881  0.766974  0.769494  0.802688   \n",
      "7   0.776023  0.777023  0.784441  0.769323  0.777871  0.776813  0.780539   \n",
      "8   0.769980  0.775071  0.777108  0.768393  0.764441  0.787689  0.784734   \n",
      "9   0.770437  0.759828  0.777039  0.765331  0.776070  0.765066  0.788918   \n",
      "10  0.794971  0.783726  0.791941  0.791832  0.789228  0.783623  0.794733   \n",
      "11  0.774024  0.775639  0.777131  0.768427  0.774178  0.796223  0.758109   \n",
      "12  0.761069  0.770388  0.797726  0.785822  0.779396  0.784944  0.783867   \n",
      "13  0.791053  0.768376  0.781273  0.775640  0.793554  0.799404  0.780429   \n",
      "14  0.777261  0.781646  0.764758  0.792514  0.760994  0.793665  0.792081   \n",
      "15  0.791346  0.791458  0.775366  0.769685  0.785977  0.800249  0.783550   \n",
      "16  0.773976  0.787380  0.787519  0.813053  0.771090  0.800715  0.777346   \n",
      "17  0.784425  0.792673  0.805108  0.777183  0.789936  0.778749  0.783480   \n",
      "18  0.781220  0.790092  0.805080  0.804150  0.776654  0.795902  0.786890   \n",
      "19  0.788923  0.786273  0.793024  0.801634  0.787444  0.789190  0.789232   \n",
      "20  0.778320  0.777915  0.787594  0.796945  0.786434  0.775335  0.780114   \n",
      "\n",
      "           7         8         9  ...        11        12        13        14  \\\n",
      "0   0.772873  0.751510  0.760132  ...  0.783756  0.787344  0.781702  0.785255   \n",
      "1   0.769019  0.781109  0.797790  ...  0.773132  0.779500  0.780512  0.789253   \n",
      "2   0.776687  0.778999  0.767915  ...  0.778250  0.805098  0.788439  0.777800   \n",
      "3   0.774712  0.788184  0.791825  ...  0.770305  0.794759  0.754422  0.782060   \n",
      "4   0.768078  0.791941  0.781604  ...  0.780160  0.781421  0.792869  0.787103   \n",
      "5   0.792796  0.784008  0.790351  ...  0.792079  0.788639  0.779310  0.781086   \n",
      "6   0.796376  0.754799  0.781224  ...  0.775205  0.787519  0.800799  0.793998   \n",
      "7   0.754349  0.779913  0.785892  ...  0.788863  0.775062  0.793373  0.805545   \n",
      "8   0.781011  0.783544  0.798539  ...  0.793103  0.795229  0.785457  0.798094   \n",
      "9   0.772287  0.781563  0.792587  ...  0.785431  0.802322  0.775764  0.781931   \n",
      "10  0.789175  0.788857  0.776905  ...  0.791131  0.792674  0.785665  0.796589   \n",
      "11  0.788636  0.793067  0.803880  ...  0.792877  0.787332  0.796571  0.787303   \n",
      "12  0.801083  0.791509  0.791865  ...  0.796285  0.811612  0.787178  0.802639   \n",
      "13  0.792333  0.773780  0.766369  ...  0.791752  0.747368  0.784756  0.801525   \n",
      "14  0.788463  0.798498  0.789851  ...  0.778501  0.797808  0.792498  0.789439   \n",
      "15  0.784371  0.787360  0.792610  ...  0.771891  0.782205  0.772105  0.754667   \n",
      "16  0.789198  0.800670  0.779587  ...  0.794567  0.797069  0.798225  0.777009   \n",
      "17  0.787798  0.797965  0.805659  ...  0.782698  0.781626  0.773334  0.796251   \n",
      "18  0.772728  0.785413  0.781351  ...  0.793503  0.799746  0.792438  0.798608   \n",
      "19  0.805486  0.775858  0.777877  ...  0.783055  0.796950  0.782322  0.793289   \n",
      "20  0.782358  0.781037  0.800158  ...  0.796791  0.799157  0.779094  0.774340   \n",
      "\n",
      "          15        16        17        18        19        20  \n",
      "0   0.780317  0.772975  0.782989  0.782206  0.759162  0.788299  \n",
      "1   0.777279  0.768682  0.794923  0.781761  0.812447  0.783966  \n",
      "2   0.784705  0.795054  0.787010  0.801009  0.791790  0.813842  \n",
      "3   0.792119  0.779195  0.789046  0.779416  0.782923  0.786540  \n",
      "4   0.792925  0.800674  0.815747  0.777020  0.768963  0.811168  \n",
      "5   0.767726  0.793949  0.779256  0.810960  0.804732  0.795698  \n",
      "6   0.798748  0.816432  0.802445  0.795998  0.798211  0.770782  \n",
      "7   0.790944  0.797310  0.797889  0.798564  0.798586  0.810925  \n",
      "8   0.803090  0.801053  0.792248  0.786333  0.789360  0.767255  \n",
      "9   0.787304  0.784390  0.804404  0.795801  0.785726  0.815049  \n",
      "10  0.783205  0.806799  0.783626  0.807994  0.797181  0.767661  \n",
      "11  0.799973  0.808238  0.801446  0.785482  0.775953  0.803850  \n",
      "12  0.789872  0.796323  0.791064  0.798996  0.788065  0.771101  \n",
      "13  0.797419  0.783258  0.797814  0.777720  0.780287  0.761321  \n",
      "14  0.758361  0.770400  0.790279  0.775510  0.781004  0.762367  \n",
      "15  0.778100  0.815896  0.795081  0.776638  0.798202  0.766322  \n",
      "16  0.803060  0.803621  0.778466  0.785756  0.772856  0.764845  \n",
      "17  0.794760  0.762822  0.770716  0.795179  0.754579  0.758553  \n",
      "18  0.774339  0.775312  0.791623  0.795195  0.799083  0.784538  \n",
      "19  0.801907  0.768308  0.798142  0.769840  0.760449  0.795438  \n",
      "20  0.768308  0.766279  0.770025  0.785309  0.805488  0.770545  \n",
      "\n",
      "[21 rows x 21 columns]\n",
      "Index([0, 1, 2, 3, 4, 5, 6, 7, 8, 9, 10, 11, 12, 13, 14, 15, 16, 17, 18, 19,\n",
      "       20],\n",
      "      dtype='int64')\n",
      "[ 0  1  2  3  4  5  6  7  8  9 10 11 12 13 14 15 16 17 18 19 20]\n",
      "[[0.74440885 0.76660655 0.74420548 0.76598595 0.77556905 0.78068865\n",
      "  0.77341216 0.77287342 0.7515096  0.76013193 0.79138164 0.78375576\n",
      "  0.78734375 0.78170195 0.78525544 0.780317   0.77297505 0.78298887\n",
      "  0.78220644 0.75916204 0.78829861]\n",
      " [0.7480574  0.73589794 0.77410622 0.76000514 0.7649903  0.77209105\n",
      "  0.77612369 0.76901899 0.78110911 0.79779    0.78728008 0.77313189\n",
      "  0.77950018 0.78051196 0.78925288 0.77727889 0.76868246 0.79492255\n",
      "  0.78176137 0.81244742 0.78396554]\n",
      " [0.74436593 0.768057   0.76375231 0.76048302 0.76180189 0.79135605\n",
      "  0.78251186 0.77668727 0.77899867 0.76791504 0.79268389 0.77825023\n",
      "  0.80509807 0.78843864 0.77779981 0.7847046  0.79505403 0.78701012\n",
      "  0.80100938 0.79178954 0.8138416 ]\n",
      " [0.76142874 0.7669702  0.77074933 0.76626212 0.78688233 0.786979\n",
      "  0.77845368 0.77471233 0.78818367 0.7918254  0.79659747 0.7703045\n",
      "  0.79475909 0.75442156 0.78205965 0.79211923 0.77919473 0.78904626\n",
      "  0.77941571 0.78292306 0.78654044]\n",
      " [0.75518939 0.76978117 0.77300198 0.78446098 0.78957695 0.77223156\n",
      "  0.77683977 0.76807801 0.79194116 0.78160408 0.78381722 0.78015997\n",
      "  0.78142129 0.79286916 0.78710323 0.79292473 0.80067436 0.81574711\n",
      "  0.7770197  0.76896349 0.81116835]\n",
      " [0.74711436 0.78859281 0.78134814 0.77733692 0.78050502 0.77079393\n",
      "  0.77605459 0.79279649 0.78400837 0.79035134 0.77590033 0.79207947\n",
      "  0.78863945 0.77931035 0.78108575 0.76772615 0.79394938 0.7792563\n",
      "  0.81096031 0.80473236 0.79569805]\n",
      " [0.77561976 0.78111451 0.75786795 0.77888135 0.76697394 0.76949384\n",
      "  0.80268759 0.7963758  0.75479908 0.78122435 0.75284656 0.7752047\n",
      "  0.78751926 0.80079898 0.79399805 0.79874841 0.81643234 0.80244525\n",
      "  0.7959984  0.79821066 0.77078186]\n",
      " [0.77602339 0.77702338 0.78444112 0.76932324 0.77787068 0.77681271\n",
      "  0.78053921 0.75434886 0.77991259 0.78589222 0.7975515  0.78886298\n",
      "  0.77506224 0.79337276 0.80554541 0.79094415 0.79730995 0.79788888\n",
      "  0.79856389 0.798586   0.8109249 ]\n",
      " [0.7699796  0.77507073 0.7771076  0.76839343 0.76444106 0.78768941\n",
      "  0.78473415 0.78101135 0.78354412 0.79853949 0.79327645 0.79310278\n",
      "  0.79522943 0.78545654 0.79809448 0.80309046 0.80105309 0.79224822\n",
      "  0.78633326 0.78936018 0.76725515]\n",
      " [0.77043673 0.75982776 0.77703854 0.76533052 0.77607029 0.76506642\n",
      "  0.78891767 0.77228677 0.78156343 0.79258688 0.79743208 0.78543061\n",
      "  0.80232164 0.77576383 0.78193117 0.78730404 0.78439048 0.80440423\n",
      "  0.79580053 0.78572564 0.81504867]\n",
      " [0.79497127 0.78372579 0.79194093 0.79183229 0.789228   0.78362333\n",
      "  0.79473316 0.78917514 0.78885714 0.77690456 0.78237654 0.79113114\n",
      "  0.79267421 0.78566515 0.7965885  0.78320466 0.8067992  0.78362575\n",
      "  0.80799414 0.79718085 0.76766115]\n",
      " [0.77402375 0.77563856 0.77713141 0.76842672 0.77417774 0.7962229\n",
      "  0.75810861 0.78863612 0.79306675 0.80388038 0.79714137 0.7928774\n",
      "  0.78733158 0.79657117 0.78730285 0.79997348 0.80823759 0.80144635\n",
      "  0.78548192 0.77595257 0.80385037]\n",
      " [0.7610691  0.77038815 0.79772612 0.78582241 0.77939583 0.78494425\n",
      "  0.78386698 0.80108329 0.79150864 0.79186505 0.80056855 0.79628545\n",
      "  0.81161231 0.78717809 0.80263923 0.78987162 0.79632319 0.79106415\n",
      "  0.79899562 0.78806521 0.77110116]\n",
      " [0.79105308 0.7683759  0.78127337 0.77563979 0.79355374 0.79940409\n",
      "  0.78042948 0.7923333  0.7737805  0.76636918 0.80874008 0.79175242\n",
      "  0.74736793 0.78475631 0.80152548 0.79741867 0.78325825 0.79781378\n",
      "  0.77772035 0.78028741 0.76132076]\n",
      " [0.77726094 0.78164609 0.76475782 0.79251424 0.76099448 0.79366476\n",
      "  0.79208121 0.7884628  0.79849776 0.78985078 0.78034056 0.77850116\n",
      "  0.79780846 0.79249801 0.78943864 0.75836133 0.77040011 0.79027922\n",
      "  0.77551007 0.78100434 0.76236678]\n",
      " [0.7913462  0.79145824 0.77536622 0.76968506 0.78597744 0.80024926\n",
      "  0.78354952 0.7843715  0.78735967 0.79261006 0.80672354 0.77189084\n",
      "  0.78220518 0.7721052  0.75466712 0.77809998 0.81589557 0.79508128\n",
      "  0.77663751 0.7982021  0.76632173]\n",
      " [0.77397627 0.78738013 0.78751869 0.81305282 0.77108974 0.80071498\n",
      "  0.77734597 0.7891976  0.80066977 0.77958694 0.78930931 0.79456657\n",
      "  0.79706945 0.79822458 0.7770085  0.80306002 0.8036213  0.77846646\n",
      "  0.78575648 0.77285604 0.76484453]\n",
      " [0.78442534 0.79267314 0.8051081  0.7771825  0.78993625 0.77874893\n",
      "  0.78347992 0.7877982  0.79796494 0.80565866 0.77731669 0.78269832\n",
      "  0.78162578 0.77333364 0.79625144 0.79475959 0.76282207 0.77071587\n",
      "  0.79517933 0.75457896 0.75855264]\n",
      " [0.78121969 0.79009155 0.80507989 0.80415033 0.77665385 0.79590173\n",
      "  0.78689024 0.77272758 0.78541318 0.78135111 0.76841903 0.79350305\n",
      "  0.7997456  0.79243809 0.79860751 0.77433936 0.77531167 0.7916231\n",
      "  0.79519506 0.79908347 0.78453774]\n",
      " [0.78892339 0.78627254 0.79302441 0.80163362 0.78744354 0.78919024\n",
      "  0.78923216 0.8054861  0.77585764 0.77787661 0.77942191 0.78305502\n",
      "  0.79695017 0.78232182 0.79328917 0.80190694 0.76830792 0.79814221\n",
      "  0.76983958 0.76044863 0.79543764]\n",
      " [0.77831982 0.77791503 0.78759415 0.79694493 0.7864342  0.7753353\n",
      "  0.78011383 0.78235795 0.78103746 0.80015849 0.79820537 0.79679097\n",
      "  0.79915702 0.77909352 0.77434036 0.76830817 0.7662786  0.77002466\n",
      "  0.78530895 0.8054883  0.77054482]]\n",
      "           0         1         2         3         4         5         6  \\\n",
      "0   1.213248  1.461459  1.307132  1.396435  1.374848  1.464867  1.316944   \n",
      "1   1.367785  1.171967  1.440430  1.235493  1.361632  1.371555  1.376870   \n",
      "2   1.350521  1.262590  1.269875  1.294428  1.211074  1.417044  1.279426   \n",
      "3   1.359501  1.462351  1.233301  1.186125  1.231686  1.403859  1.402039   \n",
      "4   1.258491  1.322117  1.390567  1.341598  1.372847  1.298171  1.185970   \n",
      "5   1.135397  1.472263  1.240903  1.310811  1.275940  1.196327  1.209025   \n",
      "6   1.301875  1.404747  1.188328  1.359305  1.295186  1.292146  1.526423   \n",
      "7   1.433581  1.253773  1.253158  1.179676  1.267871  1.112227  1.285084   \n",
      "8   1.260245  1.218943  1.293128  1.232119  1.176461  1.366147  1.184356   \n",
      "9   1.255985  1.206087  1.178306  1.074904  1.142577  1.185124  1.255533   \n",
      "10  1.296517  1.287518  1.284760  1.301679  1.356165  1.438715  1.347108   \n",
      "11  1.192181  1.146354  1.174501  1.149872  1.076532  1.239976  1.021768   \n",
      "12  1.218203  1.220003  1.339292  1.195136  1.127818  1.015544  1.226852   \n",
      "13  1.190212  1.232786  1.206534  1.273595  1.324477  1.347311  1.169372   \n",
      "14  1.236476  1.224345  1.116969  1.205608  0.999142  1.343098  1.292190   \n",
      "15  1.277812  1.285911  1.096769  1.011111  1.213202  1.366050  1.123599   \n",
      "16  1.219774  1.368263  1.242970  1.350976  1.129482  1.369444  1.208391   \n",
      "17  1.258436  1.157368  1.359416  1.017105  1.251998  1.221564  1.203290   \n",
      "18  1.267617  1.268926  1.319898  1.349086  1.003506  1.260618  1.258179   \n",
      "19  1.320782  1.191868  1.268558  1.318401  1.202113  1.173702  1.311637   \n",
      "20  1.202994  1.311700  1.240704  1.246154  1.304309  1.369579  1.268189   \n",
      "\n",
      "           7         8         9  ...        11        12        13        14  \\\n",
      "0   1.263758  1.162941  1.193139  ...  1.304346  1.261441  1.352085  1.296614   \n",
      "1   1.240444  1.266428  1.476071  ...  1.219717  1.188965  0.977013  1.133499   \n",
      "2   1.288357  1.274246  1.190917  ...  1.275250  1.355109  1.166148  1.184961   \n",
      "3   1.260553  1.398134  1.306207  ...  1.060207  1.386611  0.998817  1.165972   \n",
      "4   1.187633  1.380409  1.275880  ...  1.319280  1.093899  1.129384  1.073175   \n",
      "5   1.260892  1.275830  1.370510  ...  1.261470  1.296893  1.105262  1.185645   \n",
      "6   1.402449  1.050557  1.294699  ...  1.264971  1.288990  1.418408  1.295340   \n",
      "7   0.912302  1.218175  1.173207  ...  1.323363  1.149983  1.186895  1.319948   \n",
      "8   1.206737  1.308508  1.455493  ...  1.371718  1.344358  1.190159  1.275067   \n",
      "9   1.145166  1.205726  1.251908  ...  1.288858  1.141539  1.101632  1.159861   \n",
      "10  1.132621  1.313295  1.228980  ...  1.198549  1.167812  1.151459  1.253947   \n",
      "11  1.359662  1.293177  1.385381  ...  1.107292  1.234068  1.431125  1.237203   \n",
      "12  1.359661  1.292585  1.277377  ...  1.223099  1.410687  1.106191  1.461465   \n",
      "13  1.193219  1.163055  1.170096  ...  1.351801  0.974081  1.363032  1.252587   \n",
      "14  1.243135  1.318936  1.269118  ...  1.154595  1.338955  1.331828  1.211336   \n",
      "15  1.366367  1.289035  1.228684  ...  1.259680  1.234121  1.232513  0.959093   \n",
      "16  1.237189  1.265683  1.124289  ...  1.205036  1.253664  1.266858  1.134766   \n",
      "17  1.030906  1.328661  1.257277  ...  1.193428  1.176933  1.076968  1.406448   \n",
      "18  1.175344  1.198270  1.226088  ...  1.330935  1.209222  1.165530  1.185581   \n",
      "19  1.476959  1.192678  1.292896  ...  1.141828  1.275767  1.282554  1.282297   \n",
      "20  1.198304  1.235031  1.304798  ...  1.378113  1.320115  1.154070  1.017155   \n",
      "\n",
      "          15        16        17        18        19        20  \n",
      "0   1.160245  1.155914  1.133213  1.125939  0.975827  1.133428  \n",
      "1   1.203656  1.079203  1.348662  1.185195  1.467713  1.301688  \n",
      "2   1.268866  1.300928  1.219907  1.347886  1.235465  1.489872  \n",
      "3   1.329598  1.235418  1.143025  1.150815  1.259969  1.283069  \n",
      "4   1.422722  1.383629  1.469006  1.213065  1.187908  1.409790  \n",
      "5   1.071241  1.296440  1.316387  1.486905  1.425133  1.324681  \n",
      "6   1.328568  1.506096  1.348568  1.361910  1.304031  1.166556  \n",
      "7   1.293256  1.303335  1.137468  1.308526  1.286659  1.459967  \n",
      "8   1.475431  1.353713  1.258492  1.289174  1.164538  1.257837  \n",
      "9   1.258451  1.206980  1.400697  1.303433  1.216896  1.353073  \n",
      "10  1.144436  1.340438  1.145049  1.477371  1.373785  1.051058  \n",
      "11  1.177030  1.411293  1.442475  1.216422  1.240068  1.273046  \n",
      "12  1.282341  1.349095  1.342031  1.248470  1.166946  1.022644  \n",
      "13  1.500424  1.257792  1.202536  1.181419  1.226412  1.021692  \n",
      "14  1.137019  1.090728  1.205968  1.028045  1.227173  1.033113  \n",
      "15  1.262675  1.415550  1.197687  1.061733  1.227365  1.022151  \n",
      "16  1.433357  1.278066  1.225408  1.001523  0.999868  0.887183  \n",
      "17  1.212365  1.025046  0.966089  1.178863  0.932208  0.930292  \n",
      "18  1.067250  1.069593  1.127303  1.131827  1.290094  1.001160  \n",
      "19  1.163440  0.885891  1.131986  1.074065  0.821901  1.118659  \n",
      "20  0.946534  0.895963  0.891482  0.954157  1.138700  0.924146  \n",
      "\n",
      "[21 rows x 21 columns]\n",
      "Index([0, 1, 2, 3, 4, 5, 6, 7, 8, 9, 10, 11, 12, 13, 14, 15, 16, 17, 18, 19,\n",
      "       20],\n",
      "      dtype='int64')\n",
      "[ 0  1  2  3  4  5  6  7  8  9 10 11 12 13 14 15 16 17 18 19 20]\n",
      "[[1.2132478  1.46145866 1.30713228 1.39643458 1.37484763 1.46486684\n",
      "  1.3169436  1.26375803 1.16294089 1.19313948 1.48195437 1.30434555\n",
      "  1.26144055 1.35208512 1.29661392 1.16024489 1.15591383 1.13321262\n",
      "  1.12593877 0.97582724 1.13342817]\n",
      " [1.36778497 1.17196745 1.44042978 1.23549331 1.36163163 1.37155502\n",
      "  1.37687041 1.24044364 1.26642799 1.47607149 1.35370308 1.21971745\n",
      "  1.1889654  0.97701343 1.13349939 1.20365552 1.07920297 1.34866187\n",
      "  1.18519516 1.46771266 1.3016876 ]\n",
      " [1.35052114 1.26259003 1.26987485 1.29442769 1.21107374 1.41704444\n",
      "  1.27942573 1.2883565  1.27424603 1.1909169  1.32871634 1.27524956\n",
      "  1.35510938 1.1661478  1.18496117 1.26886637 1.30092798 1.21990742\n",
      "  1.34788636 1.23546535 1.48987247]\n",
      " [1.35950113 1.46235116 1.23330149 1.18612513 1.23168579 1.4038592\n",
      "  1.40203857 1.26055286 1.3981343  1.306207   1.32747715 1.06020697\n",
      "  1.38661102 0.99881677 1.16597247 1.32959787 1.2354185  1.14302489\n",
      "  1.15081521 1.25996885 1.28306873]\n",
      " [1.25849127 1.32211747 1.39056696 1.3415984  1.37284653 1.29817086\n",
      "  1.18596979 1.18763291 1.38040869 1.27587981 1.36884028 1.31928014\n",
      "  1.09389921 1.12938404 1.07317461 1.42272183 1.38362881 1.46900612\n",
      "  1.21306536 1.1879075  1.40979033]\n",
      " [1.13539671 1.47226345 1.24090287 1.3108106  1.27593995 1.19632678\n",
      "  1.2090246  1.26089218 1.27583001 1.37051016 1.23501787 1.26147\n",
      "  1.29689308 1.105262   1.18564534 1.07124079 1.29644    1.31638701\n",
      "  1.48690499 1.42513281 1.32468094]\n",
      " [1.3018751  1.40474686 1.18832768 1.35930527 1.29518644 1.29214618\n",
      "  1.52642284 1.40244891 1.05055689 1.29469896 1.04857649 1.26497131\n",
      "  1.28898965 1.41840806 1.29533993 1.32856802 1.50609612 1.34856794\n",
      "  1.36191039 1.30403147 1.16655638]\n",
      " [1.43358104 1.25377274 1.25315772 1.17967559 1.2678707  1.11222716\n",
      "  1.28508414 0.91230176 1.21817534 1.17320714 1.20766137 1.32336311\n",
      "  1.14998297 1.18689483 1.31994803 1.29325578 1.30333516 1.13746829\n",
      "  1.30852602 1.28665943 1.45996673]\n",
      " [1.26024454 1.21894297 1.29312803 1.23211915 1.17646077 1.36614684\n",
      "  1.18435628 1.20673713 1.3085078  1.45549284 1.31680588 1.37171765\n",
      "  1.34435786 1.19015862 1.2750674  1.47543115 1.35371337 1.25849167\n",
      "  1.28917404 1.16453783 1.25783741]\n",
      " [1.25598542 1.20608725 1.17830616 1.0749045  1.14257721 1.18512382\n",
      "  1.25553294 1.14516612 1.20572564 1.2519084  1.33475236 1.28885794\n",
      "  1.14153913 1.10163195 1.15986113 1.25845072 1.20698038 1.40069678\n",
      "  1.30343318 1.21689591 1.35307295]\n",
      " [1.29651748 1.28751767 1.28476034 1.30167899 1.35616451 1.43871537\n",
      "  1.34710775 1.13262149 1.3132945  1.22898017 1.31609898 1.19854858\n",
      "  1.16781155 1.15145879 1.25394671 1.1444358  1.34043803 1.14504894\n",
      "  1.47737146 1.37378458 1.05105795]\n",
      " [1.19218095 1.14635354 1.17450086 1.14987243 1.07653157 1.23997641\n",
      "  1.02176824 1.35966208 1.29317672 1.38538093 1.33572137 1.10729226\n",
      "  1.23406766 1.43112486 1.23720336 1.17703024 1.41129308 1.44247523\n",
      "  1.21642182 1.24006818 1.27304616]\n",
      " [1.21820254 1.22000321 1.33929228 1.1951363  1.12781758 1.01554444\n",
      "  1.22685237 1.35966055 1.29258464 1.27737663 1.28313104 1.22309945\n",
      "  1.41068694 1.10619077 1.46146535 1.28234083 1.34909468 1.34203091\n",
      "  1.24846978 1.16694558 1.02264402]\n",
      " [1.19021217 1.23278608 1.20653393 1.27359454 1.3244773  1.34731105\n",
      "  1.16937248 1.19321862 1.16305484 1.17009612 1.36443283 1.35180107\n",
      "  0.97408083 1.3630323  1.25258712 1.50042407 1.25779158 1.2025359\n",
      "  1.18141896 1.22641176 1.02169235]\n",
      " [1.23647625 1.22434473 1.11696898 1.20560792 0.99914226 1.34309768\n",
      "  1.29218976 1.24313521 1.31893608 1.26911767 1.20430235 1.15459451\n",
      "  1.33895535 1.33182822 1.21133635 1.13701856 1.09072817 1.20596792\n",
      "  1.02804514 1.22717308 1.03311298]\n",
      " [1.27781233 1.28591104 1.09676867 1.01111051 1.21320219 1.36604955\n",
      "  1.12359926 1.3663665  1.28903476 1.22868417 1.38010751 1.25968012\n",
      "  1.23412134 1.23251343 0.95909275 1.2626749  1.41555049 1.19768722\n",
      "  1.06173288 1.22736463 1.02215135]\n",
      " [1.21977438 1.36826275 1.24296987 1.35097563 1.12948155 1.36944444\n",
      "  1.20839131 1.23718901 1.26568252 1.12428923 1.34001632 1.20503572\n",
      "  1.25366394 1.26685766 1.13476563 1.43335715 1.27806608 1.22540833\n",
      "  1.00152302 0.99986833 0.88718333]\n",
      " [1.25843559 1.15736752 1.35941574 1.01710457 1.25199811 1.22156355\n",
      "  1.20329024 1.03090587 1.32866081 1.25727732 1.26330685 1.1934282\n",
      "  1.17693317 1.07696837 1.40644755 1.21236514 1.02504627 0.96608863\n",
      "  1.17886287 0.93220812 0.93029196]\n",
      " [1.26761725 1.26892575 1.31989825 1.34908557 1.00350601 1.26061774\n",
      "  1.25817894 1.17534359 1.19827008 1.2260875  1.22298389 1.33093513\n",
      "  1.20922236 1.16553042 1.18558103 1.06724996 1.06959287 1.12730284\n",
      "  1.13182689 1.29009445 1.00115989]\n",
      " [1.32078242 1.1918679  1.26855778 1.31840077 1.20211344 1.17370247\n",
      "  1.31163746 1.47695882 1.19267828 1.29289608 1.19884376 1.1418278\n",
      "  1.27576682 1.28255361 1.28229723 1.16343997 0.88589082 1.13198621\n",
      "  1.07406513 0.82190063 1.11865862]\n",
      " [1.20299405 1.31170042 1.24070386 1.24615374 1.30430875 1.36957915\n",
      "  1.26818885 1.19830415 1.23503146 1.30479811 1.34537912 1.37811264\n",
      "  1.32011516 1.15407049 1.01715491 0.94653444 0.89596271 0.89148177\n",
      "  0.95415698 1.13869962 0.92414641]]\n",
      "------------- Experiment 3 -------------\n"
     ]
    },
    {
     "name": "stderr",
     "output_type": "stream",
     "text": [
      "whole_iters:   0%|          | 1/441 [00:00<03:49,  1.92it/s]"
     ]
    },
    {
     "name": "stdout",
     "output_type": "stream",
     "text": [
      "ratio of valid molecules : 100/100\n",
      "100\n",
      "100\n",
      "100\n",
      "100\n"
     ]
    },
    {
     "name": "stderr",
     "output_type": "stream",
     "text": [
      "whole_iters:   0%|          | 2/441 [00:01<03:50,  1.90it/s]"
     ]
    },
    {
     "name": "stdout",
     "output_type": "stream",
     "text": [
      "ratio of valid molecules : 100/100\n",
      "100\n",
      "100\n",
      "100\n",
      "100\n"
     ]
    },
    {
     "name": "stderr",
     "output_type": "stream",
     "text": [
      "whole_iters:   1%|          | 3/441 [00:01<04:07,  1.77it/s]"
     ]
    },
    {
     "name": "stdout",
     "output_type": "stream",
     "text": [
      "ratio of valid molecules : 100/100\n",
      "100\n",
      "100\n",
      "100\n",
      "100\n"
     ]
    },
    {
     "name": "stderr",
     "output_type": "stream",
     "text": [
      "whole_iters:   1%|          | 4/441 [00:02<03:53,  1.87it/s]"
     ]
    },
    {
     "name": "stdout",
     "output_type": "stream",
     "text": [
      "ratio of valid molecules : 100/100\n",
      "100\n",
      "100\n",
      "100\n",
      "100\n"
     ]
    },
    {
     "name": "stderr",
     "output_type": "stream",
     "text": [
      "whole_iters:   1%|          | 5/441 [00:02<03:48,  1.91it/s]"
     ]
    },
    {
     "name": "stdout",
     "output_type": "stream",
     "text": [
      "ratio of valid molecules : 100/100\n",
      "100\n",
      "100\n",
      "100\n",
      "100\n"
     ]
    },
    {
     "name": "stderr",
     "output_type": "stream",
     "text": [
      "whole_iters:   1%|▏         | 6/441 [00:03<03:54,  1.85it/s]"
     ]
    },
    {
     "name": "stdout",
     "output_type": "stream",
     "text": [
      "ratio of valid molecules : 100/100\n",
      "100\n",
      "100\n",
      "100\n",
      "100\n"
     ]
    },
    {
     "name": "stderr",
     "output_type": "stream",
     "text": [
      "whole_iters:   2%|▏         | 7/441 [00:03<03:51,  1.88it/s]"
     ]
    },
    {
     "name": "stdout",
     "output_type": "stream",
     "text": [
      "ratio of valid molecules : 100/100\n",
      "100\n",
      "100\n",
      "100\n",
      "100\n"
     ]
    },
    {
     "name": "stderr",
     "output_type": "stream",
     "text": [
      "whole_iters:   2%|▏         | 8/441 [00:04<03:47,  1.90it/s]"
     ]
    },
    {
     "name": "stdout",
     "output_type": "stream",
     "text": [
      "ratio of valid molecules : 100/100\n",
      "100\n",
      "100\n",
      "100\n",
      "100\n"
     ]
    },
    {
     "name": "stderr",
     "output_type": "stream",
     "text": [
      "whole_iters:   2%|▏         | 9/441 [00:04<03:50,  1.88it/s]"
     ]
    },
    {
     "name": "stdout",
     "output_type": "stream",
     "text": [
      "ratio of valid molecules : 100/100\n",
      "100\n",
      "100\n",
      "100\n",
      "100\n"
     ]
    },
    {
     "name": "stderr",
     "output_type": "stream",
     "text": [
      "whole_iters:   2%|▏         | 10/441 [00:05<04:09,  1.73it/s]"
     ]
    },
    {
     "name": "stdout",
     "output_type": "stream",
     "text": [
      "ratio of valid molecules : 100/100\n",
      "100\n",
      "100\n",
      "100\n",
      "100\n"
     ]
    },
    {
     "name": "stderr",
     "output_type": "stream",
     "text": [
      "whole_iters:   2%|▏         | 11/441 [00:06<04:03,  1.77it/s]"
     ]
    },
    {
     "name": "stdout",
     "output_type": "stream",
     "text": [
      "ratio of valid molecules : 100/100\n",
      "100\n",
      "100\n",
      "100\n",
      "100\n"
     ]
    },
    {
     "name": "stderr",
     "output_type": "stream",
     "text": [
      "whole_iters:   3%|▎         | 12/441 [00:06<03:55,  1.82it/s]"
     ]
    },
    {
     "name": "stdout",
     "output_type": "stream",
     "text": [
      "ratio of valid molecules : 100/100\n",
      "100\n",
      "100\n",
      "100\n",
      "100\n"
     ]
    },
    {
     "name": "stderr",
     "output_type": "stream",
     "text": [
      "whole_iters:   3%|▎         | 13/441 [00:07<03:48,  1.88it/s]"
     ]
    },
    {
     "name": "stdout",
     "output_type": "stream",
     "text": [
      "ratio of valid molecules : 100/100\n",
      "100\n",
      "100\n",
      "100\n",
      "100\n"
     ]
    }
   ],
   "source": [
    "for i, (ranges, temp) in enumerate(experiments):\n",
    "    print(f\"------------- Experiment {i} -------------\")\n",
    "\n",
    "    if i<=1:\n",
    "        continue\n",
    "    \n",
    "    grid = sample_latent_space(test_mol[\"mu\"][0], model, ranges=ranges, temp=temp, n_trials=100, n_grid=10, orthogonal_vec=(v1,v2),\n",
    "                               prop_save_name=f\"{save_folder_path}/csv_folder/{prop_fname}_{i}.csv\", props=[\"logP\", \"SA\", \"qed\", \"obj\"],\n",
    "                               save_name=f\"{save_folder_path}/csv_folder/{mol_fname}_{i}.csv\", use_selfies=config.use_selfies)\n",
    "    \n",
    "    plot_freq_mols(grid, save_name=f\"{save_folder_path}/mol_plot/{mol_fname}_{i}.png\")\n",
    "\n",
    "    for prop in [\"logP\", \"SA\", \"qed\", \"obj\"]:\n",
    "        plot_prop_mols(prop_grid_info=f\"{save_folder_path}/csv_folder/{prop_fname}_{i}.csv_{prop}.csv\", save_name=f\"{save_folder_path}/prop_plot/{prop_fname}_{i}_{prop}.png\")"
   ]
  },
  {
   "cell_type": "code",
   "execution_count": null,
   "metadata": {},
   "outputs": [
    {
     "data": {
      "image/png": "[encoded data removed]",
      "text/plain": [
       "<Figure size 1000x1000 with 441 Axes>"
      ]
     },
     "metadata": {},
     "output_type": "display_data"
    },
    {
     "data": {
      "text/plain": [
       "<Figure size 640x480 with 0 Axes>"
      ]
     },
     "metadata": {},
     "output_type": "display_data"
    },
    {
     "data": {
      "image/png": "[encoded data removed]",
      "text/plain": [
       "<Figure size 1000x1000 with 441 Axes>"
      ]
     },
     "metadata": {},
     "output_type": "display_data"
    },
    {
     "data": {
      "text/plain": [
       "<Figure size 640x480 with 0 Axes>"
      ]
     },
     "metadata": {},
     "output_type": "display_data"
    },
    {
     "data": {
      "image/png": "[encoded data removed]",
      "text/plain": [
       "<Figure size 1000x1000 with 441 Axes>"
      ]
     },
     "metadata": {},
     "output_type": "display_data"
    },
    {
     "data": {
      "text/plain": [
       "<Figure size 640x480 with 0 Axes>"
      ]
     },
     "metadata": {},
     "output_type": "display_data"
    },
    {
     "data": {
      "image/png": "[encoded data removed]",
      "text/plain": [
       "<Figure size 1000x1000 with 441 Axes>"
      ]
     },
     "metadata": {},
     "output_type": "display_data"
    },
    {
     "data": {
      "text/plain": [
       "<Figure size 640x480 with 0 Axes>"
      ]
     },
     "metadata": {},
     "output_type": "display_data"
    },
    {
     "data": {
      "image/png": "[encoded data removed]",
      "text/plain": [
       "<Figure size 1000x1000 with 441 Axes>"
      ]
     },
     "metadata": {},
     "output_type": "display_data"
    },
    {
     "data": {
      "text/plain": [
       "<Figure size 640x480 with 0 Axes>"
      ]
     },
     "metadata": {},
     "output_type": "display_data"
    },
    {
     "data": {
      "image/png": "[encoded data removed]",
      "text/plain": [
       "<Figure size 1000x1000 with 441 Axes>"
      ]
     },
     "metadata": {},
     "output_type": "display_data"
    },
    {
     "data": {
      "text/plain": [
       "<Figure size 640x480 with 0 Axes>"
      ]
     },
     "metadata": {},
     "output_type": "display_data"
    },
    {
     "data": {
      "image/png": "[encoded data removed]",
      "text/plain": [
       "<Figure size 1000x1000 with 441 Axes>"
      ]
     },
     "metadata": {},
     "output_type": "display_data"
    },
    {
     "data": {
      "text/plain": [
       "<Figure size 640x480 with 0 Axes>"
      ]
     },
     "metadata": {},
     "output_type": "display_data"
    },
    {
     "data": {
      "image/png": "[encoded data removed]",
      "text/plain": [
       "<Figure size 1000x1000 with 441 Axes>"
      ]
     },
     "metadata": {},
     "output_type": "display_data"
    },
    {
     "data": {
      "text/plain": [
       "<Figure size 640x480 with 0 Axes>"
      ]
     },
     "metadata": {},
     "output_type": "display_data"
    },
    {
     "data": {
      "image/png": "[encoded data removed]",
      "text/plain": [
       "<Figure size 1000x1000 with 441 Axes>"
      ]
     },
     "metadata": {},
     "output_type": "display_data"
    },
    {
     "data": {
      "text/plain": [
       "<Figure size 640x480 with 0 Axes>"
      ]
     },
     "metadata": {},
     "output_type": "display_data"
    }
   ],
   "source": [
    "for exp_num in range(9):\n",
    "    freq_df = pd.read_csv(f\"{save_folder_path}/csv_folder/{mol_fname}_{exp_num}.csv\", index_col=0)\n",
    "    freq_df = freq_df.where(pd.notnull(freq_df), None)\n",
    "    plot_freq_mols_with_color(freq_df, save_name=f\"{save_folder_path}/color_plot/{mol_fname}_{exp_num}_color.png\")"
   ]
  },
  {
   "cell_type": "code",
   "execution_count": null,
   "metadata": {},
   "outputs": [],
   "source": [
    "# TODO : modify the code for successfully decoding the decoded molecule from the model using selfies\n",
    "# TODO : implement some code for representing latnet space with t-sne"
   ]
  }
 ],
 "metadata": {
  "kernelspec": {
   "display_name": "moses",
   "language": "python",
   "name": "python3"
  },
  "language_info": {
   "codemirror_mode": {
    "name": "ipython",
    "version": 3
   },
   "file_extension": ".py",
   "mimetype": "text/x-python",
   "name": "python",
   "nbconvert_exporter": "python",
   "pygments_lexer": "ipython3",
   "version": "3.8.19"
  }
 },
 "nbformat": 4,
 "nbformat_minor": 2
}
