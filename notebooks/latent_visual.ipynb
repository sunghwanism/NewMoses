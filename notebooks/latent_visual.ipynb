{
 "cells": [
  {
   "cell_type": "code",
   "execution_count": null,
   "metadata": {},
   "outputs": [],
   "source": [
    "import numpy as np\n",
    "import pandas as pd\n",
    "import torch\n",
    "\n",
    "\n",
    "from rdkit import Chem, RDLogger\n",
    "RDLogger.DisableLog('rdApp.*')\n",
    "from rdkit.Chem import PandasTools\n",
    "\n",
    "\n",
    "from collections import Counter\n",
    "from itertools import product\n",
    "import zipfile\n",
    "from io import BytesIO\n",
    "\n",
    "import selfies as sf\n",
    "\n",
    "from sklearn.decomposition import PCA\n",
    "from sklearn.preprocessing import MinMaxScaler\n",
    "import matplotlib.pyplot as plt\n",
    "from sklearn.manifold import TSNE\n",
    "\n",
    "from tqdm import tqdm"
   ]
  },
  {
   "cell_type": "code",
   "execution_count": null,
   "metadata": {},
   "outputs": [],
   "source": [
    "import sys\n",
    "sys.path.append(\"..\")\n",
    "import moses\n",
    "from moses.vae import VAE\n",
    "from moses.vae_property import VAEPROPERTY\n",
    "from moses.utils import CharVocab, StringDataset, SELFIESVocab\n",
    "from moses.vae.trainer import VAETrainer\n",
    "from moses.vae_property.trainer import VAEPROPERTYTrainer \n",
    "\n",
    "from moses.metrics import QED, SA, logP\n",
    "from moses.utils import get_mol"
   ]
  },
  {
   "cell_type": "markdown",
   "metadata": {},
   "source": [
    "# 1. Loading data"
   ]
  },
  {
   "cell_type": "markdown",
   "metadata": {},
   "source": [
    "## 1.1 Loading model"
   ]
  },
  {
   "cell_type": "code",
   "execution_count": null,
   "metadata": {},
   "outputs": [],
   "source": [
    "folder_path = \"../model_results/ZINC250K_vae_property_obj_ws\"\n",
    "\n",
    "config_path = \"vae_property_config.pt\"\n",
    "model_path = \"vae_property_model_080.pt\"\n",
    "\n",
    "config = torch.load(f\"{folder_path}/{config_path}\")\n",
    "\n",
    "vocab_path = \"vae_property_vocab.pt\"\n",
    "vocab = torch.load(f\"{folder_path}/{vocab_path}\")\n",
    "\n",
    "model = VAEPROPERTY(vocab, config)\n",
    "model.load_state_dict(torch.load(f\"{folder_path}/{model_path}\"))\n",
    "\n"
   ]
  },
  {
   "cell_type": "markdown",
   "metadata": {},
   "source": [
    "## 1.2 Loading train data"
   ]
  },
  {
   "cell_type": "code",
   "execution_count": null,
   "metadata": {},
   "outputs": [],
   "source": [
    "data_folder_path = \"../moses/dataset/data/ZINC250K\"\n",
    "\n",
    "file_name = \"train.csv\"\n",
    "\n",
    "data = pd.read_csv(f\"{data_folder_path}/{file_name}\")"
   ]
  },
  {
   "cell_type": "code",
   "execution_count": null,
   "metadata": {},
   "outputs": [],
   "source": [
    "data.head() #it has smiles, selfies, logP, qed, SAS, obj values"
   ]
  },
  {
   "cell_type": "markdown",
   "metadata": {},
   "source": [
    "### 1.2.1 generate whole_latent_data"
   ]
  },
  {
   "cell_type": "code",
   "execution_count": null,
   "metadata": {},
   "outputs": [],
   "source": [
    "np.random.seed(42)\n",
    "samples = data.iloc[np.random.choice(data.shape[0], 1000, replace=False)]"
   ]
  },
  {
   "cell_type": "code",
   "execution_count": null,
   "metadata": {},
   "outputs": [],
   "source": [
    "def get_latent_info(mol_smiles, model):\n",
    "    mu, log_var, z, _ = model.forward_encoder(model.string2tensor(mol_smiles).reshape(1,-1))\n",
    "\n",
    "    return mu, log_var, z"
   ]
  },
  {
   "cell_type": "code",
   "execution_count": null,
   "metadata": {},
   "outputs": [],
   "source": [
    "def get_latent_whole_info(data, model):\n",
    "    mu_list = []\n",
    "    log_var_list = []\n",
    "    z_list = []\n",
    "    for i in range(len(data)):\n",
    "        mu, log_var, z = get_latent_info(data[\"SMILES\"].iloc[i], model)\n",
    "        mu_list.append(mu)\n",
    "        log_var_list.append(log_var)\n",
    "        z_list.append(z)\n",
    "\n",
    "    mu_df = pd.DataFrame([[point.detach().cpu().numpy()]for point in mu_list], columns=[\"mu\"], index=data.index)\n",
    "    logvar_df = pd.DataFrame([[point.detach().cpu().numpy()]for point in log_var_list], columns=[\"logvar\"], index=data.index)\n",
    "    z_df = pd.DataFrame([[point.detach().cpu().numpy()]for point in z_list], columns=[\"z\"], index=data.index)\n",
    "\n",
    "    return mu_df, logvar_df, z_df"
   ]
  },
  {
   "cell_type": "code",
   "execution_count": null,
   "metadata": {},
   "outputs": [],
   "source": [
    "mu_df, log_var_df, z_df = get_latent_whole_info(samples, model)"
   ]
  },
  {
   "cell_type": "code",
   "execution_count": null,
   "metadata": {},
   "outputs": [],
   "source": [
    "whole_latent_info = pd.concat([samples, mu_df, log_var_df, z_df], axis=1)"
   ]
  },
  {
   "cell_type": "code",
   "execution_count": null,
   "metadata": {},
   "outputs": [],
   "source": [
    "whole_latent_info"
   ]
  },
  {
   "cell_type": "markdown",
   "metadata": {},
   "source": [
    "## 1.2.2 for test mol, generate molecular diagram"
   ]
  },
  {
   "cell_type": "code",
   "execution_count": null,
   "metadata": {},
   "outputs": [],
   "source": [
    "def sample_latent_space(mu, model, ranges=(3,3), latent_dim=128, n_trials=1000, n_grid=6, temp=0.01):\n",
    "    #n_grid 개수만큼 상하좌우로 이동.\n",
    "    np.random.seed(42)\n",
    "\n",
    "    get_dims = np.random.randint(0, latent_dim, 2)\n",
    "\n",
    "    dim1, dim2 = get_dims[0], get_dims[1]\n",
    "\n",
    "    x_range, y_range = ranges\n",
    "\n",
    "    dx = np.linspace(-x_range, x_range, 2*n_grid+1)\n",
    "    dy = np.linspace(-y_range, y_range, 2*n_grid+1)\n",
    "\n",
    "    coords = np.eye(latent_dim) #then, this array contains the unit vector of each dimension\n",
    "\n",
    "    grid = pd.DataFrame(columns=range(2*n_grid+1), index=range(2*n_grid+1))\n",
    "\n",
    "\n",
    "    for i_x, i_y in tqdm(product(range(2*n_grid+1), range(2*n_grid+1)), desc='whole_iters', total=(2*n_grid+1)**2): #each data points\n",
    "        z_point = mu + dx[i_x]*coords[dim1] + dy[i_y]*coords[dim2] # move the point to the direction of the unit vector\n",
    "        most_freq_mol = decode_z(z_point, model, n_trials, temp)\n",
    "\n",
    "        grid.iloc[i_x, i_y] = most_freq_mol\n",
    "    \n",
    "    return grid\n",
    "\n",
    "def decode_z(z, model, n_trials, temp):\n",
    "    # decode n_trials times from z using the model sample function, and pick most frequent one\n",
    "    z_input = torch.tensor(z).repeat(n_trials).reshape(n_trials, -1)\n",
    "\n",
    "    z_input = z_input.float()\n",
    "\n",
    "    decoded_mols = model.sample(n_batch=z_input.shape[0], z=z_input, temp=temp)\n",
    "\n",
    "    valid_decoded_mols = [Chem.MolFromSmiles(mol) for mol in decoded_mols if Chem.MolFromSmiles(mol) is not None]\n",
    "    \n",
    "    print(f\"ratio of valid molecules : {len(valid_decoded_mols)}/{n_trials}\")\n",
    "\n",
    "    canon_dec_mols = [Chem.MolToSmiles(Chem.MolFromSmiles(mol), canonical=True) for mol in decoded_mols if Chem.MolFromSmiles(mol) is not None]\n",
    "\n",
    "    mol_freq = Counter(canon_dec_mols)\n",
    "\n",
    "    most_freq_mol, _ = find_argmax(mol_freq)\n",
    "\n",
    "    return most_freq_mol\n",
    "\n",
    "def find_argmax(counter):\n",
    "    # Get the most common element and its count\n",
    "    most_common_element = counter.most_common(1)\n",
    "    if most_common_element:\n",
    "        element, count = most_common_element[0]\n",
    "        return element, count\n",
    "    else:\n",
    "        return None, None\n",
    "\n",
    "\n",
    "def plot_freq_mols(freq_mols_grid, save_name=None):\n",
    "    n_rows, n_cols = freq_mols_grid.shape\n",
    "\n",
    "    fig, ax = plt.subplots(n_rows, n_cols, figsize=(10,10))\n",
    "\n",
    "    for i in range(n_rows):\n",
    "        for j in range(n_cols):\n",
    "            mol = Chem.MolFromSmiles(freq_mols_grid.iloc[i,j])\n",
    "            if mol is not None:\n",
    "                img = Chem.Draw.MolToImage(mol, size=(300,300))\n",
    "                ax[i,j].imshow(img)\n",
    "                ax[i,j].axis(\"off\")\n",
    "            else:\n",
    "                ax[i,j].axis(\"off\")\n",
    "\n",
    "    if save_name is not None:\n",
    "        plt.savefig(save_name)\n",
    "        plt.clf()\n",
    "    "
   ]
  },
  {
   "cell_type": "code",
   "execution_count": null,
   "metadata": {},
   "outputs": [],
   "source": [
    "test_mol = whole_latent_info.iloc[0]"
   ]
  },
  {
   "cell_type": "code",
   "execution_count": null,
   "metadata": {},
   "outputs": [],
   "source": [
    "test_mol"
   ]
  },
  {
   "cell_type": "code",
   "execution_count": null,
   "metadata": {},
   "outputs": [],
   "source": [
    "img = Chem.Draw.MolToImage(Chem.MolFromSmiles(test_mol['SMILES']), size=(500,500))\n",
    "\n",
    "\n",
    "img"
   ]
  },
  {
   "cell_type": "code",
   "execution_count": null,
   "metadata": {},
   "outputs": [],
   "source": [
    "ranges_list = [(1,1), (2,2), (3,3)]\n",
    "\n",
    "temp_list = [0.01, 0.1, 1]\n",
    "\n",
    "experiments = list(product(ranges_list, temp_list))\n",
    "\n",
    "for i, (ranges, temp) in enumerate(experiments):\n",
    "    print(f\"------------- Experiment {i} -------------\")\n",
    "    grid = sample_latent_space(test_mol[\"mu\"][0], model, ranges=ranges, temp=temp, n_trials=1000, n_grid=6)\n",
    "    plot_freq_mols(grid, save_name=f\"figures/test_mol_{i}.png\")"
   ]
  },
  {
   "cell_type": "code",
   "execution_count": null,
   "metadata": {},
   "outputs": [],
   "source": []
  }
 ],
 "metadata": {
  "kernelspec": {
   "display_name": "moses",
   "language": "python",
   "name": "python3"
  },
  "language_info": {
   "codemirror_mode": {
    "name": "ipython",
    "version": 3
   },
   "file_extension": ".py",
   "mimetype": "text/x-python",
   "name": "python",
   "nbconvert_exporter": "python",
   "pygments_lexer": "ipython3",
   "version": "3.8.19"
  }
 },
 "nbformat": 4,
 "nbformat_minor": 2
}
