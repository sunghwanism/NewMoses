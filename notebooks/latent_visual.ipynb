{
 "cells": [
  {
   "cell_type": "code",
   "execution_count": 66,
   "metadata": {},
   "outputs": [],
   "source": [
    "import numpy as np\n",
    "import pandas as pd\n",
    "import torch\n",
    "\n",
    "from rdkit import Chem, RDLogger\n",
    "RDLogger.DisableLog('rdApp.*')\n",
    "\n",
    "from collections import Counter\n",
    "from itertools import product\n",
    "\n",
    "import selfies as sf\n",
    "\n",
    "import matplotlib.pyplot as plt\n",
    "from mpl_toolkits.mplot3d import Axes3D\n",
    "\n",
    "from tqdm import tqdm"
   ]
  },
  {
   "cell_type": "code",
   "execution_count": 2,
   "metadata": {},
   "outputs": [],
   "source": [
    "import sys\n",
    "sys.path.append(\"..\")\n",
    "import moses\n",
    "from moses.vae import VAE\n",
    "from moses.vae_property import VAEPROPERTY\n",
    "from moses.utils import CharVocab, StringDataset, SELFIESVocab\n",
    "from moses.vae.trainer import VAETrainer\n",
    "from moses.vae_property.trainer import VAEPROPERTYTrainer\n",
    "\n",
    "from moses.metrics import QED, SA, logP\n",
    "from moses.utils import get_mol"
   ]
  },
  {
   "cell_type": "markdown",
   "metadata": {},
   "source": [
    "# 1. Loading data"
   ]
  },
  {
   "cell_type": "markdown",
   "metadata": {},
   "source": [
    "## 1.1 Loading model"
   ]
  },
  {
   "cell_type": "code",
   "execution_count": 3,
   "metadata": {},
   "outputs": [
    {
     "data": {
      "text/plain": [
       "<All keys matched successfully>"
      ]
     },
     "execution_count": 3,
     "metadata": {},
     "output_type": "execute_result"
    }
   ],
   "source": [
    "folder_path = \"../model_results/ZINC250K_vae_property_obj_ws\"\n",
    "\n",
    "config_path = \"vae_property_config.pt\"\n",
    "model_path = \"vae_property_model_080.pt\"\n",
    "\n",
    "config = torch.load(f\"{folder_path}/{config_path}\")\n",
    "\n",
    "vocab_path = \"vae_property_vocab.pt\"\n",
    "vocab = torch.load(f\"{folder_path}/{vocab_path}\")\n",
    "\n",
    "model = VAEPROPERTY(vocab, config)\n",
    "model.load_state_dict(torch.load(f\"{folder_path}/{model_path}\"))\n",
    "\n"
   ]
  },
  {
   "cell_type": "markdown",
   "metadata": {},
   "source": [
    "## 1.2 Loading train data"
   ]
  },
  {
   "cell_type": "code",
   "execution_count": 4,
   "metadata": {},
   "outputs": [],
   "source": [
    "data_folder_path = \"../moses/dataset/data/ZINC250K\"\n",
    "\n",
    "file_name = \"train.csv\"\n",
    "\n",
    "data = pd.read_csv(f\"{data_folder_path}/{file_name}\")"
   ]
  },
  {
   "cell_type": "code",
   "execution_count": 5,
   "metadata": {},
   "outputs": [
    {
     "data": {
      "text/html": [
       "<div>\n",
       "<style scoped>\n",
       "    .dataframe tbody tr th:only-of-type {\n",
       "        vertical-align: middle;\n",
       "    }\n",
       "\n",
       "    .dataframe tbody tr th {\n",
       "        vertical-align: top;\n",
       "    }\n",
       "\n",
       "    .dataframe thead th {\n",
       "        text-align: right;\n",
       "    }\n",
       "</style>\n",
       "<table border=\"1\" class=\"dataframe\">\n",
       "  <thead>\n",
       "    <tr style=\"text-align: right;\">\n",
       "      <th></th>\n",
       "      <th>SMILES</th>\n",
       "      <th>SELFIES</th>\n",
       "      <th>logP</th>\n",
       "      <th>qed</th>\n",
       "      <th>SAS</th>\n",
       "      <th>obj</th>\n",
       "    </tr>\n",
       "  </thead>\n",
       "  <tbody>\n",
       "    <tr>\n",
       "      <th>0</th>\n",
       "      <td>COCCOc1ccc(CNC(=O)c2cnc3ccc(C)cn23)cc1</td>\n",
       "      <td>[C][O][C][C][O][C][=C][C][=C][Branch2][Ring1][...</td>\n",
       "      <td>2.59792</td>\n",
       "      <td>0.672152</td>\n",
       "      <td>2.174005</td>\n",
       "      <td>1.186756</td>\n",
       "    </tr>\n",
       "    <tr>\n",
       "      <th>1</th>\n",
       "      <td>Cc1cc(C(=O)NC(C)(C)c2cccc(F)c2)[nH]n1</td>\n",
       "      <td>[C][C][C][=C][Branch2][Ring1][Branch2][C][=Bra...</td>\n",
       "      <td>2.52232</td>\n",
       "      <td>0.891576</td>\n",
       "      <td>2.577987</td>\n",
       "      <td>1.879891</td>\n",
       "    </tr>\n",
       "    <tr>\n",
       "      <th>2</th>\n",
       "      <td>CCc1n[nH]c(SCc2nnnn2-c2cc(C)ccc2F)n1</td>\n",
       "      <td>[C][C][C][=N][NH1][C][Branch2][Ring1][=Branch1...</td>\n",
       "      <td>2.08262</td>\n",
       "      <td>0.724791</td>\n",
       "      <td>2.787800</td>\n",
       "      <td>0.836156</td>\n",
       "    </tr>\n",
       "    <tr>\n",
       "      <th>3</th>\n",
       "      <td>COc1ccc(CC(=O)Nc2cccc3ncccc23)cc1</td>\n",
       "      <td>[C][O][C][=C][C][=C][Branch2][Ring1][Branch1][...</td>\n",
       "      <td>3.42460</td>\n",
       "      <td>0.801260</td>\n",
       "      <td>1.647545</td>\n",
       "      <td>2.358755</td>\n",
       "    </tr>\n",
       "    <tr>\n",
       "      <th>4</th>\n",
       "      <td>CCOc1ccc(Cl)c(C(=O)Nc2cc(C)nn2CCC#N)n1</td>\n",
       "      <td>[C][C][O][C][=C][C][=C][Branch1][C][Cl][C][Bra...</td>\n",
       "      <td>2.80460</td>\n",
       "      <td>0.876945</td>\n",
       "      <td>2.582261</td>\n",
       "      <td>1.802464</td>\n",
       "    </tr>\n",
       "  </tbody>\n",
       "</table>\n",
       "</div>"
      ],
      "text/plain": [
       "                                   SMILES  \\\n",
       "0  COCCOc1ccc(CNC(=O)c2cnc3ccc(C)cn23)cc1   \n",
       "1   Cc1cc(C(=O)NC(C)(C)c2cccc(F)c2)[nH]n1   \n",
       "2    CCc1n[nH]c(SCc2nnnn2-c2cc(C)ccc2F)n1   \n",
       "3       COc1ccc(CC(=O)Nc2cccc3ncccc23)cc1   \n",
       "4  CCOc1ccc(Cl)c(C(=O)Nc2cc(C)nn2CCC#N)n1   \n",
       "\n",
       "                                             SELFIES     logP       qed  \\\n",
       "0  [C][O][C][C][O][C][=C][C][=C][Branch2][Ring1][...  2.59792  0.672152   \n",
       "1  [C][C][C][=C][Branch2][Ring1][Branch2][C][=Bra...  2.52232  0.891576   \n",
       "2  [C][C][C][=N][NH1][C][Branch2][Ring1][=Branch1...  2.08262  0.724791   \n",
       "3  [C][O][C][=C][C][=C][Branch2][Ring1][Branch1][...  3.42460  0.801260   \n",
       "4  [C][C][O][C][=C][C][=C][Branch1][C][Cl][C][Bra...  2.80460  0.876945   \n",
       "\n",
       "        SAS       obj  \n",
       "0  2.174005  1.186756  \n",
       "1  2.577987  1.879891  \n",
       "2  2.787800  0.836156  \n",
       "3  1.647545  2.358755  \n",
       "4  2.582261  1.802464  "
      ]
     },
     "execution_count": 5,
     "metadata": {},
     "output_type": "execute_result"
    }
   ],
   "source": [
    "data.head() #it has smiles, selfies, logP, qed, SAS, obj values"
   ]
  },
  {
   "cell_type": "markdown",
   "metadata": {},
   "source": [
    "### 1.2.1 generate whole_latent_data"
   ]
  },
  {
   "cell_type": "code",
   "execution_count": 6,
   "metadata": {},
   "outputs": [],
   "source": [
    "np.random.seed(42)\n",
    "samples = data.iloc[np.random.choice(data.shape[0], 1000, replace=False)]"
   ]
  },
  {
   "cell_type": "code",
   "execution_count": 7,
   "metadata": {},
   "outputs": [],
   "source": [
    "def get_latent_info(mol_smiles, model):\n",
    "    mu, log_var, z, _ = model.forward_encoder(model.string2tensor(mol_smiles).reshape(1,-1))\n",
    "\n",
    "    return mu, log_var, z"
   ]
  },
  {
   "cell_type": "code",
   "execution_count": 8,
   "metadata": {},
   "outputs": [],
   "source": [
    "def get_latent_whole_info(data, model):\n",
    "    mu_list = []\n",
    "    log_var_list = []\n",
    "    z_list = []\n",
    "    for i in range(len(data)):\n",
    "        mu, log_var, z = get_latent_info(data[\"SMILES\"].iloc[i], model)\n",
    "        mu_list.append(mu)\n",
    "        log_var_list.append(log_var)\n",
    "        z_list.append(z)\n",
    "\n",
    "    mu_df = pd.DataFrame([[point.detach().cpu().numpy()]for point in mu_list], columns=[\"mu\"], index=data.index)\n",
    "    logvar_df = pd.DataFrame([[point.detach().cpu().numpy()]for point in log_var_list], columns=[\"logvar\"], index=data.index)\n",
    "    z_df = pd.DataFrame([[point.detach().cpu().numpy()]for point in z_list], columns=[\"z\"], index=data.index)\n",
    "\n",
    "    return mu_df, logvar_df, z_df"
   ]
  },
  {
   "cell_type": "code",
   "execution_count": 9,
   "metadata": {},
   "outputs": [],
   "source": [
    "mu_df, log_var_df, z_df = get_latent_whole_info(samples, model)"
   ]
  },
  {
   "cell_type": "code",
   "execution_count": 10,
   "metadata": {},
   "outputs": [],
   "source": [
    "whole_latent_info = pd.concat([samples, mu_df, log_var_df, z_df], axis=1)"
   ]
  },
  {
   "cell_type": "code",
   "execution_count": 11,
   "metadata": {},
   "outputs": [
    {
     "data": {
      "text/html": [
       "<div>\n",
       "<style scoped>\n",
       "    .dataframe tbody tr th:only-of-type {\n",
       "        vertical-align: middle;\n",
       "    }\n",
       "\n",
       "    .dataframe tbody tr th {\n",
       "        vertical-align: top;\n",
       "    }\n",
       "\n",
       "    .dataframe thead th {\n",
       "        text-align: right;\n",
       "    }\n",
       "</style>\n",
       "<table border=\"1\" class=\"dataframe\">\n",
       "  <thead>\n",
       "    <tr style=\"text-align: right;\">\n",
       "      <th></th>\n",
       "      <th>SMILES</th>\n",
       "      <th>SELFIES</th>\n",
       "      <th>logP</th>\n",
       "      <th>qed</th>\n",
       "      <th>SAS</th>\n",
       "      <th>obj</th>\n",
       "      <th>mu</th>\n",
       "      <th>logvar</th>\n",
       "      <th>z</th>\n",
       "    </tr>\n",
       "  </thead>\n",
       "  <tbody>\n",
       "    <tr>\n",
       "      <th>38683</th>\n",
       "      <td>CC(C)n1nnnc1SCc1cc(F)cc2c1OCOC2</td>\n",
       "      <td>[C][C][Branch1][C][C][N][N][=N][N][=C][Ring1][...</td>\n",
       "      <td>2.55190</td>\n",
       "      <td>0.808834</td>\n",
       "      <td>2.786591</td>\n",
       "      <td>1.257578</td>\n",
       "      <td>[[0.0006688088, -0.04799132, 0.009349651, 0.00...</td>\n",
       "      <td>[[-0.0018990822, -0.0017098114, 0.0023532398, ...</td>\n",
       "      <td>[[-0.34788042, -1.124217, -1.0180868, 0.110421...</td>\n",
       "    </tr>\n",
       "    <tr>\n",
       "      <th>64939</th>\n",
       "      <td>O=C(CCO)N1CCC2(CC(Nc3ncccn3)CO2)C1</td>\n",
       "      <td>[O][=C][Branch1][Ring2][C][C][O][N][C][C][C][B...</td>\n",
       "      <td>0.03090</td>\n",
       "      <td>0.813958</td>\n",
       "      <td>4.044754</td>\n",
       "      <td>0.025037</td>\n",
       "      <td>[[-0.00095851347, 0.021082483, 0.007405185, 0....</td>\n",
       "      <td>[[4.9378723e-05, -0.0030402318, 0.0017250776, ...</td>\n",
       "      <td>[[-0.066773355, -0.31944117, 0.28933546, -0.61...</td>\n",
       "    </tr>\n",
       "    <tr>\n",
       "      <th>3954</th>\n",
       "      <td>COc1c(CN(CCC#N)Cc2ccccn2)c(C)nn1C</td>\n",
       "      <td>[C][O][C][=C][Branch2][Ring1][C][C][N][Branch1...</td>\n",
       "      <td>2.04800</td>\n",
       "      <td>0.782484</td>\n",
       "      <td>2.591605</td>\n",
       "      <td>1.320817</td>\n",
       "      <td>[[0.009314321, 0.0017299056, 0.01059019, -0.00...</td>\n",
       "      <td>[[0.00043804199, -0.0008841902, -0.0006967876,...</td>\n",
       "      <td>[[-0.18035033, 0.8279109, -1.5694437, -1.49101...</td>\n",
       "    </tr>\n",
       "    <tr>\n",
       "      <th>120374</th>\n",
       "      <td>CC(C)CCn1c(=O)c2sccc2n2c(=O)[nH]nc12</td>\n",
       "      <td>[C][C][Branch1][C][C][C][C][N][C][=Branch1][C]...</td>\n",
       "      <td>1.44510</td>\n",
       "      <td>0.787737</td>\n",
       "      <td>2.793158</td>\n",
       "      <td>1.145527</td>\n",
       "      <td>[[0.0019169301, -0.035416692, 0.0028020684, 0....</td>\n",
       "      <td>[[0.0007841289, -0.0021196902, -0.0014276989, ...</td>\n",
       "      <td>[[-0.6388959, 0.10280505, 0.862791, 1.4218786,...</td>\n",
       "    </tr>\n",
       "    <tr>\n",
       "      <th>172861</th>\n",
       "      <td>N#Cc1ccccc1N1CCN(C(=O)CCN2CCCCC2=O)CC1</td>\n",
       "      <td>[N][#C][C][=C][C][=C][C][=C][Ring1][=Branch1][...</td>\n",
       "      <td>1.60948</td>\n",
       "      <td>0.835036</td>\n",
       "      <td>2.200988</td>\n",
       "      <td>1.974191</td>\n",
       "      <td>[[0.0012648702, 0.018271655, -0.010631787, 0.0...</td>\n",
       "      <td>[[-0.000246834, -0.0021136627, -0.0008503087, ...</td>\n",
       "      <td>[[-1.4254918, 0.626089, -0.7045371, -0.8695274...</td>\n",
       "    </tr>\n",
       "    <tr>\n",
       "      <th>...</th>\n",
       "      <td>...</td>\n",
       "      <td>...</td>\n",
       "      <td>...</td>\n",
       "      <td>...</td>\n",
       "      <td>...</td>\n",
       "      <td>...</td>\n",
       "      <td>...</td>\n",
       "      <td>...</td>\n",
       "      <td>...</td>\n",
       "    </tr>\n",
       "    <tr>\n",
       "      <th>3963</th>\n",
       "      <td>CCOc1ccc(C2NC(=O)NC3=C2C(=O)N(CCC(C)C)C3)cc1</td>\n",
       "      <td>[C][C][O][C][=C][C][=C][Branch2][Ring1][=N][C]...</td>\n",
       "      <td>2.58160</td>\n",
       "      <td>0.833919</td>\n",
       "      <td>2.937811</td>\n",
       "      <td>1.231782</td>\n",
       "      <td>[[0.0339616, 0.026932195, -0.010883499, 0.0052...</td>\n",
       "      <td>[[0.00015386939, -0.0031673014, -0.0016510524,...</td>\n",
       "      <td>[[-1.81391, -0.26168096, -0.81667995, 0.461852...</td>\n",
       "    </tr>\n",
       "    <tr>\n",
       "      <th>79890</th>\n",
       "      <td>Cc1cc(C)c(NC(=O)CNc2nc3ccccc3nc2C)c(C)c1</td>\n",
       "      <td>[C][C][=C][C][Branch1][C][C][=C][Branch2][Ring...</td>\n",
       "      <td>3.91408</td>\n",
       "      <td>0.758875</td>\n",
       "      <td>2.142944</td>\n",
       "      <td>1.651432</td>\n",
       "      <td>[[0.024229053, -0.001015991, 0.01246443, 0.001...</td>\n",
       "      <td>[[-0.00049760565, -0.00026541203, -0.000601597...</td>\n",
       "      <td>[[1.4540688, -0.060145635, 0.72156954, 2.17412...</td>\n",
       "    </tr>\n",
       "    <tr>\n",
       "      <th>15295</th>\n",
       "      <td>Cc1cccc(N2CC(C(=O)N3CCOC(C)C3)CC2=O)c1C</td>\n",
       "      <td>[C][C][=C][C][=C][C][Branch2][Ring1][#Branch2]...</td>\n",
       "      <td>1.90364</td>\n",
       "      <td>0.837225</td>\n",
       "      <td>2.955786</td>\n",
       "      <td>1.230338</td>\n",
       "      <td>[[0.0052305683, 0.016977385, -0.02318297, -0.0...</td>\n",
       "      <td>[[-0.0023915023, -0.0017191097, -0.0006081946,...</td>\n",
       "      <td>[[-0.8468702, 0.38266927, -0.011780726, -0.366...</td>\n",
       "    </tr>\n",
       "    <tr>\n",
       "      <th>218373</th>\n",
       "      <td>CN(Cc1cccnc1)S(=O)(=O)N1CCNCC1</td>\n",
       "      <td>[C][N][Branch1][#Branch2][C][C][=C][C][=C][N][...</td>\n",
       "      <td>-0.33660</td>\n",
       "      <td>0.812984</td>\n",
       "      <td>2.360259</td>\n",
       "      <td>1.704662</td>\n",
       "      <td>[[-0.008896768, 0.05477962, -0.019030368, 0.02...</td>\n",
       "      <td>[[0.0043442287, -0.005062647, -0.00561619, 0.0...</td>\n",
       "      <td>[[0.09740945, 1.4767339, 0.62416536, -2.151724...</td>\n",
       "    </tr>\n",
       "    <tr>\n",
       "      <th>165697</th>\n",
       "      <td>CC(C)C(=O)c1ccccc1NC(=O)CSc1nncs1</td>\n",
       "      <td>[C][C][Branch1][C][C][C][=Branch1][C][=O][C][=...</td>\n",
       "      <td>3.10760</td>\n",
       "      <td>0.653603</td>\n",
       "      <td>2.304540</td>\n",
       "      <td>0.963475</td>\n",
       "      <td>[[0.010739546, -0.012579948, -0.004384962, 0.0...</td>\n",
       "      <td>[[-0.0065443926, -0.0024709255, 0.002064824, -...</td>\n",
       "      <td>[[-0.96468264, 0.30832446, -2.4268997, 0.43299...</td>\n",
       "    </tr>\n",
       "  </tbody>\n",
       "</table>\n",
       "<p>1000 rows × 9 columns</p>\n",
       "</div>"
      ],
      "text/plain": [
       "                                              SMILES  \\\n",
       "38683                CC(C)n1nnnc1SCc1cc(F)cc2c1OCOC2   \n",
       "64939             O=C(CCO)N1CCC2(CC(Nc3ncccn3)CO2)C1   \n",
       "3954               COc1c(CN(CCC#N)Cc2ccccn2)c(C)nn1C   \n",
       "120374          CC(C)CCn1c(=O)c2sccc2n2c(=O)[nH]nc12   \n",
       "172861        N#Cc1ccccc1N1CCN(C(=O)CCN2CCCCC2=O)CC1   \n",
       "...                                              ...   \n",
       "3963    CCOc1ccc(C2NC(=O)NC3=C2C(=O)N(CCC(C)C)C3)cc1   \n",
       "79890       Cc1cc(C)c(NC(=O)CNc2nc3ccccc3nc2C)c(C)c1   \n",
       "15295        Cc1cccc(N2CC(C(=O)N3CCOC(C)C3)CC2=O)c1C   \n",
       "218373                CN(Cc1cccnc1)S(=O)(=O)N1CCNCC1   \n",
       "165697             CC(C)C(=O)c1ccccc1NC(=O)CSc1nncs1   \n",
       "\n",
       "                                                  SELFIES     logP       qed  \\\n",
       "38683   [C][C][Branch1][C][C][N][N][=N][N][=C][Ring1][...  2.55190  0.808834   \n",
       "64939   [O][=C][Branch1][Ring2][C][C][O][N][C][C][C][B...  0.03090  0.813958   \n",
       "3954    [C][O][C][=C][Branch2][Ring1][C][C][N][Branch1...  2.04800  0.782484   \n",
       "120374  [C][C][Branch1][C][C][C][C][N][C][=Branch1][C]...  1.44510  0.787737   \n",
       "172861  [N][#C][C][=C][C][=C][C][=C][Ring1][=Branch1][...  1.60948  0.835036   \n",
       "...                                                   ...      ...       ...   \n",
       "3963    [C][C][O][C][=C][C][=C][Branch2][Ring1][=N][C]...  2.58160  0.833919   \n",
       "79890   [C][C][=C][C][Branch1][C][C][=C][Branch2][Ring...  3.91408  0.758875   \n",
       "15295   [C][C][=C][C][=C][C][Branch2][Ring1][#Branch2]...  1.90364  0.837225   \n",
       "218373  [C][N][Branch1][#Branch2][C][C][=C][C][=C][N][... -0.33660  0.812984   \n",
       "165697  [C][C][Branch1][C][C][C][=Branch1][C][=O][C][=...  3.10760  0.653603   \n",
       "\n",
       "             SAS       obj                                                 mu  \\\n",
       "38683   2.786591  1.257578  [[0.0006688088, -0.04799132, 0.009349651, 0.00...   \n",
       "64939   4.044754  0.025037  [[-0.00095851347, 0.021082483, 0.007405185, 0....   \n",
       "3954    2.591605  1.320817  [[0.009314321, 0.0017299056, 0.01059019, -0.00...   \n",
       "120374  2.793158  1.145527  [[0.0019169301, -0.035416692, 0.0028020684, 0....   \n",
       "172861  2.200988  1.974191  [[0.0012648702, 0.018271655, -0.010631787, 0.0...   \n",
       "...          ...       ...                                                ...   \n",
       "3963    2.937811  1.231782  [[0.0339616, 0.026932195, -0.010883499, 0.0052...   \n",
       "79890   2.142944  1.651432  [[0.024229053, -0.001015991, 0.01246443, 0.001...   \n",
       "15295   2.955786  1.230338  [[0.0052305683, 0.016977385, -0.02318297, -0.0...   \n",
       "218373  2.360259  1.704662  [[-0.008896768, 0.05477962, -0.019030368, 0.02...   \n",
       "165697  2.304540  0.963475  [[0.010739546, -0.012579948, -0.004384962, 0.0...   \n",
       "\n",
       "                                                   logvar  \\\n",
       "38683   [[-0.0018990822, -0.0017098114, 0.0023532398, ...   \n",
       "64939   [[4.9378723e-05, -0.0030402318, 0.0017250776, ...   \n",
       "3954    [[0.00043804199, -0.0008841902, -0.0006967876,...   \n",
       "120374  [[0.0007841289, -0.0021196902, -0.0014276989, ...   \n",
       "172861  [[-0.000246834, -0.0021136627, -0.0008503087, ...   \n",
       "...                                                   ...   \n",
       "3963    [[0.00015386939, -0.0031673014, -0.0016510524,...   \n",
       "79890   [[-0.00049760565, -0.00026541203, -0.000601597...   \n",
       "15295   [[-0.0023915023, -0.0017191097, -0.0006081946,...   \n",
       "218373  [[0.0043442287, -0.005062647, -0.00561619, 0.0...   \n",
       "165697  [[-0.0065443926, -0.0024709255, 0.002064824, -...   \n",
       "\n",
       "                                                        z  \n",
       "38683   [[-0.34788042, -1.124217, -1.0180868, 0.110421...  \n",
       "64939   [[-0.066773355, -0.31944117, 0.28933546, -0.61...  \n",
       "3954    [[-0.18035033, 0.8279109, -1.5694437, -1.49101...  \n",
       "120374  [[-0.6388959, 0.10280505, 0.862791, 1.4218786,...  \n",
       "172861  [[-1.4254918, 0.626089, -0.7045371, -0.8695274...  \n",
       "...                                                   ...  \n",
       "3963    [[-1.81391, -0.26168096, -0.81667995, 0.461852...  \n",
       "79890   [[1.4540688, -0.060145635, 0.72156954, 2.17412...  \n",
       "15295   [[-0.8468702, 0.38266927, -0.011780726, -0.366...  \n",
       "218373  [[0.09740945, 1.4767339, 0.62416536, -2.151724...  \n",
       "165697  [[-0.96468264, 0.30832446, -2.4268997, 0.43299...  \n",
       "\n",
       "[1000 rows x 9 columns]"
      ]
     },
     "execution_count": 11,
     "metadata": {},
     "output_type": "execute_result"
    }
   ],
   "source": [
    "whole_latent_info"
   ]
  },
  {
   "cell_type": "markdown",
   "metadata": {},
   "source": [
    "## 1.2.2 for test mol, generate molecular diagram"
   ]
  },
  {
   "cell_type": "code",
   "execution_count": 81,
   "metadata": {},
   "outputs": [
    {
     "name": "stdout",
     "output_type": "stream",
     "text": [
      "0 logP\n",
      "1 qed\n",
      "2 SAS\n",
      "3 obj\n"
     ]
    }
   ],
   "source": [
    "props = [\"logP\", \"qed\", \"SAS\", \"obj\"]\n",
    "\n",
    "for idx, prop in enumerate(props):\n",
    "    print(idx,prop)"
   ]
  },
  {
   "cell_type": "code",
   "execution_count": 97,
   "metadata": {},
   "outputs": [],
   "source": [
    "def sample_latent_space(mu, model, ranges=(3,3), latent_dim=128, n_trials=1000, \n",
    "                        n_grid=6, temp=0.01, orthogonal_vec=(None,None), save_name=None, prop_save_name=None,\n",
    "                        props=None): #note : props should be list of properties among \"logP\", \"qed\", \"SA\", \"obj\n",
    "\n",
    "    np.random.seed(42)\n",
    "\n",
    "    if orthogonal_vec[0] is None or orthogonal_vec[1] is None: # orthogonal vectors are not given -> set two basis vectors\n",
    "        orthogonal_vec = np.eye(latent_dim)[np.random.randint(0, latent_dim, 2)]\n",
    "\n",
    "    x_range, y_range = ranges\n",
    "\n",
    "    dx = np.linspace(-x_range, x_range, 2*n_grid+1)\n",
    "    dy = np.linspace(-y_range, y_range, 2*n_grid+1)\n",
    "\n",
    "    grid = pd.DataFrame(columns=range(2*n_grid+1), index=range(2*n_grid+1))\n",
    "\n",
    "    prop_grid_list = []\n",
    "\n",
    "    for _ in range(len(props)):\n",
    "        prop_grid_list.append(pd.DataFrame(columns=range(2*n_grid+1), index=range(2*n_grid+1)))\n",
    "\n",
    "    for i_x, i_y in tqdm(product(range(2*n_grid+1), range(2*n_grid+1)), desc='whole_iters', total=(2*n_grid+1)**2): #each data points\n",
    "        z_point = mu + dx[i_x]*orthogonal_vec[0] + dy[i_y]*orthogonal_vec[1] # move the point to the direction of the unit vector\n",
    "        most_freq_mol, freq_df = decode_z(z_point, model, n_trials, temp)\n",
    "\n",
    "        grid.iloc[i_x, i_y] = most_freq_mol\n",
    "\n",
    "        for idx, prop in enumerate(props):\n",
    "            prop_grid_list[idx].iloc[i_x, i_y] = calc_avg_prop(freq_df, props=prop)\n",
    "    \n",
    "    if save_name is not None:\n",
    "        grid.to_csv(save_name)\n",
    "    \n",
    "    if prop_save_name is not None:\n",
    "        for idx, prop in enumerate(props):\n",
    "            prop_grid_list[idx].to_csv(f\"{prop_save_name}_{prop}.csv\")\n",
    "    \n",
    "    return grid\n",
    "\n",
    "def decode_z(z, model, n_trials, temp):\n",
    "    # decode n_trials times from z using the model sample function, and pick most frequent one\n",
    "    z_input = torch.tensor(z).repeat(n_trials).reshape(n_trials, -1)\n",
    "\n",
    "    z_input = z_input.float()\n",
    "\n",
    "    decoded_mols = model.sample(n_batch=z_input.shape[0], z=z_input, temp=temp)\n",
    "\n",
    "    valid_decoded_mols = [Chem.MolFromSmiles(mol) for mol in decoded_mols if Chem.MolFromSmiles(mol) is not None]\n",
    "    \n",
    "    print(f\"ratio of valid molecules : {len(valid_decoded_mols)}/{n_trials}\")\n",
    "\n",
    "    canon_dec_mols = [Chem.MolToSmiles(Chem.MolFromSmiles(mol), canonical=True) for mol in decoded_mols if Chem.MolFromSmiles(mol) is not None]\n",
    "\n",
    "    mol_freq = Counter(canon_dec_mols)\n",
    "\n",
    "    most_freq_mol, _ = find_argmax(mol_freq)\n",
    "\n",
    "    freq_df = get_mol_freq(mol_freq)\n",
    "\n",
    "    return most_freq_mol, freq_df\n",
    "\n",
    "def find_argmax(counter):\n",
    "    # Get the most common element and its count\n",
    "    most_common_element = counter.most_common(1)\n",
    "    if most_common_element:\n",
    "        element, count = most_common_element[0]\n",
    "        return element, count\n",
    "    else:\n",
    "        return None, None\n",
    "\n",
    "def get_mol_freq(counter):\n",
    "    # Get the most common element and its count\n",
    "    mols = counter.keys()\n",
    "    counts = counter.values()\n",
    "\n",
    "    freq_df = pd.DataFrame({\"mols\":mols, \"counts\":counts})\n",
    "\n",
    "    return freq_df\n",
    "\n",
    "def calc_avg_prop(freq_df, props=None):\n",
    "    if props is None:\n",
    "        return None\n",
    "    \n",
    "    mols = freq_df[\"mols\"] # smiles\n",
    "    counts = freq_df[\"counts\"]\n",
    "\n",
    "    avg_prop = 0\n",
    "    total_count = 0\n",
    "\n",
    "    for mol, count in zip(mols, counts):\n",
    "        prop = get_mol_prop(mol, props) # if mol is invalid, skip that molecule and exclude from the calculation of average property.\n",
    "\n",
    "        if prop is not None:\n",
    "            total_count += count\n",
    "            avg_prop += prop*count\n",
    "\n",
    "    avg_prop /= total_count\n",
    "\n",
    "    return avg_prop\n",
    "\n",
    "def get_mol_prop(mol, props): # get the property of the molecule\n",
    "    chemmol = Chem.MolFromSmiles(mol)\n",
    "\n",
    "    if chemmol is None:\n",
    "        return None\n",
    "\n",
    "    if props == \"logP\":\n",
    "        return logP(chemmol)\n",
    "    elif props == \"qed\":\n",
    "        return QED(chemmol)\n",
    "    elif props == \"SA\":\n",
    "        return SA(chemmol)\n",
    "    elif props == 'obj':\n",
    "        return 5 * QED(chemmol) - SA(chemmol)\n",
    "    else:\n",
    "        return None\n",
    "    \n",
    "def plot_freq_mols_with_color(freq_mols_grid_df):\n",
    "    # TODO : implement using category and color\n",
    "    raise NotImplementedError\n",
    "\n",
    "def plot_freq_mols(freq_mols_grid_info, save_name=None):\n",
    "    if type(freq_mols_grid_info) is str:\n",
    "        plot_prop_mols_from_path(freq_mols_grid_info, save_name)\n",
    "    elif type(freq_mols_grid_info) is pd.DataFrame:\n",
    "        plot_prop_mols_from_df(freq_mols_grid_info, save_name)\n",
    "    else:\n",
    "        raise ValueError(\"Invalid input type\")\n",
    "\n",
    "def plot_freq_mols_from_path(freq_grid_path, save_name=None):\n",
    "    freq_mols_grid = pd.read_csv(freq_grid_path, index_col=0)\n",
    "\n",
    "    plot_freq_mols_from_df(freq_mols_grid, save_name)\n",
    "\n",
    "def plot_freq_mols_from_df(freq_mols_grid, save_name=None):\n",
    "    n_rows, n_cols = freq_mols_grid.shape\n",
    "\n",
    "    fig, ax = plt.subplots(n_rows, n_cols, figsize=(10,10))\n",
    "\n",
    "    for i in range(n_rows):\n",
    "        for j in range(n_cols):\n",
    "            mol = Chem.MolFromSmiles(freq_mols_grid.iloc[i,j])\n",
    "            if mol is not None:\n",
    "                img = Chem.Draw.MolToImage(mol, size=(300,300))\n",
    "                ax[i,j].imshow(img)\n",
    "                ax[i,j].axis(\"off\")\n",
    "            else:\n",
    "                ax[i,j].axis(\"off\")\n",
    "\n",
    "    if save_name is not None:\n",
    "        plt.savefig(save_name, dpi=300)\n",
    "        plt.clf()\n",
    "\n",
    "def plot_prop_mols(prop_grid_info, save_name=None, prop_name=None):\n",
    "    if type(prop_grid_info) is str:\n",
    "        plot_prop_mols_from_path(prop_grid_info, save_name, prop_name)\n",
    "    elif type(prop_grid_info) is pd.DataFrame:\n",
    "        plot_prop_mols_from_df(prop_grid_info, save_name, prop_name)\n",
    "    else:\n",
    "        raise ValueError(\"Invalid input type\")\n",
    "    \n",
    "def plot_prop_mols_from_path(prop_grid_path, save_name=None, prop_name=None):\n",
    "    prop_grid = pd.read_csv(prop_grid_path, index_col=0)\n",
    "\n",
    "    plot_prop_mols_from_df(prop_grid, save_name, prop_name)\n",
    "\n",
    "        \n",
    "def plot_prop_mols_from_df(prop_df, save_name=None, prop_name=None):\n",
    "    fig = plt.figure()\n",
    "    ax = fig.add_subplot(111, projection='3d')\n",
    "\n",
    "    x = prop_df.index\n",
    "    y = np.arange(len(prop_df.columns))\n",
    "\n",
    "    X,Y = np.meshgrid(x,y)\n",
    "\n",
    "    Z = prop_df.values\n",
    "\n",
    "    print(prop_df)\n",
    "    print(x)\n",
    "    print(y)\n",
    "    print(Z)\n",
    "\n",
    "    surf = ax.plot_surface(X, Y, Z, cmap='viridis')\n",
    "\n",
    "    fig.colorbar(surf, ax=ax, shrink=0.5, aspect=5)\n",
    "\n",
    "\n",
    "    ax.set_title(\"property surface in subspace of latent space\")\n",
    "    ax.set_xlabel(\"x\")\n",
    "    ax.set_ylabel(\"y\")\n",
    "    ax.set_zlabel(prop_name)\n",
    "\n",
    "    if save_name is not None:\n",
    "        plt.savefig(save_name, dpi=300)\n",
    "        plt.clf()"
   ]
  },
  {
   "cell_type": "code",
   "execution_count": 116,
   "metadata": {},
   "outputs": [],
   "source": [
    "def stack_df(prop_df_path):\n",
    "    prop_df = pd.read_csv(prop_df_path, index_col=0)\n",
    "\n",
    "    x = prop_df.index\n",
    "    y = np.arange(len(prop_df.columns))\n",
    "\n",
    "    stacked_df = pd.DataFrame(columns=[\"x\", \"y\", \"prop\"], index=range(len(x)*len(y)))\n",
    "\n",
    "    for i in range(len(x)):\n",
    "        for j in range(len(y)):\n",
    "            stacked_df.iloc[i*len(y)+j] = [(x[i]-10), y[j]-10, prop_df.iloc[i,j]]\n",
    "\n",
    "    return stacked_df"
   ]
  },
  {
   "cell_type": "code",
   "execution_count": 117,
   "metadata": {},
   "outputs": [],
   "source": [
    "prop = \"obj\"\n",
    "path = f\"../notebooks/figures/two_other_orthogonal_basis/csv_folder/test_mol_prop_0.csv_{prop}.csv\"\n",
    "\n",
    "stacked_df = stack_df(path)"
   ]
  },
  {
   "cell_type": "code",
   "execution_count": 118,
   "metadata": {},
   "outputs": [],
   "source": [
    "stacked_df.to_csv(f\"{prop}.csv\")"
   ]
  },
  {
   "cell_type": "code",
   "execution_count": 14,
   "metadata": {},
   "outputs": [],
   "source": [
    "test_mol = whole_latent_info.iloc[0]"
   ]
  },
  {
   "cell_type": "code",
   "execution_count": 15,
   "metadata": {},
   "outputs": [
    {
     "data": {
      "text/plain": [
       "SMILES                       CC(C)n1nnnc1SCc1cc(F)cc2c1OCOC2\n",
       "SELFIES    [C][C][Branch1][C][C][N][N][=N][N][=C][Ring1][...\n",
       "logP                                                  2.5519\n",
       "qed                                                 0.808834\n",
       "SAS                                                 2.786591\n",
       "obj                                                 1.257578\n",
       "mu         [[0.0006688088, -0.04799132, 0.009349651, 0.00...\n",
       "logvar     [[-0.0018990822, -0.0017098114, 0.0023532398, ...\n",
       "z          [[-0.34788042, -1.124217, -1.0180868, 0.110421...\n",
       "Name: 38683, dtype: object"
      ]
     },
     "execution_count": 15,
     "metadata": {},
     "output_type": "execute_result"
    }
   ],
   "source": [
    "test_mol"
   ]
  },
  {
   "cell_type": "code",
   "execution_count": 16,
   "metadata": {},
   "outputs": [
    {
     "data": {
      "image/jpeg": "[encoded data removed]",
      "image/png": "[encoded data removed]",
      "text/plain": [
       "<PIL.PngImagePlugin.PngImageFile image mode=RGB size=500x500>"
      ]
     },
     "execution_count": 16,
     "metadata": {},
     "output_type": "execute_result"
    }
   ],
   "source": [
    "img = Chem.Draw.MolToImage(Chem.MolFromSmiles(test_mol['SMILES']), size=(500,500))\n",
    "\n",
    "\n",
    "img"
   ]
  },
  {
   "cell_type": "code",
   "execution_count": 96,
   "metadata": {},
   "outputs": [
    {
     "name": "stdout",
     "output_type": "stream",
     "text": [
      "           0         1         2         3         4         5         6  \\\n",
      "0   4.070800  4.021334  3.297052  2.834140  2.834140  2.834140  2.834140   \n",
      "1   4.070800  2.821651  2.834140  2.834140  2.834140  2.834140  3.301843   \n",
      "2   2.209700  2.834140  2.834140  2.834140  2.834140  2.900386  3.275204   \n",
      "3   2.834140  2.834140  2.834140  2.834140  2.170338  3.097134  3.318852   \n",
      "4   2.834140  2.834140  2.834140  2.124046  2.971718  3.236042  3.361200   \n",
      "5   2.508553  2.725826  1.303208  2.642566  3.947800  3.686954  3.356930   \n",
      "6   1.390560  1.096430  2.104670  2.865974  4.283154  4.230036  3.288732   \n",
      "7   1.028900  1.526708  2.365770  3.434846  3.846260  3.318788  3.263820   \n",
      "8   1.465480  2.492132  2.949666  3.316636  3.287400  3.594368  3.555030   \n",
      "9   3.988460  4.169040  3.576832  3.504204  3.502690  3.572448  3.381796   \n",
      "10  4.488896  4.447060  3.625396  3.600132  3.534624  3.600132  3.393450   \n",
      "11  4.544500  4.459460  3.655500  3.655500  3.617676  3.603090  3.341040   \n",
      "12  1.714478  4.129934  3.655500  3.655500  3.655500  3.550680  3.498270   \n",
      "13  1.889898  2.571330  3.616490  3.655500  3.655500  3.655500  3.655500   \n",
      "14  1.899366  1.277600  3.160828  3.522866  3.639896  3.586724  3.586724   \n",
      "15  1.667500  1.667500  0.752740  2.219680  3.273202  3.624292  3.655500   \n",
      "16  1.667500  1.667500  1.667500  1.037332  0.703386  3.265400  3.273202   \n",
      "17  0.834920  1.880260  1.667500  1.667500  1.209420  1.271158  3.265400   \n",
      "18  1.566010  1.681156 -0.213000  1.953528  1.552250  1.448700  1.448700   \n",
      "19  1.673766  1.726920 -0.213000 -0.213000  0.138260  1.296364  1.448700   \n",
      "20  0.598997  1.906192 -0.122520 -0.213000 -0.093412  0.153440  1.223044   \n",
      "\n",
      "           7         8         9  ...        11        12        13        14  \\\n",
      "0   4.108800  4.081744  4.078076  ...  3.459796  2.921375  2.935914  3.100232   \n",
      "1   3.397546  3.861264  4.079852  ...  4.092983  5.253288  3.695904  3.561100   \n",
      "2   3.326932  3.836132  3.522516  ...  3.050852  3.116550  3.484050  4.075740   \n",
      "3   3.340676  3.340278  3.351814  ...  3.042636  2.442708  2.357004  2.271300   \n",
      "4   3.362500  3.362500  3.318852  ...  3.300146  3.283876  3.000732  2.325102   \n",
      "5   3.362500  3.334882  3.340676  ...  3.277984  3.391164  3.503504  3.169032   \n",
      "6   3.309950  3.289882  3.292322  ...  3.165108  3.221074  3.567784  3.707508   \n",
      "7   3.369852  3.220262  3.188558  ...  3.044032  3.005232  2.950464  2.974560   \n",
      "8   3.556474  3.463308  3.544820  ...  3.658308  3.479774  3.205214  3.099864   \n",
      "9   3.445860  3.550680  3.445860  ...  3.593098  4.237922  4.088446  4.030652   \n",
      "10  3.603090  3.498270  3.550680  ...  3.926048  4.176694  4.197166  4.108854   \n",
      "11  3.603090  3.498270  3.498270  ...  3.496990  3.998152  4.132632  3.874496   \n",
      "12  3.445860  3.393450  3.288630  ...  3.392170  3.907074  3.874496  4.068098   \n",
      "13  3.655500  3.341040  3.236220  ...  3.466376  3.668476  3.744838  3.809962   \n",
      "14  3.655500  3.468928  3.509804  ...  3.607234  3.849280  3.873906  3.744248   \n",
      "15  3.632244  3.655500  3.574010  ...  3.706896  4.111068  3.929590  3.675584   \n",
      "16  3.538470  3.517948  3.423932  ...  3.308584  3.910322  4.178876  3.795212   \n",
      "17  3.265400  3.265400  3.098082  ...  2.945568  2.800542  2.796946  3.760496   \n",
      "18  3.495638  3.149240  2.767216  ...  0.822610  1.485592  2.185504  2.179147   \n",
      "19  1.448700  1.552296  2.336856  ...  0.468136  0.216700  0.293941  1.339977   \n",
      "20  1.448700  1.448700  1.448700  ...  0.468136  0.384324  0.216700  0.316716   \n",
      "\n",
      "          15        16        17        18        19        20  \n",
      "0   2.638412  2.875775  4.226300  4.226300  4.226300  4.226300  \n",
      "1   3.546561  2.625030  3.995096  4.226300  4.226300  4.226300  \n",
      "2   3.561100  3.542312  2.586912  4.114336  4.226300  4.226300  \n",
      "3   2.381550  3.561100  3.561100  3.885650  3.991000  4.216888  \n",
      "4   2.271300  2.071700  3.722354  3.523524  3.991000  3.991000  \n",
      "5   1.584696  1.398258  1.353140  3.221206  3.832832  3.991000  \n",
      "6   3.524908  1.383610  4.142610  2.083348  1.701638  3.942614  \n",
      "7   2.727040  2.047524  3.130830  4.648500  4.519460  1.571700  \n",
      "8   2.620842  2.511978  2.530772  4.648500  4.648500  2.020488  \n",
      "9   3.779384  3.490534  2.757682  4.429332  4.581142  3.710248  \n",
      "10  3.966178  4.095246  3.680894  4.173756  4.431608  3.865192  \n",
      "11  4.068098  3.939030  3.809962  3.928648  4.114244  3.964084  \n",
      "12  3.745428  4.003564  3.809962  3.778466  4.106424  3.558484  \n",
      "13  3.680304  4.003564  3.745428  3.994644  4.097800  3.293558  \n",
      "14  3.809962  3.487292  3.229156  3.220236  2.835813  2.757890  \n",
      "15  3.486112  2.840182  2.777418  2.572576  2.597540  2.507404  \n",
      "16  2.901176  2.106934  1.870124  2.537710  2.597294  2.680212  \n",
      "17  2.718280  1.884960  2.579108  2.648835  2.701740  2.708640  \n",
      "18  2.132037  2.613606  2.599807  2.690233  2.704032  2.677896  \n",
      "19  2.393424  2.668803  2.710200  2.717100  2.733292  3.067575  \n",
      "20  2.656442  2.710200  2.690940  3.201234  2.763540  1.583696  \n",
      "\n",
      "[21 rows x 21 columns]\n",
      "Index([0, 1, 2, 3, 4, 5, 6, 7, 8, 9, 10, 11, 12, 13, 14, 15, 16, 17, 18, 19,\n",
      "       20],\n",
      "      dtype='int64')\n",
      "[ 0  1  2  3  4  5  6  7  8  9 10 11 12 13 14 15 16 17 18 19 20]\n",
      "[[ 4.0708     4.0213336  3.297052   2.83414    2.83414    2.83414\n",
      "   2.83414    4.1088     4.081744   4.078076   3.327852   3.4597964\n",
      "   2.9213752  2.9359144  3.100232   2.6384124  2.8757748  4.2263\n",
      "   4.2263     4.2263     4.2263   ]\n",
      " [ 4.0708     2.8216512  2.83414    2.83414    2.83414    2.83414\n",
      "   3.3018428  3.397546   3.861264   4.079852   4.1088     4.0929828\n",
      "   5.2532876  3.695904   3.5611     3.5465608  2.62503    3.995096\n",
      "   4.2263     4.2263     4.2263   ]\n",
      " [ 2.2097     2.83414    2.83414    2.83414    2.83414    2.900386\n",
      "   3.275204   3.326932   3.836132   3.522516   2.908992   3.050852\n",
      "   3.11655    3.48405    4.07574    3.5611     3.542312   2.586912\n",
      "   4.114336   4.2263     4.2263   ]\n",
      " [ 2.83414    2.83414    2.83414    2.83414    2.170338   3.097134\n",
      "   3.318852   3.340676   3.340278   3.351814   3.256896   3.042636\n",
      "   2.442708   2.357004   2.2713     2.38155    3.5611     3.5611\n",
      "   3.88565    3.991      4.216888 ]\n",
      " [ 2.83414    2.83414    2.83414    2.124046   2.971718   3.236042\n",
      "   3.3612     3.3625     3.3625     3.318852   3.351356   3.300146\n",
      "   3.283876   3.000732   2.325102   2.2713     2.0717     3.722354\n",
      "   3.523524   3.991      3.991    ]\n",
      " [ 2.5085532  2.7258256  1.303208   2.642566   3.9478     3.686954\n",
      "   3.35693    3.3625     3.334882   3.340676   3.356706   3.277984\n",
      "   3.391164   3.503504   3.169032   1.584696   1.398258   1.35314\n",
      "   3.221206   3.832832   3.991    ]\n",
      " [ 1.3905604  1.09643    2.10467    2.865974   4.283154   4.230036\n",
      "   3.288732   3.30995    3.289882   3.292322   3.28738    3.165108\n",
      "   3.221074   3.567784   3.707508   3.524908   1.38361    4.14261\n",
      "   2.083348   1.701638   3.942614 ]\n",
      " [ 1.0289     1.526708   2.36577    3.434846   3.84626    3.318788\n",
      "   3.26382    3.369852   3.220262   3.188558   3.056026   3.044032\n",
      "   3.005232   2.950464   2.97456    2.72704    2.047524   3.13083\n",
      "   4.6485     4.51946    1.5717   ]\n",
      " [ 1.46548    2.492132   2.949666   3.316636   3.2874     3.594368\n",
      "   3.55503    3.556474   3.463308   3.54482    3.405508   3.658308\n",
      "   3.479774   3.205214   3.099864   2.620842   2.511978   2.530772\n",
      "   4.6485     4.6485     2.020488 ]\n",
      " [ 3.98846    4.16904    3.576832   3.504204   3.50269    3.572448\n",
      "   3.381796   3.44586    3.55068    3.44586    3.456278   3.593098\n",
      "   4.237922   4.088446   4.030652   3.779384   3.490534   2.757682\n",
      "   4.429332   4.581142   3.710248 ]\n",
      " [ 4.488896   4.44706    3.625396   3.600132   3.534624   3.600132\n",
      "   3.39345    3.60309    3.49827    3.55068    3.571516   3.926048\n",
      "   4.176694   4.197166   4.108854   3.966178   4.095246   3.680894\n",
      "   4.173756   4.431608   3.865192 ]\n",
      " [ 4.5445     4.45946    3.6555     3.6555     3.617676   3.60309\n",
      "   3.34104    3.60309    3.49827    3.49827    3.39345    3.49699\n",
      "   3.998152   4.132632   3.874496   4.068098   3.93903    3.809962\n",
      "   3.928648   4.114244   3.964084 ]\n",
      " [ 1.714478   4.129934   3.6555     3.6555     3.6555     3.55068\n",
      "   3.49827    3.44586    3.39345    3.28863    3.28863    3.39217\n",
      "   3.907074   3.874496   4.068098   3.745428   4.003564   3.809962\n",
      "   3.778466   4.106424   3.5584844]\n",
      " [ 1.889898   2.57133    3.61649    3.6555     3.6555     3.6555\n",
      "   3.6555     3.6555     3.34104    3.23622    3.521338   3.466376\n",
      "   3.668476   3.744838   3.809962   3.680304   4.003564   3.745428\n",
      "   3.994644   4.0978     3.293558 ]\n",
      " [ 1.899366   1.2776     3.160828   3.522866   3.639896   3.586724\n",
      "   3.586724   3.6555     3.468928   3.509804   3.521338   3.607234\n",
      "   3.84928    3.873906   3.744248   3.809962   3.487292   3.229156\n",
      "   3.220236   2.8358128  2.7578904]\n",
      " [ 1.6675     1.6675     0.75274    2.21968    3.273202   3.624292\n",
      "   3.6555     3.632244   3.6555     3.57401    3.602526   3.706896\n",
      "   4.111068   3.92959    3.675584   3.486112   2.840182   2.777418\n",
      "   2.5725756  2.59754    2.507404 ]\n",
      " [ 1.6675     1.6675     1.6675     1.037332   0.703386   3.2654\n",
      "   3.273202   3.53847    3.517948   3.423932   3.469452   3.308584\n",
      "   3.910322   4.178876   3.795212   2.901176   2.106934   1.870124\n",
      "   2.5377104  2.5972944  2.6802124]\n",
      " [ 0.83492    1.88026    1.6675     1.6675     1.20942    1.271158\n",
      "   3.2654     3.2654     3.2654     3.098082   3.171744   2.945568\n",
      "   2.800542   2.7969456  3.760496   2.71828    1.88496    2.579108\n",
      "   2.6488352  2.7017404  2.70864  ]\n",
      " [ 1.56601    1.681156  -0.213      1.953528   1.55225    1.4487\n",
      "   1.4487     3.495638   3.14924    2.767216   1.77359    0.82261\n",
      "   1.485592   2.1855036  2.1791472  2.1320368  2.613606   2.5998068\n",
      "   2.6902328  2.704032   2.677896 ]\n",
      " [ 1.673766   1.72692   -0.213     -0.213      0.13826    1.296364\n",
      "   1.4487     1.4487     1.552296   2.336856   1.934846   0.468136\n",
      "   0.2167     0.2939408  1.3399772  2.393424   2.6688028  2.7102004\n",
      "   2.7171     2.733292   3.0675748]\n",
      " [ 0.5989968  1.906192  -0.12252   -0.213     -0.093412   0.15344\n",
      "   1.223044   1.4487     1.4487     1.4487     1.641504   0.468136\n",
      "   0.384324   0.2167     0.316716   2.656442   2.7102004  2.69094\n",
      "   3.201234   2.76354    1.5836964]]\n",
      "           0         1         2         3         4         5         6  \\\n",
      "0   1.759332  1.788625  2.376343  2.491649  2.491649  2.491649  2.491649   \n",
      "1   1.759332  2.502695  2.491649  2.491649  2.491649  2.491649  2.887804   \n",
      "2   3.043961  2.491649  2.491649  2.491649  2.491649  2.704148  2.501276   \n",
      "3   2.491649  2.491649  2.491649  2.491649  2.901834  2.560593  2.468231   \n",
      "4   2.491649  2.491649  2.491649  3.256116  2.833921  2.498303  2.439809   \n",
      "5   2.507154  2.562273  3.573159  3.203832  2.788837  2.486872  2.475799   \n",
      "6   2.545373  3.644355  3.332018  3.083444  2.666974  2.554140  2.454444   \n",
      "7   3.668730  3.513557  3.222859  2.840455  2.600062  2.666654  2.458666   \n",
      "8   3.529931  3.160652  2.877336  2.747662  2.781549  2.635806  2.627805   \n",
      "9   2.716628  2.642881  2.651127  2.710047  2.689936  2.694474  2.819603   \n",
      "10  2.592776  2.574075  2.669004  2.683519  2.706583  2.683519  2.838559   \n",
      "11  2.579014  2.584916  2.661609  2.661609  2.673719  2.696999  2.873949   \n",
      "12  2.797516  2.614881  2.661609  2.661609  2.661609  2.732389  2.767779   \n",
      "13  2.678088  2.916179  2.660818  2.661609  2.661609  2.661609  2.661609   \n",
      "14  2.652195  3.065777  2.687239  2.658918  2.661293  2.690106  2.690106   \n",
      "15  2.359447  2.359447  3.379020  2.989139  2.653853  2.660976  2.661609   \n",
      "16  2.359447  2.359447  2.359447  3.061820  3.475534  2.653695  2.653853   \n",
      "17  2.430905  2.189596  2.359447  2.359447  3.379517  3.365183  2.653695   \n",
      "18  2.300268  2.450371  4.348891  2.189701  3.220576  3.331179  3.331179   \n",
      "19  2.271771  2.381900  4.348891  4.348891  3.260220  3.305580  3.331179   \n",
      "20  2.729365  2.206423  4.344462  4.348891  4.271266  3.273976  3.350002   \n",
      "\n",
      "           7         8         9  ...        11        12        13        14  \\\n",
      "0   3.188510  3.192188  3.161103  ...  2.339693  2.426776  2.415964  2.298923   \n",
      "1   2.904220  3.089969  3.189085  ...  3.174229  2.789510  2.006802  1.951045   \n",
      "2   2.509972  2.555196  2.744768  ...  3.210105  3.200799  3.195593  2.192326   \n",
      "3   2.451709  2.453272  2.513885  ...  2.720687  3.103178  3.153663  3.209344   \n",
      "4   2.435186  2.435186  2.468231  ...  2.540649  2.547072  2.797852  3.189472   \n",
      "5   2.435186  2.437281  2.451709  ...  2.517835  2.453458  2.542067  3.202423   \n",
      "6   2.373988  2.396092  2.264363  ...  2.255321  2.304005  2.303132  2.252280   \n",
      "7   2.408637  2.028258  2.051109  ...  1.795223  1.896591  1.837967  1.814303   \n",
      "8   2.621174  2.710910  2.602218  ...  2.356056  2.301640  2.163984  2.017455   \n",
      "9   2.803169  2.732389  2.803169  ...  2.820915  2.718330  2.695834  2.590306   \n",
      "10  2.696999  2.767779  2.732389  ...  2.664164  2.741241  2.772676  2.786021   \n",
      "11  2.696999  2.767779  2.767779  ...  2.888659  2.733293  2.806521  2.941903   \n",
      "12  2.803169  2.838559  2.909339  ...  2.959110  2.760233  2.941903  2.840367   \n",
      "13  2.661609  2.873949  2.944729  ...  2.831198  2.909330  3.007902  2.975749   \n",
      "14  2.661609  2.802873  2.767631  ...  2.730887  2.851382  2.940211  3.006209   \n",
      "15  2.681531  2.661609  2.741146  ...  2.695668  2.777899  2.880980  3.028208   \n",
      "16  2.659235  2.718602  2.829554  ...  3.109965  2.888011  2.720212  2.933439   \n",
      "17  2.653695  2.653695  2.739975  ...  3.263106  3.450064  3.429720  2.878987   \n",
      "18  2.640252  2.716901  2.768305  ...  3.782343  3.712159  3.577526  3.557934   \n",
      "19  3.331179  3.246539  2.632302  ...  3.911162  4.086432  4.066576  3.779245   \n",
      "20  3.331179  3.331179  3.331179  ...  3.911162  3.969585  4.086432  3.982251   \n",
      "\n",
      "          15        16        17        18        19        20  \n",
      "0   2.141579  1.941604  2.090426  2.090426  2.090426  2.090426  \n",
      "1   1.961857  1.891543  2.358248  2.090426  2.090426  2.090426  \n",
      "2   1.951045  1.949670  1.924929  2.158105  2.090426  2.090426  \n",
      "3   3.208094  1.951045  1.951045  1.402828  1.341964  2.060488  \n",
      "4   3.209344  3.112689  1.949071  1.948294  1.341964  1.341964  \n",
      "5   4.120958  4.186328  2.764731  2.182119  1.608160  1.341964  \n",
      "6   2.603597  4.200970  2.587806  2.620869  2.811107  1.372623  \n",
      "7   2.204767  2.968035  3.187949  2.287734  2.308244  2.874910  \n",
      "8   2.225831  2.267116  3.188702  2.287734  2.287734  2.733677  \n",
      "9   2.859900  2.801705  2.971406  2.307571  2.274676  1.818276  \n",
      "10  2.858872  2.791181  3.043440  2.675730  2.296828  1.610962  \n",
      "11  2.840367  2.908058  2.975749  2.878750  2.338708  1.648346  \n",
      "12  3.009594  2.874212  2.975749  2.812249  2.364229  1.278550  \n",
      "13  3.041747  2.874212  3.009594  2.856010  2.239662  1.299344  \n",
      "14  2.975749  3.144976  3.280358  3.262156  1.383486  1.391705  \n",
      "15  3.141591  3.478353  3.517276  3.391586  1.451640  1.462777  \n",
      "16  3.434354  3.850222  3.961051  1.473730  1.470431  1.464817  \n",
      "17  3.480874  3.917881  1.475621  1.477802  1.474012  1.474327  \n",
      "18  3.568301  1.477196  1.476566  1.479692  1.480323  1.477122  \n",
      "19  2.576887  1.479717  1.481608  1.481923  1.502697  1.807550  \n",
      "20  1.485724  1.481608  1.487300  1.806687  1.826340  1.871077  \n",
      "\n",
      "[21 rows x 21 columns]\n",
      "Index([0, 1, 2, 3, 4, 5, 6, 7, 8, 9, 10, 11, 12, 13, 14, 15, 16, 17, 18, 19,\n",
      "       20],\n",
      "      dtype='int64')\n",
      "[ 0  1  2  3  4  5  6  7  8  9 10 11 12 13 14 15 16 17 18 19 20]\n",
      "[[1.75933232 1.78862497 2.37634333 2.49164854 2.49164854 2.49164854\n",
      "  2.49164854 3.18850967 3.19218825 3.16110269 2.38778528 2.33969287\n",
      "  2.42677617 2.4159641  2.29892308 2.14157942 1.94160371 2.09042614\n",
      "  2.09042614 2.09042614 2.09042614]\n",
      " [1.75933232 2.50269478 2.49164854 2.49164854 2.49164854 2.49164854\n",
      "  2.88780397 2.90421992 3.08996949 3.1890845  3.18850967 3.17422868\n",
      "  2.78950962 2.0068021  1.95104543 1.9618575  1.89154256 2.35824759\n",
      "  2.09042614 2.09042614 2.09042614]\n",
      " [3.04396059 2.49164854 2.49164854 2.49164854 2.49164854 2.70414818\n",
      "  2.50127601 2.50997245 2.55519567 2.74476801 3.01013346 3.21010483\n",
      "  3.2007993  3.19559324 2.19232579 1.95104543 1.9496697  1.92492852\n",
      "  2.15810478 2.09042614 2.09042614]\n",
      " [2.49164854 2.49164854 2.49164854 2.49164854 2.90183418 2.56059279\n",
      "  2.46823121 2.45170881 2.45327174 2.51388523 2.57317052 2.72068676\n",
      "  3.10317819 3.15366282 3.2093437  3.20809366 1.95104543 1.95104543\n",
      "  1.40282846 1.34196433 2.06048766]\n",
      " [2.49164854 2.49164854 2.49164854 3.25611571 2.83392065 2.49830286\n",
      "  2.43980923 2.43518641 2.43518641 2.46823121 2.47894829 2.54064939\n",
      "  2.54707161 2.79785159 3.18947238 3.2093437  3.11268885 1.9490714\n",
      "  1.94829397 1.34196433 1.34196433]\n",
      " [2.50715387 2.56227344 3.57315853 3.203832   2.78883663 2.48687197\n",
      "  2.47579868 2.43518641 2.43728094 2.45170881 2.42075854 2.51783531\n",
      "  2.45345803 2.54206694 3.2024232  4.12095795 4.18632846 2.76473138\n",
      "  2.18211945 1.60816004 1.34196433]\n",
      " [2.54537254 3.64435547 3.33201788 3.08344401 2.6669735  2.55414032\n",
      "  2.45444385 2.37398822 2.39609185 2.26436335 2.4011937  2.25532139\n",
      "  2.30400531 2.30313185 2.25227988 2.60359724 4.20097044 2.58780594\n",
      "  2.62086899 2.81110722 1.37262325]\n",
      " [3.6687302  3.51355729 3.22285894 2.84045526 2.60006218 2.66665382\n",
      "  2.45866565 2.40863653 2.02825795 2.05110944 1.98630492 1.79522304\n",
      "  1.89659092 1.83796722 1.81430338 2.20476659 2.96803477 3.18794936\n",
      "  2.28773422 2.30824445 2.87491045]\n",
      " [3.52993129 3.16065221 2.87733551 2.74766223 2.78154893 2.63580622\n",
      "  2.62780457 2.62117402 2.71091012 2.60221768 2.59871653 2.35605556\n",
      "  2.30163994 2.16398388 2.01745525 2.22583063 2.26711599 3.18870238\n",
      "  2.28773422 2.28773422 2.73367682]\n",
      " [2.7166275  2.64288142 2.65112745 2.71004715 2.68993608 2.69447353\n",
      "  2.81960255 2.803169   2.73238924 2.803169   2.80209384 2.82091515\n",
      "  2.71832963 2.69583351 2.59030637 2.85990016 2.80170513 2.97140643\n",
      "  2.3075712  2.27467618 1.81827553]\n",
      " [2.5927756  2.5740748  2.66900381 2.68351884 2.70658294 2.68351884\n",
      "  2.83855889 2.69699935 2.76777912 2.73238924 2.73023891 2.66416369\n",
      "  2.74124084 2.77267585 2.78602056 2.85887216 2.79118123 3.04343956\n",
      "  2.67572993 2.2968282  1.61096173]\n",
      " [2.57901427 2.58491625 2.66160947 2.66160947 2.67371889 2.69699935\n",
      "  2.87394877 2.69699935 2.76777912 2.76777912 2.83855889 2.88865946\n",
      "  2.73329348 2.80652131 2.94190317 2.84036678 2.9080577  2.97574863\n",
      "  2.87874971 2.33870752 1.64834611]\n",
      " [2.79751591 2.61488126 2.66160947 2.66160947 2.66160947 2.73238924\n",
      "  2.76777912 2.803169   2.83855889 2.90933865 2.90933865 2.95910958\n",
      "  2.76023262 2.94190317 2.84036678 3.0095941  2.87421224 2.97574863\n",
      "  2.81224863 2.36422912 1.2785505 ]\n",
      " [2.67808789 2.91617851 2.66081798 2.66160947 2.66160947 2.66160947\n",
      "  2.66160947 2.66160947 2.87394877 2.94472853 2.76748318 2.83119755\n",
      "  2.90932961 3.00790171 2.97574863 3.04174718 2.87421224 3.0095941\n",
      "  2.85601048 2.23966207 1.29934419]\n",
      " [2.65219516 3.06577745 2.68723901 2.6589184  2.66129287 2.69010592\n",
      "  2.69010592 2.66160947 2.80287307 2.76763115 2.76748318 2.73088702\n",
      "  2.85138201 2.94021078 3.00620932 2.97574863 3.14497596 3.28035781\n",
      "  3.26215606 1.38348575 1.39170468]\n",
      " [2.35944702 2.35944702 3.37902019 2.98913917 2.65385284 2.66097628\n",
      "  2.66160947 2.68153066 2.66160947 2.74114625 2.7558751  2.69566764\n",
      "  2.7778987  2.88097952 3.02820808 3.14159118 3.47835344 3.51727607\n",
      "  3.3915861  1.45163988 1.4627768 ]\n",
      " [2.35944702 2.35944702 2.35944702 3.06181965 3.47553387 2.65369454\n",
      "  2.65385284 2.65923499 2.71860236 2.82955422 2.82097896 3.10996455\n",
      "  2.88801134 2.72021186 2.93343896 3.43435366 3.8502224  3.9610508\n",
      "  1.47372996 1.47043053 1.46481655]\n",
      " [2.43090481 2.18959643 2.35944702 2.35944702 3.37951724 3.36518327\n",
      "  2.65369454 2.65369454 2.65369454 2.73997537 2.9369009  3.26310581\n",
      "  3.45006444 3.42972036 2.87898734 3.48087364 3.9178811  1.47562063\n",
      "  1.47780169 1.47401229 1.4743274 ]\n",
      " [2.30026846 2.45037083 4.3488911  2.1897007  3.22057633 3.33117916\n",
      "  3.33117916 2.64025209 2.71690091 2.7683047  3.16762313 3.7823433\n",
      "  3.71215944 3.57752602 3.55793375 3.56830106 1.47719619 1.47656596\n",
      "  1.47969236 1.48032258 1.47712203]\n",
      " [2.27177093 2.38190046 4.3488911  4.3488911  3.26021952 3.30557987\n",
      "  3.33117916 3.33117916 3.24653942 2.63230176 2.88875303 3.91116169\n",
      "  4.08643175 4.0665764  3.77924514 2.57688746 1.47971708 1.48160775\n",
      "  1.48192286 1.50269711 1.80754966]\n",
      " [2.72936529 2.20642289 4.34446249 4.3488911  4.2712658  3.27397581\n",
      "  3.35000233 3.33117916 3.33117916 3.33117916 3.09323477 3.91116169\n",
      "  3.96958505 4.08643175 3.98225139 1.48572427 1.48160775 1.48729983\n",
      "  1.8066871  1.82633975 1.8710765 ]]\n",
      "           0         1         2         3         4         5         6  \\\n",
      "0   0.759785  0.766124  0.881424  0.918265  0.918265  0.918265  0.918265   \n",
      "1   0.759785  0.915817  0.918265  0.918265  0.918265  0.918265  0.793459   \n",
      "2   0.795877  0.918265  0.918265  0.918265  0.918265  0.870735  0.893611   \n",
      "3   0.918265  0.918265  0.918265  0.918265  0.838696  0.894772  0.902791   \n",
      "4   0.918265  0.918265  0.918265  0.780111  0.811666  0.896922  0.910000   \n",
      "5   0.898586  0.908489  0.760983  0.768781  0.785165  0.868630  0.891454   \n",
      "6   0.829924  0.756779  0.774929  0.783848  0.778514  0.821689  0.881203   \n",
      "7   0.755330  0.764200  0.766484  0.770092  0.806745  0.801022  0.810537   \n",
      "8   0.761236  0.759151  0.778192  0.804029  0.785315  0.809308  0.807556   \n",
      "9   0.790099  0.809651  0.834244  0.800266  0.800993  0.802520  0.796293   \n",
      "10  0.813471  0.822636  0.809815  0.805074  0.800041  0.805074  0.795490   \n",
      "11  0.816068  0.816536  0.810183  0.810183  0.807703  0.807244  0.792552   \n",
      "12  0.879819  0.814407  0.810183  0.810183  0.810183  0.804306  0.801367   \n",
      "13  0.897531  0.819283  0.811730  0.810183  0.810183  0.810183  0.810183   \n",
      "14  0.906607  0.847889  0.824019  0.815445  0.810802  0.807932  0.807932   \n",
      "15  0.871413  0.871413  0.793310  0.809249  0.825350  0.811421  0.810183   \n",
      "16  0.871413  0.871413  0.871413  0.817609  0.785453  0.825660  0.825350   \n",
      "17  0.530733  0.727348  0.871413  0.871413  0.793075  0.791472  0.825660   \n",
      "18  0.652656  0.719519  0.563860  0.887219  0.786430  0.796694  0.796694   \n",
      "19  0.679810  0.724957  0.563860  0.563860  0.665634  0.778994  0.796694   \n",
      "20  0.674226  0.738908  0.555337  0.563860  0.576303  0.669303  0.779289   \n",
      "\n",
      "           7         8         9  ...        11        12        13        14  \\\n",
      "0   0.789325  0.789129  0.793734  ...  0.858800  0.904072  0.901707  0.871491   \n",
      "1   0.774883  0.783359  0.787431  ...  0.792021  0.751219  0.796435  0.799992   \n",
      "2   0.888391  0.850594  0.800733  ...  0.727592  0.731623  0.752994  0.783702   \n",
      "3   0.907381  0.906474  0.871206  ...  0.815052  0.711932  0.697200  0.682469   \n",
      "4   0.911971  0.911971  0.902791  ...  0.860154  0.849573  0.777660  0.684169   \n",
      "5   0.911971  0.906147  0.907381  ...  0.877587  0.861669  0.834849  0.725597   \n",
      "6   0.891517  0.896624  0.896184  ...  0.879821  0.863814  0.822039  0.796415   \n",
      "7   0.824007  0.846629  0.842915  ...  0.847419  0.848158  0.845557  0.851293   \n",
      "8   0.810454  0.803774  0.811256  ...  0.835899  0.841082  0.840305  0.846804   \n",
      "9   0.798429  0.804306  0.798429  ...  0.787129  0.841164  0.839081  0.845207   \n",
      "10  0.807244  0.801367  0.804306  ...  0.791783  0.824047  0.837423  0.834055   \n",
      "11  0.807244  0.801367  0.801367  ...  0.779638  0.784614  0.833868  0.819651   \n",
      "12  0.798429  0.795490  0.789613  ...  0.773761  0.777437  0.819651  0.830314   \n",
      "13  0.810183  0.792552  0.786675  ...  0.791999  0.769570  0.811266  0.816096   \n",
      "14  0.810183  0.797109  0.800707  ...  0.801167  0.795751  0.818375  0.809990   \n",
      "15  0.810612  0.810183  0.811239  ...  0.801304  0.812838  0.802791  0.797505   \n",
      "16  0.814826  0.805681  0.810935  ...  0.829479  0.811057  0.797870  0.784199   \n",
      "17  0.825660  0.825660  0.817360  ...  0.855628  0.840928  0.833239  0.781434   \n",
      "18  0.823934  0.821678  0.836006  ...  0.736624  0.778356  0.825369  0.825783   \n",
      "19  0.796694  0.803244  0.851906  ...  0.716074  0.697637  0.702695  0.771512   \n",
      "20  0.796694  0.796694  0.796694  ...  0.716074  0.709929  0.697637  0.705348   \n",
      "\n",
      "          15        16        17        18        19        20  \n",
      "0   0.869400  0.845264  0.823180  0.823180  0.823180  0.823180  \n",
      "1   0.802358  0.847478  0.840886  0.823180  0.823180  0.823180  \n",
      "2   0.799992  0.800934  0.847683  0.863839  0.823180  0.823180  \n",
      "3   0.688880  0.799992  0.799992  0.912377  0.916097  0.826897  \n",
      "4   0.682469  0.721925  0.819068  0.801875  0.916097  0.916097  \n",
      "5   0.677852  0.679610  0.863970  0.791783  0.871426  0.916097  \n",
      "6   0.771571  0.677053  0.826646  0.873391  0.688113  0.911289  \n",
      "7   0.823451  0.784862  0.773450  0.853244  0.850223  0.675703  \n",
      "8   0.830229  0.837532  0.772506  0.853244  0.853244  0.705602  \n",
      "9   0.820397  0.823438  0.801845  0.855433  0.854350  0.845810  \n",
      "10  0.827859  0.834968  0.808988  0.832157  0.839035  0.868297  \n",
      "11  0.830314  0.823205  0.816096  0.821368  0.778941  0.873674  \n",
      "12  0.812542  0.826760  0.816096  0.795022  0.793038  0.914003  \n",
      "13  0.807712  0.826760  0.812542  0.823609  0.830068  0.910036  \n",
      "14  0.816096  0.798325  0.784107  0.780956  0.899594  0.896178  \n",
      "15  0.795773  0.758953  0.759226  0.765223  0.891849  0.889160  \n",
      "16  0.754852  0.719646  0.716219  0.890327  0.889486  0.890708  \n",
      "17  0.732014  0.712974  0.890347  0.890236  0.890635  0.890638  \n",
      "18  0.821941  0.890364  0.890357  0.890256  0.890263  0.889960  \n",
      "19  0.855901  0.890391  0.890411  0.890414  0.883128  0.870344  \n",
      "20  0.886807  0.890411  0.886824  0.806951  0.873281  0.836075  \n",
      "\n",
      "[21 rows x 21 columns]\n",
      "Index([0, 1, 2, 3, 4, 5, 6, 7, 8, 9, 10, 11, 12, 13, 14, 15, 16, 17, 18, 19,\n",
      "       20],\n",
      "      dtype='int64')\n",
      "[ 0  1  2  3  4  5  6  7  8  9 10 11 12 13 14 15 16 17 18 19 20]\n",
      "[[0.75978513 0.76612431 0.88142372 0.91826471 0.91826471 0.91826471\n",
      "  0.91826471 0.78932519 0.78912866 0.79373352 0.84940101 0.85880043\n",
      "  0.90407204 0.90170659 0.87149064 0.86939967 0.84526428 0.82317986\n",
      "  0.82317986 0.82317986 0.82317986]\n",
      " [0.75978513 0.91581696 0.91826471 0.91826471 0.91826471 0.91826471\n",
      "  0.79345948 0.77488333 0.7833586  0.78743138 0.78932519 0.79202061\n",
      "  0.75121909 0.79643471 0.79999241 0.80235785 0.8474783  0.84088639\n",
      "  0.82317986 0.82317986 0.82317986]\n",
      " [0.79587724 0.91826471 0.91826471 0.91826471 0.91826471 0.87073531\n",
      "  0.89361069 0.88839098 0.85059371 0.80073284 0.74338535 0.72759163\n",
      "  0.73162258 0.75299391 0.78370246 0.79999241 0.80093353 0.84768348\n",
      "  0.86383857 0.82317986 0.82317986]\n",
      " [0.91826471 0.91826471 0.91826471 0.91826471 0.83869623 0.89477188\n",
      "  0.90279079 0.90738083 0.90647367 0.87120604 0.85188131 0.81505244\n",
      "  0.7119316  0.69720005 0.6824685  0.6888799  0.79999241 0.79999241\n",
      "  0.91237714 0.91609661 0.82689653]\n",
      " [0.91826471 0.91826471 0.91826471 0.7801106  0.81166606 0.89692243\n",
      "  0.90999983 0.91197088 0.91197088 0.90279079 0.88657039 0.86015424\n",
      "  0.84957274 0.77766008 0.68416907 0.6824685  0.72192542 0.8190678\n",
      "  0.80187464 0.91609661 0.91609661]\n",
      " [0.89858615 0.90848862 0.76098315 0.76878086 0.78516513 0.86863017\n",
      "  0.89145444 0.91197088 0.90614742 0.90738083 0.91073747 0.877587\n",
      "  0.86166946 0.83484879 0.72559668 0.67785178 0.6796098  0.86397035\n",
      "  0.79178294 0.87142612 0.91609661]\n",
      " [0.82992439 0.7567787  0.77492864 0.78384801 0.77851359 0.82168902\n",
      "  0.88120258 0.89151675 0.89662371 0.89618438 0.89922274 0.87982091\n",
      "  0.86381425 0.82203882 0.79641484 0.77157058 0.67705323 0.82664585\n",
      "  0.87339088 0.68811312 0.91128873]\n",
      " [0.75532977 0.76420045 0.76648435 0.77009224 0.80674546 0.8010218\n",
      "  0.81053662 0.8240066  0.846629   0.84291501 0.84759029 0.84741931\n",
      "  0.84815799 0.84555707 0.85129333 0.82345142 0.78486213 0.77344992\n",
      "  0.85324381 0.85022317 0.67570252]\n",
      " [0.76123622 0.75915056 0.77819221 0.80402911 0.78531524 0.80930817\n",
      "  0.80755623 0.81045362 0.8037743  0.81125597 0.80920428 0.83589879\n",
      "  0.84108155 0.84030513 0.846804   0.83022856 0.83753152 0.77250586\n",
      "  0.85324381 0.85324381 0.70560247]\n",
      " [0.79009885 0.80965097 0.83424369 0.80026574 0.80099305 0.80251986\n",
      "  0.79629263 0.79842877 0.80430574 0.79842877 0.79793002 0.78712871\n",
      "  0.84116359 0.83908146 0.84520742 0.82039672 0.82343832 0.80184464\n",
      "  0.85543313 0.85435026 0.84581036]\n",
      " [0.81347148 0.82263576 0.80981528 0.80507415 0.80004062 0.80507415\n",
      "  0.79549028 0.80724423 0.80136726 0.80430574 0.80330825 0.79178306\n",
      "  0.82404712 0.83742275 0.83405484 0.82785896 0.83496771 0.80898775\n",
      "  0.83215697 0.839035   0.86829696]\n",
      " [0.81606844 0.81653577 0.81018272 0.81018272 0.80770347 0.80724423\n",
      "  0.79255179 0.80724423 0.80136726 0.80136726 0.79549028 0.77963836\n",
      "  0.78461394 0.83386838 0.81965088 0.830314   0.82320525 0.8160965\n",
      "  0.82136821 0.77894074 0.87367417]\n",
      " [0.87981948 0.81440736 0.81018272 0.81018272 0.81018272 0.80430574\n",
      "  0.80136726 0.79842877 0.79549028 0.78961331 0.78961331 0.77376138\n",
      "  0.77743725 0.81965088 0.830314   0.81254212 0.82675963 0.8160965\n",
      "  0.79502163 0.79303763 0.91400312]\n",
      " [0.89753126 0.81928311 0.81173044 0.81018272 0.81018272 0.81018272\n",
      "  0.81018272 0.81018272 0.79255179 0.78667482 0.80004724 0.79199905\n",
      "  0.76957008 0.81126623 0.8160965  0.80771185 0.82675963 0.81254212\n",
      "  0.82360874 0.83006764 0.91003634]\n",
      " [0.90660706 0.84788859 0.82401887 0.81544499 0.81080181 0.80793181\n",
      "  0.80793181 0.81018272 0.79710875 0.80070725 0.80004724 0.80116696\n",
      "  0.7957509  0.81837498 0.80999033 0.8160965  0.79832462 0.78410712\n",
      "  0.78095624 0.89959407 0.89617787]\n",
      " [0.87141271 0.87141271 0.79331027 0.80924888 0.82535044 0.8114209\n",
      "  0.81018272 0.81061172 0.81018272 0.81123873 0.8045712  0.80130416\n",
      "  0.81283816 0.80279092 0.79750469 0.79577283 0.75895318 0.75922649\n",
      "  0.76522321 0.8918494  0.88915962]\n",
      " [0.87141271 0.87141271 0.87141271 0.81760881 0.78545278 0.82565998\n",
      "  0.82535044 0.8148259  0.8056809  0.81093485 0.81361476 0.82947902\n",
      "  0.81105685 0.79786998 0.78419911 0.75485218 0.71964551 0.71621867\n",
      "  0.89032742 0.88948601 0.89070773]\n",
      " [0.53073308 0.72734797 0.87141271 0.87141271 0.7930752  0.79147204\n",
      "  0.82565998 0.82565998 0.82565998 0.81735954 0.82204099 0.85562849\n",
      "  0.84092754 0.833239   0.78143418 0.7320136  0.71297448 0.89034743\n",
      "  0.89023611 0.89063495 0.89063828]\n",
      " [0.65265583 0.71951899 0.56386043 0.887219   0.78643042 0.79669361\n",
      "  0.79669361 0.8239335  0.8216778  0.83600555 0.80342536 0.73662386\n",
      "  0.77835643 0.82536937 0.8257835  0.82194095 0.89036411 0.89035744\n",
      "  0.89025612 0.89026279 0.88996008]\n",
      " [0.67981014 0.72495657 0.56386043 0.56386043 0.66563383 0.77899355\n",
      "  0.79669361 0.79669361 0.80324388 0.85190553 0.82362366 0.7160744\n",
      "  0.69763739 0.70269464 0.77151178 0.85590119 0.89039079 0.89041081\n",
      "  0.89041414 0.88312771 0.87034422]\n",
      " [0.67422581 0.73890813 0.55533741 0.56386043 0.57630348 0.66930345\n",
      "  0.77928876 0.79669361 0.79669361 0.79669361 0.80211381 0.7160744\n",
      "  0.70992873 0.69763739 0.70534846 0.88680712 0.89041081 0.8868238\n",
      "  0.80695122 0.8732811  0.83607459]]\n",
      "           0         1         2         3         4         5         6  \\\n",
      "0   2.039593  2.041997  2.030775  2.099675  2.099675  2.099675  2.099675   \n",
      "1   2.039593  2.076390  2.099675  2.099675  2.099675  2.099675  1.079493   \n",
      "2   0.935426  2.099675  2.099675  2.099675  2.099675  1.649528  1.966777   \n",
      "3   2.099675  2.099675  2.099675  2.099675  1.291647  1.913267  2.045723   \n",
      "4   2.099675  2.099675  2.099675  0.644437  1.224410  1.986309  2.110190   \n",
      "5   1.985777  1.980170  0.231757  0.640072  1.136989  1.856279  1.981474   \n",
      "6   1.604249  0.139538  0.542625  0.835796  1.225594  1.554305  1.951569   \n",
      "7   0.107919  0.307445  0.609563  1.010006  1.433665  1.338455  1.594017   \n",
      "8   0.276250  0.635101  1.013626  1.272483  1.145027  1.410735  1.409977   \n",
      "9   1.233867  1.405373  1.520091  1.291282  1.315029  1.318126  1.161861   \n",
      "10  1.474582  1.539104  1.380073  1.341852  1.293620  1.341852  1.138893   \n",
      "11  1.501328  1.497763  1.389304  1.389304  1.364798  1.339222  1.088810   \n",
      "12  1.601581  1.457156  1.389304  1.389304  1.389304  1.289139  1.239057   \n",
      "13  1.809568  1.180237  1.397834  1.389304  1.389304  1.389304  1.389304   \n",
      "14  1.880840  1.173666  1.432855  1.418307  1.392716  1.349553  1.349553   \n",
      "15  1.997617  1.997617  0.587531  1.057105  1.472899  1.396128  1.389304   \n",
      "16  1.997617  1.997617  1.997617  1.026224  0.451730  1.474605  1.472899   \n",
      "17  0.222761  1.447143  1.997617  1.997617  0.585859  0.592177  1.474605   \n",
      "18  0.963011  1.147224 -1.529589  2.246394  0.711576  0.652289  0.652289   \n",
      "19  1.127280  1.242882 -1.529589 -1.529589  0.067950  0.589388  0.652289   \n",
      "20  0.641764  1.488118 -1.567775 -1.529589 -1.389748  0.072541  0.546441   \n",
      "\n",
      "           7         8         9  ...        11        12        13        14  \\\n",
      "0   0.758116  0.753455  0.807565  ...  1.954309  2.093584  2.092569  2.058530   \n",
      "1   0.970197  0.826823  0.748072  ...  0.785874  0.966586  1.975371  2.048917   \n",
      "2   1.931982  1.697773  1.258896  ...  0.427853  0.457314  0.569376  1.726186   \n",
      "3   2.085195  2.079097  1.842145  ...  1.354575  0.456480  0.332337  0.202999   \n",
      "4   2.124668  2.124668  2.045723  ...  1.760122  1.700792  1.090449  0.231373   \n",
      "5   2.124668  2.093456  2.085195  ...  1.870100  1.854889  1.632177  0.425560   \n",
      "6   2.083596  2.087027  2.216559  ...  2.143783  2.015066  1.807062  1.729794   \n",
      "7   1.711396  2.204887  2.163466  ...  2.441874  2.344199  2.389818  2.442163   \n",
      "8   1.431094  1.307961  1.454062  ...  1.823438  1.903768  2.037542  2.216565   \n",
      "9   1.188975  1.289139  1.188975  ...  1.114728  1.487488  1.499574  1.635731   \n",
      "10  1.339222  1.239057  1.289139  ...  1.294752  1.378995  1.414438  1.384254   \n",
      "11  1.339222  1.239057  1.239057  ...  1.009532  1.189776  1.362821  1.156351   \n",
      "12  1.188975  1.138893  1.038728  ...  0.909697  1.126954  1.156351  1.311203   \n",
      "13  1.389304  1.088810  0.988646  ...  1.128798  0.938521  1.048429  1.104734   \n",
      "14  1.389304  1.182671  1.235905  ...  1.274948  1.127372  1.151664  1.043742   \n",
      "15  1.371528  1.389304  1.315047  ...  1.310853  1.286292  1.132975  0.959315   \n",
      "16  1.414894  1.309802  1.225120  ...  1.037431  1.167273  1.269138  0.987557   \n",
      "17  1.474605  1.474605  1.346822  ...  1.015037  0.754573  0.736475  1.028184   \n",
      "18  1.479415  1.391488  1.411723  ... -0.099224  0.179623  0.549321  0.570984   \n",
      "19  0.652289  0.769680  1.627226  ... -0.330790 -0.598245 -0.553103  0.078314   \n",
      "20  0.652289  0.652289  0.652289  ... -0.330790 -0.419941 -0.598245 -0.455509   \n",
      "\n",
      "          15        16        17        18        19        20  \n",
      "0   2.205419  2.284718  2.025473  2.025473  2.025473  2.025473  \n",
      "1   2.049932  2.345849  1.846184  2.025473  2.025473  2.025473  \n",
      "2   2.048917  2.054998  2.313489  2.161088  2.025473  2.025473  \n",
      "3   0.236306  2.048917  2.048917  3.159057  3.238519  2.073995  \n",
      "4   0.202999  0.496938  2.146268  2.061079  3.238519  3.238519  \n",
      "5  -0.731699 -0.788279  1.555120  1.776795  2.748971  3.238519  \n",
      "6   1.254256 -0.815704  1.545423  1.746085  0.629458  3.183820  \n",
      "7   1.912491  0.956276  0.679300  1.978485  1.942871  0.503602  \n",
      "8   1.925312  1.920542  0.673827  1.978485  1.978485  0.794336  \n",
      "9   1.242083  1.315486  1.037817  1.969594  1.997075  2.410776  \n",
      "10  1.280423  1.383657  1.001499  1.485055  1.898347  2.730523  \n",
      "11  1.311203  1.207969  1.104734  1.228091  1.555996  2.720025  \n",
      "12  1.053117  1.259586  1.104734  1.162860  1.600959  3.291465  \n",
      "13  0.996812  1.259586  1.053117  1.262033  1.910676  3.250838  \n",
      "14  1.104734  0.846647  0.640178  0.642625  3.114485  3.089185  \n",
      "15  0.837273  0.316412  0.278856  0.434530  3.007607  2.983021  \n",
      "16  0.339907 -0.251995 -0.379957  2.977907  2.977000  2.988722  \n",
      "17  0.179194 -0.353009  2.976117  2.973379  2.979162  2.978864  \n",
      "18  0.541404  2.974624  2.975221  2.971588  2.970991  2.972678  \n",
      "19  1.702619  2.972237  2.970446  2.970148  2.912941  2.544171  \n",
      "20  2.948311  2.970446  2.946819  2.228069  2.540066  2.309296  \n",
      "\n",
      "[21 rows x 21 columns]\n",
      "Index([0, 1, 2, 3, 4, 5, 6, 7, 8, 9, 10, 11, 12, 13, 14, 15, 16, 17, 18, 19,\n",
      "       20],\n",
      "      dtype='int64')\n",
      "[ 0  1  2  3  4  5  6  7  8  9 10 11 12 13 14 15 16 17 18 19 20]\n",
      "[[ 2.0395933   2.04199657  2.03077525  2.09967503  2.09967503  2.09967503\n",
      "   2.09967503  0.75811628  0.75345503  0.80756493  1.85921977  1.95430929\n",
      "   2.09358401  2.09256885  2.05853011  2.20541893  2.28471769  2.02547318\n",
      "   2.02547318  2.02547318  2.02547318]\n",
      " [ 2.0395933   2.07639004  2.09967503  2.09967503  2.09967503  2.09967503\n",
      "   1.07949343  0.97019674  0.8268235   0.74807239  0.75811628  0.78587437\n",
      "   0.96658584  1.97537144  2.0489166   2.04993177  2.34584894  1.84618435\n",
      "   2.02547318  2.02547318  2.02547318]\n",
      " [ 0.93542564  2.09967503  2.09967503  2.09967503  2.09967503  1.64952835\n",
      "   1.96677745  1.93198246  1.69777286  1.2588962   0.7067933   0.42785333\n",
      "   0.45731358  0.56937633  1.72618649  2.0489166   2.05499793  2.31348886\n",
      "   2.16108806  2.02547318  2.02547318]\n",
      " [ 2.09967503  2.09967503  2.09967503  2.09967503  1.29164699  1.91326658\n",
      "   2.04572272  2.08519536  2.07909663  1.84214498  1.68623603  1.35457543\n",
      "   0.45647979  0.33233743  0.2029988   0.23630585  2.0489166   2.0489166\n",
      "   3.15905723  3.23851872  2.07399501]\n",
      " [ 2.09967503  2.09967503  2.09967503  0.64443729  1.22440964  1.98630929\n",
      "   2.11018992  2.124668    2.124668    2.04572272  1.95390365  1.76012183\n",
      "   1.70079209  1.0904488   0.23137298  0.2029988   0.49693827  2.14626762\n",
      "   2.06107925  3.23851872  3.23851872]\n",
      " [ 1.98577686  1.98016964  0.23175723  0.64007231  1.136989    1.85627889\n",
      "   1.98147354  2.124668    2.09345616  2.08519536  2.13292879  1.87009967\n",
      "   1.85488929  1.63217704  0.42556017 -0.73169906 -0.78827945  1.55512036\n",
      "   1.77679525  2.74897058  3.23851872]\n",
      " [ 1.6042494   0.13953802  0.54262534  0.83579602  1.22559444  1.55430477\n",
      "   1.95156905  2.08359551  2.08702671  2.21655853  2.09492002  2.14378316\n",
      "   2.01506595  1.80706225  1.72979433  1.25425565 -0.81570431  1.54542331\n",
      "   1.74608543  0.62945839  3.18382039]\n",
      " [ 0.10791863  0.30744498  0.6095628   1.01000593  1.4336651   1.33845518\n",
      "   1.59401743  1.71139645  2.20488708  2.16346563  2.25164652  2.44187352\n",
      "   2.34419901  2.38981814  2.44216326  1.9124905   0.95627588  0.67930025\n",
      "   1.97848485  1.94287142  0.50360213]\n",
      " [ 0.27624982  0.6351006   1.01362554  1.27248332  1.14502726  1.41073463\n",
      "   1.40997659  1.4310941   1.30796138  1.45406217  1.44730486  1.8234384\n",
      "   1.90376782  2.03754175  2.21656477  1.92531218  1.92054163  0.6738269\n",
      "   1.97848485  1.97848485  0.79433551]\n",
      " [ 1.23386677  1.40537344  1.520091    1.29128156  1.31502917  1.31812579\n",
      "   1.1618606   1.18897484  1.28913948  1.18897484  1.18755627  1.11472842\n",
      "   1.48748831  1.49957381  1.63573072  1.24208342  1.31548648  1.03781675\n",
      "   1.96959446  1.99707511  2.41077627]\n",
      " [ 1.47458179  1.53910401  1.3800726   1.3418519   1.29362016  1.3418519\n",
      "   1.13889252  1.33922179  1.23905716  1.28913948  1.28630233  1.29475159\n",
      "   1.37899478  1.41443792  1.38425363  1.28042262  1.38365731  1.00149918\n",
      "   1.48505491  1.89834681  2.73052309]\n",
      " [ 1.50132791  1.49776259  1.38930411  1.38930411  1.36479847  1.33922179\n",
      "   1.0888102   1.33922179  1.23905716  1.23905716  1.13889252  1.00953232\n",
      "   1.1897762   1.36282057  1.15635121  1.31120323  1.20796855  1.10473387\n",
      "   1.22809135  1.5559962   2.72002472]\n",
      " [ 1.60158149  1.45715551  1.38930411  1.38930411  1.38930411  1.28913948\n",
      "   1.23905716  1.18897484  1.13889252  1.03872788  1.03872788  0.90969733\n",
      "   1.12695365  1.15635121  1.31120323  1.05311652  1.25958589  1.10473387\n",
      "   1.16285954  1.60095903  3.2914651 ]\n",
      " [ 1.80956842  1.18023704  1.39783424  1.38930411  1.38930411  1.38930411\n",
      "   1.38930411  1.38930411  1.0888102   0.98864556  1.23275302  1.12879769\n",
      "   0.93852078  1.04842943  1.10473387  0.99681209  1.25958589  1.05311652\n",
      "   1.26203322  1.91067615  3.25083751]\n",
      " [ 1.88084014  1.17366551  1.43285536  1.41830654  1.39271616  1.34955313\n",
      "   1.34955313  1.38930411  1.1826707   1.23590509  1.23275302  1.2749478\n",
      "   1.12737249  1.15166412  1.04374234  1.10473387  0.84664716  0.64017779\n",
      "   0.64262512  3.1144846   3.08918469]\n",
      " [ 1.99761652  1.99761652  0.58753117  1.05710523  1.47289935  1.39612821\n",
      "   1.38930411  1.37152795  1.38930411  1.3150474   1.2669809   1.31085317\n",
      "   1.28629208  1.13297508  0.95931535  0.83727297  0.31641247  0.2788564\n",
      "   0.43452993  3.00760714  2.98302129]\n",
      " [ 1.99761652  1.99761652  1.99761652  1.02622439  0.45173003  1.47460537\n",
      "   1.47289935  1.41489449  1.30980216  1.22512001  1.24709483  1.03743055\n",
      "   1.16727291  1.26913806  0.98755656  0.33990726 -0.25199485 -0.37995744\n",
      "   2.97790715  2.97699952  2.98872212]\n",
      " [ 0.22276061  1.44714343  1.99761652  1.99761652  0.58585874  0.59217695\n",
      "   1.47460537  1.47460537  1.47460537  1.34682231  1.17330407  1.01503666\n",
      "   0.75457328  0.73647462  1.02818355  0.17919435 -0.35300869  2.97611654\n",
      "   2.97337884  2.97916245  2.97886401]\n",
      " [ 0.96301069  1.14722412 -1.52958894  2.24639431  0.71157578  0.6522889\n",
      "   0.6522889   1.47941543  1.39148811  1.41172305  0.84950366 -0.09922402\n",
      "   0.17962271  0.54932084  0.57098374  0.5414037   2.97462437  2.97522124\n",
      "   2.97158823  2.97099136  2.97267838]\n",
      " [ 1.12727975  1.2428824  -1.52958894 -1.52958894  0.06794961  0.58938786\n",
      "   0.6522889   0.6522889   0.76967999  1.62722587  1.22936527 -0.33078968\n",
      "  -0.59824481 -0.55310319  0.07831377  1.7026185   2.97223689  2.97044628\n",
      "   2.97014785  2.91294146  2.54417142]\n",
      " [ 0.64176376  1.48811777 -1.56777543 -1.52958894 -1.38974838  0.07254145\n",
      "   0.54644145  0.6522889   0.6522889   0.6522889   0.91733428 -0.33078968\n",
      "  -0.41994139 -0.59824481 -0.4555091   2.94831132  2.97044628  2.94681915\n",
      "   2.22806899  2.54006574  2.30929646]]\n"
     ]
    },
    {
     "data": {
      "text/plain": [
       "<Figure size 640x480 with 0 Axes>"
      ]
     },
     "metadata": {},
     "output_type": "display_data"
    },
    {
     "data": {
      "text/plain": [
       "<Figure size 640x480 with 0 Axes>"
      ]
     },
     "metadata": {},
     "output_type": "display_data"
    },
    {
     "data": {
      "text/plain": [
       "<Figure size 640x480 with 0 Axes>"
      ]
     },
     "metadata": {},
     "output_type": "display_data"
    },
    {
     "data": {
      "text/plain": [
       "<Figure size 640x480 with 0 Axes>"
      ]
     },
     "metadata": {},
     "output_type": "display_data"
    }
   ],
   "source": [
    "for prop in [\"logP\", \"SA\", \"qed\", \"obj\"]:\n",
    "        plot_prop_mols(prop_grid_info=f\"{save_folder_path}/csv_folder/{prop_fname}_{i}.csv_{prop}.csv\", save_name=f\"{save_folder_path}/{prop_fname}_{i}_{prop}.png\")"
   ]
  },
  {
   "cell_type": "code",
   "execution_count": 95,
   "metadata": {},
   "outputs": [
    {
     "name": "stdout",
     "output_type": "stream",
     "text": [
      "------------- Experiment 0 -------------\n"
     ]
    },
    {
     "name": "stderr",
     "output_type": "stream",
     "text": [
      "whole_iters:   0%|          | 0/441 [00:00<?, ?it/s]"
     ]
    },
    {
     "name": "stdout",
     "output_type": "stream",
     "text": [
      "ratio of valid molecules : 50/50\n"
     ]
    },
    {
     "name": "stderr",
     "output_type": "stream",
     "text": [
      "whole_iters:   0%|          | 2/441 [00:01<03:32,  2.07it/s]"
     ]
    },
    {
     "name": "stdout",
     "output_type": "stream",
     "text": [
      "ratio of valid molecules : 50/50\n"
     ]
    },
    {
     "name": "stderr",
     "output_type": "stream",
     "text": [
      "whole_iters:   1%|          | 3/441 [00:01<03:10,  2.30it/s]"
     ]
    },
    {
     "name": "stdout",
     "output_type": "stream",
     "text": [
      "ratio of valid molecules : 50/50\n"
     ]
    },
    {
     "name": "stderr",
     "output_type": "stream",
     "text": [
      "whole_iters:   1%|          | 4/441 [00:01<02:56,  2.47it/s]"
     ]
    },
    {
     "name": "stdout",
     "output_type": "stream",
     "text": [
      "ratio of valid molecules : 50/50\n"
     ]
    },
    {
     "name": "stderr",
     "output_type": "stream",
     "text": [
      "whole_iters:   1%|          | 5/441 [00:02<02:50,  2.56it/s]"
     ]
    },
    {
     "name": "stdout",
     "output_type": "stream",
     "text": [
      "ratio of valid molecules : 50/50\n"
     ]
    },
    {
     "name": "stderr",
     "output_type": "stream",
     "text": [
      "whole_iters:   1%|▏         | 6/441 [00:02<02:52,  2.53it/s]"
     ]
    },
    {
     "name": "stdout",
     "output_type": "stream",
     "text": [
      "ratio of valid molecules : 50/50\n"
     ]
    },
    {
     "name": "stderr",
     "output_type": "stream",
     "text": [
      "whole_iters:   2%|▏         | 7/441 [00:02<02:46,  2.60it/s]"
     ]
    },
    {
     "name": "stdout",
     "output_type": "stream",
     "text": [
      "ratio of valid molecules : 50/50\n"
     ]
    },
    {
     "name": "stderr",
     "output_type": "stream",
     "text": [
      "whole_iters:   2%|▏         | 8/441 [00:03<02:46,  2.61it/s]"
     ]
    },
    {
     "name": "stdout",
     "output_type": "stream",
     "text": [
      "ratio of valid molecules : 50/50\n"
     ]
    },
    {
     "name": "stderr",
     "output_type": "stream",
     "text": [
      "whole_iters:   2%|▏         | 9/441 [00:03<02:42,  2.66it/s]"
     ]
    },
    {
     "name": "stdout",
     "output_type": "stream",
     "text": [
      "ratio of valid molecules : 50/50\n"
     ]
    },
    {
     "name": "stderr",
     "output_type": "stream",
     "text": [
      "whole_iters:   2%|▏         | 10/441 [00:04<02:45,  2.61it/s]"
     ]
    },
    {
     "name": "stdout",
     "output_type": "stream",
     "text": [
      "ratio of valid molecules : 50/50\n"
     ]
    },
    {
     "name": "stderr",
     "output_type": "stream",
     "text": [
      "whole_iters:   2%|▏         | 11/441 [00:04<02:50,  2.53it/s]"
     ]
    },
    {
     "name": "stdout",
     "output_type": "stream",
     "text": [
      "ratio of valid molecules : 50/50\n"
     ]
    },
    {
     "name": "stderr",
     "output_type": "stream",
     "text": [
      "whole_iters:   3%|▎         | 12/441 [00:04<02:50,  2.51it/s]"
     ]
    },
    {
     "name": "stdout",
     "output_type": "stream",
     "text": [
      "ratio of valid molecules : 50/50\n"
     ]
    },
    {
     "name": "stderr",
     "output_type": "stream",
     "text": [
      "whole_iters:   3%|▎         | 13/441 [00:05<02:45,  2.58it/s]"
     ]
    },
    {
     "name": "stdout",
     "output_type": "stream",
     "text": [
      "ratio of valid molecules : 50/50\n"
     ]
    },
    {
     "name": "stderr",
     "output_type": "stream",
     "text": [
      "whole_iters:   3%|▎         | 14/441 [00:05<02:42,  2.62it/s]"
     ]
    },
    {
     "name": "stdout",
     "output_type": "stream",
     "text": [
      "ratio of valid molecules : 50/50\n"
     ]
    },
    {
     "name": "stderr",
     "output_type": "stream",
     "text": [
      "whole_iters:   3%|▎         | 15/441 [00:05<02:40,  2.65it/s]"
     ]
    },
    {
     "name": "stdout",
     "output_type": "stream",
     "text": [
      "ratio of valid molecules : 50/50\n"
     ]
    },
    {
     "name": "stderr",
     "output_type": "stream",
     "text": [
      "whole_iters:   4%|▎         | 16/441 [00:06<02:39,  2.66it/s]"
     ]
    },
    {
     "name": "stdout",
     "output_type": "stream",
     "text": [
      "ratio of valid molecules : 50/50\n"
     ]
    },
    {
     "name": "stderr",
     "output_type": "stream",
     "text": [
      "whole_iters:   4%|▍         | 17/441 [00:06<02:40,  2.64it/s]"
     ]
    },
    {
     "name": "stdout",
     "output_type": "stream",
     "text": [
      "ratio of valid molecules : 50/50\n"
     ]
    },
    {
     "name": "stderr",
     "output_type": "stream",
     "text": [
      "whole_iters:   4%|▍         | 18/441 [00:07<02:39,  2.66it/s]"
     ]
    },
    {
     "name": "stdout",
     "output_type": "stream",
     "text": [
      "ratio of valid molecules : 50/50\n"
     ]
    },
    {
     "name": "stderr",
     "output_type": "stream",
     "text": [
      "whole_iters:   4%|▍         | 19/441 [00:07<02:40,  2.63it/s]"
     ]
    },
    {
     "name": "stdout",
     "output_type": "stream",
     "text": [
      "ratio of valid molecules : 50/50\n"
     ]
    },
    {
     "name": "stderr",
     "output_type": "stream",
     "text": [
      "whole_iters:   5%|▍         | 20/441 [00:07<02:41,  2.60it/s]"
     ]
    },
    {
     "name": "stdout",
     "output_type": "stream",
     "text": [
      "ratio of valid molecules : 50/50\n"
     ]
    },
    {
     "name": "stderr",
     "output_type": "stream",
     "text": [
      "whole_iters:   5%|▍         | 21/441 [00:08<02:44,  2.56it/s]"
     ]
    },
    {
     "name": "stdout",
     "output_type": "stream",
     "text": [
      "ratio of valid molecules : 50/50\n"
     ]
    },
    {
     "name": "stderr",
     "output_type": "stream",
     "text": [
      "whole_iters:   5%|▍         | 22/441 [00:08<02:42,  2.58it/s]"
     ]
    },
    {
     "name": "stdout",
     "output_type": "stream",
     "text": [
      "ratio of valid molecules : 50/50\n"
     ]
    },
    {
     "name": "stderr",
     "output_type": "stream",
     "text": [
      "whole_iters:   5%|▌         | 23/441 [00:09<02:41,  2.59it/s]"
     ]
    },
    {
     "name": "stdout",
     "output_type": "stream",
     "text": [
      "ratio of valid molecules : 50/50\n"
     ]
    },
    {
     "name": "stderr",
     "output_type": "stream",
     "text": [
      "whole_iters:   5%|▌         | 24/441 [00:09<02:46,  2.50it/s]"
     ]
    },
    {
     "name": "stdout",
     "output_type": "stream",
     "text": [
      "ratio of valid molecules : 50/50\n"
     ]
    },
    {
     "name": "stderr",
     "output_type": "stream",
     "text": [
      "whole_iters:   6%|▌         | 25/441 [00:09<02:43,  2.54it/s]"
     ]
    },
    {
     "name": "stdout",
     "output_type": "stream",
     "text": [
      "ratio of valid molecules : 50/50\n"
     ]
    },
    {
     "name": "stderr",
     "output_type": "stream",
     "text": [
      "whole_iters:   6%|▌         | 26/441 [00:10<02:48,  2.47it/s]"
     ]
    },
    {
     "name": "stdout",
     "output_type": "stream",
     "text": [
      "ratio of valid molecules : 50/50\n"
     ]
    },
    {
     "name": "stderr",
     "output_type": "stream",
     "text": [
      "whole_iters:   6%|▌         | 27/441 [00:10<02:52,  2.40it/s]"
     ]
    },
    {
     "name": "stdout",
     "output_type": "stream",
     "text": [
      "ratio of valid molecules : 50/50\n"
     ]
    },
    {
     "name": "stderr",
     "output_type": "stream",
     "text": [
      "whole_iters:   6%|▋         | 28/441 [00:11<03:01,  2.27it/s]"
     ]
    },
    {
     "name": "stdout",
     "output_type": "stream",
     "text": [
      "ratio of valid molecules : 50/50\n"
     ]
    },
    {
     "name": "stderr",
     "output_type": "stream",
     "text": [
      "whole_iters:   7%|▋         | 29/441 [00:11<03:03,  2.25it/s]"
     ]
    },
    {
     "name": "stdout",
     "output_type": "stream",
     "text": [
      "ratio of valid molecules : 50/50\n"
     ]
    },
    {
     "name": "stderr",
     "output_type": "stream",
     "text": [
      "whole_iters:   7%|▋         | 30/441 [00:12<03:00,  2.27it/s]"
     ]
    },
    {
     "name": "stdout",
     "output_type": "stream",
     "text": [
      "ratio of valid molecules : 50/50\n"
     ]
    },
    {
     "name": "stderr",
     "output_type": "stream",
     "text": [
      "whole_iters:   7%|▋         | 31/441 [00:12<02:59,  2.28it/s]"
     ]
    },
    {
     "name": "stdout",
     "output_type": "stream",
     "text": [
      "ratio of valid molecules : 50/50\n"
     ]
    },
    {
     "name": "stderr",
     "output_type": "stream",
     "text": [
      "whole_iters:   7%|▋         | 32/441 [00:12<03:02,  2.25it/s]"
     ]
    },
    {
     "name": "stdout",
     "output_type": "stream",
     "text": [
      "ratio of valid molecules : 50/50\n"
     ]
    },
    {
     "name": "stderr",
     "output_type": "stream",
     "text": [
      "whole_iters:   7%|▋         | 33/441 [00:13<02:58,  2.28it/s]"
     ]
    },
    {
     "name": "stdout",
     "output_type": "stream",
     "text": [
      "ratio of valid molecules : 50/50\n"
     ]
    },
    {
     "name": "stderr",
     "output_type": "stream",
     "text": [
      "whole_iters:   8%|▊         | 34/441 [00:13<02:57,  2.29it/s]"
     ]
    },
    {
     "name": "stdout",
     "output_type": "stream",
     "text": [
      "ratio of valid molecules : 50/50\n"
     ]
    },
    {
     "name": "stderr",
     "output_type": "stream",
     "text": [
      "whole_iters:   8%|▊         | 35/441 [00:14<02:54,  2.32it/s]"
     ]
    },
    {
     "name": "stdout",
     "output_type": "stream",
     "text": [
      "ratio of valid molecules : 50/50\n"
     ]
    },
    {
     "name": "stderr",
     "output_type": "stream",
     "text": [
      "whole_iters:   8%|▊         | 36/441 [00:14<02:49,  2.39it/s]"
     ]
    },
    {
     "name": "stdout",
     "output_type": "stream",
     "text": [
      "ratio of valid molecules : 50/50\n"
     ]
    },
    {
     "name": "stderr",
     "output_type": "stream",
     "text": [
      "whole_iters:   8%|▊         | 37/441 [00:15<02:49,  2.38it/s]"
     ]
    },
    {
     "name": "stdout",
     "output_type": "stream",
     "text": [
      "ratio of valid molecules : 50/50\n"
     ]
    },
    {
     "name": "stderr",
     "output_type": "stream",
     "text": [
      "whole_iters:   9%|▊         | 38/441 [00:15<02:46,  2.43it/s]"
     ]
    },
    {
     "name": "stdout",
     "output_type": "stream",
     "text": [
      "ratio of valid molecules : 50/50\n"
     ]
    },
    {
     "name": "stderr",
     "output_type": "stream",
     "text": [
      "whole_iters:   9%|▉         | 39/441 [00:15<02:45,  2.42it/s]"
     ]
    },
    {
     "name": "stdout",
     "output_type": "stream",
     "text": [
      "ratio of valid molecules : 50/50\n"
     ]
    },
    {
     "name": "stderr",
     "output_type": "stream",
     "text": [
      "whole_iters:   9%|▉         | 40/441 [00:16<02:49,  2.36it/s]"
     ]
    },
    {
     "name": "stdout",
     "output_type": "stream",
     "text": [
      "ratio of valid molecules : 50/50\n"
     ]
    },
    {
     "name": "stderr",
     "output_type": "stream",
     "text": [
      "whole_iters:   9%|▉         | 41/441 [00:16<02:50,  2.35it/s]"
     ]
    },
    {
     "name": "stdout",
     "output_type": "stream",
     "text": [
      "ratio of valid molecules : 50/50\n"
     ]
    },
    {
     "name": "stderr",
     "output_type": "stream",
     "text": [
      "whole_iters:  10%|▉         | 42/441 [00:17<02:46,  2.39it/s]"
     ]
    },
    {
     "name": "stdout",
     "output_type": "stream",
     "text": [
      "ratio of valid molecules : 50/50\n"
     ]
    },
    {
     "name": "stderr",
     "output_type": "stream",
     "text": [
      "whole_iters:  10%|▉         | 43/441 [00:17<02:43,  2.44it/s]"
     ]
    },
    {
     "name": "stdout",
     "output_type": "stream",
     "text": [
      "ratio of valid molecules : 50/50\n"
     ]
    },
    {
     "name": "stderr",
     "output_type": "stream",
     "text": [
      "whole_iters:  10%|▉         | 44/441 [00:17<02:40,  2.48it/s]"
     ]
    },
    {
     "name": "stdout",
     "output_type": "stream",
     "text": [
      "ratio of valid molecules : 50/50\n"
     ]
    },
    {
     "name": "stderr",
     "output_type": "stream",
     "text": [
      "whole_iters:  10%|█         | 45/441 [00:18<02:36,  2.53it/s]"
     ]
    },
    {
     "name": "stdout",
     "output_type": "stream",
     "text": [
      "ratio of valid molecules : 50/50\n"
     ]
    },
    {
     "name": "stderr",
     "output_type": "stream",
     "text": [
      "whole_iters:  10%|█         | 46/441 [00:18<02:34,  2.56it/s]"
     ]
    },
    {
     "name": "stdout",
     "output_type": "stream",
     "text": [
      "ratio of valid molecules : 50/50\n"
     ]
    },
    {
     "name": "stderr",
     "output_type": "stream",
     "text": [
      "whole_iters:  11%|█         | 47/441 [00:19<02:36,  2.52it/s]"
     ]
    },
    {
     "name": "stdout",
     "output_type": "stream",
     "text": [
      "ratio of valid molecules : 50/50\n"
     ]
    },
    {
     "name": "stderr",
     "output_type": "stream",
     "text": [
      "whole_iters:  11%|█         | 48/441 [00:19<02:36,  2.51it/s]"
     ]
    },
    {
     "name": "stdout",
     "output_type": "stream",
     "text": [
      "ratio of valid molecules : 50/50\n"
     ]
    },
    {
     "name": "stderr",
     "output_type": "stream",
     "text": [
      "whole_iters:  11%|█         | 49/441 [00:19<02:35,  2.53it/s]"
     ]
    },
    {
     "name": "stdout",
     "output_type": "stream",
     "text": [
      "ratio of valid molecules : 50/50\n"
     ]
    },
    {
     "name": "stderr",
     "output_type": "stream",
     "text": [
      "whole_iters:  11%|█▏        | 50/441 [00:20<02:35,  2.51it/s]"
     ]
    },
    {
     "name": "stdout",
     "output_type": "stream",
     "text": [
      "ratio of valid molecules : 50/50\n"
     ]
    },
    {
     "name": "stderr",
     "output_type": "stream",
     "text": [
      "whole_iters:  12%|█▏        | 51/441 [00:20<02:36,  2.50it/s]"
     ]
    },
    {
     "name": "stdout",
     "output_type": "stream",
     "text": [
      "ratio of valid molecules : 50/50\n"
     ]
    },
    {
     "name": "stderr",
     "output_type": "stream",
     "text": [
      "whole_iters:  12%|█▏        | 52/441 [00:21<02:34,  2.51it/s]"
     ]
    },
    {
     "name": "stdout",
     "output_type": "stream",
     "text": [
      "ratio of valid molecules : 50/50\n"
     ]
    },
    {
     "name": "stderr",
     "output_type": "stream",
     "text": [
      "whole_iters:  12%|█▏        | 53/441 [00:21<02:36,  2.48it/s]"
     ]
    },
    {
     "name": "stdout",
     "output_type": "stream",
     "text": [
      "ratio of valid molecules : 50/50\n"
     ]
    },
    {
     "name": "stderr",
     "output_type": "stream",
     "text": [
      "whole_iters:  12%|█▏        | 54/441 [00:21<02:35,  2.49it/s]"
     ]
    },
    {
     "name": "stdout",
     "output_type": "stream",
     "text": [
      "ratio of valid molecules : 50/50\n"
     ]
    },
    {
     "name": "stderr",
     "output_type": "stream",
     "text": [
      "whole_iters:  12%|█▏        | 55/441 [00:22<02:35,  2.47it/s]"
     ]
    },
    {
     "name": "stdout",
     "output_type": "stream",
     "text": [
      "ratio of valid molecules : 50/50\n"
     ]
    },
    {
     "name": "stderr",
     "output_type": "stream",
     "text": [
      "whole_iters:  13%|█▎        | 56/441 [00:22<02:37,  2.44it/s]"
     ]
    },
    {
     "name": "stdout",
     "output_type": "stream",
     "text": [
      "ratio of valid molecules : 50/50\n"
     ]
    },
    {
     "name": "stderr",
     "output_type": "stream",
     "text": [
      "whole_iters:  13%|█▎        | 57/441 [00:23<02:42,  2.37it/s]"
     ]
    },
    {
     "name": "stdout",
     "output_type": "stream",
     "text": [
      "ratio of valid molecules : 50/50\n"
     ]
    },
    {
     "name": "stderr",
     "output_type": "stream",
     "text": [
      "whole_iters:  13%|█▎        | 58/441 [00:23<02:39,  2.39it/s]"
     ]
    },
    {
     "name": "stdout",
     "output_type": "stream",
     "text": [
      "ratio of valid molecules : 50/50\n"
     ]
    },
    {
     "name": "stderr",
     "output_type": "stream",
     "text": [
      "whole_iters:  13%|█▎        | 59/441 [00:24<02:38,  2.41it/s]"
     ]
    },
    {
     "name": "stdout",
     "output_type": "stream",
     "text": [
      "ratio of valid molecules : 50/50\n"
     ]
    },
    {
     "name": "stderr",
     "output_type": "stream",
     "text": [
      "whole_iters:  14%|█▎        | 60/441 [00:24<02:39,  2.39it/s]"
     ]
    },
    {
     "name": "stdout",
     "output_type": "stream",
     "text": [
      "ratio of valid molecules : 50/50\n"
     ]
    },
    {
     "name": "stderr",
     "output_type": "stream",
     "text": [
      "whole_iters:  14%|█▍        | 61/441 [00:24<02:40,  2.37it/s]"
     ]
    },
    {
     "name": "stdout",
     "output_type": "stream",
     "text": [
      "ratio of valid molecules : 50/50\n"
     ]
    },
    {
     "name": "stderr",
     "output_type": "stream",
     "text": [
      "whole_iters:  14%|█▍        | 62/441 [00:25<02:32,  2.48it/s]"
     ]
    },
    {
     "name": "stdout",
     "output_type": "stream",
     "text": [
      "ratio of valid molecules : 50/50\n"
     ]
    },
    {
     "name": "stderr",
     "output_type": "stream",
     "text": [
      "whole_iters:  14%|█▍        | 63/441 [00:25<02:26,  2.58it/s]"
     ]
    },
    {
     "name": "stdout",
     "output_type": "stream",
     "text": [
      "ratio of valid molecules : 50/50\n"
     ]
    },
    {
     "name": "stderr",
     "output_type": "stream",
     "text": [
      "whole_iters:  15%|█▍        | 64/441 [00:26<02:29,  2.51it/s]"
     ]
    },
    {
     "name": "stdout",
     "output_type": "stream",
     "text": [
      "ratio of valid molecules : 50/50\n"
     ]
    },
    {
     "name": "stderr",
     "output_type": "stream",
     "text": [
      "whole_iters:  15%|█▍        | 65/441 [00:26<02:32,  2.47it/s]"
     ]
    },
    {
     "name": "stdout",
     "output_type": "stream",
     "text": [
      "ratio of valid molecules : 50/50\n"
     ]
    },
    {
     "name": "stderr",
     "output_type": "stream",
     "text": [
      "whole_iters:  15%|█▍        | 66/441 [00:26<02:33,  2.45it/s]"
     ]
    },
    {
     "name": "stdout",
     "output_type": "stream",
     "text": [
      "ratio of valid molecules : 50/50\n"
     ]
    },
    {
     "name": "stderr",
     "output_type": "stream",
     "text": [
      "whole_iters:  15%|█▌        | 67/441 [00:27<02:32,  2.44it/s]"
     ]
    },
    {
     "name": "stdout",
     "output_type": "stream",
     "text": [
      "ratio of valid molecules : 50/50\n"
     ]
    },
    {
     "name": "stderr",
     "output_type": "stream",
     "text": [
      "whole_iters:  15%|█▌        | 68/441 [00:27<02:33,  2.44it/s]"
     ]
    },
    {
     "name": "stdout",
     "output_type": "stream",
     "text": [
      "ratio of valid molecules : 50/50\n"
     ]
    },
    {
     "name": "stderr",
     "output_type": "stream",
     "text": [
      "whole_iters:  16%|█▌        | 69/441 [00:28<02:33,  2.43it/s]"
     ]
    },
    {
     "name": "stdout",
     "output_type": "stream",
     "text": [
      "ratio of valid molecules : 50/50\n"
     ]
    },
    {
     "name": "stderr",
     "output_type": "stream",
     "text": [
      "whole_iters:  16%|█▌        | 70/441 [00:28<02:31,  2.44it/s]"
     ]
    },
    {
     "name": "stdout",
     "output_type": "stream",
     "text": [
      "ratio of valid molecules : 50/50\n"
     ]
    },
    {
     "name": "stderr",
     "output_type": "stream",
     "text": [
      "whole_iters:  16%|█▌        | 71/441 [00:28<02:30,  2.46it/s]"
     ]
    },
    {
     "name": "stdout",
     "output_type": "stream",
     "text": [
      "ratio of valid molecules : 50/50\n"
     ]
    },
    {
     "name": "stderr",
     "output_type": "stream",
     "text": [
      "whole_iters:  16%|█▋        | 72/441 [00:29<02:32,  2.41it/s]"
     ]
    },
    {
     "name": "stdout",
     "output_type": "stream",
     "text": [
      "ratio of valid molecules : 50/50\n"
     ]
    },
    {
     "name": "stderr",
     "output_type": "stream",
     "text": [
      "whole_iters:  17%|█▋        | 73/441 [00:29<02:35,  2.37it/s]"
     ]
    },
    {
     "name": "stdout",
     "output_type": "stream",
     "text": [
      "ratio of valid molecules : 50/50\n"
     ]
    },
    {
     "name": "stderr",
     "output_type": "stream",
     "text": [
      "whole_iters:  17%|█▋        | 74/441 [00:30<02:35,  2.36it/s]"
     ]
    },
    {
     "name": "stdout",
     "output_type": "stream",
     "text": [
      "ratio of valid molecules : 50/50\n"
     ]
    },
    {
     "name": "stderr",
     "output_type": "stream",
     "text": [
      "whole_iters:  17%|█▋        | 75/441 [00:30<02:34,  2.37it/s]"
     ]
    },
    {
     "name": "stdout",
     "output_type": "stream",
     "text": [
      "ratio of valid molecules : 50/50\n"
     ]
    },
    {
     "name": "stderr",
     "output_type": "stream",
     "text": [
      "whole_iters:  17%|█▋        | 76/441 [00:30<02:31,  2.41it/s]"
     ]
    },
    {
     "name": "stdout",
     "output_type": "stream",
     "text": [
      "ratio of valid molecules : 50/50\n"
     ]
    },
    {
     "name": "stderr",
     "output_type": "stream",
     "text": [
      "whole_iters:  17%|█▋        | 77/441 [00:31<02:28,  2.46it/s]"
     ]
    },
    {
     "name": "stdout",
     "output_type": "stream",
     "text": [
      "ratio of valid molecules : 50/50\n"
     ]
    },
    {
     "name": "stderr",
     "output_type": "stream",
     "text": [
      "whole_iters:  18%|█▊        | 78/441 [00:31<02:24,  2.51it/s]"
     ]
    },
    {
     "name": "stdout",
     "output_type": "stream",
     "text": [
      "ratio of valid molecules : 50/50\n"
     ]
    },
    {
     "name": "stderr",
     "output_type": "stream",
     "text": [
      "whole_iters:  18%|█▊        | 79/441 [00:32<02:23,  2.53it/s]"
     ]
    },
    {
     "name": "stdout",
     "output_type": "stream",
     "text": [
      "ratio of valid molecules : 50/50\n"
     ]
    },
    {
     "name": "stderr",
     "output_type": "stream",
     "text": [
      "whole_iters:  18%|█▊        | 80/441 [00:32<02:21,  2.54it/s]"
     ]
    },
    {
     "name": "stdout",
     "output_type": "stream",
     "text": [
      "ratio of valid molecules : 50/50\n"
     ]
    },
    {
     "name": "stderr",
     "output_type": "stream",
     "text": [
      "whole_iters:  18%|█▊        | 81/441 [00:32<02:22,  2.52it/s]"
     ]
    },
    {
     "name": "stdout",
     "output_type": "stream",
     "text": [
      "ratio of valid molecules : 50/50\n"
     ]
    },
    {
     "name": "stderr",
     "output_type": "stream",
     "text": [
      "whole_iters:  19%|█▊        | 82/441 [00:33<02:22,  2.52it/s]"
     ]
    },
    {
     "name": "stdout",
     "output_type": "stream",
     "text": [
      "ratio of valid molecules : 50/50\n"
     ]
    },
    {
     "name": "stderr",
     "output_type": "stream",
     "text": [
      "whole_iters:  19%|█▉        | 83/441 [00:33<02:20,  2.55it/s]"
     ]
    },
    {
     "name": "stdout",
     "output_type": "stream",
     "text": [
      "ratio of valid molecules : 50/50\n"
     ]
    },
    {
     "name": "stderr",
     "output_type": "stream",
     "text": [
      "whole_iters:  19%|█▉        | 84/441 [00:34<02:19,  2.55it/s]"
     ]
    },
    {
     "name": "stdout",
     "output_type": "stream",
     "text": [
      "ratio of valid molecules : 50/50\n"
     ]
    },
    {
     "name": "stderr",
     "output_type": "stream",
     "text": [
      "whole_iters:  19%|█▉        | 85/441 [00:34<02:19,  2.56it/s]"
     ]
    },
    {
     "name": "stdout",
     "output_type": "stream",
     "text": [
      "ratio of valid molecules : 50/50\n"
     ]
    },
    {
     "name": "stderr",
     "output_type": "stream",
     "text": [
      "whole_iters:  20%|█▉        | 86/441 [00:34<02:17,  2.57it/s]"
     ]
    },
    {
     "name": "stdout",
     "output_type": "stream",
     "text": [
      "ratio of valid molecules : 50/50\n"
     ]
    },
    {
     "name": "stderr",
     "output_type": "stream",
     "text": [
      "whole_iters:  20%|█▉        | 87/441 [00:35<02:17,  2.57it/s]"
     ]
    },
    {
     "name": "stdout",
     "output_type": "stream",
     "text": [
      "ratio of valid molecules : 50/50\n"
     ]
    },
    {
     "name": "stderr",
     "output_type": "stream",
     "text": [
      "whole_iters:  20%|█▉        | 88/441 [00:35<02:18,  2.54it/s]"
     ]
    },
    {
     "name": "stdout",
     "output_type": "stream",
     "text": [
      "ratio of valid molecules : 50/50\n"
     ]
    },
    {
     "name": "stderr",
     "output_type": "stream",
     "text": [
      "whole_iters:  20%|██        | 89/441 [00:36<02:22,  2.47it/s]"
     ]
    },
    {
     "name": "stdout",
     "output_type": "stream",
     "text": [
      "ratio of valid molecules : 50/50\n"
     ]
    },
    {
     "name": "stderr",
     "output_type": "stream",
     "text": [
      "whole_iters:  20%|██        | 90/441 [00:36<02:23,  2.44it/s]"
     ]
    },
    {
     "name": "stdout",
     "output_type": "stream",
     "text": [
      "ratio of valid molecules : 50/50\n"
     ]
    },
    {
     "name": "stderr",
     "output_type": "stream",
     "text": [
      "whole_iters:  21%|██        | 91/441 [00:36<02:24,  2.42it/s]"
     ]
    },
    {
     "name": "stdout",
     "output_type": "stream",
     "text": [
      "ratio of valid molecules : 50/50\n"
     ]
    },
    {
     "name": "stderr",
     "output_type": "stream",
     "text": [
      "whole_iters:  21%|██        | 92/441 [00:37<02:21,  2.46it/s]"
     ]
    },
    {
     "name": "stdout",
     "output_type": "stream",
     "text": [
      "ratio of valid molecules : 50/50\n"
     ]
    },
    {
     "name": "stderr",
     "output_type": "stream",
     "text": [
      "whole_iters:  21%|██        | 93/441 [00:37<02:19,  2.49it/s]"
     ]
    },
    {
     "name": "stdout",
     "output_type": "stream",
     "text": [
      "ratio of valid molecules : 50/50\n"
     ]
    },
    {
     "name": "stderr",
     "output_type": "stream",
     "text": [
      "whole_iters:  21%|██▏       | 94/441 [00:38<02:18,  2.51it/s]"
     ]
    },
    {
     "name": "stdout",
     "output_type": "stream",
     "text": [
      "ratio of valid molecules : 50/50\n"
     ]
    },
    {
     "name": "stderr",
     "output_type": "stream",
     "text": [
      "whole_iters:  22%|██▏       | 95/441 [00:38<02:18,  2.49it/s]"
     ]
    },
    {
     "name": "stdout",
     "output_type": "stream",
     "text": [
      "ratio of valid molecules : 50/50\n"
     ]
    },
    {
     "name": "stderr",
     "output_type": "stream",
     "text": [
      "whole_iters:  22%|██▏       | 96/441 [00:38<02:19,  2.47it/s]"
     ]
    },
    {
     "name": "stdout",
     "output_type": "stream",
     "text": [
      "ratio of valid molecules : 50/50\n"
     ]
    },
    {
     "name": "stderr",
     "output_type": "stream",
     "text": [
      "whole_iters:  22%|██▏       | 97/441 [00:39<02:19,  2.47it/s]"
     ]
    },
    {
     "name": "stdout",
     "output_type": "stream",
     "text": [
      "ratio of valid molecules : 50/50\n"
     ]
    },
    {
     "name": "stderr",
     "output_type": "stream",
     "text": [
      "whole_iters:  22%|██▏       | 98/441 [00:39<02:19,  2.45it/s]"
     ]
    },
    {
     "name": "stdout",
     "output_type": "stream",
     "text": [
      "ratio of valid molecules : 50/50\n"
     ]
    },
    {
     "name": "stderr",
     "output_type": "stream",
     "text": [
      "whole_iters:  22%|██▏       | 99/441 [00:40<02:17,  2.48it/s]"
     ]
    },
    {
     "name": "stdout",
     "output_type": "stream",
     "text": [
      "ratio of valid molecules : 50/50\n"
     ]
    },
    {
     "name": "stderr",
     "output_type": "stream",
     "text": [
      "whole_iters:  23%|██▎       | 100/441 [00:40<02:14,  2.53it/s]"
     ]
    },
    {
     "name": "stdout",
     "output_type": "stream",
     "text": [
      "ratio of valid molecules : 50/50\n"
     ]
    },
    {
     "name": "stderr",
     "output_type": "stream",
     "text": [
      "whole_iters:  23%|██▎       | 101/441 [00:40<02:15,  2.51it/s]"
     ]
    },
    {
     "name": "stdout",
     "output_type": "stream",
     "text": [
      "ratio of valid molecules : 50/50\n"
     ]
    },
    {
     "name": "stderr",
     "output_type": "stream",
     "text": [
      "whole_iters:  23%|██▎       | 102/441 [00:41<02:15,  2.50it/s]"
     ]
    },
    {
     "name": "stdout",
     "output_type": "stream",
     "text": [
      "ratio of valid molecules : 50/50\n"
     ]
    },
    {
     "name": "stderr",
     "output_type": "stream",
     "text": [
      "whole_iters:  23%|██▎       | 103/441 [00:41<02:14,  2.51it/s]"
     ]
    },
    {
     "name": "stdout",
     "output_type": "stream",
     "text": [
      "ratio of valid molecules : 50/50\n"
     ]
    },
    {
     "name": "stderr",
     "output_type": "stream",
     "text": [
      "whole_iters:  24%|██▎       | 104/441 [00:42<02:11,  2.56it/s]"
     ]
    },
    {
     "name": "stdout",
     "output_type": "stream",
     "text": [
      "ratio of valid molecules : 50/50\n"
     ]
    },
    {
     "name": "stderr",
     "output_type": "stream",
     "text": [
      "whole_iters:  24%|██▍       | 105/441 [00:42<02:11,  2.56it/s]"
     ]
    },
    {
     "name": "stdout",
     "output_type": "stream",
     "text": [
      "ratio of valid molecules : 50/50\n"
     ]
    },
    {
     "name": "stderr",
     "output_type": "stream",
     "text": [
      "whole_iters:  24%|██▍       | 106/441 [00:42<02:10,  2.56it/s]"
     ]
    },
    {
     "name": "stdout",
     "output_type": "stream",
     "text": [
      "ratio of valid molecules : 50/50\n"
     ]
    },
    {
     "name": "stderr",
     "output_type": "stream",
     "text": [
      "whole_iters:  24%|██▍       | 107/441 [00:43<02:11,  2.55it/s]"
     ]
    },
    {
     "name": "stdout",
     "output_type": "stream",
     "text": [
      "ratio of valid molecules : 50/50\n"
     ]
    },
    {
     "name": "stderr",
     "output_type": "stream",
     "text": [
      "whole_iters:  24%|██▍       | 108/441 [00:43<02:12,  2.52it/s]"
     ]
    },
    {
     "name": "stdout",
     "output_type": "stream",
     "text": [
      "ratio of valid molecules : 50/50\n"
     ]
    },
    {
     "name": "stderr",
     "output_type": "stream",
     "text": [
      "whole_iters:  25%|██▍       | 109/441 [00:44<02:12,  2.50it/s]"
     ]
    },
    {
     "name": "stdout",
     "output_type": "stream",
     "text": [
      "ratio of valid molecules : 50/50\n"
     ]
    },
    {
     "name": "stderr",
     "output_type": "stream",
     "text": [
      "whole_iters:  25%|██▍       | 110/441 [00:44<02:12,  2.49it/s]"
     ]
    },
    {
     "name": "stdout",
     "output_type": "stream",
     "text": [
      "ratio of valid molecules : 50/50\n"
     ]
    },
    {
     "name": "stderr",
     "output_type": "stream",
     "text": [
      "whole_iters:  25%|██▌       | 111/441 [00:44<02:16,  2.42it/s]"
     ]
    },
    {
     "name": "stdout",
     "output_type": "stream",
     "text": [
      "ratio of valid molecules : 50/50\n"
     ]
    },
    {
     "name": "stderr",
     "output_type": "stream",
     "text": [
      "whole_iters:  25%|██▌       | 112/441 [00:45<02:15,  2.42it/s]"
     ]
    },
    {
     "name": "stdout",
     "output_type": "stream",
     "text": [
      "ratio of valid molecules : 50/50\n"
     ]
    },
    {
     "name": "stderr",
     "output_type": "stream",
     "text": [
      "whole_iters:  26%|██▌       | 113/441 [00:45<02:12,  2.47it/s]"
     ]
    },
    {
     "name": "stdout",
     "output_type": "stream",
     "text": [
      "ratio of valid molecules : 50/50\n"
     ]
    },
    {
     "name": "stderr",
     "output_type": "stream",
     "text": [
      "whole_iters:  26%|██▌       | 114/441 [00:46<02:11,  2.48it/s]"
     ]
    },
    {
     "name": "stdout",
     "output_type": "stream",
     "text": [
      "ratio of valid molecules : 50/50\n"
     ]
    },
    {
     "name": "stderr",
     "output_type": "stream",
     "text": [
      "whole_iters:  26%|██▌       | 115/441 [00:46<02:11,  2.49it/s]"
     ]
    },
    {
     "name": "stdout",
     "output_type": "stream",
     "text": [
      "ratio of valid molecules : 50/50\n"
     ]
    },
    {
     "name": "stderr",
     "output_type": "stream",
     "text": [
      "whole_iters:  26%|██▋       | 116/441 [00:46<02:10,  2.49it/s]"
     ]
    },
    {
     "name": "stdout",
     "output_type": "stream",
     "text": [
      "ratio of valid molecules : 50/50\n"
     ]
    },
    {
     "name": "stderr",
     "output_type": "stream",
     "text": [
      "whole_iters:  27%|██▋       | 117/441 [00:47<02:12,  2.44it/s]"
     ]
    },
    {
     "name": "stdout",
     "output_type": "stream",
     "text": [
      "ratio of valid molecules : 50/50\n"
     ]
    },
    {
     "name": "stderr",
     "output_type": "stream",
     "text": [
      "whole_iters:  27%|██▋       | 118/441 [00:47<02:12,  2.43it/s]"
     ]
    },
    {
     "name": "stdout",
     "output_type": "stream",
     "text": [
      "ratio of valid molecules : 50/50\n"
     ]
    },
    {
     "name": "stderr",
     "output_type": "stream",
     "text": [
      "whole_iters:  27%|██▋       | 119/441 [00:48<02:12,  2.42it/s]"
     ]
    },
    {
     "name": "stdout",
     "output_type": "stream",
     "text": [
      "ratio of valid molecules : 50/50\n"
     ]
    },
    {
     "name": "stderr",
     "output_type": "stream",
     "text": [
      "whole_iters:  27%|██▋       | 120/441 [00:48<02:11,  2.44it/s]"
     ]
    },
    {
     "name": "stdout",
     "output_type": "stream",
     "text": [
      "ratio of valid molecules : 50/50\n"
     ]
    },
    {
     "name": "stderr",
     "output_type": "stream",
     "text": [
      "whole_iters:  27%|██▋       | 121/441 [00:49<02:11,  2.43it/s]"
     ]
    },
    {
     "name": "stdout",
     "output_type": "stream",
     "text": [
      "ratio of valid molecules : 50/50\n"
     ]
    },
    {
     "name": "stderr",
     "output_type": "stream",
     "text": [
      "whole_iters:  28%|██▊       | 122/441 [00:49<02:09,  2.46it/s]"
     ]
    },
    {
     "name": "stdout",
     "output_type": "stream",
     "text": [
      "ratio of valid molecules : 50/50\n"
     ]
    },
    {
     "name": "stderr",
     "output_type": "stream",
     "text": [
      "whole_iters:  28%|██▊       | 123/441 [00:49<02:07,  2.50it/s]"
     ]
    },
    {
     "name": "stdout",
     "output_type": "stream",
     "text": [
      "ratio of valid molecules : 50/50\n"
     ]
    },
    {
     "name": "stderr",
     "output_type": "stream",
     "text": [
      "whole_iters:  28%|██▊       | 124/441 [00:50<02:06,  2.50it/s]"
     ]
    },
    {
     "name": "stdout",
     "output_type": "stream",
     "text": [
      "ratio of valid molecules : 50/50\n"
     ]
    },
    {
     "name": "stderr",
     "output_type": "stream",
     "text": [
      "whole_iters:  28%|██▊       | 125/441 [00:50<02:09,  2.44it/s]"
     ]
    },
    {
     "name": "stdout",
     "output_type": "stream",
     "text": [
      "ratio of valid molecules : 50/50\n"
     ]
    },
    {
     "name": "stderr",
     "output_type": "stream",
     "text": [
      "whole_iters:  29%|██▊       | 126/441 [00:51<02:06,  2.48it/s]"
     ]
    },
    {
     "name": "stdout",
     "output_type": "stream",
     "text": [
      "ratio of valid molecules : 50/50\n"
     ]
    },
    {
     "name": "stderr",
     "output_type": "stream",
     "text": [
      "whole_iters:  29%|██▉       | 127/441 [00:51<02:05,  2.50it/s]"
     ]
    },
    {
     "name": "stdout",
     "output_type": "stream",
     "text": [
      "ratio of valid molecules : 50/50\n"
     ]
    },
    {
     "name": "stderr",
     "output_type": "stream",
     "text": [
      "whole_iters:  29%|██▉       | 128/441 [00:51<02:03,  2.53it/s]"
     ]
    },
    {
     "name": "stdout",
     "output_type": "stream",
     "text": [
      "ratio of valid molecules : 50/50\n"
     ]
    },
    {
     "name": "stderr",
     "output_type": "stream",
     "text": [
      "whole_iters:  29%|██▉       | 129/441 [00:52<02:02,  2.55it/s]"
     ]
    },
    {
     "name": "stdout",
     "output_type": "stream",
     "text": [
      "ratio of valid molecules : 50/50\n"
     ]
    },
    {
     "name": "stderr",
     "output_type": "stream",
     "text": [
      "whole_iters:  29%|██▉       | 130/441 [00:52<02:02,  2.53it/s]"
     ]
    },
    {
     "name": "stdout",
     "output_type": "stream",
     "text": [
      "ratio of valid molecules : 50/50\n"
     ]
    },
    {
     "name": "stderr",
     "output_type": "stream",
     "text": [
      "whole_iters:  30%|██▉       | 131/441 [00:53<02:07,  2.44it/s]"
     ]
    },
    {
     "name": "stdout",
     "output_type": "stream",
     "text": [
      "ratio of valid molecules : 50/50\n"
     ]
    },
    {
     "name": "stderr",
     "output_type": "stream",
     "text": [
      "whole_iters:  30%|██▉       | 132/441 [00:53<02:07,  2.42it/s]"
     ]
    },
    {
     "name": "stdout",
     "output_type": "stream",
     "text": [
      "ratio of valid molecules : 50/50\n"
     ]
    },
    {
     "name": "stderr",
     "output_type": "stream",
     "text": [
      "whole_iters:  30%|███       | 133/441 [00:53<02:08,  2.40it/s]"
     ]
    },
    {
     "name": "stdout",
     "output_type": "stream",
     "text": [
      "ratio of valid molecules : 50/50\n"
     ]
    },
    {
     "name": "stderr",
     "output_type": "stream",
     "text": [
      "whole_iters:  30%|███       | 134/441 [00:54<02:07,  2.40it/s]"
     ]
    },
    {
     "name": "stdout",
     "output_type": "stream",
     "text": [
      "ratio of valid molecules : 50/50\n"
     ]
    },
    {
     "name": "stderr",
     "output_type": "stream",
     "text": [
      "whole_iters:  31%|███       | 135/441 [00:54<02:06,  2.42it/s]"
     ]
    },
    {
     "name": "stdout",
     "output_type": "stream",
     "text": [
      "ratio of valid molecules : 50/50\n"
     ]
    },
    {
     "name": "stderr",
     "output_type": "stream",
     "text": [
      "whole_iters:  31%|███       | 136/441 [00:55<02:04,  2.44it/s]"
     ]
    },
    {
     "name": "stdout",
     "output_type": "stream",
     "text": [
      "ratio of valid molecules : 50/50\n"
     ]
    },
    {
     "name": "stderr",
     "output_type": "stream",
     "text": [
      "whole_iters:  31%|███       | 137/441 [00:55<02:04,  2.43it/s]"
     ]
    },
    {
     "name": "stdout",
     "output_type": "stream",
     "text": [
      "ratio of valid molecules : 50/50\n"
     ]
    },
    {
     "name": "stderr",
     "output_type": "stream",
     "text": [
      "whole_iters:  31%|███▏      | 138/441 [00:55<02:03,  2.45it/s]"
     ]
    },
    {
     "name": "stdout",
     "output_type": "stream",
     "text": [
      "ratio of valid molecules : 50/50\n"
     ]
    },
    {
     "name": "stderr",
     "output_type": "stream",
     "text": [
      "whole_iters:  32%|███▏      | 139/441 [00:56<02:05,  2.42it/s]"
     ]
    },
    {
     "name": "stdout",
     "output_type": "stream",
     "text": [
      "ratio of valid molecules : 50/50\n"
     ]
    },
    {
     "name": "stderr",
     "output_type": "stream",
     "text": [
      "whole_iters:  32%|███▏      | 140/441 [00:56<02:07,  2.36it/s]"
     ]
    },
    {
     "name": "stdout",
     "output_type": "stream",
     "text": [
      "ratio of valid molecules : 50/50\n"
     ]
    },
    {
     "name": "stderr",
     "output_type": "stream",
     "text": [
      "whole_iters:  32%|███▏      | 141/441 [00:57<02:05,  2.38it/s]"
     ]
    },
    {
     "name": "stdout",
     "output_type": "stream",
     "text": [
      "ratio of valid molecules : 50/50\n"
     ]
    },
    {
     "name": "stderr",
     "output_type": "stream",
     "text": [
      "whole_iters:  32%|███▏      | 142/441 [00:57<02:04,  2.40it/s]"
     ]
    },
    {
     "name": "stdout",
     "output_type": "stream",
     "text": [
      "ratio of valid molecules : 50/50\n"
     ]
    },
    {
     "name": "stderr",
     "output_type": "stream",
     "text": [
      "whole_iters:  32%|███▏      | 143/441 [00:58<02:03,  2.42it/s]"
     ]
    },
    {
     "name": "stdout",
     "output_type": "stream",
     "text": [
      "ratio of valid molecules : 50/50\n"
     ]
    },
    {
     "name": "stderr",
     "output_type": "stream",
     "text": [
      "whole_iters:  33%|███▎      | 144/441 [00:58<02:01,  2.45it/s]"
     ]
    },
    {
     "name": "stdout",
     "output_type": "stream",
     "text": [
      "ratio of valid molecules : 50/50\n"
     ]
    },
    {
     "name": "stderr",
     "output_type": "stream",
     "text": [
      "whole_iters:  33%|███▎      | 145/441 [00:58<02:00,  2.46it/s]"
     ]
    },
    {
     "name": "stdout",
     "output_type": "stream",
     "text": [
      "ratio of valid molecules : 50/50\n"
     ]
    },
    {
     "name": "stderr",
     "output_type": "stream",
     "text": [
      "whole_iters:  33%|███▎      | 146/441 [00:59<01:58,  2.49it/s]"
     ]
    },
    {
     "name": "stdout",
     "output_type": "stream",
     "text": [
      "ratio of valid molecules : 50/50\n"
     ]
    },
    {
     "name": "stderr",
     "output_type": "stream",
     "text": [
      "whole_iters:  33%|███▎      | 147/441 [00:59<01:56,  2.51it/s]"
     ]
    },
    {
     "name": "stdout",
     "output_type": "stream",
     "text": [
      "ratio of valid molecules : 50/50\n"
     ]
    },
    {
     "name": "stderr",
     "output_type": "stream",
     "text": [
      "whole_iters:  34%|███▎      | 148/441 [00:59<01:53,  2.58it/s]"
     ]
    },
    {
     "name": "stdout",
     "output_type": "stream",
     "text": [
      "ratio of valid molecules : 50/50\n"
     ]
    },
    {
     "name": "stderr",
     "output_type": "stream",
     "text": [
      "whole_iters:  34%|███▍      | 149/441 [01:00<01:53,  2.56it/s]"
     ]
    },
    {
     "name": "stdout",
     "output_type": "stream",
     "text": [
      "ratio of valid molecules : 50/50\n"
     ]
    },
    {
     "name": "stderr",
     "output_type": "stream",
     "text": [
      "whole_iters:  34%|███▍      | 150/441 [01:00<01:56,  2.50it/s]"
     ]
    },
    {
     "name": "stdout",
     "output_type": "stream",
     "text": [
      "ratio of valid molecules : 50/50\n"
     ]
    },
    {
     "name": "stderr",
     "output_type": "stream",
     "text": [
      "whole_iters:  34%|███▍      | 151/441 [01:01<01:57,  2.48it/s]"
     ]
    },
    {
     "name": "stdout",
     "output_type": "stream",
     "text": [
      "ratio of valid molecules : 50/50\n"
     ]
    },
    {
     "name": "stderr",
     "output_type": "stream",
     "text": [
      "whole_iters:  34%|███▍      | 152/441 [01:01<02:00,  2.41it/s]"
     ]
    },
    {
     "name": "stdout",
     "output_type": "stream",
     "text": [
      "ratio of valid molecules : 50/50\n"
     ]
    },
    {
     "name": "stderr",
     "output_type": "stream",
     "text": [
      "whole_iters:  35%|███▍      | 153/441 [01:02<01:59,  2.41it/s]"
     ]
    },
    {
     "name": "stdout",
     "output_type": "stream",
     "text": [
      "ratio of valid molecules : 50/50\n"
     ]
    },
    {
     "name": "stderr",
     "output_type": "stream",
     "text": [
      "whole_iters:  35%|███▍      | 154/441 [01:02<01:58,  2.42it/s]"
     ]
    },
    {
     "name": "stdout",
     "output_type": "stream",
     "text": [
      "ratio of valid molecules : 50/50\n"
     ]
    },
    {
     "name": "stderr",
     "output_type": "stream",
     "text": [
      "whole_iters:  35%|███▌      | 155/441 [01:02<01:58,  2.42it/s]"
     ]
    },
    {
     "name": "stdout",
     "output_type": "stream",
     "text": [
      "ratio of valid molecules : 50/50\n"
     ]
    },
    {
     "name": "stderr",
     "output_type": "stream",
     "text": [
      "whole_iters:  35%|███▌      | 156/441 [01:03<01:57,  2.42it/s]"
     ]
    },
    {
     "name": "stdout",
     "output_type": "stream",
     "text": [
      "ratio of valid molecules : 50/50\n"
     ]
    },
    {
     "name": "stderr",
     "output_type": "stream",
     "text": [
      "whole_iters:  36%|███▌      | 157/441 [01:03<01:58,  2.40it/s]"
     ]
    },
    {
     "name": "stdout",
     "output_type": "stream",
     "text": [
      "ratio of valid molecules : 50/50\n"
     ]
    },
    {
     "name": "stderr",
     "output_type": "stream",
     "text": [
      "whole_iters:  36%|███▌      | 158/441 [01:04<01:59,  2.38it/s]"
     ]
    },
    {
     "name": "stdout",
     "output_type": "stream",
     "text": [
      "ratio of valid molecules : 50/50\n"
     ]
    },
    {
     "name": "stderr",
     "output_type": "stream",
     "text": [
      "whole_iters:  36%|███▌      | 159/441 [01:04<01:59,  2.36it/s]"
     ]
    },
    {
     "name": "stdout",
     "output_type": "stream",
     "text": [
      "ratio of valid molecules : 50/50\n"
     ]
    },
    {
     "name": "stderr",
     "output_type": "stream",
     "text": [
      "whole_iters:  36%|███▋      | 160/441 [01:04<01:58,  2.37it/s]"
     ]
    },
    {
     "name": "stdout",
     "output_type": "stream",
     "text": [
      "ratio of valid molecules : 50/50\n"
     ]
    },
    {
     "name": "stderr",
     "output_type": "stream",
     "text": [
      "whole_iters:  37%|███▋      | 161/441 [01:05<01:55,  2.42it/s]"
     ]
    },
    {
     "name": "stdout",
     "output_type": "stream",
     "text": [
      "ratio of valid molecules : 50/50\n"
     ]
    },
    {
     "name": "stderr",
     "output_type": "stream",
     "text": [
      "whole_iters:  37%|███▋      | 162/441 [01:05<01:54,  2.43it/s]"
     ]
    },
    {
     "name": "stdout",
     "output_type": "stream",
     "text": [
      "ratio of valid molecules : 50/50\n"
     ]
    },
    {
     "name": "stderr",
     "output_type": "stream",
     "text": [
      "whole_iters:  37%|███▋      | 163/441 [01:06<01:53,  2.44it/s]"
     ]
    },
    {
     "name": "stdout",
     "output_type": "stream",
     "text": [
      "ratio of valid molecules : 50/50\n"
     ]
    },
    {
     "name": "stderr",
     "output_type": "stream",
     "text": [
      "whole_iters:  37%|███▋      | 164/441 [01:06<01:53,  2.44it/s]"
     ]
    },
    {
     "name": "stdout",
     "output_type": "stream",
     "text": [
      "ratio of valid molecules : 50/50\n"
     ]
    },
    {
     "name": "stderr",
     "output_type": "stream",
     "text": [
      "whole_iters:  37%|███▋      | 165/441 [01:06<01:50,  2.49it/s]"
     ]
    },
    {
     "name": "stdout",
     "output_type": "stream",
     "text": [
      "ratio of valid molecules : 50/50\n"
     ]
    },
    {
     "name": "stderr",
     "output_type": "stream",
     "text": [
      "whole_iters:  38%|███▊      | 166/441 [01:07<01:49,  2.51it/s]"
     ]
    },
    {
     "name": "stdout",
     "output_type": "stream",
     "text": [
      "ratio of valid molecules : 50/50\n"
     ]
    },
    {
     "name": "stderr",
     "output_type": "stream",
     "text": [
      "whole_iters:  38%|███▊      | 167/441 [01:07<01:49,  2.49it/s]"
     ]
    },
    {
     "name": "stdout",
     "output_type": "stream",
     "text": [
      "ratio of valid molecules : 50/50\n"
     ]
    },
    {
     "name": "stderr",
     "output_type": "stream",
     "text": [
      "whole_iters:  38%|███▊      | 168/441 [01:08<01:48,  2.51it/s]"
     ]
    },
    {
     "name": "stdout",
     "output_type": "stream",
     "text": [
      "ratio of valid molecules : 50/50\n"
     ]
    },
    {
     "name": "stderr",
     "output_type": "stream",
     "text": [
      "whole_iters:  38%|███▊      | 169/441 [01:08<01:50,  2.47it/s]"
     ]
    },
    {
     "name": "stdout",
     "output_type": "stream",
     "text": [
      "ratio of valid molecules : 50/50\n"
     ]
    },
    {
     "name": "stderr",
     "output_type": "stream",
     "text": [
      "whole_iters:  39%|███▊      | 170/441 [01:09<01:50,  2.46it/s]"
     ]
    },
    {
     "name": "stdout",
     "output_type": "stream",
     "text": [
      "ratio of valid molecules : 50/50\n"
     ]
    },
    {
     "name": "stderr",
     "output_type": "stream",
     "text": [
      "whole_iters:  39%|███▉      | 171/441 [01:09<01:50,  2.45it/s]"
     ]
    },
    {
     "name": "stdout",
     "output_type": "stream",
     "text": [
      "ratio of valid molecules : 50/50\n"
     ]
    },
    {
     "name": "stderr",
     "output_type": "stream",
     "text": [
      "whole_iters:  39%|███▉      | 172/441 [01:09<01:53,  2.37it/s]"
     ]
    },
    {
     "name": "stdout",
     "output_type": "stream",
     "text": [
      "ratio of valid molecules : 50/50\n"
     ]
    },
    {
     "name": "stderr",
     "output_type": "stream",
     "text": [
      "whole_iters:  39%|███▉      | 173/441 [01:10<01:51,  2.39it/s]"
     ]
    },
    {
     "name": "stdout",
     "output_type": "stream",
     "text": [
      "ratio of valid molecules : 50/50\n"
     ]
    },
    {
     "name": "stderr",
     "output_type": "stream",
     "text": [
      "whole_iters:  39%|███▉      | 174/441 [01:10<01:48,  2.46it/s]"
     ]
    },
    {
     "name": "stdout",
     "output_type": "stream",
     "text": [
      "ratio of valid molecules : 50/50\n"
     ]
    },
    {
     "name": "stderr",
     "output_type": "stream",
     "text": [
      "whole_iters:  40%|███▉      | 175/441 [01:11<01:47,  2.48it/s]"
     ]
    },
    {
     "name": "stdout",
     "output_type": "stream",
     "text": [
      "ratio of valid molecules : 50/50\n"
     ]
    },
    {
     "name": "stderr",
     "output_type": "stream",
     "text": [
      "whole_iters:  40%|███▉      | 176/441 [01:11<01:45,  2.51it/s]"
     ]
    },
    {
     "name": "stdout",
     "output_type": "stream",
     "text": [
      "ratio of valid molecules : 50/50\n"
     ]
    },
    {
     "name": "stderr",
     "output_type": "stream",
     "text": [
      "whole_iters:  40%|████      | 177/441 [01:11<01:45,  2.51it/s]"
     ]
    },
    {
     "name": "stdout",
     "output_type": "stream",
     "text": [
      "ratio of valid molecules : 50/50\n"
     ]
    },
    {
     "name": "stderr",
     "output_type": "stream",
     "text": [
      "whole_iters:  40%|████      | 178/441 [01:12<01:46,  2.47it/s]"
     ]
    },
    {
     "name": "stdout",
     "output_type": "stream",
     "text": [
      "ratio of valid molecules : 50/50\n"
     ]
    },
    {
     "name": "stderr",
     "output_type": "stream",
     "text": [
      "whole_iters:  41%|████      | 179/441 [01:12<01:45,  2.48it/s]"
     ]
    },
    {
     "name": "stdout",
     "output_type": "stream",
     "text": [
      "ratio of valid molecules : 50/50\n"
     ]
    },
    {
     "name": "stderr",
     "output_type": "stream",
     "text": [
      "whole_iters:  41%|████      | 180/441 [01:13<01:46,  2.46it/s]"
     ]
    },
    {
     "name": "stdout",
     "output_type": "stream",
     "text": [
      "ratio of valid molecules : 50/50\n"
     ]
    },
    {
     "name": "stderr",
     "output_type": "stream",
     "text": [
      "whole_iters:  41%|████      | 181/441 [01:13<01:45,  2.46it/s]"
     ]
    },
    {
     "name": "stdout",
     "output_type": "stream",
     "text": [
      "ratio of valid molecules : 50/50\n"
     ]
    },
    {
     "name": "stderr",
     "output_type": "stream",
     "text": [
      "whole_iters:  41%|████▏     | 182/441 [01:13<01:45,  2.46it/s]"
     ]
    },
    {
     "name": "stdout",
     "output_type": "stream",
     "text": [
      "ratio of valid molecules : 50/50\n"
     ]
    },
    {
     "name": "stderr",
     "output_type": "stream",
     "text": [
      "whole_iters:  41%|████▏     | 183/441 [01:14<01:44,  2.47it/s]"
     ]
    },
    {
     "name": "stdout",
     "output_type": "stream",
     "text": [
      "ratio of valid molecules : 50/50\n"
     ]
    },
    {
     "name": "stderr",
     "output_type": "stream",
     "text": [
      "whole_iters:  42%|████▏     | 184/441 [01:14<01:43,  2.47it/s]"
     ]
    },
    {
     "name": "stdout",
     "output_type": "stream",
     "text": [
      "ratio of valid molecules : 50/50\n"
     ]
    },
    {
     "name": "stderr",
     "output_type": "stream",
     "text": [
      "whole_iters:  42%|████▏     | 185/441 [01:15<01:42,  2.49it/s]"
     ]
    },
    {
     "name": "stdout",
     "output_type": "stream",
     "text": [
      "ratio of valid molecules : 50/50\n"
     ]
    },
    {
     "name": "stderr",
     "output_type": "stream",
     "text": [
      "whole_iters:  42%|████▏     | 186/441 [01:15<01:42,  2.50it/s]"
     ]
    },
    {
     "name": "stdout",
     "output_type": "stream",
     "text": [
      "ratio of valid molecules : 50/50\n"
     ]
    },
    {
     "name": "stderr",
     "output_type": "stream",
     "text": [
      "whole_iters:  42%|████▏     | 187/441 [01:15<01:42,  2.48it/s]"
     ]
    },
    {
     "name": "stdout",
     "output_type": "stream",
     "text": [
      "ratio of valid molecules : 50/50\n"
     ]
    },
    {
     "name": "stderr",
     "output_type": "stream",
     "text": [
      "whole_iters:  43%|████▎     | 188/441 [01:16<01:40,  2.51it/s]"
     ]
    },
    {
     "name": "stdout",
     "output_type": "stream",
     "text": [
      "ratio of valid molecules : 50/50\n"
     ]
    },
    {
     "name": "stderr",
     "output_type": "stream",
     "text": [
      "whole_iters:  43%|████▎     | 189/441 [01:16<01:40,  2.50it/s]"
     ]
    },
    {
     "name": "stdout",
     "output_type": "stream",
     "text": [
      "ratio of valid molecules : 50/50\n"
     ]
    },
    {
     "name": "stderr",
     "output_type": "stream",
     "text": [
      "whole_iters:  43%|████▎     | 190/441 [01:17<01:39,  2.53it/s]"
     ]
    },
    {
     "name": "stdout",
     "output_type": "stream",
     "text": [
      "ratio of valid molecules : 50/50\n"
     ]
    },
    {
     "name": "stderr",
     "output_type": "stream",
     "text": [
      "whole_iters:  43%|████▎     | 191/441 [01:17<01:38,  2.53it/s]"
     ]
    },
    {
     "name": "stdout",
     "output_type": "stream",
     "text": [
      "ratio of valid molecules : 50/50\n"
     ]
    },
    {
     "name": "stderr",
     "output_type": "stream",
     "text": [
      "whole_iters:  44%|████▎     | 192/441 [01:17<01:39,  2.51it/s]"
     ]
    },
    {
     "name": "stdout",
     "output_type": "stream",
     "text": [
      "ratio of valid molecules : 50/50\n"
     ]
    },
    {
     "name": "stderr",
     "output_type": "stream",
     "text": [
      "whole_iters:  44%|████▍     | 193/441 [01:18<01:37,  2.54it/s]"
     ]
    },
    {
     "name": "stdout",
     "output_type": "stream",
     "text": [
      "ratio of valid molecules : 50/50\n"
     ]
    },
    {
     "name": "stderr",
     "output_type": "stream",
     "text": [
      "whole_iters:  44%|████▍     | 194/441 [01:18<01:37,  2.55it/s]"
     ]
    },
    {
     "name": "stdout",
     "output_type": "stream",
     "text": [
      "ratio of valid molecules : 50/50\n"
     ]
    },
    {
     "name": "stderr",
     "output_type": "stream",
     "text": [
      "whole_iters:  44%|████▍     | 195/441 [01:19<01:35,  2.57it/s]"
     ]
    },
    {
     "name": "stdout",
     "output_type": "stream",
     "text": [
      "ratio of valid molecules : 50/50\n"
     ]
    },
    {
     "name": "stderr",
     "output_type": "stream",
     "text": [
      "whole_iters:  44%|████▍     | 196/441 [01:19<01:37,  2.53it/s]"
     ]
    },
    {
     "name": "stdout",
     "output_type": "stream",
     "text": [
      "ratio of valid molecules : 50/50\n"
     ]
    },
    {
     "name": "stderr",
     "output_type": "stream",
     "text": [
      "whole_iters:  45%|████▍     | 197/441 [01:19<01:35,  2.55it/s]"
     ]
    },
    {
     "name": "stdout",
     "output_type": "stream",
     "text": [
      "ratio of valid molecules : 50/50\n"
     ]
    },
    {
     "name": "stderr",
     "output_type": "stream",
     "text": [
      "whole_iters:  45%|████▍     | 198/441 [01:20<01:34,  2.58it/s]"
     ]
    },
    {
     "name": "stdout",
     "output_type": "stream",
     "text": [
      "ratio of valid molecules : 50/50\n"
     ]
    },
    {
     "name": "stderr",
     "output_type": "stream",
     "text": [
      "whole_iters:  45%|████▌     | 199/441 [01:20<01:33,  2.57it/s]"
     ]
    },
    {
     "name": "stdout",
     "output_type": "stream",
     "text": [
      "ratio of valid molecules : 50/50\n"
     ]
    },
    {
     "name": "stderr",
     "output_type": "stream",
     "text": [
      "whole_iters:  45%|████▌     | 200/441 [01:20<01:33,  2.57it/s]"
     ]
    },
    {
     "name": "stdout",
     "output_type": "stream",
     "text": [
      "ratio of valid molecules : 50/50\n"
     ]
    },
    {
     "name": "stderr",
     "output_type": "stream",
     "text": [
      "whole_iters:  46%|████▌     | 201/441 [01:21<01:35,  2.51it/s]"
     ]
    },
    {
     "name": "stdout",
     "output_type": "stream",
     "text": [
      "ratio of valid molecules : 50/50\n"
     ]
    },
    {
     "name": "stderr",
     "output_type": "stream",
     "text": [
      "whole_iters:  46%|████▌     | 202/441 [01:21<01:35,  2.51it/s]"
     ]
    },
    {
     "name": "stdout",
     "output_type": "stream",
     "text": [
      "ratio of valid molecules : 50/50\n"
     ]
    },
    {
     "name": "stderr",
     "output_type": "stream",
     "text": [
      "whole_iters:  46%|████▌     | 203/441 [01:22<01:36,  2.47it/s]"
     ]
    },
    {
     "name": "stdout",
     "output_type": "stream",
     "text": [
      "ratio of valid molecules : 50/50\n"
     ]
    },
    {
     "name": "stderr",
     "output_type": "stream",
     "text": [
      "whole_iters:  46%|████▋     | 204/441 [01:22<01:35,  2.47it/s]"
     ]
    },
    {
     "name": "stdout",
     "output_type": "stream",
     "text": [
      "ratio of valid molecules : 50/50\n"
     ]
    },
    {
     "name": "stderr",
     "output_type": "stream",
     "text": [
      "whole_iters:  46%|████▋     | 205/441 [01:23<01:37,  2.42it/s]"
     ]
    },
    {
     "name": "stdout",
     "output_type": "stream",
     "text": [
      "ratio of valid molecules : 50/50\n"
     ]
    },
    {
     "name": "stderr",
     "output_type": "stream",
     "text": [
      "whole_iters:  47%|████▋     | 206/441 [01:23<01:36,  2.43it/s]"
     ]
    },
    {
     "name": "stdout",
     "output_type": "stream",
     "text": [
      "ratio of valid molecules : 50/50\n"
     ]
    },
    {
     "name": "stderr",
     "output_type": "stream",
     "text": [
      "whole_iters:  47%|████▋     | 207/441 [01:23<01:36,  2.42it/s]"
     ]
    },
    {
     "name": "stdout",
     "output_type": "stream",
     "text": [
      "ratio of valid molecules : 50/50\n"
     ]
    },
    {
     "name": "stderr",
     "output_type": "stream",
     "text": [
      "whole_iters:  47%|████▋     | 208/441 [01:24<01:36,  2.42it/s]"
     ]
    },
    {
     "name": "stdout",
     "output_type": "stream",
     "text": [
      "ratio of valid molecules : 50/50\n"
     ]
    },
    {
     "name": "stderr",
     "output_type": "stream",
     "text": [
      "whole_iters:  47%|████▋     | 209/441 [01:24<01:35,  2.42it/s]"
     ]
    },
    {
     "name": "stdout",
     "output_type": "stream",
     "text": [
      "ratio of valid molecules : 50/50\n"
     ]
    },
    {
     "name": "stderr",
     "output_type": "stream",
     "text": [
      "whole_iters:  48%|████▊     | 210/441 [01:25<01:35,  2.42it/s]"
     ]
    },
    {
     "name": "stdout",
     "output_type": "stream",
     "text": [
      "ratio of valid molecules : 50/50\n"
     ]
    },
    {
     "name": "stderr",
     "output_type": "stream",
     "text": [
      "whole_iters:  48%|████▊     | 211/441 [01:25<01:33,  2.45it/s]"
     ]
    },
    {
     "name": "stdout",
     "output_type": "stream",
     "text": [
      "ratio of valid molecules : 50/50\n"
     ]
    },
    {
     "name": "stderr",
     "output_type": "stream",
     "text": [
      "whole_iters:  48%|████▊     | 212/441 [01:25<01:33,  2.44it/s]"
     ]
    },
    {
     "name": "stdout",
     "output_type": "stream",
     "text": [
      "ratio of valid molecules : 50/50\n"
     ]
    },
    {
     "name": "stderr",
     "output_type": "stream",
     "text": [
      "whole_iters:  48%|████▊     | 213/441 [01:26<01:32,  2.47it/s]"
     ]
    },
    {
     "name": "stdout",
     "output_type": "stream",
     "text": [
      "ratio of valid molecules : 50/50\n"
     ]
    },
    {
     "name": "stderr",
     "output_type": "stream",
     "text": [
      "whole_iters:  49%|████▊     | 214/441 [01:26<01:33,  2.42it/s]"
     ]
    },
    {
     "name": "stdout",
     "output_type": "stream",
     "text": [
      "ratio of valid molecules : 50/50\n"
     ]
    },
    {
     "name": "stderr",
     "output_type": "stream",
     "text": [
      "whole_iters:  49%|████▉     | 215/441 [01:27<01:32,  2.45it/s]"
     ]
    },
    {
     "name": "stdout",
     "output_type": "stream",
     "text": [
      "ratio of valid molecules : 50/50\n"
     ]
    },
    {
     "name": "stderr",
     "output_type": "stream",
     "text": [
      "whole_iters:  49%|████▉     | 216/441 [01:27<01:30,  2.47it/s]"
     ]
    },
    {
     "name": "stdout",
     "output_type": "stream",
     "text": [
      "ratio of valid molecules : 50/50\n"
     ]
    },
    {
     "name": "stderr",
     "output_type": "stream",
     "text": [
      "whole_iters:  49%|████▉     | 217/441 [01:27<01:29,  2.49it/s]"
     ]
    },
    {
     "name": "stdout",
     "output_type": "stream",
     "text": [
      "ratio of valid molecules : 50/50\n"
     ]
    },
    {
     "name": "stderr",
     "output_type": "stream",
     "text": [
      "whole_iters:  49%|████▉     | 218/441 [01:28<01:28,  2.51it/s]"
     ]
    },
    {
     "name": "stdout",
     "output_type": "stream",
     "text": [
      "ratio of valid molecules : 50/50\n"
     ]
    },
    {
     "name": "stderr",
     "output_type": "stream",
     "text": [
      "whole_iters:  50%|████▉     | 219/441 [01:28<01:28,  2.50it/s]"
     ]
    },
    {
     "name": "stdout",
     "output_type": "stream",
     "text": [
      "ratio of valid molecules : 50/50\n"
     ]
    },
    {
     "name": "stderr",
     "output_type": "stream",
     "text": [
      "whole_iters:  50%|████▉     | 220/441 [01:29<01:28,  2.49it/s]"
     ]
    },
    {
     "name": "stdout",
     "output_type": "stream",
     "text": [
      "ratio of valid molecules : 50/50\n"
     ]
    },
    {
     "name": "stderr",
     "output_type": "stream",
     "text": [
      "whole_iters:  50%|█████     | 221/441 [01:29<01:28,  2.48it/s]"
     ]
    },
    {
     "name": "stdout",
     "output_type": "stream",
     "text": [
      "ratio of valid molecules : 50/50\n"
     ]
    },
    {
     "name": "stderr",
     "output_type": "stream",
     "text": [
      "whole_iters:  50%|█████     | 222/441 [01:29<01:29,  2.46it/s]"
     ]
    },
    {
     "name": "stdout",
     "output_type": "stream",
     "text": [
      "ratio of valid molecules : 50/50\n"
     ]
    },
    {
     "name": "stderr",
     "output_type": "stream",
     "text": [
      "whole_iters:  51%|█████     | 223/441 [01:30<01:30,  2.41it/s]"
     ]
    },
    {
     "name": "stdout",
     "output_type": "stream",
     "text": [
      "ratio of valid molecules : 50/50\n"
     ]
    },
    {
     "name": "stderr",
     "output_type": "stream",
     "text": [
      "whole_iters:  51%|█████     | 224/441 [01:30<01:29,  2.42it/s]"
     ]
    },
    {
     "name": "stdout",
     "output_type": "stream",
     "text": [
      "ratio of valid molecules : 50/50\n"
     ]
    },
    {
     "name": "stderr",
     "output_type": "stream",
     "text": [
      "whole_iters:  51%|█████     | 225/441 [01:31<01:29,  2.42it/s]"
     ]
    },
    {
     "name": "stdout",
     "output_type": "stream",
     "text": [
      "ratio of valid molecules : 50/50\n"
     ]
    },
    {
     "name": "stderr",
     "output_type": "stream",
     "text": [
      "whole_iters:  51%|█████     | 226/441 [01:31<01:28,  2.44it/s]"
     ]
    },
    {
     "name": "stdout",
     "output_type": "stream",
     "text": [
      "ratio of valid molecules : 50/50\n"
     ]
    },
    {
     "name": "stderr",
     "output_type": "stream",
     "text": [
      "whole_iters:  51%|█████▏    | 227/441 [01:32<01:27,  2.44it/s]"
     ]
    },
    {
     "name": "stdout",
     "output_type": "stream",
     "text": [
      "ratio of valid molecules : 50/50\n"
     ]
    },
    {
     "name": "stderr",
     "output_type": "stream",
     "text": [
      "whole_iters:  52%|█████▏    | 228/441 [01:32<01:26,  2.45it/s]"
     ]
    },
    {
     "name": "stdout",
     "output_type": "stream",
     "text": [
      "ratio of valid molecules : 50/50\n"
     ]
    },
    {
     "name": "stderr",
     "output_type": "stream",
     "text": [
      "whole_iters:  52%|█████▏    | 229/441 [01:32<01:26,  2.46it/s]"
     ]
    },
    {
     "name": "stdout",
     "output_type": "stream",
     "text": [
      "ratio of valid molecules : 50/50\n"
     ]
    },
    {
     "name": "stderr",
     "output_type": "stream",
     "text": [
      "whole_iters:  52%|█████▏    | 230/441 [01:33<01:26,  2.43it/s]"
     ]
    },
    {
     "name": "stdout",
     "output_type": "stream",
     "text": [
      "ratio of valid molecules : 50/50\n"
     ]
    },
    {
     "name": "stderr",
     "output_type": "stream",
     "text": [
      "whole_iters:  52%|█████▏    | 231/441 [01:33<01:25,  2.44it/s]"
     ]
    },
    {
     "name": "stdout",
     "output_type": "stream",
     "text": [
      "ratio of valid molecules : 50/50\n"
     ]
    },
    {
     "name": "stderr",
     "output_type": "stream",
     "text": [
      "whole_iters:  53%|█████▎    | 232/441 [01:34<01:25,  2.44it/s]"
     ]
    },
    {
     "name": "stdout",
     "output_type": "stream",
     "text": [
      "ratio of valid molecules : 50/50\n"
     ]
    },
    {
     "name": "stderr",
     "output_type": "stream",
     "text": [
      "whole_iters:  53%|█████▎    | 233/441 [01:34<01:24,  2.45it/s]"
     ]
    },
    {
     "name": "stdout",
     "output_type": "stream",
     "text": [
      "ratio of valid molecules : 50/50\n"
     ]
    },
    {
     "name": "stderr",
     "output_type": "stream",
     "text": [
      "whole_iters:  53%|█████▎    | 234/441 [01:34<01:23,  2.48it/s]"
     ]
    },
    {
     "name": "stdout",
     "output_type": "stream",
     "text": [
      "ratio of valid molecules : 50/50\n"
     ]
    },
    {
     "name": "stderr",
     "output_type": "stream",
     "text": [
      "whole_iters:  53%|█████▎    | 235/441 [01:35<01:22,  2.50it/s]"
     ]
    },
    {
     "name": "stdout",
     "output_type": "stream",
     "text": [
      "ratio of valid molecules : 50/50\n"
     ]
    },
    {
     "name": "stderr",
     "output_type": "stream",
     "text": [
      "whole_iters:  54%|█████▎    | 236/441 [01:35<01:21,  2.52it/s]"
     ]
    },
    {
     "name": "stdout",
     "output_type": "stream",
     "text": [
      "ratio of valid molecules : 50/50\n"
     ]
    },
    {
     "name": "stderr",
     "output_type": "stream",
     "text": [
      "whole_iters:  54%|█████▎    | 237/441 [01:36<01:21,  2.50it/s]"
     ]
    },
    {
     "name": "stdout",
     "output_type": "stream",
     "text": [
      "ratio of valid molecules : 50/50\n"
     ]
    },
    {
     "name": "stderr",
     "output_type": "stream",
     "text": [
      "whole_iters:  54%|█████▍    | 238/441 [01:36<01:20,  2.51it/s]"
     ]
    },
    {
     "name": "stdout",
     "output_type": "stream",
     "text": [
      "ratio of valid molecules : 50/50\n"
     ]
    },
    {
     "name": "stderr",
     "output_type": "stream",
     "text": [
      "whole_iters:  54%|█████▍    | 239/441 [01:36<01:19,  2.53it/s]"
     ]
    },
    {
     "name": "stdout",
     "output_type": "stream",
     "text": [
      "ratio of valid molecules : 50/50\n"
     ]
    },
    {
     "name": "stderr",
     "output_type": "stream",
     "text": [
      "whole_iters:  54%|█████▍    | 240/441 [01:37<01:19,  2.54it/s]"
     ]
    },
    {
     "name": "stdout",
     "output_type": "stream",
     "text": [
      "ratio of valid molecules : 50/50\n"
     ]
    },
    {
     "name": "stderr",
     "output_type": "stream",
     "text": [
      "whole_iters:  55%|█████▍    | 241/441 [01:37<01:20,  2.50it/s]"
     ]
    },
    {
     "name": "stdout",
     "output_type": "stream",
     "text": [
      "ratio of valid molecules : 50/50\n"
     ]
    },
    {
     "name": "stderr",
     "output_type": "stream",
     "text": [
      "whole_iters:  55%|█████▍    | 242/441 [01:38<01:19,  2.51it/s]"
     ]
    },
    {
     "name": "stdout",
     "output_type": "stream",
     "text": [
      "ratio of valid molecules : 50/50\n"
     ]
    },
    {
     "name": "stderr",
     "output_type": "stream",
     "text": [
      "whole_iters:  55%|█████▌    | 243/441 [01:38<01:19,  2.48it/s]"
     ]
    },
    {
     "name": "stdout",
     "output_type": "stream",
     "text": [
      "ratio of valid molecules : 50/50\n"
     ]
    },
    {
     "name": "stderr",
     "output_type": "stream",
     "text": [
      "whole_iters:  55%|█████▌    | 244/441 [01:38<01:20,  2.46it/s]"
     ]
    },
    {
     "name": "stdout",
     "output_type": "stream",
     "text": [
      "ratio of valid molecules : 50/50\n"
     ]
    },
    {
     "name": "stderr",
     "output_type": "stream",
     "text": [
      "whole_iters:  56%|█████▌    | 245/441 [01:39<01:19,  2.46it/s]"
     ]
    },
    {
     "name": "stdout",
     "output_type": "stream",
     "text": [
      "ratio of valid molecules : 50/50\n"
     ]
    },
    {
     "name": "stderr",
     "output_type": "stream",
     "text": [
      "whole_iters:  56%|█████▌    | 246/441 [01:39<01:19,  2.46it/s]"
     ]
    },
    {
     "name": "stdout",
     "output_type": "stream",
     "text": [
      "ratio of valid molecules : 50/50\n"
     ]
    },
    {
     "name": "stderr",
     "output_type": "stream",
     "text": [
      "whole_iters:  56%|█████▌    | 247/441 [01:40<01:18,  2.48it/s]"
     ]
    },
    {
     "name": "stdout",
     "output_type": "stream",
     "text": [
      "ratio of valid molecules : 50/50\n"
     ]
    },
    {
     "name": "stderr",
     "output_type": "stream",
     "text": [
      "whole_iters:  56%|█████▌    | 248/441 [01:40<01:18,  2.46it/s]"
     ]
    },
    {
     "name": "stdout",
     "output_type": "stream",
     "text": [
      "ratio of valid molecules : 50/50\n"
     ]
    },
    {
     "name": "stderr",
     "output_type": "stream",
     "text": [
      "whole_iters:  56%|█████▋    | 249/441 [01:40<01:17,  2.48it/s]"
     ]
    },
    {
     "name": "stdout",
     "output_type": "stream",
     "text": [
      "ratio of valid molecules : 50/50\n"
     ]
    },
    {
     "name": "stderr",
     "output_type": "stream",
     "text": [
      "whole_iters:  57%|█████▋    | 250/441 [01:41<01:19,  2.42it/s]"
     ]
    },
    {
     "name": "stdout",
     "output_type": "stream",
     "text": [
      "ratio of valid molecules : 50/50\n"
     ]
    },
    {
     "name": "stderr",
     "output_type": "stream",
     "text": [
      "whole_iters:  57%|█████▋    | 251/441 [01:41<01:18,  2.41it/s]"
     ]
    },
    {
     "name": "stdout",
     "output_type": "stream",
     "text": [
      "ratio of valid molecules : 50/50\n"
     ]
    },
    {
     "name": "stderr",
     "output_type": "stream",
     "text": [
      "whole_iters:  57%|█████▋    | 252/441 [01:42<01:16,  2.47it/s]"
     ]
    },
    {
     "name": "stdout",
     "output_type": "stream",
     "text": [
      "ratio of valid molecules : 50/50\n"
     ]
    },
    {
     "name": "stderr",
     "output_type": "stream",
     "text": [
      "whole_iters:  57%|█████▋    | 253/441 [01:42<01:15,  2.49it/s]"
     ]
    },
    {
     "name": "stdout",
     "output_type": "stream",
     "text": [
      "ratio of valid molecules : 50/50\n"
     ]
    },
    {
     "name": "stderr",
     "output_type": "stream",
     "text": [
      "whole_iters:  58%|█████▊    | 254/441 [01:42<01:14,  2.51it/s]"
     ]
    },
    {
     "name": "stdout",
     "output_type": "stream",
     "text": [
      "ratio of valid molecules : 50/50\n"
     ]
    },
    {
     "name": "stderr",
     "output_type": "stream",
     "text": [
      "whole_iters:  58%|█████▊    | 255/441 [01:43<01:12,  2.56it/s]"
     ]
    },
    {
     "name": "stdout",
     "output_type": "stream",
     "text": [
      "ratio of valid molecules : 50/50\n"
     ]
    },
    {
     "name": "stderr",
     "output_type": "stream",
     "text": [
      "whole_iters:  58%|█████▊    | 256/441 [01:43<01:11,  2.60it/s]"
     ]
    },
    {
     "name": "stdout",
     "output_type": "stream",
     "text": [
      "ratio of valid molecules : 50/50\n"
     ]
    },
    {
     "name": "stderr",
     "output_type": "stream",
     "text": [
      "whole_iters:  58%|█████▊    | 257/441 [01:44<01:10,  2.62it/s]"
     ]
    },
    {
     "name": "stdout",
     "output_type": "stream",
     "text": [
      "ratio of valid molecules : 50/50\n"
     ]
    },
    {
     "name": "stderr",
     "output_type": "stream",
     "text": [
      "whole_iters:  59%|█████▊    | 258/441 [01:44<01:09,  2.64it/s]"
     ]
    },
    {
     "name": "stdout",
     "output_type": "stream",
     "text": [
      "ratio of valid molecules : 50/50\n"
     ]
    },
    {
     "name": "stderr",
     "output_type": "stream",
     "text": [
      "whole_iters:  59%|█████▊    | 259/441 [01:44<01:08,  2.65it/s]"
     ]
    },
    {
     "name": "stdout",
     "output_type": "stream",
     "text": [
      "ratio of valid molecules : 50/50\n"
     ]
    },
    {
     "name": "stderr",
     "output_type": "stream",
     "text": [
      "whole_iters:  59%|█████▉    | 260/441 [01:45<01:08,  2.65it/s]"
     ]
    },
    {
     "name": "stdout",
     "output_type": "stream",
     "text": [
      "ratio of valid molecules : 50/50\n"
     ]
    },
    {
     "name": "stderr",
     "output_type": "stream",
     "text": [
      "whole_iters:  59%|█████▉    | 261/441 [01:45<01:07,  2.67it/s]"
     ]
    },
    {
     "name": "stdout",
     "output_type": "stream",
     "text": [
      "ratio of valid molecules : 50/50\n"
     ]
    },
    {
     "name": "stderr",
     "output_type": "stream",
     "text": [
      "whole_iters:  59%|█████▉    | 262/441 [01:45<01:08,  2.62it/s]"
     ]
    },
    {
     "name": "stdout",
     "output_type": "stream",
     "text": [
      "ratio of valid molecules : 50/50\n"
     ]
    },
    {
     "name": "stderr",
     "output_type": "stream",
     "text": [
      "whole_iters:  60%|█████▉    | 263/441 [01:46<01:07,  2.65it/s]"
     ]
    },
    {
     "name": "stdout",
     "output_type": "stream",
     "text": [
      "ratio of valid molecules : 50/50\n"
     ]
    },
    {
     "name": "stderr",
     "output_type": "stream",
     "text": [
      "whole_iters:  60%|█████▉    | 264/441 [01:46<01:07,  2.61it/s]"
     ]
    },
    {
     "name": "stdout",
     "output_type": "stream",
     "text": [
      "ratio of valid molecules : 50/50\n"
     ]
    },
    {
     "name": "stderr",
     "output_type": "stream",
     "text": [
      "whole_iters:  60%|██████    | 265/441 [01:47<01:09,  2.55it/s]"
     ]
    },
    {
     "name": "stdout",
     "output_type": "stream",
     "text": [
      "ratio of valid molecules : 50/50\n"
     ]
    },
    {
     "name": "stderr",
     "output_type": "stream",
     "text": [
      "whole_iters:  60%|██████    | 266/441 [01:47<01:08,  2.56it/s]"
     ]
    },
    {
     "name": "stdout",
     "output_type": "stream",
     "text": [
      "ratio of valid molecules : 50/50\n"
     ]
    },
    {
     "name": "stderr",
     "output_type": "stream",
     "text": [
      "whole_iters:  61%|██████    | 267/441 [01:47<01:07,  2.56it/s]"
     ]
    },
    {
     "name": "stdout",
     "output_type": "stream",
     "text": [
      "ratio of valid molecules : 50/50\n"
     ]
    },
    {
     "name": "stderr",
     "output_type": "stream",
     "text": [
      "whole_iters:  61%|██████    | 268/441 [01:48<01:07,  2.56it/s]"
     ]
    },
    {
     "name": "stdout",
     "output_type": "stream",
     "text": [
      "ratio of valid molecules : 50/50\n"
     ]
    },
    {
     "name": "stderr",
     "output_type": "stream",
     "text": [
      "whole_iters:  61%|██████    | 269/441 [01:48<01:06,  2.58it/s]"
     ]
    },
    {
     "name": "stdout",
     "output_type": "stream",
     "text": [
      "ratio of valid molecules : 50/50\n"
     ]
    },
    {
     "name": "stderr",
     "output_type": "stream",
     "text": [
      "whole_iters:  61%|██████    | 270/441 [01:49<01:05,  2.59it/s]"
     ]
    },
    {
     "name": "stdout",
     "output_type": "stream",
     "text": [
      "ratio of valid molecules : 50/50\n"
     ]
    },
    {
     "name": "stderr",
     "output_type": "stream",
     "text": [
      "whole_iters:  61%|██████▏   | 271/441 [01:49<01:06,  2.57it/s]"
     ]
    },
    {
     "name": "stdout",
     "output_type": "stream",
     "text": [
      "ratio of valid molecules : 50/50\n"
     ]
    },
    {
     "name": "stderr",
     "output_type": "stream",
     "text": [
      "whole_iters:  62%|██████▏   | 272/441 [01:49<01:06,  2.54it/s]"
     ]
    },
    {
     "name": "stdout",
     "output_type": "stream",
     "text": [
      "ratio of valid molecules : 50/50\n"
     ]
    },
    {
     "name": "stderr",
     "output_type": "stream",
     "text": [
      "whole_iters:  62%|██████▏   | 273/441 [01:50<01:06,  2.54it/s]"
     ]
    },
    {
     "name": "stdout",
     "output_type": "stream",
     "text": [
      "ratio of valid molecules : 50/50\n"
     ]
    },
    {
     "name": "stderr",
     "output_type": "stream",
     "text": [
      "whole_iters:  62%|██████▏   | 274/441 [01:50<01:05,  2.54it/s]"
     ]
    },
    {
     "name": "stdout",
     "output_type": "stream",
     "text": [
      "ratio of valid molecules : 50/50\n"
     ]
    },
    {
     "name": "stderr",
     "output_type": "stream",
     "text": [
      "whole_iters:  62%|██████▏   | 275/441 [01:51<01:05,  2.54it/s]"
     ]
    },
    {
     "name": "stdout",
     "output_type": "stream",
     "text": [
      "ratio of valid molecules : 50/50\n"
     ]
    },
    {
     "name": "stderr",
     "output_type": "stream",
     "text": [
      "whole_iters:  63%|██████▎   | 276/441 [01:51<01:04,  2.57it/s]"
     ]
    },
    {
     "name": "stdout",
     "output_type": "stream",
     "text": [
      "ratio of valid molecules : 50/50\n"
     ]
    },
    {
     "name": "stderr",
     "output_type": "stream",
     "text": [
      "whole_iters:  63%|██████▎   | 277/441 [01:51<01:02,  2.61it/s]"
     ]
    },
    {
     "name": "stdout",
     "output_type": "stream",
     "text": [
      "ratio of valid molecules : 50/50\n"
     ]
    },
    {
     "name": "stderr",
     "output_type": "stream",
     "text": [
      "whole_iters:  63%|██████▎   | 278/441 [01:52<01:01,  2.64it/s]"
     ]
    },
    {
     "name": "stdout",
     "output_type": "stream",
     "text": [
      "ratio of valid molecules : 50/50\n"
     ]
    },
    {
     "name": "stderr",
     "output_type": "stream",
     "text": [
      "whole_iters:  63%|██████▎   | 279/441 [01:52<01:01,  2.64it/s]"
     ]
    },
    {
     "name": "stdout",
     "output_type": "stream",
     "text": [
      "ratio of valid molecules : 50/50\n"
     ]
    },
    {
     "name": "stderr",
     "output_type": "stream",
     "text": [
      "whole_iters:  63%|██████▎   | 280/441 [01:52<01:00,  2.68it/s]"
     ]
    },
    {
     "name": "stdout",
     "output_type": "stream",
     "text": [
      "ratio of valid molecules : 50/50\n"
     ]
    },
    {
     "name": "stderr",
     "output_type": "stream",
     "text": [
      "whole_iters:  64%|██████▎   | 281/441 [01:53<00:59,  2.67it/s]"
     ]
    },
    {
     "name": "stdout",
     "output_type": "stream",
     "text": [
      "ratio of valid molecules : 50/50\n"
     ]
    },
    {
     "name": "stderr",
     "output_type": "stream",
     "text": [
      "whole_iters:  64%|██████▍   | 282/441 [01:53<00:59,  2.66it/s]"
     ]
    },
    {
     "name": "stdout",
     "output_type": "stream",
     "text": [
      "ratio of valid molecules : 50/50\n"
     ]
    },
    {
     "name": "stderr",
     "output_type": "stream",
     "text": [
      "whole_iters:  64%|██████▍   | 283/441 [01:54<00:59,  2.66it/s]"
     ]
    },
    {
     "name": "stdout",
     "output_type": "stream",
     "text": [
      "ratio of valid molecules : 50/50\n"
     ]
    },
    {
     "name": "stderr",
     "output_type": "stream",
     "text": [
      "whole_iters:  64%|██████▍   | 284/441 [01:54<00:59,  2.65it/s]"
     ]
    },
    {
     "name": "stdout",
     "output_type": "stream",
     "text": [
      "ratio of valid molecules : 50/50\n"
     ]
    },
    {
     "name": "stderr",
     "output_type": "stream",
     "text": [
      "whole_iters:  65%|██████▍   | 285/441 [01:54<01:00,  2.59it/s]"
     ]
    },
    {
     "name": "stdout",
     "output_type": "stream",
     "text": [
      "ratio of valid molecules : 50/50\n"
     ]
    },
    {
     "name": "stderr",
     "output_type": "stream",
     "text": [
      "whole_iters:  65%|██████▍   | 286/441 [01:55<01:00,  2.57it/s]"
     ]
    },
    {
     "name": "stdout",
     "output_type": "stream",
     "text": [
      "ratio of valid molecules : 50/50\n"
     ]
    },
    {
     "name": "stderr",
     "output_type": "stream",
     "text": [
      "whole_iters:  65%|██████▌   | 287/441 [01:55<01:00,  2.56it/s]"
     ]
    },
    {
     "name": "stdout",
     "output_type": "stream",
     "text": [
      "ratio of valid molecules : 50/50\n"
     ]
    },
    {
     "name": "stderr",
     "output_type": "stream",
     "text": [
      "whole_iters:  65%|██████▌   | 288/441 [01:55<00:59,  2.58it/s]"
     ]
    },
    {
     "name": "stdout",
     "output_type": "stream",
     "text": [
      "ratio of valid molecules : 50/50\n"
     ]
    },
    {
     "name": "stderr",
     "output_type": "stream",
     "text": [
      "whole_iters:  66%|██████▌   | 289/441 [01:56<00:58,  2.58it/s]"
     ]
    },
    {
     "name": "stdout",
     "output_type": "stream",
     "text": [
      "ratio of valid molecules : 50/50\n"
     ]
    },
    {
     "name": "stderr",
     "output_type": "stream",
     "text": [
      "whole_iters:  66%|██████▌   | 290/441 [01:56<00:58,  2.58it/s]"
     ]
    },
    {
     "name": "stdout",
     "output_type": "stream",
     "text": [
      "ratio of valid molecules : 50/50\n"
     ]
    },
    {
     "name": "stderr",
     "output_type": "stream",
     "text": [
      "whole_iters:  66%|██████▌   | 291/441 [01:57<00:57,  2.60it/s]"
     ]
    },
    {
     "name": "stdout",
     "output_type": "stream",
     "text": [
      "ratio of valid molecules : 50/50\n"
     ]
    },
    {
     "name": "stderr",
     "output_type": "stream",
     "text": [
      "whole_iters:  66%|██████▌   | 292/441 [01:57<00:57,  2.59it/s]"
     ]
    },
    {
     "name": "stdout",
     "output_type": "stream",
     "text": [
      "ratio of valid molecules : 50/50\n"
     ]
    },
    {
     "name": "stderr",
     "output_type": "stream",
     "text": [
      "whole_iters:  66%|██████▋   | 293/441 [01:57<00:57,  2.57it/s]"
     ]
    },
    {
     "name": "stdout",
     "output_type": "stream",
     "text": [
      "ratio of valid molecules : 50/50\n"
     ]
    },
    {
     "name": "stderr",
     "output_type": "stream",
     "text": [
      "whole_iters:  67%|██████▋   | 294/441 [01:58<00:56,  2.58it/s]"
     ]
    },
    {
     "name": "stdout",
     "output_type": "stream",
     "text": [
      "ratio of valid molecules : 50/50\n"
     ]
    },
    {
     "name": "stderr",
     "output_type": "stream",
     "text": [
      "whole_iters:  67%|██████▋   | 295/441 [01:58<00:56,  2.60it/s]"
     ]
    },
    {
     "name": "stdout",
     "output_type": "stream",
     "text": [
      "ratio of valid molecules : 50/50\n"
     ]
    },
    {
     "name": "stderr",
     "output_type": "stream",
     "text": [
      "whole_iters:  67%|██████▋   | 296/441 [01:59<00:55,  2.60it/s]"
     ]
    },
    {
     "name": "stdout",
     "output_type": "stream",
     "text": [
      "ratio of valid molecules : 50/50\n"
     ]
    },
    {
     "name": "stderr",
     "output_type": "stream",
     "text": [
      "whole_iters:  67%|██████▋   | 297/441 [01:59<00:55,  2.57it/s]"
     ]
    },
    {
     "name": "stdout",
     "output_type": "stream",
     "text": [
      "ratio of valid molecules : 50/50\n"
     ]
    },
    {
     "name": "stderr",
     "output_type": "stream",
     "text": [
      "whole_iters:  68%|██████▊   | 298/441 [01:59<00:54,  2.60it/s]"
     ]
    },
    {
     "name": "stdout",
     "output_type": "stream",
     "text": [
      "ratio of valid molecules : 50/50\n"
     ]
    },
    {
     "name": "stderr",
     "output_type": "stream",
     "text": [
      "whole_iters:  68%|██████▊   | 299/441 [02:00<00:54,  2.62it/s]"
     ]
    },
    {
     "name": "stdout",
     "output_type": "stream",
     "text": [
      "ratio of valid molecules : 50/50\n"
     ]
    },
    {
     "name": "stderr",
     "output_type": "stream",
     "text": [
      "whole_iters:  68%|██████▊   | 300/441 [02:00<00:53,  2.63it/s]"
     ]
    },
    {
     "name": "stdout",
     "output_type": "stream",
     "text": [
      "ratio of valid molecules : 50/50\n"
     ]
    },
    {
     "name": "stderr",
     "output_type": "stream",
     "text": [
      "whole_iters:  68%|██████▊   | 301/441 [02:00<00:52,  2.64it/s]"
     ]
    },
    {
     "name": "stdout",
     "output_type": "stream",
     "text": [
      "ratio of valid molecules : 50/50\n"
     ]
    },
    {
     "name": "stderr",
     "output_type": "stream",
     "text": [
      "whole_iters:  68%|██████▊   | 302/441 [02:01<00:52,  2.66it/s]"
     ]
    },
    {
     "name": "stdout",
     "output_type": "stream",
     "text": [
      "ratio of valid molecules : 50/50\n"
     ]
    },
    {
     "name": "stderr",
     "output_type": "stream",
     "text": [
      "whole_iters:  69%|██████▊   | 303/441 [02:01<00:51,  2.66it/s]"
     ]
    },
    {
     "name": "stdout",
     "output_type": "stream",
     "text": [
      "ratio of valid molecules : 50/50\n"
     ]
    },
    {
     "name": "stderr",
     "output_type": "stream",
     "text": [
      "whole_iters:  69%|██████▉   | 304/441 [02:02<00:51,  2.65it/s]"
     ]
    },
    {
     "name": "stdout",
     "output_type": "stream",
     "text": [
      "ratio of valid molecules : 50/50\n"
     ]
    },
    {
     "name": "stderr",
     "output_type": "stream",
     "text": [
      "whole_iters:  69%|██████▉   | 305/441 [02:02<00:51,  2.64it/s]"
     ]
    },
    {
     "name": "stdout",
     "output_type": "stream",
     "text": [
      "ratio of valid molecules : 50/50\n"
     ]
    },
    {
     "name": "stderr",
     "output_type": "stream",
     "text": [
      "whole_iters:  69%|██████▉   | 306/441 [02:02<00:51,  2.62it/s]"
     ]
    },
    {
     "name": "stdout",
     "output_type": "stream",
     "text": [
      "ratio of valid molecules : 50/50\n"
     ]
    },
    {
     "name": "stderr",
     "output_type": "stream",
     "text": [
      "whole_iters:  70%|██████▉   | 307/441 [02:03<00:52,  2.56it/s]"
     ]
    },
    {
     "name": "stdout",
     "output_type": "stream",
     "text": [
      "ratio of valid molecules : 50/50\n"
     ]
    },
    {
     "name": "stderr",
     "output_type": "stream",
     "text": [
      "whole_iters:  70%|██████▉   | 308/441 [02:03<00:52,  2.52it/s]"
     ]
    },
    {
     "name": "stdout",
     "output_type": "stream",
     "text": [
      "ratio of valid molecules : 50/50\n"
     ]
    },
    {
     "name": "stderr",
     "output_type": "stream",
     "text": [
      "whole_iters:  70%|███████   | 309/441 [02:04<00:51,  2.54it/s]"
     ]
    },
    {
     "name": "stdout",
     "output_type": "stream",
     "text": [
      "ratio of valid molecules : 50/50\n"
     ]
    },
    {
     "name": "stderr",
     "output_type": "stream",
     "text": [
      "whole_iters:  70%|███████   | 310/441 [02:04<00:51,  2.54it/s]"
     ]
    },
    {
     "name": "stdout",
     "output_type": "stream",
     "text": [
      "ratio of valid molecules : 50/50\n"
     ]
    },
    {
     "name": "stderr",
     "output_type": "stream",
     "text": [
      "whole_iters:  71%|███████   | 311/441 [02:04<00:50,  2.56it/s]"
     ]
    },
    {
     "name": "stdout",
     "output_type": "stream",
     "text": [
      "ratio of valid molecules : 50/50\n"
     ]
    },
    {
     "name": "stderr",
     "output_type": "stream",
     "text": [
      "whole_iters:  71%|███████   | 312/441 [02:05<00:49,  2.59it/s]"
     ]
    },
    {
     "name": "stdout",
     "output_type": "stream",
     "text": [
      "ratio of valid molecules : 50/50\n"
     ]
    },
    {
     "name": "stderr",
     "output_type": "stream",
     "text": [
      "whole_iters:  71%|███████   | 313/441 [02:05<00:50,  2.55it/s]"
     ]
    },
    {
     "name": "stdout",
     "output_type": "stream",
     "text": [
      "ratio of valid molecules : 50/50\n"
     ]
    },
    {
     "name": "stderr",
     "output_type": "stream",
     "text": [
      "whole_iters:  71%|███████   | 314/441 [02:06<00:49,  2.55it/s]"
     ]
    },
    {
     "name": "stdout",
     "output_type": "stream",
     "text": [
      "ratio of valid molecules : 50/50\n"
     ]
    },
    {
     "name": "stderr",
     "output_type": "stream",
     "text": [
      "whole_iters:  71%|███████▏  | 315/441 [02:06<00:49,  2.56it/s]"
     ]
    },
    {
     "name": "stdout",
     "output_type": "stream",
     "text": [
      "ratio of valid molecules : 50/50\n"
     ]
    },
    {
     "name": "stderr",
     "output_type": "stream",
     "text": [
      "whole_iters:  72%|███████▏  | 316/441 [02:06<00:48,  2.59it/s]"
     ]
    },
    {
     "name": "stdout",
     "output_type": "stream",
     "text": [
      "ratio of valid molecules : 50/50\n"
     ]
    },
    {
     "name": "stderr",
     "output_type": "stream",
     "text": [
      "whole_iters:  72%|███████▏  | 317/441 [02:07<00:47,  2.61it/s]"
     ]
    },
    {
     "name": "stdout",
     "output_type": "stream",
     "text": [
      "ratio of valid molecules : 50/50\n"
     ]
    },
    {
     "name": "stderr",
     "output_type": "stream",
     "text": [
      "whole_iters:  72%|███████▏  | 318/441 [02:07<00:47,  2.60it/s]"
     ]
    },
    {
     "name": "stdout",
     "output_type": "stream",
     "text": [
      "ratio of valid molecules : 50/50\n"
     ]
    },
    {
     "name": "stderr",
     "output_type": "stream",
     "text": [
      "whole_iters:  72%|███████▏  | 319/441 [02:07<00:47,  2.56it/s]"
     ]
    },
    {
     "name": "stdout",
     "output_type": "stream",
     "text": [
      "ratio of valid molecules : 50/50\n"
     ]
    },
    {
     "name": "stderr",
     "output_type": "stream",
     "text": [
      "whole_iters:  73%|███████▎  | 320/441 [02:08<00:46,  2.58it/s]"
     ]
    },
    {
     "name": "stdout",
     "output_type": "stream",
     "text": [
      "ratio of valid molecules : 50/50\n"
     ]
    },
    {
     "name": "stderr",
     "output_type": "stream",
     "text": [
      "whole_iters:  73%|███████▎  | 321/441 [02:08<00:46,  2.60it/s]"
     ]
    },
    {
     "name": "stdout",
     "output_type": "stream",
     "text": [
      "ratio of valid molecules : 50/50\n"
     ]
    },
    {
     "name": "stderr",
     "output_type": "stream",
     "text": [
      "whole_iters:  73%|███████▎  | 322/441 [02:09<00:45,  2.63it/s]"
     ]
    },
    {
     "name": "stdout",
     "output_type": "stream",
     "text": [
      "ratio of valid molecules : 50/50\n"
     ]
    },
    {
     "name": "stderr",
     "output_type": "stream",
     "text": [
      "whole_iters:  73%|███████▎  | 323/441 [02:09<00:44,  2.65it/s]"
     ]
    },
    {
     "name": "stdout",
     "output_type": "stream",
     "text": [
      "ratio of valid molecules : 50/50\n"
     ]
    },
    {
     "name": "stderr",
     "output_type": "stream",
     "text": [
      "whole_iters:  73%|███████▎  | 324/441 [02:09<00:43,  2.66it/s]"
     ]
    },
    {
     "name": "stdout",
     "output_type": "stream",
     "text": [
      "ratio of valid molecules : 50/50\n"
     ]
    },
    {
     "name": "stderr",
     "output_type": "stream",
     "text": [
      "whole_iters:  74%|███████▎  | 325/441 [02:10<00:43,  2.65it/s]"
     ]
    },
    {
     "name": "stdout",
     "output_type": "stream",
     "text": [
      "ratio of valid molecules : 50/50\n"
     ]
    },
    {
     "name": "stderr",
     "output_type": "stream",
     "text": [
      "whole_iters:  74%|███████▍  | 326/441 [02:10<00:43,  2.62it/s]"
     ]
    },
    {
     "name": "stdout",
     "output_type": "stream",
     "text": [
      "ratio of valid molecules : 50/50\n"
     ]
    },
    {
     "name": "stderr",
     "output_type": "stream",
     "text": [
      "whole_iters:  74%|███████▍  | 327/441 [02:10<00:43,  2.64it/s]"
     ]
    },
    {
     "name": "stdout",
     "output_type": "stream",
     "text": [
      "ratio of valid molecules : 50/50\n"
     ]
    },
    {
     "name": "stderr",
     "output_type": "stream",
     "text": [
      "whole_iters:  74%|███████▍  | 328/441 [02:11<00:43,  2.59it/s]"
     ]
    },
    {
     "name": "stdout",
     "output_type": "stream",
     "text": [
      "ratio of valid molecules : 50/50\n"
     ]
    },
    {
     "name": "stderr",
     "output_type": "stream",
     "text": [
      "whole_iters:  75%|███████▍  | 329/441 [02:11<00:43,  2.60it/s]"
     ]
    },
    {
     "name": "stdout",
     "output_type": "stream",
     "text": [
      "ratio of valid molecules : 50/50\n"
     ]
    },
    {
     "name": "stderr",
     "output_type": "stream",
     "text": [
      "whole_iters:  75%|███████▍  | 330/441 [02:12<00:43,  2.54it/s]"
     ]
    },
    {
     "name": "stdout",
     "output_type": "stream",
     "text": [
      "ratio of valid molecules : 50/50\n"
     ]
    },
    {
     "name": "stderr",
     "output_type": "stream",
     "text": [
      "whole_iters:  75%|███████▌  | 331/441 [02:12<00:42,  2.56it/s]"
     ]
    },
    {
     "name": "stdout",
     "output_type": "stream",
     "text": [
      "ratio of valid molecules : 50/50\n"
     ]
    },
    {
     "name": "stderr",
     "output_type": "stream",
     "text": [
      "whole_iters:  75%|███████▌  | 332/441 [02:12<00:42,  2.58it/s]"
     ]
    },
    {
     "name": "stdout",
     "output_type": "stream",
     "text": [
      "ratio of valid molecules : 50/50\n"
     ]
    },
    {
     "name": "stderr",
     "output_type": "stream",
     "text": [
      "whole_iters:  76%|███████▌  | 333/441 [02:13<00:41,  2.59it/s]"
     ]
    },
    {
     "name": "stdout",
     "output_type": "stream",
     "text": [
      "ratio of valid molecules : 50/50\n"
     ]
    },
    {
     "name": "stderr",
     "output_type": "stream",
     "text": [
      "whole_iters:  76%|███████▌  | 334/441 [02:13<00:41,  2.57it/s]"
     ]
    },
    {
     "name": "stdout",
     "output_type": "stream",
     "text": [
      "ratio of valid molecules : 50/50\n"
     ]
    },
    {
     "name": "stderr",
     "output_type": "stream",
     "text": [
      "whole_iters:  76%|███████▌  | 335/441 [02:14<00:41,  2.57it/s]"
     ]
    },
    {
     "name": "stdout",
     "output_type": "stream",
     "text": [
      "ratio of valid molecules : 50/50\n"
     ]
    },
    {
     "name": "stderr",
     "output_type": "stream",
     "text": [
      "whole_iters:  76%|███████▌  | 336/441 [02:14<00:40,  2.56it/s]"
     ]
    },
    {
     "name": "stdout",
     "output_type": "stream",
     "text": [
      "ratio of valid molecules : 50/50\n"
     ]
    },
    {
     "name": "stderr",
     "output_type": "stream",
     "text": [
      "whole_iters:  76%|███████▋  | 337/441 [02:14<00:40,  2.58it/s]"
     ]
    },
    {
     "name": "stdout",
     "output_type": "stream",
     "text": [
      "ratio of valid molecules : 50/50\n"
     ]
    },
    {
     "name": "stderr",
     "output_type": "stream",
     "text": [
      "whole_iters:  77%|███████▋  | 338/441 [02:15<00:39,  2.60it/s]"
     ]
    },
    {
     "name": "stdout",
     "output_type": "stream",
     "text": [
      "ratio of valid molecules : 50/50\n"
     ]
    },
    {
     "name": "stderr",
     "output_type": "stream",
     "text": [
      "whole_iters:  77%|███████▋  | 339/441 [02:15<00:39,  2.61it/s]"
     ]
    },
    {
     "name": "stdout",
     "output_type": "stream",
     "text": [
      "ratio of valid molecules : 50/50\n"
     ]
    },
    {
     "name": "stderr",
     "output_type": "stream",
     "text": [
      "whole_iters:  77%|███████▋  | 340/441 [02:16<00:39,  2.55it/s]"
     ]
    },
    {
     "name": "stdout",
     "output_type": "stream",
     "text": [
      "ratio of valid molecules : 50/50\n"
     ]
    },
    {
     "name": "stderr",
     "output_type": "stream",
     "text": [
      "whole_iters:  77%|███████▋  | 341/441 [02:16<00:39,  2.56it/s]"
     ]
    },
    {
     "name": "stdout",
     "output_type": "stream",
     "text": [
      "ratio of valid molecules : 50/50\n"
     ]
    },
    {
     "name": "stderr",
     "output_type": "stream",
     "text": [
      "whole_iters:  78%|███████▊  | 342/441 [02:16<00:38,  2.60it/s]"
     ]
    },
    {
     "name": "stdout",
     "output_type": "stream",
     "text": [
      "ratio of valid molecules : 50/50\n"
     ]
    },
    {
     "name": "stderr",
     "output_type": "stream",
     "text": [
      "whole_iters:  78%|███████▊  | 343/441 [02:17<00:37,  2.60it/s]"
     ]
    },
    {
     "name": "stdout",
     "output_type": "stream",
     "text": [
      "ratio of valid molecules : 50/50\n"
     ]
    },
    {
     "name": "stderr",
     "output_type": "stream",
     "text": [
      "whole_iters:  78%|███████▊  | 344/441 [02:17<00:36,  2.63it/s]"
     ]
    },
    {
     "name": "stdout",
     "output_type": "stream",
     "text": [
      "ratio of valid molecules : 50/50\n"
     ]
    },
    {
     "name": "stderr",
     "output_type": "stream",
     "text": [
      "whole_iters:  78%|███████▊  | 345/441 [02:17<00:36,  2.65it/s]"
     ]
    },
    {
     "name": "stdout",
     "output_type": "stream",
     "text": [
      "ratio of valid molecules : 50/50\n"
     ]
    },
    {
     "name": "stderr",
     "output_type": "stream",
     "text": [
      "whole_iters:  78%|███████▊  | 346/441 [02:18<00:35,  2.64it/s]"
     ]
    },
    {
     "name": "stdout",
     "output_type": "stream",
     "text": [
      "ratio of valid molecules : 50/50\n"
     ]
    },
    {
     "name": "stderr",
     "output_type": "stream",
     "text": [
      "whole_iters:  79%|███████▊  | 347/441 [02:18<00:35,  2.65it/s]"
     ]
    },
    {
     "name": "stdout",
     "output_type": "stream",
     "text": [
      "ratio of valid molecules : 50/50\n"
     ]
    },
    {
     "name": "stderr",
     "output_type": "stream",
     "text": [
      "whole_iters:  79%|███████▉  | 348/441 [02:19<00:35,  2.61it/s]"
     ]
    },
    {
     "name": "stdout",
     "output_type": "stream",
     "text": [
      "ratio of valid molecules : 50/50\n"
     ]
    },
    {
     "name": "stderr",
     "output_type": "stream",
     "text": [
      "whole_iters:  79%|███████▉  | 349/441 [02:19<00:35,  2.59it/s]"
     ]
    },
    {
     "name": "stdout",
     "output_type": "stream",
     "text": [
      "ratio of valid molecules : 50/50\n"
     ]
    },
    {
     "name": "stderr",
     "output_type": "stream",
     "text": [
      "whole_iters:  79%|███████▉  | 350/441 [02:19<00:35,  2.55it/s]"
     ]
    },
    {
     "name": "stdout",
     "output_type": "stream",
     "text": [
      "ratio of valid molecules : 50/50\n"
     ]
    },
    {
     "name": "stderr",
     "output_type": "stream",
     "text": [
      "whole_iters:  80%|███████▉  | 351/441 [02:20<00:35,  2.56it/s]"
     ]
    },
    {
     "name": "stdout",
     "output_type": "stream",
     "text": [
      "ratio of valid molecules : 50/50\n"
     ]
    },
    {
     "name": "stderr",
     "output_type": "stream",
     "text": [
      "whole_iters:  80%|███████▉  | 352/441 [02:20<00:34,  2.56it/s]"
     ]
    },
    {
     "name": "stdout",
     "output_type": "stream",
     "text": [
      "ratio of valid molecules : 50/50\n"
     ]
    },
    {
     "name": "stderr",
     "output_type": "stream",
     "text": [
      "whole_iters:  80%|████████  | 353/441 [02:21<00:34,  2.56it/s]"
     ]
    },
    {
     "name": "stdout",
     "output_type": "stream",
     "text": [
      "ratio of valid molecules : 50/50\n"
     ]
    },
    {
     "name": "stderr",
     "output_type": "stream",
     "text": [
      "whole_iters:  80%|████████  | 354/441 [02:21<00:33,  2.57it/s]"
     ]
    },
    {
     "name": "stdout",
     "output_type": "stream",
     "text": [
      "ratio of valid molecules : 50/50\n"
     ]
    },
    {
     "name": "stderr",
     "output_type": "stream",
     "text": [
      "whole_iters:  80%|████████  | 355/441 [02:21<00:32,  2.61it/s]"
     ]
    },
    {
     "name": "stdout",
     "output_type": "stream",
     "text": [
      "ratio of valid molecules : 50/50\n"
     ]
    },
    {
     "name": "stderr",
     "output_type": "stream",
     "text": [
      "whole_iters:  81%|████████  | 356/441 [02:22<00:32,  2.62it/s]"
     ]
    },
    {
     "name": "stdout",
     "output_type": "stream",
     "text": [
      "ratio of valid molecules : 50/50\n"
     ]
    },
    {
     "name": "stderr",
     "output_type": "stream",
     "text": [
      "whole_iters:  81%|████████  | 357/441 [02:22<00:32,  2.60it/s]"
     ]
    },
    {
     "name": "stdout",
     "output_type": "stream",
     "text": [
      "ratio of valid molecules : 50/50\n"
     ]
    },
    {
     "name": "stderr",
     "output_type": "stream",
     "text": [
      "whole_iters:  81%|████████  | 358/441 [02:22<00:32,  2.54it/s]"
     ]
    },
    {
     "name": "stdout",
     "output_type": "stream",
     "text": [
      "ratio of valid molecules : 50/50\n"
     ]
    },
    {
     "name": "stderr",
     "output_type": "stream",
     "text": [
      "whole_iters:  81%|████████▏ | 359/441 [02:23<00:31,  2.57it/s]"
     ]
    },
    {
     "name": "stdout",
     "output_type": "stream",
     "text": [
      "ratio of valid molecules : 50/50\n"
     ]
    },
    {
     "name": "stderr",
     "output_type": "stream",
     "text": [
      "whole_iters:  82%|████████▏ | 360/441 [02:23<00:31,  2.56it/s]"
     ]
    },
    {
     "name": "stdout",
     "output_type": "stream",
     "text": [
      "ratio of valid molecules : 50/50\n"
     ]
    },
    {
     "name": "stderr",
     "output_type": "stream",
     "text": [
      "whole_iters:  82%|████████▏ | 361/441 [02:24<00:31,  2.57it/s]"
     ]
    },
    {
     "name": "stdout",
     "output_type": "stream",
     "text": [
      "ratio of valid molecules : 50/50\n"
     ]
    },
    {
     "name": "stderr",
     "output_type": "stream",
     "text": [
      "whole_iters:  82%|████████▏ | 362/441 [02:24<00:31,  2.52it/s]"
     ]
    },
    {
     "name": "stdout",
     "output_type": "stream",
     "text": [
      "ratio of valid molecules : 50/50\n"
     ]
    },
    {
     "name": "stderr",
     "output_type": "stream",
     "text": [
      "whole_iters:  82%|████████▏ | 363/441 [02:24<00:32,  2.42it/s]"
     ]
    },
    {
     "name": "stdout",
     "output_type": "stream",
     "text": [
      "ratio of valid molecules : 50/50\n"
     ]
    },
    {
     "name": "stderr",
     "output_type": "stream",
     "text": [
      "whole_iters:  83%|████████▎ | 364/441 [02:25<00:31,  2.45it/s]"
     ]
    },
    {
     "name": "stdout",
     "output_type": "stream",
     "text": [
      "ratio of valid molecules : 50/50\n"
     ]
    },
    {
     "name": "stderr",
     "output_type": "stream",
     "text": [
      "whole_iters:  83%|████████▎ | 365/441 [02:25<00:31,  2.41it/s]"
     ]
    },
    {
     "name": "stdout",
     "output_type": "stream",
     "text": [
      "ratio of valid molecules : 50/50\n"
     ]
    },
    {
     "name": "stderr",
     "output_type": "stream",
     "text": [
      "whole_iters:  83%|████████▎ | 366/441 [02:26<00:30,  2.44it/s]"
     ]
    },
    {
     "name": "stdout",
     "output_type": "stream",
     "text": [
      "ratio of valid molecules : 50/50\n"
     ]
    },
    {
     "name": "stderr",
     "output_type": "stream",
     "text": [
      "whole_iters:  83%|████████▎ | 367/441 [02:26<00:30,  2.40it/s]"
     ]
    },
    {
     "name": "stdout",
     "output_type": "stream",
     "text": [
      "ratio of valid molecules : 50/50\n"
     ]
    },
    {
     "name": "stderr",
     "output_type": "stream",
     "text": [
      "whole_iters:  83%|████████▎ | 368/441 [02:27<00:31,  2.31it/s]"
     ]
    },
    {
     "name": "stdout",
     "output_type": "stream",
     "text": [
      "ratio of valid molecules : 50/50\n"
     ]
    },
    {
     "name": "stderr",
     "output_type": "stream",
     "text": [
      "whole_iters:  84%|████████▎ | 369/441 [02:27<00:31,  2.29it/s]"
     ]
    },
    {
     "name": "stdout",
     "output_type": "stream",
     "text": [
      "ratio of valid molecules : 50/50\n"
     ]
    },
    {
     "name": "stderr",
     "output_type": "stream",
     "text": [
      "whole_iters:  84%|████████▍ | 370/441 [02:28<00:31,  2.23it/s]"
     ]
    },
    {
     "name": "stdout",
     "output_type": "stream",
     "text": [
      "ratio of valid molecules : 50/50\n"
     ]
    },
    {
     "name": "stderr",
     "output_type": "stream",
     "text": [
      "whole_iters:  84%|████████▍ | 371/441 [02:28<00:31,  2.20it/s]"
     ]
    },
    {
     "name": "stdout",
     "output_type": "stream",
     "text": [
      "ratio of valid molecules : 50/50\n"
     ]
    },
    {
     "name": "stderr",
     "output_type": "stream",
     "text": [
      "whole_iters:  84%|████████▍ | 372/441 [02:28<00:31,  2.19it/s]"
     ]
    },
    {
     "name": "stdout",
     "output_type": "stream",
     "text": [
      "ratio of valid molecules : 50/50\n"
     ]
    },
    {
     "name": "stderr",
     "output_type": "stream",
     "text": [
      "whole_iters:  85%|████████▍ | 373/441 [02:29<00:30,  2.22it/s]"
     ]
    },
    {
     "name": "stdout",
     "output_type": "stream",
     "text": [
      "ratio of valid molecules : 50/50\n"
     ]
    },
    {
     "name": "stderr",
     "output_type": "stream",
     "text": [
      "whole_iters:  85%|████████▍ | 374/441 [02:29<00:30,  2.22it/s]"
     ]
    },
    {
     "name": "stdout",
     "output_type": "stream",
     "text": [
      "ratio of valid molecules : 50/50\n"
     ]
    },
    {
     "name": "stderr",
     "output_type": "stream",
     "text": [
      "whole_iters:  85%|████████▌ | 375/441 [02:30<00:29,  2.22it/s]"
     ]
    },
    {
     "name": "stdout",
     "output_type": "stream",
     "text": [
      "ratio of valid molecules : 50/50\n"
     ]
    },
    {
     "name": "stderr",
     "output_type": "stream",
     "text": [
      "whole_iters:  85%|████████▌ | 376/441 [02:30<00:28,  2.30it/s]"
     ]
    },
    {
     "name": "stdout",
     "output_type": "stream",
     "text": [
      "ratio of valid molecules : 50/50\n"
     ]
    },
    {
     "name": "stderr",
     "output_type": "stream",
     "text": [
      "whole_iters:  85%|████████▌ | 377/441 [02:31<00:27,  2.36it/s]"
     ]
    },
    {
     "name": "stdout",
     "output_type": "stream",
     "text": [
      "ratio of valid molecules : 50/50\n"
     ]
    },
    {
     "name": "stderr",
     "output_type": "stream",
     "text": [
      "whole_iters:  86%|████████▌ | 378/441 [02:31<00:26,  2.36it/s]"
     ]
    },
    {
     "name": "stdout",
     "output_type": "stream",
     "text": [
      "ratio of valid molecules : 50/50\n"
     ]
    },
    {
     "name": "stderr",
     "output_type": "stream",
     "text": [
      "whole_iters:  86%|████████▌ | 379/441 [02:31<00:26,  2.32it/s]"
     ]
    },
    {
     "name": "stdout",
     "output_type": "stream",
     "text": [
      "ratio of valid molecules : 50/50\n"
     ]
    },
    {
     "name": "stderr",
     "output_type": "stream",
     "text": [
      "whole_iters:  86%|████████▌ | 380/441 [02:32<00:26,  2.32it/s]"
     ]
    },
    {
     "name": "stdout",
     "output_type": "stream",
     "text": [
      "ratio of valid molecules : 50/50\n"
     ]
    },
    {
     "name": "stderr",
     "output_type": "stream",
     "text": [
      "whole_iters:  86%|████████▋ | 381/441 [02:32<00:25,  2.31it/s]"
     ]
    },
    {
     "name": "stdout",
     "output_type": "stream",
     "text": [
      "ratio of valid molecules : 50/50\n"
     ]
    },
    {
     "name": "stderr",
     "output_type": "stream",
     "text": [
      "whole_iters:  87%|████████▋ | 382/441 [02:33<00:25,  2.28it/s]"
     ]
    },
    {
     "name": "stdout",
     "output_type": "stream",
     "text": [
      "ratio of valid molecules : 50/50\n"
     ]
    },
    {
     "name": "stderr",
     "output_type": "stream",
     "text": [
      "whole_iters:  87%|████████▋ | 383/441 [02:33<00:25,  2.28it/s]"
     ]
    },
    {
     "name": "stdout",
     "output_type": "stream",
     "text": [
      "ratio of valid molecules : 50/50\n"
     ]
    },
    {
     "name": "stderr",
     "output_type": "stream",
     "text": [
      "whole_iters:  87%|████████▋ | 384/441 [02:34<00:24,  2.29it/s]"
     ]
    },
    {
     "name": "stdout",
     "output_type": "stream",
     "text": [
      "ratio of valid molecules : 50/50\n"
     ]
    },
    {
     "name": "stderr",
     "output_type": "stream",
     "text": [
      "whole_iters:  87%|████████▋ | 385/441 [02:34<00:24,  2.29it/s]"
     ]
    },
    {
     "name": "stdout",
     "output_type": "stream",
     "text": [
      "ratio of valid molecules : 50/50\n"
     ]
    },
    {
     "name": "stderr",
     "output_type": "stream",
     "text": [
      "whole_iters:  88%|████████▊ | 386/441 [02:35<00:23,  2.29it/s]"
     ]
    },
    {
     "name": "stdout",
     "output_type": "stream",
     "text": [
      "ratio of valid molecules : 50/50\n"
     ]
    },
    {
     "name": "stderr",
     "output_type": "stream",
     "text": [
      "whole_iters:  88%|████████▊ | 387/441 [02:35<00:23,  2.31it/s]"
     ]
    },
    {
     "name": "stdout",
     "output_type": "stream",
     "text": [
      "ratio of valid molecules : 50/50\n"
     ]
    },
    {
     "name": "stderr",
     "output_type": "stream",
     "text": [
      "whole_iters:  88%|████████▊ | 388/441 [02:35<00:23,  2.30it/s]"
     ]
    },
    {
     "name": "stdout",
     "output_type": "stream",
     "text": [
      "ratio of valid molecules : 50/50\n"
     ]
    },
    {
     "name": "stderr",
     "output_type": "stream",
     "text": [
      "whole_iters:  88%|████████▊ | 389/441 [02:36<00:22,  2.27it/s]"
     ]
    },
    {
     "name": "stdout",
     "output_type": "stream",
     "text": [
      "ratio of valid molecules : 50/50\n"
     ]
    },
    {
     "name": "stderr",
     "output_type": "stream",
     "text": [
      "whole_iters:  88%|████████▊ | 390/441 [02:36<00:22,  2.24it/s]"
     ]
    },
    {
     "name": "stdout",
     "output_type": "stream",
     "text": [
      "ratio of valid molecules : 50/50\n"
     ]
    },
    {
     "name": "stderr",
     "output_type": "stream",
     "text": [
      "whole_iters:  89%|████████▊ | 391/441 [02:37<00:21,  2.32it/s]"
     ]
    },
    {
     "name": "stdout",
     "output_type": "stream",
     "text": [
      "ratio of valid molecules : 50/50\n"
     ]
    },
    {
     "name": "stderr",
     "output_type": "stream",
     "text": [
      "whole_iters:  89%|████████▉ | 392/441 [02:37<00:21,  2.33it/s]"
     ]
    },
    {
     "name": "stdout",
     "output_type": "stream",
     "text": [
      "ratio of valid molecules : 50/50\n"
     ]
    },
    {
     "name": "stderr",
     "output_type": "stream",
     "text": [
      "whole_iters:  89%|████████▉ | 393/441 [02:38<00:20,  2.37it/s]"
     ]
    },
    {
     "name": "stdout",
     "output_type": "stream",
     "text": [
      "ratio of valid molecules : 50/50\n"
     ]
    },
    {
     "name": "stderr",
     "output_type": "stream",
     "text": [
      "whole_iters:  89%|████████▉ | 394/441 [02:38<00:20,  2.33it/s]"
     ]
    },
    {
     "name": "stdout",
     "output_type": "stream",
     "text": [
      "ratio of valid molecules : 50/50\n"
     ]
    },
    {
     "name": "stderr",
     "output_type": "stream",
     "text": [
      "whole_iters:  90%|████████▉ | 395/441 [02:38<00:19,  2.36it/s]"
     ]
    },
    {
     "name": "stdout",
     "output_type": "stream",
     "text": [
      "ratio of valid molecules : 50/50\n"
     ]
    },
    {
     "name": "stderr",
     "output_type": "stream",
     "text": [
      "whole_iters:  90%|████████▉ | 396/441 [02:39<00:18,  2.44it/s]"
     ]
    },
    {
     "name": "stdout",
     "output_type": "stream",
     "text": [
      "ratio of valid molecules : 50/50\n"
     ]
    },
    {
     "name": "stderr",
     "output_type": "stream",
     "text": [
      "whole_iters:  90%|█████████ | 397/441 [02:39<00:17,  2.49it/s]"
     ]
    },
    {
     "name": "stdout",
     "output_type": "stream",
     "text": [
      "ratio of valid molecules : 50/50\n"
     ]
    },
    {
     "name": "stderr",
     "output_type": "stream",
     "text": [
      "whole_iters:  90%|█████████ | 398/441 [02:40<00:16,  2.55it/s]"
     ]
    },
    {
     "name": "stdout",
     "output_type": "stream",
     "text": [
      "ratio of valid molecules : 50/50\n"
     ]
    },
    {
     "name": "stderr",
     "output_type": "stream",
     "text": [
      "whole_iters:  90%|█████████ | 399/441 [02:40<00:16,  2.53it/s]"
     ]
    },
    {
     "name": "stdout",
     "output_type": "stream",
     "text": [
      "ratio of valid molecules : 50/50\n"
     ]
    },
    {
     "name": "stderr",
     "output_type": "stream",
     "text": [
      "whole_iters:  91%|█████████ | 400/441 [02:40<00:16,  2.49it/s]"
     ]
    },
    {
     "name": "stdout",
     "output_type": "stream",
     "text": [
      "ratio of valid molecules : 50/50\n"
     ]
    },
    {
     "name": "stderr",
     "output_type": "stream",
     "text": [
      "whole_iters:  91%|█████████ | 401/441 [02:41<00:16,  2.43it/s]"
     ]
    },
    {
     "name": "stdout",
     "output_type": "stream",
     "text": [
      "ratio of valid molecules : 50/50\n"
     ]
    },
    {
     "name": "stderr",
     "output_type": "stream",
     "text": [
      "whole_iters:  91%|█████████ | 402/441 [02:41<00:15,  2.44it/s]"
     ]
    },
    {
     "name": "stdout",
     "output_type": "stream",
     "text": [
      "ratio of valid molecules : 50/50\n"
     ]
    },
    {
     "name": "stderr",
     "output_type": "stream",
     "text": [
      "whole_iters:  91%|█████████▏| 403/441 [02:42<00:15,  2.47it/s]"
     ]
    },
    {
     "name": "stdout",
     "output_type": "stream",
     "text": [
      "ratio of valid molecules : 50/50\n"
     ]
    },
    {
     "name": "stderr",
     "output_type": "stream",
     "text": [
      "whole_iters:  92%|█████████▏| 404/441 [02:42<00:15,  2.44it/s]"
     ]
    },
    {
     "name": "stdout",
     "output_type": "stream",
     "text": [
      "ratio of valid molecules : 50/50\n"
     ]
    },
    {
     "name": "stderr",
     "output_type": "stream",
     "text": [
      "whole_iters:  92%|█████████▏| 405/441 [02:42<00:14,  2.43it/s]"
     ]
    },
    {
     "name": "stdout",
     "output_type": "stream",
     "text": [
      "ratio of valid molecules : 50/50\n"
     ]
    },
    {
     "name": "stderr",
     "output_type": "stream",
     "text": [
      "whole_iters:  92%|█████████▏| 406/441 [02:43<00:14,  2.43it/s]"
     ]
    },
    {
     "name": "stdout",
     "output_type": "stream",
     "text": [
      "ratio of valid molecules : 50/50\n"
     ]
    },
    {
     "name": "stderr",
     "output_type": "stream",
     "text": [
      "whole_iters:  92%|█████████▏| 407/441 [02:43<00:13,  2.49it/s]"
     ]
    },
    {
     "name": "stdout",
     "output_type": "stream",
     "text": [
      "ratio of valid molecules : 50/50\n"
     ]
    },
    {
     "name": "stderr",
     "output_type": "stream",
     "text": [
      "whole_iters:  93%|█████████▎| 408/441 [02:44<00:13,  2.54it/s]"
     ]
    },
    {
     "name": "stdout",
     "output_type": "stream",
     "text": [
      "ratio of valid molecules : 50/50\n"
     ]
    },
    {
     "name": "stderr",
     "output_type": "stream",
     "text": [
      "whole_iters:  93%|█████████▎| 409/441 [02:44<00:12,  2.58it/s]"
     ]
    },
    {
     "name": "stdout",
     "output_type": "stream",
     "text": [
      "ratio of valid molecules : 50/50\n"
     ]
    },
    {
     "name": "stderr",
     "output_type": "stream",
     "text": [
      "whole_iters:  93%|█████████▎| 410/441 [02:44<00:12,  2.57it/s]"
     ]
    },
    {
     "name": "stdout",
     "output_type": "stream",
     "text": [
      "ratio of valid molecules : 50/50\n"
     ]
    },
    {
     "name": "stderr",
     "output_type": "stream",
     "text": [
      "whole_iters:  93%|█████████▎| 411/441 [02:45<00:11,  2.62it/s]"
     ]
    },
    {
     "name": "stdout",
     "output_type": "stream",
     "text": [
      "ratio of valid molecules : 50/50\n"
     ]
    },
    {
     "name": "stderr",
     "output_type": "stream",
     "text": [
      "whole_iters:  93%|█████████▎| 412/441 [02:45<00:10,  2.66it/s]"
     ]
    },
    {
     "name": "stdout",
     "output_type": "stream",
     "text": [
      "ratio of valid molecules : 50/50\n"
     ]
    },
    {
     "name": "stderr",
     "output_type": "stream",
     "text": [
      "whole_iters:  94%|█████████▎| 413/441 [02:45<00:10,  2.68it/s]"
     ]
    },
    {
     "name": "stdout",
     "output_type": "stream",
     "text": [
      "ratio of valid molecules : 50/50\n"
     ]
    },
    {
     "name": "stderr",
     "output_type": "stream",
     "text": [
      "whole_iters:  94%|█████████▍| 414/441 [02:46<00:10,  2.65it/s]"
     ]
    },
    {
     "name": "stdout",
     "output_type": "stream",
     "text": [
      "ratio of valid molecules : 50/50\n"
     ]
    },
    {
     "name": "stderr",
     "output_type": "stream",
     "text": [
      "whole_iters:  94%|█████████▍| 415/441 [02:46<00:10,  2.56it/s]"
     ]
    },
    {
     "name": "stdout",
     "output_type": "stream",
     "text": [
      "ratio of valid molecules : 50/50\n"
     ]
    },
    {
     "name": "stderr",
     "output_type": "stream",
     "text": [
      "whole_iters:  94%|█████████▍| 416/441 [02:47<00:09,  2.52it/s]"
     ]
    },
    {
     "name": "stdout",
     "output_type": "stream",
     "text": [
      "ratio of valid molecules : 50/50\n"
     ]
    },
    {
     "name": "stderr",
     "output_type": "stream",
     "text": [
      "whole_iters:  95%|█████████▍| 417/441 [02:47<00:09,  2.54it/s]"
     ]
    },
    {
     "name": "stdout",
     "output_type": "stream",
     "text": [
      "ratio of valid molecules : 50/50\n"
     ]
    },
    {
     "name": "stderr",
     "output_type": "stream",
     "text": [
      "whole_iters:  95%|█████████▍| 418/441 [02:47<00:09,  2.47it/s]"
     ]
    },
    {
     "name": "stdout",
     "output_type": "stream",
     "text": [
      "ratio of valid molecules : 50/50\n"
     ]
    },
    {
     "name": "stderr",
     "output_type": "stream",
     "text": [
      "whole_iters:  95%|█████████▌| 419/441 [02:48<00:08,  2.50it/s]"
     ]
    },
    {
     "name": "stdout",
     "output_type": "stream",
     "text": [
      "ratio of valid molecules : 50/50\n"
     ]
    },
    {
     "name": "stderr",
     "output_type": "stream",
     "text": [
      "whole_iters:  95%|█████████▌| 420/441 [02:48<00:08,  2.47it/s]"
     ]
    },
    {
     "name": "stdout",
     "output_type": "stream",
     "text": [
      "ratio of valid molecules : 50/50\n"
     ]
    },
    {
     "name": "stderr",
     "output_type": "stream",
     "text": [
      "whole_iters:  95%|█████████▌| 421/441 [02:49<00:08,  2.45it/s]"
     ]
    },
    {
     "name": "stdout",
     "output_type": "stream",
     "text": [
      "ratio of valid molecules : 50/50\n"
     ]
    },
    {
     "name": "stderr",
     "output_type": "stream",
     "text": [
      "whole_iters:  96%|█████████▌| 422/441 [02:49<00:07,  2.45it/s]"
     ]
    },
    {
     "name": "stdout",
     "output_type": "stream",
     "text": [
      "ratio of valid molecules : 50/50\n"
     ]
    },
    {
     "name": "stderr",
     "output_type": "stream",
     "text": [
      "whole_iters:  96%|█████████▌| 423/441 [02:50<00:07,  2.43it/s]"
     ]
    },
    {
     "name": "stdout",
     "output_type": "stream",
     "text": [
      "ratio of valid molecules : 50/50\n"
     ]
    },
    {
     "name": "stderr",
     "output_type": "stream",
     "text": [
      "whole_iters:  96%|█████████▌| 424/441 [02:50<00:06,  2.50it/s]"
     ]
    },
    {
     "name": "stdout",
     "output_type": "stream",
     "text": [
      "ratio of valid molecules : 50/50\n"
     ]
    },
    {
     "name": "stderr",
     "output_type": "stream",
     "text": [
      "whole_iters:  96%|█████████▋| 425/441 [02:50<00:06,  2.48it/s]"
     ]
    },
    {
     "name": "stdout",
     "output_type": "stream",
     "text": [
      "ratio of valid molecules : 50/50\n"
     ]
    },
    {
     "name": "stderr",
     "output_type": "stream",
     "text": [
      "whole_iters:  97%|█████████▋| 426/441 [02:51<00:05,  2.52it/s]"
     ]
    },
    {
     "name": "stdout",
     "output_type": "stream",
     "text": [
      "ratio of valid molecules : 50/50\n"
     ]
    },
    {
     "name": "stderr",
     "output_type": "stream",
     "text": [
      "whole_iters:  97%|█████████▋| 427/441 [02:51<00:06,  2.32it/s]"
     ]
    },
    {
     "name": "stdout",
     "output_type": "stream",
     "text": [
      "ratio of valid molecules : 50/50\n"
     ]
    },
    {
     "name": "stderr",
     "output_type": "stream",
     "text": [
      "whole_iters:  97%|█████████▋| 428/441 [02:52<00:05,  2.35it/s]"
     ]
    },
    {
     "name": "stdout",
     "output_type": "stream",
     "text": [
      "ratio of valid molecules : 50/50\n"
     ]
    },
    {
     "name": "stderr",
     "output_type": "stream",
     "text": [
      "whole_iters:  97%|█████████▋| 429/441 [02:52<00:04,  2.43it/s]"
     ]
    },
    {
     "name": "stdout",
     "output_type": "stream",
     "text": [
      "ratio of valid molecules : 50/50\n"
     ]
    },
    {
     "name": "stderr",
     "output_type": "stream",
     "text": [
      "whole_iters:  98%|█████████▊| 430/441 [02:52<00:04,  2.48it/s]"
     ]
    },
    {
     "name": "stdout",
     "output_type": "stream",
     "text": [
      "ratio of valid molecules : 50/50\n"
     ]
    },
    {
     "name": "stderr",
     "output_type": "stream",
     "text": [
      "whole_iters:  98%|█████████▊| 431/441 [02:53<00:03,  2.52it/s]"
     ]
    },
    {
     "name": "stdout",
     "output_type": "stream",
     "text": [
      "ratio of valid molecules : 50/50\n"
     ]
    },
    {
     "name": "stderr",
     "output_type": "stream",
     "text": [
      "whole_iters:  98%|█████████▊| 432/441 [02:53<00:03,  2.58it/s]"
     ]
    },
    {
     "name": "stdout",
     "output_type": "stream",
     "text": [
      "ratio of valid molecules : 50/50\n"
     ]
    },
    {
     "name": "stderr",
     "output_type": "stream",
     "text": [
      "whole_iters:  98%|█████████▊| 433/441 [02:54<00:03,  2.49it/s]"
     ]
    },
    {
     "name": "stdout",
     "output_type": "stream",
     "text": [
      "ratio of valid molecules : 50/50\n"
     ]
    },
    {
     "name": "stderr",
     "output_type": "stream",
     "text": [
      "whole_iters:  98%|█████████▊| 434/441 [02:54<00:02,  2.46it/s]"
     ]
    },
    {
     "name": "stdout",
     "output_type": "stream",
     "text": [
      "ratio of valid molecules : 50/50\n"
     ]
    },
    {
     "name": "stderr",
     "output_type": "stream",
     "text": [
      "whole_iters:  99%|█████████▊| 435/441 [02:54<00:02,  2.48it/s]"
     ]
    },
    {
     "name": "stdout",
     "output_type": "stream",
     "text": [
      "ratio of valid molecules : 50/50\n"
     ]
    },
    {
     "name": "stderr",
     "output_type": "stream",
     "text": [
      "whole_iters:  99%|█████████▉| 436/441 [02:55<00:02,  2.39it/s]"
     ]
    },
    {
     "name": "stdout",
     "output_type": "stream",
     "text": [
      "ratio of valid molecules : 50/50\n"
     ]
    },
    {
     "name": "stderr",
     "output_type": "stream",
     "text": [
      "whole_iters:  99%|█████████▉| 437/441 [02:55<00:01,  2.41it/s]"
     ]
    },
    {
     "name": "stdout",
     "output_type": "stream",
     "text": [
      "ratio of valid molecules : 50/50\n"
     ]
    },
    {
     "name": "stderr",
     "output_type": "stream",
     "text": [
      "whole_iters:  99%|█████████▉| 438/441 [02:56<00:01,  2.42it/s]"
     ]
    },
    {
     "name": "stdout",
     "output_type": "stream",
     "text": [
      "ratio of valid molecules : 50/50\n"
     ]
    },
    {
     "name": "stderr",
     "output_type": "stream",
     "text": [
      "whole_iters: 100%|█████████▉| 439/441 [02:56<00:00,  2.41it/s]"
     ]
    },
    {
     "name": "stdout",
     "output_type": "stream",
     "text": [
      "ratio of valid molecules : 50/50\n"
     ]
    },
    {
     "name": "stderr",
     "output_type": "stream",
     "text": [
      "whole_iters: 100%|█████████▉| 440/441 [02:56<00:00,  2.40it/s]"
     ]
    },
    {
     "name": "stdout",
     "output_type": "stream",
     "text": [
      "ratio of valid molecules : 50/50\n"
     ]
    },
    {
     "name": "stderr",
     "output_type": "stream",
     "text": [
      "whole_iters: 100%|██████████| 441/441 [02:57<00:00,  2.49it/s]"
     ]
    },
    {
     "name": "stdout",
     "output_type": "stream",
     "text": [
      "ratio of valid molecules : 50/50\n"
     ]
    },
    {
     "name": "stderr",
     "output_type": "stream",
     "text": [
      "\n"
     ]
    },
    {
     "ename": "FileNotFoundError",
     "evalue": "[Errno 2] No such file or directory: 'figures/two_other_orthogonal_basis/csv_folder/test_mol_prop_0.csv'",
     "output_type": "error",
     "traceback": [
      "\u001b[0;31m---------------------------------------------------------------------------\u001b[0m",
      "\u001b[0;31mFileNotFoundError\u001b[0m                         Traceback (most recent call last)",
      "Cell \u001b[0;32mIn[95], line 25\u001b[0m\n\u001b[1;32m     20\u001b[0m grid \u001b[38;5;241m=\u001b[39m sample_latent_space(test_mol[\u001b[38;5;124m\"\u001b[39m\u001b[38;5;124mmu\u001b[39m\u001b[38;5;124m\"\u001b[39m][\u001b[38;5;241m0\u001b[39m], model, ranges\u001b[38;5;241m=\u001b[39mranges, temp\u001b[38;5;241m=\u001b[39mtemp, n_trials\u001b[38;5;241m=\u001b[39m\u001b[38;5;241m50\u001b[39m, n_grid\u001b[38;5;241m=\u001b[39m\u001b[38;5;241m10\u001b[39m, orthogonal_vec\u001b[38;5;241m=\u001b[39m(v1,v2),\n\u001b[1;32m     21\u001b[0m                            prop_save_name\u001b[38;5;241m=\u001b[39m\u001b[38;5;124mf\u001b[39m\u001b[38;5;124m\"\u001b[39m\u001b[38;5;132;01m{\u001b[39;00msave_folder_path\u001b[38;5;132;01m}\u001b[39;00m\u001b[38;5;124m/csv_folder/\u001b[39m\u001b[38;5;132;01m{\u001b[39;00mprop_fname\u001b[38;5;132;01m}\u001b[39;00m\u001b[38;5;124m_\u001b[39m\u001b[38;5;132;01m{\u001b[39;00mi\u001b[38;5;132;01m}\u001b[39;00m\u001b[38;5;124m.csv\u001b[39m\u001b[38;5;124m\"\u001b[39m, props\u001b[38;5;241m=\u001b[39m[\u001b[38;5;124m\"\u001b[39m\u001b[38;5;124mlogP\u001b[39m\u001b[38;5;124m\"\u001b[39m, \u001b[38;5;124m\"\u001b[39m\u001b[38;5;124mSA\u001b[39m\u001b[38;5;124m\"\u001b[39m, \u001b[38;5;124m\"\u001b[39m\u001b[38;5;124mqed\u001b[39m\u001b[38;5;124m\"\u001b[39m, \u001b[38;5;124m\"\u001b[39m\u001b[38;5;124mobj\u001b[39m\u001b[38;5;124m\"\u001b[39m],\n\u001b[1;32m     22\u001b[0m                            save_name\u001b[38;5;241m=\u001b[39m\u001b[38;5;124mf\u001b[39m\u001b[38;5;124m\"\u001b[39m\u001b[38;5;132;01m{\u001b[39;00msave_folder_path\u001b[38;5;132;01m}\u001b[39;00m\u001b[38;5;124m/csv_folder/\u001b[39m\u001b[38;5;132;01m{\u001b[39;00mmol_fname\u001b[38;5;132;01m}\u001b[39;00m\u001b[38;5;124m_\u001b[39m\u001b[38;5;132;01m{\u001b[39;00mi\u001b[38;5;132;01m}\u001b[39;00m\u001b[38;5;124m.csv\u001b[39m\u001b[38;5;124m\"\u001b[39m)\n\u001b[1;32m     24\u001b[0m plot_freq_mols(grid, save_name\u001b[38;5;241m=\u001b[39m\u001b[38;5;124mf\u001b[39m\u001b[38;5;124m\"\u001b[39m\u001b[38;5;132;01m{\u001b[39;00msave_folder_path\u001b[38;5;132;01m}\u001b[39;00m\u001b[38;5;124m/\u001b[39m\u001b[38;5;132;01m{\u001b[39;00mmol_fname\u001b[38;5;132;01m}\u001b[39;00m\u001b[38;5;124m_\u001b[39m\u001b[38;5;132;01m{\u001b[39;00mi\u001b[38;5;132;01m}\u001b[39;00m\u001b[38;5;124m.png\u001b[39m\u001b[38;5;124m\"\u001b[39m)\n\u001b[0;32m---> 25\u001b[0m \u001b[43mplot_prop_mols\u001b[49m\u001b[43m(\u001b[49m\u001b[43mprop_grid_info\u001b[49m\u001b[38;5;241;43m=\u001b[39;49m\u001b[38;5;124;43mf\u001b[39;49m\u001b[38;5;124;43m\"\u001b[39;49m\u001b[38;5;132;43;01m{\u001b[39;49;00m\u001b[43msave_folder_path\u001b[49m\u001b[38;5;132;43;01m}\u001b[39;49;00m\u001b[38;5;124;43m/csv_folder/\u001b[39;49m\u001b[38;5;132;43;01m{\u001b[39;49;00m\u001b[43mprop_fname\u001b[49m\u001b[38;5;132;43;01m}\u001b[39;49;00m\u001b[38;5;124;43m_\u001b[39;49m\u001b[38;5;132;43;01m{\u001b[39;49;00m\u001b[43mi\u001b[49m\u001b[38;5;132;43;01m}\u001b[39;49;00m\u001b[38;5;124;43m.csv\u001b[39;49m\u001b[38;5;124;43m\"\u001b[39;49m\u001b[43m,\u001b[49m\u001b[43m \u001b[49m\u001b[43msave_name\u001b[49m\u001b[38;5;241;43m=\u001b[39;49m\u001b[38;5;124;43mf\u001b[39;49m\u001b[38;5;124;43m\"\u001b[39;49m\u001b[38;5;132;43;01m{\u001b[39;49;00m\u001b[43msave_folder_path\u001b[49m\u001b[38;5;132;43;01m}\u001b[39;49;00m\u001b[38;5;124;43m/\u001b[39;49m\u001b[38;5;132;43;01m{\u001b[39;49;00m\u001b[43mprop_fname\u001b[49m\u001b[38;5;132;43;01m}\u001b[39;49;00m\u001b[38;5;124;43m_\u001b[39;49m\u001b[38;5;132;43;01m{\u001b[39;49;00m\u001b[43mi\u001b[49m\u001b[38;5;132;43;01m}\u001b[39;49;00m\u001b[38;5;124;43m.png\u001b[39;49m\u001b[38;5;124;43m\"\u001b[39;49m\u001b[43m)\u001b[49m\n",
      "Cell \u001b[0;32mIn[93], line 139\u001b[0m, in \u001b[0;36mplot_prop_mols\u001b[0;34m(prop_grid_info, save_name, prop_name)\u001b[0m\n\u001b[1;32m    137\u001b[0m \u001b[38;5;28;01mdef\u001b[39;00m \u001b[38;5;21mplot_prop_mols\u001b[39m(prop_grid_info, save_name\u001b[38;5;241m=\u001b[39m\u001b[38;5;28;01mNone\u001b[39;00m, prop_name\u001b[38;5;241m=\u001b[39m\u001b[38;5;28;01mNone\u001b[39;00m):\n\u001b[1;32m    138\u001b[0m     \u001b[38;5;28;01mif\u001b[39;00m \u001b[38;5;28mtype\u001b[39m(prop_grid_info) \u001b[38;5;129;01mis\u001b[39;00m \u001b[38;5;28mstr\u001b[39m:\n\u001b[0;32m--> 139\u001b[0m         \u001b[43mplot_prop_mols_from_path\u001b[49m\u001b[43m(\u001b[49m\u001b[43mprop_grid_info\u001b[49m\u001b[43m,\u001b[49m\u001b[43m \u001b[49m\u001b[43msave_name\u001b[49m\u001b[43m,\u001b[49m\u001b[43m \u001b[49m\u001b[43mprop_name\u001b[49m\u001b[43m)\u001b[49m\n\u001b[1;32m    140\u001b[0m     \u001b[38;5;28;01melif\u001b[39;00m \u001b[38;5;28mtype\u001b[39m(prop_grid_info) \u001b[38;5;129;01mis\u001b[39;00m pd\u001b[38;5;241m.\u001b[39mDataFrame:\n\u001b[1;32m    141\u001b[0m         plot_prop_mols_from_df(prop_grid_info, save_name, prop_name)\n",
      "Cell \u001b[0;32mIn[93], line 146\u001b[0m, in \u001b[0;36mplot_prop_mols_from_path\u001b[0;34m(prop_grid_path, save_name, prop_name)\u001b[0m\n\u001b[1;32m    145\u001b[0m \u001b[38;5;28;01mdef\u001b[39;00m \u001b[38;5;21mplot_prop_mols_from_path\u001b[39m(prop_grid_path, save_name\u001b[38;5;241m=\u001b[39m\u001b[38;5;28;01mNone\u001b[39;00m, prop_name\u001b[38;5;241m=\u001b[39m\u001b[38;5;28;01mNone\u001b[39;00m):\n\u001b[0;32m--> 146\u001b[0m     prop_grid \u001b[38;5;241m=\u001b[39m \u001b[43mpd\u001b[49m\u001b[38;5;241;43m.\u001b[39;49m\u001b[43mread_csv\u001b[49m\u001b[43m(\u001b[49m\u001b[43mprop_grid_path\u001b[49m\u001b[43m,\u001b[49m\u001b[43m \u001b[49m\u001b[43mindex_col\u001b[49m\u001b[38;5;241;43m=\u001b[39;49m\u001b[38;5;241;43m0\u001b[39;49m\u001b[43m)\u001b[49m\n\u001b[1;32m    148\u001b[0m     plot_prop_mols_from_df(prop_grid, save_name, prop_name)\n",
      "File \u001b[0;32m~/miniconda3/envs/moses/lib/python3.8/site-packages/pandas/io/parsers/readers.py:912\u001b[0m, in \u001b[0;36mread_csv\u001b[0;34m(filepath_or_buffer, sep, delimiter, header, names, index_col, usecols, dtype, engine, converters, true_values, false_values, skipinitialspace, skiprows, skipfooter, nrows, na_values, keep_default_na, na_filter, verbose, skip_blank_lines, parse_dates, infer_datetime_format, keep_date_col, date_parser, date_format, dayfirst, cache_dates, iterator, chunksize, compression, thousands, decimal, lineterminator, quotechar, quoting, doublequote, escapechar, comment, encoding, encoding_errors, dialect, on_bad_lines, delim_whitespace, low_memory, memory_map, float_precision, storage_options, dtype_backend)\u001b[0m\n\u001b[1;32m    899\u001b[0m kwds_defaults \u001b[38;5;241m=\u001b[39m _refine_defaults_read(\n\u001b[1;32m    900\u001b[0m     dialect,\n\u001b[1;32m    901\u001b[0m     delimiter,\n\u001b[0;32m   (...)\u001b[0m\n\u001b[1;32m    908\u001b[0m     dtype_backend\u001b[38;5;241m=\u001b[39mdtype_backend,\n\u001b[1;32m    909\u001b[0m )\n\u001b[1;32m    910\u001b[0m kwds\u001b[38;5;241m.\u001b[39mupdate(kwds_defaults)\n\u001b[0;32m--> 912\u001b[0m \u001b[38;5;28;01mreturn\u001b[39;00m \u001b[43m_read\u001b[49m\u001b[43m(\u001b[49m\u001b[43mfilepath_or_buffer\u001b[49m\u001b[43m,\u001b[49m\u001b[43m \u001b[49m\u001b[43mkwds\u001b[49m\u001b[43m)\u001b[49m\n",
      "File \u001b[0;32m~/miniconda3/envs/moses/lib/python3.8/site-packages/pandas/io/parsers/readers.py:577\u001b[0m, in \u001b[0;36m_read\u001b[0;34m(filepath_or_buffer, kwds)\u001b[0m\n\u001b[1;32m    574\u001b[0m _validate_names(kwds\u001b[38;5;241m.\u001b[39mget(\u001b[38;5;124m\"\u001b[39m\u001b[38;5;124mnames\u001b[39m\u001b[38;5;124m\"\u001b[39m, \u001b[38;5;28;01mNone\u001b[39;00m))\n\u001b[1;32m    576\u001b[0m \u001b[38;5;66;03m# Create the parser.\u001b[39;00m\n\u001b[0;32m--> 577\u001b[0m parser \u001b[38;5;241m=\u001b[39m \u001b[43mTextFileReader\u001b[49m\u001b[43m(\u001b[49m\u001b[43mfilepath_or_buffer\u001b[49m\u001b[43m,\u001b[49m\u001b[43m \u001b[49m\u001b[38;5;241;43m*\u001b[39;49m\u001b[38;5;241;43m*\u001b[39;49m\u001b[43mkwds\u001b[49m\u001b[43m)\u001b[49m\n\u001b[1;32m    579\u001b[0m \u001b[38;5;28;01mif\u001b[39;00m chunksize \u001b[38;5;129;01mor\u001b[39;00m iterator:\n\u001b[1;32m    580\u001b[0m     \u001b[38;5;28;01mreturn\u001b[39;00m parser\n",
      "File \u001b[0;32m~/miniconda3/envs/moses/lib/python3.8/site-packages/pandas/io/parsers/readers.py:1407\u001b[0m, in \u001b[0;36mTextFileReader.__init__\u001b[0;34m(self, f, engine, **kwds)\u001b[0m\n\u001b[1;32m   1404\u001b[0m     \u001b[38;5;28mself\u001b[39m\u001b[38;5;241m.\u001b[39moptions[\u001b[38;5;124m\"\u001b[39m\u001b[38;5;124mhas_index_names\u001b[39m\u001b[38;5;124m\"\u001b[39m] \u001b[38;5;241m=\u001b[39m kwds[\u001b[38;5;124m\"\u001b[39m\u001b[38;5;124mhas_index_names\u001b[39m\u001b[38;5;124m\"\u001b[39m]\n\u001b[1;32m   1406\u001b[0m \u001b[38;5;28mself\u001b[39m\u001b[38;5;241m.\u001b[39mhandles: IOHandles \u001b[38;5;241m|\u001b[39m \u001b[38;5;28;01mNone\u001b[39;00m \u001b[38;5;241m=\u001b[39m \u001b[38;5;28;01mNone\u001b[39;00m\n\u001b[0;32m-> 1407\u001b[0m \u001b[38;5;28mself\u001b[39m\u001b[38;5;241m.\u001b[39m_engine \u001b[38;5;241m=\u001b[39m \u001b[38;5;28;43mself\u001b[39;49m\u001b[38;5;241;43m.\u001b[39;49m\u001b[43m_make_engine\u001b[49m\u001b[43m(\u001b[49m\u001b[43mf\u001b[49m\u001b[43m,\u001b[49m\u001b[43m \u001b[49m\u001b[38;5;28;43mself\u001b[39;49m\u001b[38;5;241;43m.\u001b[39;49m\u001b[43mengine\u001b[49m\u001b[43m)\u001b[49m\n",
      "File \u001b[0;32m~/miniconda3/envs/moses/lib/python3.8/site-packages/pandas/io/parsers/readers.py:1661\u001b[0m, in \u001b[0;36mTextFileReader._make_engine\u001b[0;34m(self, f, engine)\u001b[0m\n\u001b[1;32m   1659\u001b[0m     \u001b[38;5;28;01mif\u001b[39;00m \u001b[38;5;124m\"\u001b[39m\u001b[38;5;124mb\u001b[39m\u001b[38;5;124m\"\u001b[39m \u001b[38;5;129;01mnot\u001b[39;00m \u001b[38;5;129;01min\u001b[39;00m mode:\n\u001b[1;32m   1660\u001b[0m         mode \u001b[38;5;241m+\u001b[39m\u001b[38;5;241m=\u001b[39m \u001b[38;5;124m\"\u001b[39m\u001b[38;5;124mb\u001b[39m\u001b[38;5;124m\"\u001b[39m\n\u001b[0;32m-> 1661\u001b[0m \u001b[38;5;28mself\u001b[39m\u001b[38;5;241m.\u001b[39mhandles \u001b[38;5;241m=\u001b[39m \u001b[43mget_handle\u001b[49m\u001b[43m(\u001b[49m\n\u001b[1;32m   1662\u001b[0m \u001b[43m    \u001b[49m\u001b[43mf\u001b[49m\u001b[43m,\u001b[49m\n\u001b[1;32m   1663\u001b[0m \u001b[43m    \u001b[49m\u001b[43mmode\u001b[49m\u001b[43m,\u001b[49m\n\u001b[1;32m   1664\u001b[0m \u001b[43m    \u001b[49m\u001b[43mencoding\u001b[49m\u001b[38;5;241;43m=\u001b[39;49m\u001b[38;5;28;43mself\u001b[39;49m\u001b[38;5;241;43m.\u001b[39;49m\u001b[43moptions\u001b[49m\u001b[38;5;241;43m.\u001b[39;49m\u001b[43mget\u001b[49m\u001b[43m(\u001b[49m\u001b[38;5;124;43m\"\u001b[39;49m\u001b[38;5;124;43mencoding\u001b[39;49m\u001b[38;5;124;43m\"\u001b[39;49m\u001b[43m,\u001b[49m\u001b[43m \u001b[49m\u001b[38;5;28;43;01mNone\u001b[39;49;00m\u001b[43m)\u001b[49m\u001b[43m,\u001b[49m\n\u001b[1;32m   1665\u001b[0m \u001b[43m    \u001b[49m\u001b[43mcompression\u001b[49m\u001b[38;5;241;43m=\u001b[39;49m\u001b[38;5;28;43mself\u001b[39;49m\u001b[38;5;241;43m.\u001b[39;49m\u001b[43moptions\u001b[49m\u001b[38;5;241;43m.\u001b[39;49m\u001b[43mget\u001b[49m\u001b[43m(\u001b[49m\u001b[38;5;124;43m\"\u001b[39;49m\u001b[38;5;124;43mcompression\u001b[39;49m\u001b[38;5;124;43m\"\u001b[39;49m\u001b[43m,\u001b[49m\u001b[43m \u001b[49m\u001b[38;5;28;43;01mNone\u001b[39;49;00m\u001b[43m)\u001b[49m\u001b[43m,\u001b[49m\n\u001b[1;32m   1666\u001b[0m \u001b[43m    \u001b[49m\u001b[43mmemory_map\u001b[49m\u001b[38;5;241;43m=\u001b[39;49m\u001b[38;5;28;43mself\u001b[39;49m\u001b[38;5;241;43m.\u001b[39;49m\u001b[43moptions\u001b[49m\u001b[38;5;241;43m.\u001b[39;49m\u001b[43mget\u001b[49m\u001b[43m(\u001b[49m\u001b[38;5;124;43m\"\u001b[39;49m\u001b[38;5;124;43mmemory_map\u001b[39;49m\u001b[38;5;124;43m\"\u001b[39;49m\u001b[43m,\u001b[49m\u001b[43m \u001b[49m\u001b[38;5;28;43;01mFalse\u001b[39;49;00m\u001b[43m)\u001b[49m\u001b[43m,\u001b[49m\n\u001b[1;32m   1667\u001b[0m \u001b[43m    \u001b[49m\u001b[43mis_text\u001b[49m\u001b[38;5;241;43m=\u001b[39;49m\u001b[43mis_text\u001b[49m\u001b[43m,\u001b[49m\n\u001b[1;32m   1668\u001b[0m \u001b[43m    \u001b[49m\u001b[43merrors\u001b[49m\u001b[38;5;241;43m=\u001b[39;49m\u001b[38;5;28;43mself\u001b[39;49m\u001b[38;5;241;43m.\u001b[39;49m\u001b[43moptions\u001b[49m\u001b[38;5;241;43m.\u001b[39;49m\u001b[43mget\u001b[49m\u001b[43m(\u001b[49m\u001b[38;5;124;43m\"\u001b[39;49m\u001b[38;5;124;43mencoding_errors\u001b[39;49m\u001b[38;5;124;43m\"\u001b[39;49m\u001b[43m,\u001b[49m\u001b[43m \u001b[49m\u001b[38;5;124;43m\"\u001b[39;49m\u001b[38;5;124;43mstrict\u001b[39;49m\u001b[38;5;124;43m\"\u001b[39;49m\u001b[43m)\u001b[49m\u001b[43m,\u001b[49m\n\u001b[1;32m   1669\u001b[0m \u001b[43m    \u001b[49m\u001b[43mstorage_options\u001b[49m\u001b[38;5;241;43m=\u001b[39;49m\u001b[38;5;28;43mself\u001b[39;49m\u001b[38;5;241;43m.\u001b[39;49m\u001b[43moptions\u001b[49m\u001b[38;5;241;43m.\u001b[39;49m\u001b[43mget\u001b[49m\u001b[43m(\u001b[49m\u001b[38;5;124;43m\"\u001b[39;49m\u001b[38;5;124;43mstorage_options\u001b[39;49m\u001b[38;5;124;43m\"\u001b[39;49m\u001b[43m,\u001b[49m\u001b[43m \u001b[49m\u001b[38;5;28;43;01mNone\u001b[39;49;00m\u001b[43m)\u001b[49m\u001b[43m,\u001b[49m\n\u001b[1;32m   1670\u001b[0m \u001b[43m\u001b[49m\u001b[43m)\u001b[49m\n\u001b[1;32m   1671\u001b[0m \u001b[38;5;28;01massert\u001b[39;00m \u001b[38;5;28mself\u001b[39m\u001b[38;5;241m.\u001b[39mhandles \u001b[38;5;129;01mis\u001b[39;00m \u001b[38;5;129;01mnot\u001b[39;00m \u001b[38;5;28;01mNone\u001b[39;00m\n\u001b[1;32m   1672\u001b[0m f \u001b[38;5;241m=\u001b[39m \u001b[38;5;28mself\u001b[39m\u001b[38;5;241m.\u001b[39mhandles\u001b[38;5;241m.\u001b[39mhandle\n",
      "File \u001b[0;32m~/miniconda3/envs/moses/lib/python3.8/site-packages/pandas/io/common.py:859\u001b[0m, in \u001b[0;36mget_handle\u001b[0;34m(path_or_buf, mode, encoding, compression, memory_map, is_text, errors, storage_options)\u001b[0m\n\u001b[1;32m    854\u001b[0m \u001b[38;5;28;01melif\u001b[39;00m \u001b[38;5;28misinstance\u001b[39m(handle, \u001b[38;5;28mstr\u001b[39m):\n\u001b[1;32m    855\u001b[0m     \u001b[38;5;66;03m# Check whether the filename is to be opened in binary mode.\u001b[39;00m\n\u001b[1;32m    856\u001b[0m     \u001b[38;5;66;03m# Binary mode does not support 'encoding' and 'newline'.\u001b[39;00m\n\u001b[1;32m    857\u001b[0m     \u001b[38;5;28;01mif\u001b[39;00m ioargs\u001b[38;5;241m.\u001b[39mencoding \u001b[38;5;129;01mand\u001b[39;00m \u001b[38;5;124m\"\u001b[39m\u001b[38;5;124mb\u001b[39m\u001b[38;5;124m\"\u001b[39m \u001b[38;5;129;01mnot\u001b[39;00m \u001b[38;5;129;01min\u001b[39;00m ioargs\u001b[38;5;241m.\u001b[39mmode:\n\u001b[1;32m    858\u001b[0m         \u001b[38;5;66;03m# Encoding\u001b[39;00m\n\u001b[0;32m--> 859\u001b[0m         handle \u001b[38;5;241m=\u001b[39m \u001b[38;5;28;43mopen\u001b[39;49m\u001b[43m(\u001b[49m\n\u001b[1;32m    860\u001b[0m \u001b[43m            \u001b[49m\u001b[43mhandle\u001b[49m\u001b[43m,\u001b[49m\n\u001b[1;32m    861\u001b[0m \u001b[43m            \u001b[49m\u001b[43mioargs\u001b[49m\u001b[38;5;241;43m.\u001b[39;49m\u001b[43mmode\u001b[49m\u001b[43m,\u001b[49m\n\u001b[1;32m    862\u001b[0m \u001b[43m            \u001b[49m\u001b[43mencoding\u001b[49m\u001b[38;5;241;43m=\u001b[39;49m\u001b[43mioargs\u001b[49m\u001b[38;5;241;43m.\u001b[39;49m\u001b[43mencoding\u001b[49m\u001b[43m,\u001b[49m\n\u001b[1;32m    863\u001b[0m \u001b[43m            \u001b[49m\u001b[43merrors\u001b[49m\u001b[38;5;241;43m=\u001b[39;49m\u001b[43merrors\u001b[49m\u001b[43m,\u001b[49m\n\u001b[1;32m    864\u001b[0m \u001b[43m            \u001b[49m\u001b[43mnewline\u001b[49m\u001b[38;5;241;43m=\u001b[39;49m\u001b[38;5;124;43m\"\u001b[39;49m\u001b[38;5;124;43m\"\u001b[39;49m\u001b[43m,\u001b[49m\n\u001b[1;32m    865\u001b[0m \u001b[43m        \u001b[49m\u001b[43m)\u001b[49m\n\u001b[1;32m    866\u001b[0m     \u001b[38;5;28;01melse\u001b[39;00m:\n\u001b[1;32m    867\u001b[0m         \u001b[38;5;66;03m# Binary mode\u001b[39;00m\n\u001b[1;32m    868\u001b[0m         handle \u001b[38;5;241m=\u001b[39m \u001b[38;5;28mopen\u001b[39m(handle, ioargs\u001b[38;5;241m.\u001b[39mmode)\n",
      "\u001b[0;31mFileNotFoundError\u001b[0m: [Errno 2] No such file or directory: 'figures/two_other_orthogonal_basis/csv_folder/test_mol_prop_0.csv'"
     ]
    },
    {
     "data": {
      "text/plain": [
       "<Figure size 1000x1000 with 0 Axes>"
      ]
     },
     "metadata": {},
     "output_type": "display_data"
    }
   ],
   "source": [
    "ranges_list = [(30,30)]\n",
    "\n",
    "temp_list = [0.01]\n",
    "\n",
    "experiments = list(product(ranges_list, temp_list))\n",
    "\n",
    "v1 = np.ones(config.d_z)\n",
    "v1 = v1/np.linalg.norm(v1) # 1/sqrt(128)*np.ones(128)\n",
    "\n",
    "v2 = np.array([1 if i < config.d_z//2 else -1 for i in range(config.d_z)])\n",
    "v2 = v2/np.linalg.norm(v2) # 1/sqrt(128)*[1,1,1,1,1...,-1(65th coord),-1,-1,-1,-1... -1]\n",
    "\n",
    "save_folder_path = \"figures/two_other_orthogonal_basis\"\n",
    "prop_fname = \"test_mol_prop\"\n",
    "mol_fname = \"test_mol\"\n",
    "\n",
    "for i, (ranges, temp) in enumerate(experiments):\n",
    "    print(f\"------------- Experiment {i} -------------\")\n",
    "    \n",
    "    grid = sample_latent_space(test_mol[\"mu\"][0], model, ranges=ranges, temp=temp, n_trials=50, n_grid=10, orthogonal_vec=(v1,v2),\n",
    "                               prop_save_name=f\"{save_folder_path}/csv_folder/{prop_fname}_{i}.csv\", props=[\"logP\", \"SA\", \"qed\", \"obj\"],\n",
    "                               save_name=f\"{save_folder_path}/csv_folder/{mol_fname}_{i}.csv\")\n",
    "    \n",
    "    plot_freq_mols(grid, save_name=f\"{save_folder_path}/{mol_fname}_{i}.png\")\n",
    "\n",
    "    for prop in [\"logP\", \"SA\", \"qed\", \"obj\"]:\n",
    "        plot_prop_mols(prop_grid_info=f\"{save_folder_path}/csv_folder/{prop_fname}_{i}.csv_{prop}.csv\", save_name=f\"{save_folder_path}/{prop_fname}_{i}_{prop}.png\")"
   ]
  },
  {
   "cell_type": "markdown",
   "metadata": {},
   "source": [
    "## Above code is for testing, the below one is for real plotting"
   ]
  },
  {
   "cell_type": "code",
   "execution_count": 64,
   "metadata": {},
   "outputs": [
    {
     "name": "stdout",
     "output_type": "stream",
     "text": [
      "------------- Experiment 0 -------------\n"
     ]
    },
    {
     "name": "stderr",
     "output_type": "stream",
     "text": [
      "whole_iters:   1%|          | 1/121 [00:00<00:53,  2.26it/s]"
     ]
    },
    {
     "name": "stdout",
     "output_type": "stream",
     "text": [
      "ratio of valid molecules : 10/10\n"
     ]
    },
    {
     "name": "stderr",
     "output_type": "stream",
     "text": [
      "whole_iters:   2%|▏         | 2/121 [00:00<00:56,  2.12it/s]"
     ]
    },
    {
     "name": "stdout",
     "output_type": "stream",
     "text": [
      "ratio of valid molecules : 10/10\n"
     ]
    },
    {
     "name": "stderr",
     "output_type": "stream",
     "text": [
      "whole_iters:   2%|▏         | 3/121 [00:01<00:56,  2.10it/s]"
     ]
    },
    {
     "name": "stdout",
     "output_type": "stream",
     "text": [
      "ratio of valid molecules : 10/10\n"
     ]
    },
    {
     "name": "stderr",
     "output_type": "stream",
     "text": [
      "whole_iters:   3%|▎         | 4/121 [00:01<00:56,  2.07it/s]"
     ]
    },
    {
     "name": "stdout",
     "output_type": "stream",
     "text": [
      "ratio of valid molecules : 10/10\n"
     ]
    },
    {
     "name": "stderr",
     "output_type": "stream",
     "text": [
      "whole_iters:   4%|▍         | 5/121 [00:02<00:55,  2.08it/s]"
     ]
    },
    {
     "name": "stdout",
     "output_type": "stream",
     "text": [
      "ratio of valid molecules : 10/10\n"
     ]
    },
    {
     "name": "stderr",
     "output_type": "stream",
     "text": [
      "whole_iters:   5%|▍         | 6/121 [00:02<00:54,  2.09it/s]"
     ]
    },
    {
     "name": "stdout",
     "output_type": "stream",
     "text": [
      "ratio of valid molecules : 10/10\n"
     ]
    },
    {
     "name": "stderr",
     "output_type": "stream",
     "text": [
      "whole_iters:   6%|▌         | 7/121 [00:03<00:51,  2.22it/s]"
     ]
    },
    {
     "name": "stdout",
     "output_type": "stream",
     "text": [
      "ratio of valid molecules : 10/10\n"
     ]
    },
    {
     "name": "stderr",
     "output_type": "stream",
     "text": [
      "whole_iters:   7%|▋         | 8/121 [00:03<00:50,  2.22it/s]"
     ]
    },
    {
     "name": "stdout",
     "output_type": "stream",
     "text": [
      "ratio of valid molecules : 10/10\n"
     ]
    },
    {
     "name": "stderr",
     "output_type": "stream",
     "text": [
      "whole_iters:   7%|▋         | 9/121 [00:04<00:48,  2.32it/s]"
     ]
    },
    {
     "name": "stdout",
     "output_type": "stream",
     "text": [
      "ratio of valid molecules : 10/10\n"
     ]
    },
    {
     "name": "stderr",
     "output_type": "stream",
     "text": [
      "whole_iters:   8%|▊         | 10/121 [00:04<00:45,  2.41it/s]"
     ]
    },
    {
     "name": "stdout",
     "output_type": "stream",
     "text": [
      "ratio of valid molecules : 10/10\n"
     ]
    },
    {
     "name": "stderr",
     "output_type": "stream",
     "text": [
      "whole_iters:   9%|▉         | 11/121 [00:04<00:44,  2.48it/s]"
     ]
    },
    {
     "name": "stdout",
     "output_type": "stream",
     "text": [
      "ratio of valid molecules : 10/10\n"
     ]
    },
    {
     "name": "stderr",
     "output_type": "stream",
     "text": [
      "whole_iters:  10%|▉         | 12/121 [00:05<00:43,  2.53it/s]"
     ]
    },
    {
     "name": "stdout",
     "output_type": "stream",
     "text": [
      "ratio of valid molecules : 10/10\n"
     ]
    },
    {
     "name": "stderr",
     "output_type": "stream",
     "text": [
      "whole_iters:  11%|█         | 13/121 [00:05<00:42,  2.54it/s]"
     ]
    },
    {
     "name": "stdout",
     "output_type": "stream",
     "text": [
      "ratio of valid molecules : 10/10\n"
     ]
    },
    {
     "name": "stderr",
     "output_type": "stream",
     "text": [
      "whole_iters:  12%|█▏        | 14/121 [00:05<00:41,  2.57it/s]"
     ]
    },
    {
     "name": "stdout",
     "output_type": "stream",
     "text": [
      "ratio of valid molecules : 10/10\n"
     ]
    },
    {
     "name": "stderr",
     "output_type": "stream",
     "text": [
      "whole_iters:  12%|█▏        | 15/121 [00:06<00:40,  2.59it/s]"
     ]
    },
    {
     "name": "stdout",
     "output_type": "stream",
     "text": [
      "ratio of valid molecules : 10/10\n"
     ]
    },
    {
     "name": "stderr",
     "output_type": "stream",
     "text": [
      "whole_iters:  13%|█▎        | 16/121 [00:06<00:42,  2.46it/s]"
     ]
    },
    {
     "name": "stdout",
     "output_type": "stream",
     "text": [
      "ratio of valid molecules : 10/10\n"
     ]
    },
    {
     "name": "stderr",
     "output_type": "stream",
     "text": [
      "whole_iters:  14%|█▍        | 17/121 [00:07<00:42,  2.45it/s]"
     ]
    },
    {
     "name": "stdout",
     "output_type": "stream",
     "text": [
      "ratio of valid molecules : 10/10\n"
     ]
    },
    {
     "name": "stderr",
     "output_type": "stream",
     "text": [
      "whole_iters:  15%|█▍        | 18/121 [00:07<00:41,  2.48it/s]"
     ]
    },
    {
     "name": "stdout",
     "output_type": "stream",
     "text": [
      "ratio of valid molecules : 10/10\n"
     ]
    },
    {
     "name": "stderr",
     "output_type": "stream",
     "text": [
      "whole_iters:  16%|█▌        | 19/121 [00:07<00:39,  2.55it/s]"
     ]
    },
    {
     "name": "stdout",
     "output_type": "stream",
     "text": [
      "ratio of valid molecules : 10/10\n"
     ]
    },
    {
     "name": "stderr",
     "output_type": "stream",
     "text": [
      "whole_iters:  17%|█▋        | 20/121 [00:08<00:41,  2.46it/s]"
     ]
    },
    {
     "name": "stdout",
     "output_type": "stream",
     "text": [
      "ratio of valid molecules : 10/10\n"
     ]
    },
    {
     "name": "stderr",
     "output_type": "stream",
     "text": [
      "whole_iters:  17%|█▋        | 21/121 [00:08<00:42,  2.36it/s]"
     ]
    },
    {
     "name": "stdout",
     "output_type": "stream",
     "text": [
      "ratio of valid molecules : 10/10\n"
     ]
    },
    {
     "name": "stderr",
     "output_type": "stream",
     "text": [
      "whole_iters:  18%|█▊        | 22/121 [00:09<00:43,  2.25it/s]"
     ]
    },
    {
     "name": "stdout",
     "output_type": "stream",
     "text": [
      "ratio of valid molecules : 10/10\n"
     ]
    },
    {
     "name": "stderr",
     "output_type": "stream",
     "text": [
      "whole_iters:  19%|█▉        | 23/121 [00:09<00:43,  2.26it/s]"
     ]
    },
    {
     "name": "stdout",
     "output_type": "stream",
     "text": [
      "ratio of valid molecules : 10/10\n"
     ]
    },
    {
     "name": "stderr",
     "output_type": "stream",
     "text": [
      "whole_iters:  20%|█▉        | 24/121 [00:10<00:41,  2.34it/s]"
     ]
    },
    {
     "name": "stdout",
     "output_type": "stream",
     "text": [
      "ratio of valid molecules : 10/10\n"
     ]
    },
    {
     "name": "stderr",
     "output_type": "stream",
     "text": [
      "whole_iters:  21%|██        | 25/121 [00:10<00:42,  2.27it/s]"
     ]
    },
    {
     "name": "stdout",
     "output_type": "stream",
     "text": [
      "ratio of valid molecules : 10/10\n"
     ]
    },
    {
     "name": "stderr",
     "output_type": "stream",
     "text": [
      "whole_iters:  21%|██▏       | 26/121 [00:11<00:42,  2.26it/s]"
     ]
    },
    {
     "name": "stdout",
     "output_type": "stream",
     "text": [
      "ratio of valid molecules : 10/10\n"
     ]
    },
    {
     "name": "stderr",
     "output_type": "stream",
     "text": [
      "whole_iters:  22%|██▏       | 27/121 [00:11<00:41,  2.26it/s]"
     ]
    },
    {
     "name": "stdout",
     "output_type": "stream",
     "text": [
      "ratio of valid molecules : 10/10\n"
     ]
    },
    {
     "name": "stderr",
     "output_type": "stream",
     "text": [
      "whole_iters:  23%|██▎       | 28/121 [00:12<00:41,  2.26it/s]"
     ]
    },
    {
     "name": "stdout",
     "output_type": "stream",
     "text": [
      "ratio of valid molecules : 10/10\n"
     ]
    },
    {
     "name": "stderr",
     "output_type": "stream",
     "text": [
      "whole_iters:  24%|██▍       | 29/121 [00:12<00:39,  2.35it/s]"
     ]
    },
    {
     "name": "stdout",
     "output_type": "stream",
     "text": [
      "ratio of valid molecules : 10/10\n"
     ]
    },
    {
     "name": "stderr",
     "output_type": "stream",
     "text": [
      "whole_iters:  25%|██▍       | 30/121 [00:12<00:37,  2.43it/s]"
     ]
    },
    {
     "name": "stdout",
     "output_type": "stream",
     "text": [
      "ratio of valid molecules : 10/10\n"
     ]
    },
    {
     "name": "stderr",
     "output_type": "stream",
     "text": [
      "whole_iters:  26%|██▌       | 31/121 [00:13<00:36,  2.49it/s]"
     ]
    },
    {
     "name": "stdout",
     "output_type": "stream",
     "text": [
      "ratio of valid molecules : 10/10\n"
     ]
    },
    {
     "name": "stderr",
     "output_type": "stream",
     "text": [
      "whole_iters:  26%|██▋       | 32/121 [00:13<00:35,  2.53it/s]"
     ]
    },
    {
     "name": "stdout",
     "output_type": "stream",
     "text": [
      "ratio of valid molecules : 10/10\n"
     ]
    },
    {
     "name": "stderr",
     "output_type": "stream",
     "text": [
      "whole_iters:  27%|██▋       | 33/121 [00:13<00:34,  2.58it/s]"
     ]
    },
    {
     "name": "stdout",
     "output_type": "stream",
     "text": [
      "ratio of valid molecules : 10/10\n"
     ]
    },
    {
     "name": "stderr",
     "output_type": "stream",
     "text": [
      "whole_iters:  28%|██▊       | 34/121 [00:14<00:33,  2.59it/s]"
     ]
    },
    {
     "name": "stdout",
     "output_type": "stream",
     "text": [
      "ratio of valid molecules : 10/10\n"
     ]
    },
    {
     "name": "stderr",
     "output_type": "stream",
     "text": [
      "whole_iters:  29%|██▉       | 35/121 [00:14<00:32,  2.64it/s]"
     ]
    },
    {
     "name": "stdout",
     "output_type": "stream",
     "text": [
      "ratio of valid molecules : 10/10\n"
     ]
    },
    {
     "name": "stderr",
     "output_type": "stream",
     "text": [
      "whole_iters:  30%|██▉       | 36/121 [00:15<00:32,  2.63it/s]"
     ]
    },
    {
     "name": "stdout",
     "output_type": "stream",
     "text": [
      "ratio of valid molecules : 10/10\n"
     ]
    },
    {
     "name": "stderr",
     "output_type": "stream",
     "text": [
      "whole_iters:  31%|███       | 37/121 [00:15<00:33,  2.49it/s]"
     ]
    },
    {
     "name": "stdout",
     "output_type": "stream",
     "text": [
      "ratio of valid molecules : 10/10\n"
     ]
    },
    {
     "name": "stderr",
     "output_type": "stream",
     "text": [
      "whole_iters:  31%|███▏      | 38/121 [00:15<00:32,  2.53it/s]"
     ]
    },
    {
     "name": "stdout",
     "output_type": "stream",
     "text": [
      "ratio of valid molecules : 10/10\n"
     ]
    },
    {
     "name": "stderr",
     "output_type": "stream",
     "text": [
      "whole_iters:  32%|███▏      | 39/121 [00:16<00:31,  2.57it/s]"
     ]
    },
    {
     "name": "stdout",
     "output_type": "stream",
     "text": [
      "ratio of valid molecules : 10/10\n"
     ]
    },
    {
     "name": "stderr",
     "output_type": "stream",
     "text": [
      "whole_iters:  33%|███▎      | 40/121 [00:16<00:31,  2.58it/s]"
     ]
    },
    {
     "name": "stdout",
     "output_type": "stream",
     "text": [
      "ratio of valid molecules : 10/10\n"
     ]
    },
    {
     "name": "stderr",
     "output_type": "stream",
     "text": [
      "whole_iters:  34%|███▍      | 41/121 [00:17<00:32,  2.43it/s]"
     ]
    },
    {
     "name": "stdout",
     "output_type": "stream",
     "text": [
      "ratio of valid molecules : 10/10\n"
     ]
    },
    {
     "name": "stderr",
     "output_type": "stream",
     "text": [
      "whole_iters:  35%|███▍      | 42/121 [00:17<00:32,  2.44it/s]"
     ]
    },
    {
     "name": "stdout",
     "output_type": "stream",
     "text": [
      "ratio of valid molecules : 10/10\n"
     ]
    },
    {
     "name": "stderr",
     "output_type": "stream",
     "text": [
      "whole_iters:  36%|███▌      | 43/121 [00:17<00:32,  2.40it/s]"
     ]
    },
    {
     "name": "stdout",
     "output_type": "stream",
     "text": [
      "ratio of valid molecules : 10/10\n"
     ]
    },
    {
     "name": "stderr",
     "output_type": "stream",
     "text": [
      "whole_iters:  36%|███▋      | 44/121 [00:18<00:33,  2.31it/s]"
     ]
    },
    {
     "name": "stdout",
     "output_type": "stream",
     "text": [
      "ratio of valid molecules : 10/10\n"
     ]
    },
    {
     "name": "stderr",
     "output_type": "stream",
     "text": [
      "whole_iters:  37%|███▋      | 45/121 [00:18<00:33,  2.28it/s]"
     ]
    },
    {
     "name": "stdout",
     "output_type": "stream",
     "text": [
      "ratio of valid molecules : 10/10\n"
     ]
    },
    {
     "name": "stderr",
     "output_type": "stream",
     "text": [
      "whole_iters:  38%|███▊      | 46/121 [00:19<00:32,  2.29it/s]"
     ]
    },
    {
     "name": "stdout",
     "output_type": "stream",
     "text": [
      "ratio of valid molecules : 10/10\n"
     ]
    },
    {
     "name": "stderr",
     "output_type": "stream",
     "text": [
      "whole_iters:  39%|███▉      | 47/121 [00:19<00:31,  2.31it/s]"
     ]
    },
    {
     "name": "stdout",
     "output_type": "stream",
     "text": [
      "ratio of valid molecules : 10/10\n"
     ]
    },
    {
     "name": "stderr",
     "output_type": "stream",
     "text": [
      "whole_iters:  40%|███▉      | 48/121 [00:20<00:30,  2.41it/s]"
     ]
    },
    {
     "name": "stdout",
     "output_type": "stream",
     "text": [
      "ratio of valid molecules : 10/10\n"
     ]
    },
    {
     "name": "stderr",
     "output_type": "stream",
     "text": [
      "whole_iters:  40%|████      | 49/121 [00:20<00:29,  2.47it/s]"
     ]
    },
    {
     "name": "stdout",
     "output_type": "stream",
     "text": [
      "ratio of valid molecules : 10/10\n"
     ]
    },
    {
     "name": "stderr",
     "output_type": "stream",
     "text": [
      "whole_iters:  41%|████▏     | 50/121 [00:20<00:28,  2.53it/s]"
     ]
    },
    {
     "name": "stdout",
     "output_type": "stream",
     "text": [
      "ratio of valid molecules : 10/10\n"
     ]
    },
    {
     "name": "stderr",
     "output_type": "stream",
     "text": [
      "whole_iters:  42%|████▏     | 51/121 [00:21<00:27,  2.55it/s]"
     ]
    },
    {
     "name": "stdout",
     "output_type": "stream",
     "text": [
      "ratio of valid molecules : 10/10\n"
     ]
    },
    {
     "name": "stderr",
     "output_type": "stream",
     "text": [
      "whole_iters:  43%|████▎     | 52/121 [00:21<00:27,  2.48it/s]"
     ]
    },
    {
     "name": "stdout",
     "output_type": "stream",
     "text": [
      "ratio of valid molecules : 10/10\n"
     ]
    },
    {
     "name": "stderr",
     "output_type": "stream",
     "text": [
      "whole_iters:  44%|████▍     | 53/121 [00:22<00:28,  2.37it/s]"
     ]
    },
    {
     "name": "stdout",
     "output_type": "stream",
     "text": [
      "ratio of valid molecules : 10/10\n"
     ]
    },
    {
     "name": "stderr",
     "output_type": "stream",
     "text": [
      "whole_iters:  45%|████▍     | 54/121 [00:22<00:29,  2.29it/s]"
     ]
    },
    {
     "name": "stdout",
     "output_type": "stream",
     "text": [
      "ratio of valid molecules : 10/10\n"
     ]
    },
    {
     "name": "stderr",
     "output_type": "stream",
     "text": [
      "whole_iters:  45%|████▌     | 55/121 [00:23<00:28,  2.30it/s]"
     ]
    },
    {
     "name": "stdout",
     "output_type": "stream",
     "text": [
      "ratio of valid molecules : 10/10\n"
     ]
    },
    {
     "name": "stderr",
     "output_type": "stream",
     "text": [
      "whole_iters:  46%|████▋     | 56/121 [00:23<00:26,  2.45it/s]"
     ]
    },
    {
     "name": "stdout",
     "output_type": "stream",
     "text": [
      "ratio of valid molecules : 10/10\n"
     ]
    },
    {
     "name": "stderr",
     "output_type": "stream",
     "text": [
      "whole_iters:  47%|████▋     | 57/121 [00:23<00:25,  2.51it/s]"
     ]
    },
    {
     "name": "stdout",
     "output_type": "stream",
     "text": [
      "ratio of valid molecules : 10/10\n"
     ]
    },
    {
     "name": "stderr",
     "output_type": "stream",
     "text": [
      "whole_iters:  48%|████▊     | 58/121 [00:24<00:25,  2.44it/s]"
     ]
    },
    {
     "name": "stdout",
     "output_type": "stream",
     "text": [
      "ratio of valid molecules : 10/10\n"
     ]
    },
    {
     "name": "stderr",
     "output_type": "stream",
     "text": [
      "whole_iters:  49%|████▉     | 59/121 [00:24<00:26,  2.35it/s]"
     ]
    },
    {
     "name": "stdout",
     "output_type": "stream",
     "text": [
      "ratio of valid molecules : 10/10\n"
     ]
    },
    {
     "name": "stderr",
     "output_type": "stream",
     "text": [
      "whole_iters:  50%|████▉     | 60/121 [00:25<00:25,  2.41it/s]"
     ]
    },
    {
     "name": "stdout",
     "output_type": "stream",
     "text": [
      "ratio of valid molecules : 10/10\n"
     ]
    },
    {
     "name": "stderr",
     "output_type": "stream",
     "text": [
      "whole_iters:  50%|█████     | 61/121 [00:25<00:25,  2.38it/s]"
     ]
    },
    {
     "name": "stdout",
     "output_type": "stream",
     "text": [
      "ratio of valid molecules : 10/10\n"
     ]
    },
    {
     "name": "stderr",
     "output_type": "stream",
     "text": [
      "whole_iters:  51%|█████     | 62/121 [00:25<00:25,  2.35it/s]"
     ]
    },
    {
     "name": "stdout",
     "output_type": "stream",
     "text": [
      "ratio of valid molecules : 10/10\n"
     ]
    },
    {
     "name": "stderr",
     "output_type": "stream",
     "text": [
      "whole_iters:  52%|█████▏    | 63/121 [00:26<00:25,  2.27it/s]"
     ]
    },
    {
     "name": "stdout",
     "output_type": "stream",
     "text": [
      "ratio of valid molecules : 10/10\n"
     ]
    },
    {
     "name": "stderr",
     "output_type": "stream",
     "text": [
      "whole_iters:  53%|█████▎    | 64/121 [00:26<00:25,  2.25it/s]"
     ]
    },
    {
     "name": "stdout",
     "output_type": "stream",
     "text": [
      "ratio of valid molecules : 10/10\n"
     ]
    },
    {
     "name": "stderr",
     "output_type": "stream",
     "text": [
      "whole_iters:  54%|█████▎    | 65/121 [00:27<00:25,  2.20it/s]"
     ]
    },
    {
     "name": "stdout",
     "output_type": "stream",
     "text": [
      "ratio of valid molecules : 10/10\n"
     ]
    },
    {
     "name": "stderr",
     "output_type": "stream",
     "text": [
      "whole_iters:  55%|█████▍    | 66/121 [00:27<00:25,  2.12it/s]"
     ]
    },
    {
     "name": "stdout",
     "output_type": "stream",
     "text": [
      "ratio of valid molecules : 10/10\n"
     ]
    },
    {
     "name": "stderr",
     "output_type": "stream",
     "text": [
      "whole_iters:  55%|█████▌    | 67/121 [00:28<00:25,  2.09it/s]"
     ]
    },
    {
     "name": "stdout",
     "output_type": "stream",
     "text": [
      "ratio of valid molecules : 10/10\n"
     ]
    },
    {
     "name": "stderr",
     "output_type": "stream",
     "text": [
      "whole_iters:  56%|█████▌    | 68/121 [00:28<00:24,  2.13it/s]"
     ]
    },
    {
     "name": "stdout",
     "output_type": "stream",
     "text": [
      "ratio of valid molecules : 10/10\n"
     ]
    },
    {
     "name": "stderr",
     "output_type": "stream",
     "text": [
      "whole_iters:  57%|█████▋    | 69/121 [00:29<00:24,  2.12it/s]"
     ]
    },
    {
     "name": "stdout",
     "output_type": "stream",
     "text": [
      "ratio of valid molecules : 10/10\n"
     ]
    },
    {
     "name": "stderr",
     "output_type": "stream",
     "text": [
      "whole_iters:  58%|█████▊    | 70/121 [00:29<00:24,  2.08it/s]"
     ]
    },
    {
     "name": "stdout",
     "output_type": "stream",
     "text": [
      "ratio of valid molecules : 10/10\n"
     ]
    },
    {
     "name": "stderr",
     "output_type": "stream",
     "text": [
      "whole_iters:  59%|█████▊    | 71/121 [00:30<00:24,  2.04it/s]"
     ]
    },
    {
     "name": "stdout",
     "output_type": "stream",
     "text": [
      "ratio of valid molecules : 10/10\n"
     ]
    },
    {
     "name": "stderr",
     "output_type": "stream",
     "text": [
      "whole_iters:  60%|█████▉    | 72/121 [00:30<00:24,  2.03it/s]"
     ]
    },
    {
     "name": "stdout",
     "output_type": "stream",
     "text": [
      "ratio of valid molecules : 10/10\n"
     ]
    },
    {
     "name": "stderr",
     "output_type": "stream",
     "text": [
      "whole_iters:  60%|██████    | 73/121 [00:31<00:22,  2.12it/s]"
     ]
    },
    {
     "name": "stdout",
     "output_type": "stream",
     "text": [
      "ratio of valid molecules : 10/10\n"
     ]
    },
    {
     "name": "stderr",
     "output_type": "stream",
     "text": [
      "whole_iters:  61%|██████    | 74/121 [00:31<00:21,  2.17it/s]"
     ]
    },
    {
     "name": "stdout",
     "output_type": "stream",
     "text": [
      "ratio of valid molecules : 10/10\n"
     ]
    },
    {
     "name": "stderr",
     "output_type": "stream",
     "text": [
      "whole_iters:  62%|██████▏   | 75/121 [00:31<00:19,  2.32it/s]"
     ]
    },
    {
     "name": "stdout",
     "output_type": "stream",
     "text": [
      "ratio of valid molecules : 10/10\n"
     ]
    },
    {
     "name": "stderr",
     "output_type": "stream",
     "text": [
      "whole_iters:  63%|██████▎   | 76/121 [00:32<00:19,  2.31it/s]"
     ]
    },
    {
     "name": "stdout",
     "output_type": "stream",
     "text": [
      "ratio of valid molecules : 10/10\n"
     ]
    },
    {
     "name": "stderr",
     "output_type": "stream",
     "text": [
      "whole_iters:  64%|██████▎   | 77/121 [00:32<00:19,  2.28it/s]"
     ]
    },
    {
     "name": "stdout",
     "output_type": "stream",
     "text": [
      "ratio of valid molecules : 10/10\n"
     ]
    },
    {
     "name": "stderr",
     "output_type": "stream",
     "text": [
      "whole_iters:  64%|██████▍   | 78/121 [00:33<00:18,  2.31it/s]"
     ]
    },
    {
     "name": "stdout",
     "output_type": "stream",
     "text": [
      "ratio of valid molecules : 10/10\n"
     ]
    },
    {
     "name": "stderr",
     "output_type": "stream",
     "text": [
      "whole_iters:  65%|██████▌   | 79/121 [00:33<00:17,  2.37it/s]"
     ]
    },
    {
     "name": "stdout",
     "output_type": "stream",
     "text": [
      "ratio of valid molecules : 10/10\n"
     ]
    },
    {
     "name": "stderr",
     "output_type": "stream",
     "text": [
      "whole_iters:  66%|██████▌   | 80/121 [00:34<00:17,  2.31it/s]"
     ]
    },
    {
     "name": "stdout",
     "output_type": "stream",
     "text": [
      "ratio of valid molecules : 10/10\n"
     ]
    },
    {
     "name": "stderr",
     "output_type": "stream",
     "text": [
      "whole_iters:  67%|██████▋   | 81/121 [00:34<00:18,  2.21it/s]"
     ]
    },
    {
     "name": "stdout",
     "output_type": "stream",
     "text": [
      "ratio of valid molecules : 10/10\n"
     ]
    },
    {
     "name": "stderr",
     "output_type": "stream",
     "text": [
      "whole_iters:  68%|██████▊   | 82/121 [00:35<00:18,  2.15it/s]"
     ]
    },
    {
     "name": "stdout",
     "output_type": "stream",
     "text": [
      "ratio of valid molecules : 10/10\n"
     ]
    },
    {
     "name": "stderr",
     "output_type": "stream",
     "text": [
      "whole_iters:  69%|██████▊   | 83/121 [00:35<00:17,  2.16it/s]"
     ]
    },
    {
     "name": "stdout",
     "output_type": "stream",
     "text": [
      "ratio of valid molecules : 10/10\n"
     ]
    },
    {
     "name": "stderr",
     "output_type": "stream",
     "text": [
      "whole_iters:  69%|██████▉   | 84/121 [00:36<00:16,  2.20it/s]"
     ]
    },
    {
     "name": "stdout",
     "output_type": "stream",
     "text": [
      "ratio of valid molecules : 10/10\n"
     ]
    },
    {
     "name": "stderr",
     "output_type": "stream",
     "text": [
      "whole_iters:  70%|███████   | 85/121 [00:36<00:16,  2.18it/s]"
     ]
    },
    {
     "name": "stdout",
     "output_type": "stream",
     "text": [
      "ratio of valid molecules : 10/10\n"
     ]
    },
    {
     "name": "stderr",
     "output_type": "stream",
     "text": [
      "whole_iters:  71%|███████   | 86/121 [00:36<00:15,  2.26it/s]"
     ]
    },
    {
     "name": "stdout",
     "output_type": "stream",
     "text": [
      "ratio of valid molecules : 10/10\n"
     ]
    },
    {
     "name": "stderr",
     "output_type": "stream",
     "text": [
      "whole_iters:  72%|███████▏  | 87/121 [00:37<00:14,  2.32it/s]"
     ]
    },
    {
     "name": "stdout",
     "output_type": "stream",
     "text": [
      "ratio of valid molecules : 10/10\n"
     ]
    },
    {
     "name": "stderr",
     "output_type": "stream",
     "text": [
      "whole_iters:  73%|███████▎  | 88/121 [00:37<00:14,  2.35it/s]"
     ]
    },
    {
     "name": "stdout",
     "output_type": "stream",
     "text": [
      "ratio of valid molecules : 10/10\n"
     ]
    },
    {
     "name": "stderr",
     "output_type": "stream",
     "text": [
      "whole_iters:  74%|███████▎  | 89/121 [00:38<00:13,  2.37it/s]"
     ]
    },
    {
     "name": "stdout",
     "output_type": "stream",
     "text": [
      "ratio of valid molecules : 10/10\n"
     ]
    },
    {
     "name": "stderr",
     "output_type": "stream",
     "text": [
      "whole_iters:  74%|███████▍  | 90/121 [00:38<00:12,  2.41it/s]"
     ]
    },
    {
     "name": "stdout",
     "output_type": "stream",
     "text": [
      "ratio of valid molecules : 10/10\n"
     ]
    },
    {
     "name": "stderr",
     "output_type": "stream",
     "text": [
      "whole_iters:  75%|███████▌  | 91/121 [00:38<00:12,  2.42it/s]"
     ]
    },
    {
     "name": "stdout",
     "output_type": "stream",
     "text": [
      "ratio of valid molecules : 10/10\n"
     ]
    },
    {
     "name": "stderr",
     "output_type": "stream",
     "text": [
      "whole_iters:  76%|███████▌  | 92/121 [00:39<00:11,  2.42it/s]"
     ]
    },
    {
     "name": "stdout",
     "output_type": "stream",
     "text": [
      "ratio of valid molecules : 10/10\n"
     ]
    },
    {
     "name": "stderr",
     "output_type": "stream",
     "text": [
      "whole_iters:  77%|███████▋  | 93/121 [00:39<00:11,  2.46it/s]"
     ]
    },
    {
     "name": "stdout",
     "output_type": "stream",
     "text": [
      "ratio of valid molecules : 10/10\n"
     ]
    },
    {
     "name": "stderr",
     "output_type": "stream",
     "text": [
      "whole_iters:  78%|███████▊  | 94/121 [00:40<00:11,  2.42it/s]"
     ]
    },
    {
     "name": "stdout",
     "output_type": "stream",
     "text": [
      "ratio of valid molecules : 10/10\n"
     ]
    },
    {
     "name": "stderr",
     "output_type": "stream",
     "text": [
      "whole_iters:  79%|███████▊  | 95/121 [00:40<00:10,  2.38it/s]"
     ]
    },
    {
     "name": "stdout",
     "output_type": "stream",
     "text": [
      "ratio of valid molecules : 10/10\n"
     ]
    },
    {
     "name": "stderr",
     "output_type": "stream",
     "text": [
      "whole_iters:  79%|███████▉  | 96/121 [00:41<00:10,  2.29it/s]"
     ]
    },
    {
     "name": "stdout",
     "output_type": "stream",
     "text": [
      "ratio of valid molecules : 10/10\n"
     ]
    },
    {
     "name": "stderr",
     "output_type": "stream",
     "text": [
      "whole_iters:  80%|████████  | 97/121 [00:41<00:10,  2.22it/s]"
     ]
    },
    {
     "name": "stdout",
     "output_type": "stream",
     "text": [
      "ratio of valid molecules : 10/10\n"
     ]
    },
    {
     "name": "stderr",
     "output_type": "stream",
     "text": [
      "whole_iters:  81%|████████  | 98/121 [00:41<00:10,  2.26it/s]"
     ]
    },
    {
     "name": "stdout",
     "output_type": "stream",
     "text": [
      "ratio of valid molecules : 10/10\n"
     ]
    },
    {
     "name": "stderr",
     "output_type": "stream",
     "text": [
      "whole_iters:  82%|████████▏ | 99/121 [00:42<00:09,  2.26it/s]"
     ]
    },
    {
     "name": "stdout",
     "output_type": "stream",
     "text": [
      "ratio of valid molecules : 10/10\n"
     ]
    },
    {
     "name": "stderr",
     "output_type": "stream",
     "text": [
      "whole_iters:  83%|████████▎ | 100/121 [00:42<00:09,  2.28it/s]"
     ]
    },
    {
     "name": "stdout",
     "output_type": "stream",
     "text": [
      "ratio of valid molecules : 10/10\n"
     ]
    },
    {
     "name": "stderr",
     "output_type": "stream",
     "text": [
      "whole_iters:  83%|████████▎ | 101/121 [00:43<00:08,  2.28it/s]"
     ]
    },
    {
     "name": "stdout",
     "output_type": "stream",
     "text": [
      "ratio of valid molecules : 10/10\n"
     ]
    },
    {
     "name": "stderr",
     "output_type": "stream",
     "text": [
      "whole_iters:  84%|████████▍ | 102/121 [00:43<00:08,  2.35it/s]"
     ]
    },
    {
     "name": "stdout",
     "output_type": "stream",
     "text": [
      "ratio of valid molecules : 10/10\n"
     ]
    },
    {
     "name": "stderr",
     "output_type": "stream",
     "text": [
      "whole_iters:  85%|████████▌ | 103/121 [00:44<00:07,  2.29it/s]"
     ]
    },
    {
     "name": "stdout",
     "output_type": "stream",
     "text": [
      "ratio of valid molecules : 10/10\n"
     ]
    },
    {
     "name": "stderr",
     "output_type": "stream",
     "text": [
      "whole_iters:  86%|████████▌ | 104/121 [00:44<00:07,  2.35it/s]"
     ]
    },
    {
     "name": "stdout",
     "output_type": "stream",
     "text": [
      "ratio of valid molecules : 10/10\n"
     ]
    },
    {
     "name": "stderr",
     "output_type": "stream",
     "text": [
      "whole_iters:  87%|████████▋ | 105/121 [00:44<00:06,  2.41it/s]"
     ]
    },
    {
     "name": "stdout",
     "output_type": "stream",
     "text": [
      "ratio of valid molecules : 10/10\n"
     ]
    },
    {
     "name": "stderr",
     "output_type": "stream",
     "text": [
      "whole_iters:  88%|████████▊ | 106/121 [00:45<00:06,  2.43it/s]"
     ]
    },
    {
     "name": "stdout",
     "output_type": "stream",
     "text": [
      "ratio of valid molecules : 10/10\n"
     ]
    },
    {
     "name": "stderr",
     "output_type": "stream",
     "text": [
      "whole_iters:  88%|████████▊ | 107/121 [00:45<00:05,  2.46it/s]"
     ]
    },
    {
     "name": "stdout",
     "output_type": "stream",
     "text": [
      "ratio of valid molecules : 10/10\n"
     ]
    },
    {
     "name": "stderr",
     "output_type": "stream",
     "text": [
      "whole_iters:  89%|████████▉ | 108/121 [00:46<00:05,  2.44it/s]"
     ]
    },
    {
     "name": "stdout",
     "output_type": "stream",
     "text": [
      "ratio of valid molecules : 10/10\n"
     ]
    },
    {
     "name": "stderr",
     "output_type": "stream",
     "text": [
      "whole_iters:  90%|█████████ | 109/121 [00:46<00:04,  2.48it/s]"
     ]
    },
    {
     "name": "stdout",
     "output_type": "stream",
     "text": [
      "ratio of valid molecules : 10/10\n"
     ]
    },
    {
     "name": "stderr",
     "output_type": "stream",
     "text": [
      "whole_iters:  91%|█████████ | 110/121 [00:46<00:04,  2.50it/s]"
     ]
    },
    {
     "name": "stdout",
     "output_type": "stream",
     "text": [
      "ratio of valid molecules : 10/10\n"
     ]
    },
    {
     "name": "stderr",
     "output_type": "stream",
     "text": [
      "whole_iters:  92%|█████████▏| 111/121 [00:47<00:03,  2.50it/s]"
     ]
    },
    {
     "name": "stdout",
     "output_type": "stream",
     "text": [
      "ratio of valid molecules : 10/10\n"
     ]
    },
    {
     "name": "stderr",
     "output_type": "stream",
     "text": [
      "whole_iters:  93%|█████████▎| 112/121 [00:47<00:03,  2.51it/s]"
     ]
    },
    {
     "name": "stdout",
     "output_type": "stream",
     "text": [
      "ratio of valid molecules : 10/10\n"
     ]
    },
    {
     "name": "stderr",
     "output_type": "stream",
     "text": [
      "whole_iters:  93%|█████████▎| 113/121 [00:48<00:03,  2.51it/s]"
     ]
    },
    {
     "name": "stdout",
     "output_type": "stream",
     "text": [
      "ratio of valid molecules : 10/10\n"
     ]
    },
    {
     "name": "stderr",
     "output_type": "stream",
     "text": [
      "whole_iters:  94%|█████████▍| 114/121 [00:48<00:02,  2.52it/s]"
     ]
    },
    {
     "name": "stdout",
     "output_type": "stream",
     "text": [
      "ratio of valid molecules : 10/10\n"
     ]
    },
    {
     "name": "stderr",
     "output_type": "stream",
     "text": [
      "whole_iters:  95%|█████████▌| 115/121 [00:48<00:02,  2.53it/s]"
     ]
    },
    {
     "name": "stdout",
     "output_type": "stream",
     "text": [
      "ratio of valid molecules : 10/10\n"
     ]
    },
    {
     "name": "stderr",
     "output_type": "stream",
     "text": [
      "whole_iters:  96%|█████████▌| 116/121 [00:49<00:01,  2.50it/s]"
     ]
    },
    {
     "name": "stdout",
     "output_type": "stream",
     "text": [
      "ratio of valid molecules : 10/10\n"
     ]
    },
    {
     "name": "stderr",
     "output_type": "stream",
     "text": [
      "whole_iters:  97%|█████████▋| 117/121 [00:49<00:01,  2.53it/s]"
     ]
    },
    {
     "name": "stdout",
     "output_type": "stream",
     "text": [
      "ratio of valid molecules : 10/10\n"
     ]
    },
    {
     "name": "stderr",
     "output_type": "stream",
     "text": [
      "whole_iters:  98%|█████████▊| 118/121 [00:50<00:01,  2.53it/s]"
     ]
    },
    {
     "name": "stdout",
     "output_type": "stream",
     "text": [
      "ratio of valid molecules : 10/10\n"
     ]
    },
    {
     "name": "stderr",
     "output_type": "stream",
     "text": [
      "whole_iters:  98%|█████████▊| 119/121 [00:50<00:00,  2.55it/s]"
     ]
    },
    {
     "name": "stdout",
     "output_type": "stream",
     "text": [
      "ratio of valid molecules : 10/10\n"
     ]
    },
    {
     "name": "stderr",
     "output_type": "stream",
     "text": [
      "whole_iters:  99%|█████████▉| 120/121 [00:50<00:00,  2.56it/s]"
     ]
    },
    {
     "name": "stdout",
     "output_type": "stream",
     "text": [
      "ratio of valid molecules : 10/10\n"
     ]
    },
    {
     "name": "stderr",
     "output_type": "stream",
     "text": [
      "whole_iters: 100%|██████████| 121/121 [00:51<00:00,  2.36it/s]"
     ]
    },
    {
     "name": "stdout",
     "output_type": "stream",
     "text": [
      "ratio of valid molecules : 10/10\n"
     ]
    },
    {
     "name": "stderr",
     "output_type": "stream",
     "text": [
      "\n"
     ]
    },
    {
     "name": "stdout",
     "output_type": "stream",
     "text": [
      "------------- Experiment 1 -------------\n"
     ]
    },
    {
     "name": "stderr",
     "output_type": "stream",
     "text": [
      "whole_iters:   1%|          | 1/121 [00:00<00:49,  2.44it/s]"
     ]
    },
    {
     "name": "stdout",
     "output_type": "stream",
     "text": [
      "ratio of valid molecules : 10/10\n"
     ]
    },
    {
     "name": "stderr",
     "output_type": "stream",
     "text": [
      "whole_iters:   2%|▏         | 2/121 [00:00<00:48,  2.46it/s]"
     ]
    },
    {
     "name": "stdout",
     "output_type": "stream",
     "text": [
      "ratio of valid molecules : 10/10\n"
     ]
    },
    {
     "name": "stderr",
     "output_type": "stream",
     "text": [
      "whole_iters:   2%|▏         | 3/121 [00:01<00:45,  2.60it/s]"
     ]
    },
    {
     "name": "stdout",
     "output_type": "stream",
     "text": [
      "ratio of valid molecules : 10/10\n"
     ]
    },
    {
     "name": "stderr",
     "output_type": "stream",
     "text": [
      "whole_iters:   3%|▎         | 4/121 [00:01<00:46,  2.52it/s]"
     ]
    },
    {
     "name": "stdout",
     "output_type": "stream",
     "text": [
      "ratio of valid molecules : 10/10\n"
     ]
    },
    {
     "name": "stderr",
     "output_type": "stream",
     "text": [
      "whole_iters:   4%|▍         | 5/121 [00:02<00:47,  2.44it/s]"
     ]
    },
    {
     "name": "stdout",
     "output_type": "stream",
     "text": [
      "ratio of valid molecules : 10/10\n"
     ]
    },
    {
     "name": "stderr",
     "output_type": "stream",
     "text": [
      "whole_iters:   5%|▍         | 6/121 [00:02<00:49,  2.32it/s]"
     ]
    },
    {
     "name": "stdout",
     "output_type": "stream",
     "text": [
      "ratio of valid molecules : 10/10\n"
     ]
    },
    {
     "name": "stderr",
     "output_type": "stream",
     "text": [
      "whole_iters:   6%|▌         | 7/121 [00:02<00:50,  2.27it/s]"
     ]
    },
    {
     "name": "stdout",
     "output_type": "stream",
     "text": [
      "ratio of valid molecules : 10/10\n"
     ]
    },
    {
     "name": "stderr",
     "output_type": "stream",
     "text": [
      "whole_iters:   7%|▋         | 8/121 [00:03<00:50,  2.25it/s]"
     ]
    },
    {
     "name": "stdout",
     "output_type": "stream",
     "text": [
      "ratio of valid molecules : 10/10\n"
     ]
    },
    {
     "name": "stderr",
     "output_type": "stream",
     "text": [
      "whole_iters:   7%|▋         | 9/121 [00:03<00:48,  2.30it/s]"
     ]
    },
    {
     "name": "stdout",
     "output_type": "stream",
     "text": [
      "ratio of valid molecules : 10/10\n"
     ]
    },
    {
     "name": "stderr",
     "output_type": "stream",
     "text": [
      "whole_iters:   8%|▊         | 10/121 [00:04<00:47,  2.34it/s]"
     ]
    },
    {
     "name": "stdout",
     "output_type": "stream",
     "text": [
      "ratio of valid molecules : 10/10\n"
     ]
    },
    {
     "name": "stderr",
     "output_type": "stream",
     "text": [
      "whole_iters:   9%|▉         | 11/121 [00:04<00:44,  2.45it/s]"
     ]
    },
    {
     "name": "stdout",
     "output_type": "stream",
     "text": [
      "ratio of valid molecules : 10/10\n"
     ]
    },
    {
     "name": "stderr",
     "output_type": "stream",
     "text": [
      "whole_iters:  10%|▉         | 12/121 [00:04<00:42,  2.55it/s]"
     ]
    },
    {
     "name": "stdout",
     "output_type": "stream",
     "text": [
      "ratio of valid molecules : 10/10\n"
     ]
    },
    {
     "name": "stderr",
     "output_type": "stream",
     "text": [
      "whole_iters:  11%|█         | 13/121 [00:05<00:41,  2.58it/s]"
     ]
    },
    {
     "name": "stdout",
     "output_type": "stream",
     "text": [
      "ratio of valid molecules : 10/10\n"
     ]
    },
    {
     "name": "stderr",
     "output_type": "stream",
     "text": [
      "whole_iters:  12%|█▏        | 14/121 [00:05<00:40,  2.66it/s]"
     ]
    },
    {
     "name": "stdout",
     "output_type": "stream",
     "text": [
      "ratio of valid molecules : 10/10\n"
     ]
    },
    {
     "name": "stderr",
     "output_type": "stream",
     "text": [
      "whole_iters:  12%|█▏        | 15/121 [00:06<00:39,  2.69it/s]"
     ]
    },
    {
     "name": "stdout",
     "output_type": "stream",
     "text": [
      "ratio of valid molecules : 10/10\n"
     ]
    },
    {
     "name": "stderr",
     "output_type": "stream",
     "text": [
      "whole_iters:  13%|█▎        | 16/121 [00:06<00:38,  2.75it/s]"
     ]
    },
    {
     "name": "stdout",
     "output_type": "stream",
     "text": [
      "ratio of valid molecules : 10/10\n"
     ]
    },
    {
     "name": "stderr",
     "output_type": "stream",
     "text": [
      "whole_iters:  14%|█▍        | 17/121 [00:06<00:38,  2.69it/s]"
     ]
    },
    {
     "name": "stdout",
     "output_type": "stream",
     "text": [
      "ratio of valid molecules : 10/10\n"
     ]
    },
    {
     "name": "stderr",
     "output_type": "stream",
     "text": [
      "whole_iters:  15%|█▍        | 18/121 [00:07<00:39,  2.64it/s]"
     ]
    },
    {
     "name": "stdout",
     "output_type": "stream",
     "text": [
      "ratio of valid molecules : 10/10\n"
     ]
    },
    {
     "name": "stderr",
     "output_type": "stream",
     "text": [
      "whole_iters:  16%|█▌        | 19/121 [00:07<00:39,  2.56it/s]"
     ]
    },
    {
     "name": "stdout",
     "output_type": "stream",
     "text": [
      "ratio of valid molecules : 10/10\n"
     ]
    },
    {
     "name": "stderr",
     "output_type": "stream",
     "text": [
      "whole_iters:  16%|█▌        | 19/121 [00:07<00:41,  2.44it/s]\n"
     ]
    },
    {
     "ename": "KeyboardInterrupt",
     "evalue": "",
     "output_type": "error",
     "traceback": [
      "\u001b[0;31m---------------------------------------------------------------------------\u001b[0m",
      "\u001b[0;31mKeyboardInterrupt\u001b[0m                         Traceback (most recent call last)",
      "Cell \u001b[0;32mIn[64], line 18\u001b[0m\n\u001b[1;32m     15\u001b[0m \u001b[38;5;28;01mfor\u001b[39;00m i, (ranges, temp) \u001b[38;5;129;01min\u001b[39;00m \u001b[38;5;28menumerate\u001b[39m(experiments):\n\u001b[1;32m     16\u001b[0m     \u001b[38;5;28mprint\u001b[39m(\u001b[38;5;124mf\u001b[39m\u001b[38;5;124m\"\u001b[39m\u001b[38;5;124m------------- Experiment \u001b[39m\u001b[38;5;132;01m{\u001b[39;00mi\u001b[38;5;132;01m}\u001b[39;00m\u001b[38;5;124m -------------\u001b[39m\u001b[38;5;124m\"\u001b[39m)\n\u001b[0;32m---> 18\u001b[0m     grid \u001b[38;5;241m=\u001b[39m \u001b[43msample_latent_space\u001b[49m\u001b[43m(\u001b[49m\u001b[43mtest_mol\u001b[49m\u001b[43m[\u001b[49m\u001b[38;5;124;43m\"\u001b[39;49m\u001b[38;5;124;43mmu\u001b[39;49m\u001b[38;5;124;43m\"\u001b[39;49m\u001b[43m]\u001b[49m\u001b[43m[\u001b[49m\u001b[38;5;241;43m0\u001b[39;49m\u001b[43m]\u001b[49m\u001b[43m,\u001b[49m\u001b[43m \u001b[49m\u001b[43mmodel\u001b[49m\u001b[43m,\u001b[49m\u001b[43m \u001b[49m\u001b[43mranges\u001b[49m\u001b[38;5;241;43m=\u001b[39;49m\u001b[43mranges\u001b[49m\u001b[43m,\u001b[49m\u001b[43m \u001b[49m\u001b[43mtemp\u001b[49m\u001b[38;5;241;43m=\u001b[39;49m\u001b[43mtemp\u001b[49m\u001b[43m,\u001b[49m\u001b[43m \u001b[49m\u001b[43mn_trials\u001b[49m\u001b[38;5;241;43m=\u001b[39;49m\u001b[38;5;241;43m10\u001b[39;49m\u001b[43m,\u001b[49m\u001b[43m \u001b[49m\u001b[43mn_grid\u001b[49m\u001b[38;5;241;43m=\u001b[39;49m\u001b[38;5;241;43m5\u001b[39;49m\u001b[43m,\u001b[49m\u001b[43m \u001b[49m\u001b[43morthogonal_vec\u001b[49m\u001b[38;5;241;43m=\u001b[39;49m\u001b[43m(\u001b[49m\u001b[43mv1\u001b[49m\u001b[43m,\u001b[49m\u001b[43mv2\u001b[49m\u001b[43m)\u001b[49m\u001b[43m,\u001b[49m\n\u001b[1;32m     19\u001b[0m \u001b[43m                               \u001b[49m\u001b[43mprop_save_name\u001b[49m\u001b[38;5;241;43m=\u001b[39;49m\u001b[38;5;124;43mf\u001b[39;49m\u001b[38;5;124;43m\"\u001b[39;49m\u001b[38;5;132;43;01m{\u001b[39;49;00m\u001b[43msave_folder_path\u001b[49m\u001b[38;5;132;43;01m}\u001b[39;49;00m\u001b[38;5;124;43m/test_mol_prop_\u001b[39;49m\u001b[38;5;132;43;01m{\u001b[39;49;00m\u001b[43mi\u001b[49m\u001b[38;5;132;43;01m}\u001b[39;49;00m\u001b[38;5;124;43m.csv\u001b[39;49m\u001b[38;5;124;43m\"\u001b[39;49m\u001b[43m,\u001b[49m\u001b[43m \u001b[49m\u001b[43mprops\u001b[49m\u001b[38;5;241;43m=\u001b[39;49m\u001b[38;5;124;43m\"\u001b[39;49m\u001b[38;5;124;43mlogP\u001b[39;49m\u001b[38;5;124;43m\"\u001b[39;49m\u001b[43m,\u001b[49m\n\u001b[1;32m     20\u001b[0m \u001b[43m                               \u001b[49m\u001b[43msave_name\u001b[49m\u001b[38;5;241;43m=\u001b[39;49m\u001b[38;5;124;43mf\u001b[39;49m\u001b[38;5;124;43m\"\u001b[39;49m\u001b[38;5;132;43;01m{\u001b[39;49;00m\u001b[43msave_folder_path\u001b[49m\u001b[38;5;132;43;01m}\u001b[39;49;00m\u001b[38;5;124;43m/test_mol_\u001b[39;49m\u001b[38;5;132;43;01m{\u001b[39;49;00m\u001b[43mi\u001b[49m\u001b[38;5;132;43;01m}\u001b[39;49;00m\u001b[38;5;124;43m.csv\u001b[39;49m\u001b[38;5;124;43m\"\u001b[39;49m\u001b[43m)\u001b[49m\n\u001b[1;32m     21\u001b[0m     plot_freq_mols(grid, save_name\u001b[38;5;241m=\u001b[39m\u001b[38;5;124mf\u001b[39m\u001b[38;5;124m\"\u001b[39m\u001b[38;5;132;01m{\u001b[39;00msave_folder_path\u001b[38;5;132;01m}\u001b[39;00m\u001b[38;5;124m/test_mol_\u001b[39m\u001b[38;5;132;01m{\u001b[39;00mi\u001b[38;5;132;01m}\u001b[39;00m\u001b[38;5;124m.png\u001b[39m\u001b[38;5;124m\"\u001b[39m)\n",
      "Cell \u001b[0;32mIn[62], line 22\u001b[0m, in \u001b[0;36msample_latent_space\u001b[0;34m(mu, model, ranges, latent_dim, n_trials, n_grid, temp, orthogonal_vec, save_name, prop_save_name, props)\u001b[0m\n\u001b[1;32m     20\u001b[0m \u001b[38;5;28;01mfor\u001b[39;00m i_x, i_y \u001b[38;5;129;01min\u001b[39;00m tqdm(product(\u001b[38;5;28mrange\u001b[39m(\u001b[38;5;241m2\u001b[39m\u001b[38;5;241m*\u001b[39mn_grid\u001b[38;5;241m+\u001b[39m\u001b[38;5;241m1\u001b[39m), \u001b[38;5;28mrange\u001b[39m(\u001b[38;5;241m2\u001b[39m\u001b[38;5;241m*\u001b[39mn_grid\u001b[38;5;241m+\u001b[39m\u001b[38;5;241m1\u001b[39m)), desc\u001b[38;5;241m=\u001b[39m\u001b[38;5;124m'\u001b[39m\u001b[38;5;124mwhole_iters\u001b[39m\u001b[38;5;124m'\u001b[39m, total\u001b[38;5;241m=\u001b[39m(\u001b[38;5;241m2\u001b[39m\u001b[38;5;241m*\u001b[39mn_grid\u001b[38;5;241m+\u001b[39m\u001b[38;5;241m1\u001b[39m)\u001b[38;5;241m*\u001b[39m\u001b[38;5;241m*\u001b[39m\u001b[38;5;241m2\u001b[39m): \u001b[38;5;66;03m#each data points\u001b[39;00m\n\u001b[1;32m     21\u001b[0m     z_point \u001b[38;5;241m=\u001b[39m mu \u001b[38;5;241m+\u001b[39m dx[i_x]\u001b[38;5;241m*\u001b[39morthogonal_vec[\u001b[38;5;241m0\u001b[39m] \u001b[38;5;241m+\u001b[39m dy[i_y]\u001b[38;5;241m*\u001b[39morthogonal_vec[\u001b[38;5;241m1\u001b[39m] \u001b[38;5;66;03m# move the point to the direction of the unit vector\u001b[39;00m\n\u001b[0;32m---> 22\u001b[0m     most_freq_mol, freq_df \u001b[38;5;241m=\u001b[39m \u001b[43mdecode_z\u001b[49m\u001b[43m(\u001b[49m\u001b[43mz_point\u001b[49m\u001b[43m,\u001b[49m\u001b[43m \u001b[49m\u001b[43mmodel\u001b[49m\u001b[43m,\u001b[49m\u001b[43m \u001b[49m\u001b[43mn_trials\u001b[49m\u001b[43m,\u001b[49m\u001b[43m \u001b[49m\u001b[43mtemp\u001b[49m\u001b[43m)\u001b[49m\n\u001b[1;32m     24\u001b[0m     grid\u001b[38;5;241m.\u001b[39miloc[i_x, i_y] \u001b[38;5;241m=\u001b[39m most_freq_mol\n\u001b[1;32m     26\u001b[0m     prop_grid\u001b[38;5;241m.\u001b[39miloc[i_x, i_y] \u001b[38;5;241m=\u001b[39m calc_avg_prop(freq_df, props\u001b[38;5;241m=\u001b[39mprops)\n",
      "Cell \u001b[0;32mIn[62], line 42\u001b[0m, in \u001b[0;36mdecode_z\u001b[0;34m(z, model, n_trials, temp)\u001b[0m\n\u001b[1;32m     38\u001b[0m z_input \u001b[38;5;241m=\u001b[39m torch\u001b[38;5;241m.\u001b[39mtensor(z)\u001b[38;5;241m.\u001b[39mrepeat(n_trials)\u001b[38;5;241m.\u001b[39mreshape(n_trials, \u001b[38;5;241m-\u001b[39m\u001b[38;5;241m1\u001b[39m)\n\u001b[1;32m     40\u001b[0m z_input \u001b[38;5;241m=\u001b[39m z_input\u001b[38;5;241m.\u001b[39mfloat()\n\u001b[0;32m---> 42\u001b[0m decoded_mols \u001b[38;5;241m=\u001b[39m \u001b[43mmodel\u001b[49m\u001b[38;5;241;43m.\u001b[39;49m\u001b[43msample\u001b[49m\u001b[43m(\u001b[49m\u001b[43mn_batch\u001b[49m\u001b[38;5;241;43m=\u001b[39;49m\u001b[43mz_input\u001b[49m\u001b[38;5;241;43m.\u001b[39;49m\u001b[43mshape\u001b[49m\u001b[43m[\u001b[49m\u001b[38;5;241;43m0\u001b[39;49m\u001b[43m]\u001b[49m\u001b[43m,\u001b[49m\u001b[43m \u001b[49m\u001b[43mz\u001b[49m\u001b[38;5;241;43m=\u001b[39;49m\u001b[43mz_input\u001b[49m\u001b[43m,\u001b[49m\u001b[43m \u001b[49m\u001b[43mtemp\u001b[49m\u001b[38;5;241;43m=\u001b[39;49m\u001b[43mtemp\u001b[49m\u001b[43m)\u001b[49m\n\u001b[1;32m     44\u001b[0m valid_decoded_mols \u001b[38;5;241m=\u001b[39m [Chem\u001b[38;5;241m.\u001b[39mMolFromSmiles(mol) \u001b[38;5;28;01mfor\u001b[39;00m mol \u001b[38;5;129;01min\u001b[39;00m decoded_mols \u001b[38;5;28;01mif\u001b[39;00m Chem\u001b[38;5;241m.\u001b[39mMolFromSmiles(mol) \u001b[38;5;129;01mis\u001b[39;00m \u001b[38;5;129;01mnot\u001b[39;00m \u001b[38;5;28;01mNone\u001b[39;00m]\n\u001b[1;32m     46\u001b[0m \u001b[38;5;28mprint\u001b[39m(\u001b[38;5;124mf\u001b[39m\u001b[38;5;124m\"\u001b[39m\u001b[38;5;124mratio of valid molecules : \u001b[39m\u001b[38;5;132;01m{\u001b[39;00m\u001b[38;5;28mlen\u001b[39m(valid_decoded_mols)\u001b[38;5;132;01m}\u001b[39;00m\u001b[38;5;124m/\u001b[39m\u001b[38;5;132;01m{\u001b[39;00mn_trials\u001b[38;5;132;01m}\u001b[39;00m\u001b[38;5;124m\"\u001b[39m)\n",
      "File \u001b[0;32m~/Desktop/Postech/U_of_T/Coding/Internship Project/molecular-vae/NewMoses/notebooks/../moses/vae_property/model.py:277\u001b[0m, in \u001b[0;36mVAEPROPERTY.sample\u001b[0;34m(self, n_batch, max_len, z, temp)\u001b[0m\n\u001b[1;32m    274\u001b[0m x_emb \u001b[38;5;241m=\u001b[39m \u001b[38;5;28mself\u001b[39m\u001b[38;5;241m.\u001b[39mx_emb(w)\u001b[38;5;241m.\u001b[39munsqueeze(\u001b[38;5;241m1\u001b[39m)\n\u001b[1;32m    275\u001b[0m x_input \u001b[38;5;241m=\u001b[39m torch\u001b[38;5;241m.\u001b[39mcat([x_emb, z_0], dim\u001b[38;5;241m=\u001b[39m\u001b[38;5;241m-\u001b[39m\u001b[38;5;241m1\u001b[39m)\n\u001b[0;32m--> 277\u001b[0m o, h \u001b[38;5;241m=\u001b[39m \u001b[38;5;28;43mself\u001b[39;49m\u001b[38;5;241;43m.\u001b[39;49m\u001b[43mdecoder_rnn\u001b[49m\u001b[43m(\u001b[49m\u001b[43mx_input\u001b[49m\u001b[43m,\u001b[49m\u001b[43m \u001b[49m\u001b[43mh\u001b[49m\u001b[43m)\u001b[49m\n\u001b[1;32m    278\u001b[0m y \u001b[38;5;241m=\u001b[39m \u001b[38;5;28mself\u001b[39m\u001b[38;5;241m.\u001b[39mdecoder_fc(o\u001b[38;5;241m.\u001b[39msqueeze(\u001b[38;5;241m1\u001b[39m))\n\u001b[1;32m    279\u001b[0m y \u001b[38;5;241m=\u001b[39m F\u001b[38;5;241m.\u001b[39msoftmax(y \u001b[38;5;241m/\u001b[39m temp, dim\u001b[38;5;241m=\u001b[39m\u001b[38;5;241m-\u001b[39m\u001b[38;5;241m1\u001b[39m)\n",
      "File \u001b[0;32m~/miniconda3/envs/moses/lib/python3.8/site-packages/torch/nn/modules/module.py:1130\u001b[0m, in \u001b[0;36mModule._call_impl\u001b[0;34m(self, *input, **kwargs)\u001b[0m\n\u001b[1;32m   1126\u001b[0m \u001b[38;5;66;03m# If we don't have any hooks, we want to skip the rest of the logic in\u001b[39;00m\n\u001b[1;32m   1127\u001b[0m \u001b[38;5;66;03m# this function, and just call forward.\u001b[39;00m\n\u001b[1;32m   1128\u001b[0m \u001b[38;5;28;01mif\u001b[39;00m \u001b[38;5;129;01mnot\u001b[39;00m (\u001b[38;5;28mself\u001b[39m\u001b[38;5;241m.\u001b[39m_backward_hooks \u001b[38;5;129;01mor\u001b[39;00m \u001b[38;5;28mself\u001b[39m\u001b[38;5;241m.\u001b[39m_forward_hooks \u001b[38;5;129;01mor\u001b[39;00m \u001b[38;5;28mself\u001b[39m\u001b[38;5;241m.\u001b[39m_forward_pre_hooks \u001b[38;5;129;01mor\u001b[39;00m _global_backward_hooks\n\u001b[1;32m   1129\u001b[0m         \u001b[38;5;129;01mor\u001b[39;00m _global_forward_hooks \u001b[38;5;129;01mor\u001b[39;00m _global_forward_pre_hooks):\n\u001b[0;32m-> 1130\u001b[0m     \u001b[38;5;28;01mreturn\u001b[39;00m \u001b[43mforward_call\u001b[49m\u001b[43m(\u001b[49m\u001b[38;5;241;43m*\u001b[39;49m\u001b[38;5;28;43minput\u001b[39;49m\u001b[43m,\u001b[49m\u001b[43m \u001b[49m\u001b[38;5;241;43m*\u001b[39;49m\u001b[38;5;241;43m*\u001b[39;49m\u001b[43mkwargs\u001b[49m\u001b[43m)\u001b[49m\n\u001b[1;32m   1131\u001b[0m \u001b[38;5;66;03m# Do not call functions when jit is used\u001b[39;00m\n\u001b[1;32m   1132\u001b[0m full_backward_hooks, non_full_backward_hooks \u001b[38;5;241m=\u001b[39m [], []\n",
      "File \u001b[0;32m~/miniconda3/envs/moses/lib/python3.8/site-packages/torch/nn/modules/rnn.py:950\u001b[0m, in \u001b[0;36mGRU.forward\u001b[0;34m(self, input, hx)\u001b[0m\n\u001b[1;32m    948\u001b[0m \u001b[38;5;28mself\u001b[39m\u001b[38;5;241m.\u001b[39mcheck_forward_args(\u001b[38;5;28minput\u001b[39m, hx, batch_sizes)\n\u001b[1;32m    949\u001b[0m \u001b[38;5;28;01mif\u001b[39;00m batch_sizes \u001b[38;5;129;01mis\u001b[39;00m \u001b[38;5;28;01mNone\u001b[39;00m:\n\u001b[0;32m--> 950\u001b[0m     result \u001b[38;5;241m=\u001b[39m \u001b[43m_VF\u001b[49m\u001b[38;5;241;43m.\u001b[39;49m\u001b[43mgru\u001b[49m\u001b[43m(\u001b[49m\u001b[38;5;28;43minput\u001b[39;49m\u001b[43m,\u001b[49m\u001b[43m \u001b[49m\u001b[43mhx\u001b[49m\u001b[43m,\u001b[49m\u001b[43m \u001b[49m\u001b[38;5;28;43mself\u001b[39;49m\u001b[38;5;241;43m.\u001b[39;49m\u001b[43m_flat_weights\u001b[49m\u001b[43m,\u001b[49m\u001b[43m \u001b[49m\u001b[38;5;28;43mself\u001b[39;49m\u001b[38;5;241;43m.\u001b[39;49m\u001b[43mbias\u001b[49m\u001b[43m,\u001b[49m\u001b[43m \u001b[49m\u001b[38;5;28;43mself\u001b[39;49m\u001b[38;5;241;43m.\u001b[39;49m\u001b[43mnum_layers\u001b[49m\u001b[43m,\u001b[49m\n\u001b[1;32m    951\u001b[0m \u001b[43m                     \u001b[49m\u001b[38;5;28;43mself\u001b[39;49m\u001b[38;5;241;43m.\u001b[39;49m\u001b[43mdropout\u001b[49m\u001b[43m,\u001b[49m\u001b[43m \u001b[49m\u001b[38;5;28;43mself\u001b[39;49m\u001b[38;5;241;43m.\u001b[39;49m\u001b[43mtraining\u001b[49m\u001b[43m,\u001b[49m\u001b[43m \u001b[49m\u001b[38;5;28;43mself\u001b[39;49m\u001b[38;5;241;43m.\u001b[39;49m\u001b[43mbidirectional\u001b[49m\u001b[43m,\u001b[49m\u001b[43m \u001b[49m\u001b[38;5;28;43mself\u001b[39;49m\u001b[38;5;241;43m.\u001b[39;49m\u001b[43mbatch_first\u001b[49m\u001b[43m)\u001b[49m\n\u001b[1;32m    952\u001b[0m \u001b[38;5;28;01melse\u001b[39;00m:\n\u001b[1;32m    953\u001b[0m     result \u001b[38;5;241m=\u001b[39m _VF\u001b[38;5;241m.\u001b[39mgru(\u001b[38;5;28minput\u001b[39m, batch_sizes, hx, \u001b[38;5;28mself\u001b[39m\u001b[38;5;241m.\u001b[39m_flat_weights, \u001b[38;5;28mself\u001b[39m\u001b[38;5;241m.\u001b[39mbias,\n\u001b[1;32m    954\u001b[0m                      \u001b[38;5;28mself\u001b[39m\u001b[38;5;241m.\u001b[39mnum_layers, \u001b[38;5;28mself\u001b[39m\u001b[38;5;241m.\u001b[39mdropout, \u001b[38;5;28mself\u001b[39m\u001b[38;5;241m.\u001b[39mtraining, \u001b[38;5;28mself\u001b[39m\u001b[38;5;241m.\u001b[39mbidirectional)\n",
      "\u001b[0;31mKeyboardInterrupt\u001b[0m: "
     ]
    },
    {
     "data": {
      "text/plain": [
       "<Figure size 1000x1000 with 0 Axes>"
      ]
     },
     "metadata": {},
     "output_type": "display_data"
    }
   ],
   "source": [
    "ranges_list = [(10,10), (20,20), (30,30)]\n",
    "\n",
    "temp_list = [0.01, 0.1, 1]\n",
    "\n",
    "experiments = list(product(ranges_list, temp_list))\n",
    "\n",
    "v1 = np.ones(config.d_z)\n",
    "v1 = v1/np.linalg.norm(v1) # 1/sqrt(128)*np.ones(128)\n",
    "\n",
    "v2 = np.array([1 if i < config.d_z//2 else -1 for i in range(config.d_z)])\n",
    "v2 = v2/np.linalg.norm(v2) # 1/sqrt(128)*[1,1,1,1,1...,-1(65th coord),-1,-1,-1,-1... -1]\n",
    "\n",
    "save_folder_path = \"figures/two_other_orthogonal_basis\"\n",
    "\n",
    "for i, (ranges, temp) in enumerate(experiments):\n",
    "    print(f\"------------- Experiment {i} -------------\")\n",
    "    \n",
    "    grid = sample_latent_space(test_mol[\"mu\"][0], model, ranges=ranges, temp=temp, n_trials=1000, n_grid=10, orthogonal_vec=(v1,v2),\n",
    "                               prop_save_name=f\"{save_folder_path}/test_mol_prop_{i}.csv\", props=\"logP\",\n",
    "                               save_name=f\"{save_folder_path}/test_mol_{i}.csv\")\n",
    "    plot_freq_mols(grid, save_name=f\"{save_folder_path}/test_mol_{i}.png\")"
   ]
  },
  {
   "cell_type": "code",
   "execution_count": null,
   "metadata": {},
   "outputs": [],
   "source": []
  }
 ],
 "metadata": {
  "kernelspec": {
   "display_name": "moses",
   "language": "python",
   "name": "python3"
  },
  "language_info": {
   "codemirror_mode": {
    "name": "ipython",
    "version": 3
   },
   "file_extension": ".py",
   "mimetype": "text/x-python",
   "name": "python",
   "nbconvert_exporter": "python",
   "pygments_lexer": "ipython3",
   "version": "3.8.19"
  }
 },
 "nbformat": 4,
 "nbformat_minor": 2
}
