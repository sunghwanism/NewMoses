{
 "cells": [
  {
   "cell_type": "code",
   "execution_count": null,
   "metadata": {},
   "outputs": [],
   "source": [
    "import numpy as np\n",
    "import pandas as pd\n",
    "import torch\n",
    "from rdkit import Chem\n",
    "from rdkit.Chem import PandasTools\n",
    "import zipfile\n",
    "from io import BytesIO\n",
    "\n",
    "import selfies as sf\n",
    "\n",
    "import sys\n",
    "sys.path.append(\"..\")\n",
    "import moses\n",
    "from moses.vae import VAE\n",
    "from moses.vae_property import VAEPROPERTY\n",
    "from moses.utils import CharVocab, StringDataset, SELFIESVocab\n",
    "from moses.vae.trainer import VAETrainer\n",
    "from moses.vae_property.trainer import VAEPROPERTYTrainer \n",
    "\n",
    "from moses.metrics import QED, SA, logP\n",
    "from moses.utils import get_mol\n",
    "\n",
    "from sklearn.decomposition import PCA\n",
    "from sklearn.preprocessing import MinMaxScaler, StandardScaler\n",
    "import matplotlib.pyplot as plt\n",
    "from sklearn.manifold import TSNE"
   ]
  },
  {
   "cell_type": "code",
   "execution_count": null,
   "metadata": {},
   "outputs": [],
   "source": [
    "folder_path = \"../checkpoints/ZINC_vae_property_20240606_025246\"\n",
    "config = torch.load(f'{folder_path}/vae_property_config.pt')\n",
    "vocab = torch.load(f'{folder_path}/vae_property_vocab.pt')\n",
    "\n",
    "print(f\"Use Selfies: {config.use_selfies}\")"
   ]
  },
  {
   "cell_type": "code",
   "execution_count": null,
   "metadata": {},
   "outputs": [],
   "source": [
    "fig, axes = plt.subplots(1, 5, figsize=(20, 4))\n",
    "\n",
    "for i, epoch in enumerate(['00', 20, 40, 60, 80]):\n",
    "# for i, epoch in enumerate(['00', 20, 40]):\n",
    "    \n",
    "    model_path = f'{folder_path}/vae_property_model_0{epoch}.pt'\n",
    "\n",
    "    train_data = moses.get_dataset('train', config)[:50000]\n",
    "    \n",
    "    model = VAEPROPERTY(vocab, config)\n",
    "    model.load_state_dict(torch.load(model_path))\n",
    "    \n",
    "    trainer = VAEPROPERTYTrainer(config)\n",
    "    sample_loader = trainer.get_dataloader(model, train_data, shuffle=False)\n",
    "    \n",
    "    \n",
    "    model.eval()\n",
    "\n",
    "    z_list = []\n",
    "    y_list = []\n",
    "    for step, batch in enumerate(sample_loader):\n",
    "        if len(batch[0]) == config.n_batch:\n",
    "            input_batch = tuple(data.to(model.device) for data in batch[0])\n",
    "            y = batch[1]\n",
    "            mu, z, kl_loss = model.forward_encoder(input_batch)\n",
    "            z = mu.detach().cpu().numpy()\n",
    "            z_list.extend(z)\n",
    "            y_list.append(np.array(y).squeeze())\n",
    "\n",
    "    z_list = np.array(z_list).squeeze()\n",
    "    y_list = np.array(y_list)\n",
    "    y_list = y_list.squeeze()\n",
    "    \n",
    "    \n",
    "    # z_viz = TSNE(n_components=2).fit_transform(z_list)\n",
    "\n",
    "    viz = PCA(n_components=2)\n",
    "    z_viz = viz.fit_transform(z_list)\n",
    "    explained_variance = viz.explained_variance_ratio_\n",
    "    print(f\"(Epoch {epoch})Explained variance: {explained_variance}\")\n",
    "\n",
    "\n",
    "    # print(z_viz.shape)\n",
    "    z_viz = MinMaxScaler().fit_transform(z_viz)\n",
    "\n",
    "    scatter = axes[i].scatter(z_viz[:,0], z_viz[:,1], c=y_list, cmap='viridis', marker='.', s=10, alpha=0.5, edgecolors='none')\n",
    "    axes[i].set_title(f'Epoch {epoch}')\n",
    "    axes[i].set_xlabel('PC1')\n",
    "    axes[i].set_ylabel('PC2')\n",
    "    # axes[i].text(0.75, 0.2, f\"Explained (PC1): {round(explained_variance[0],2)}\", transform=axes[i].transAxes)\n",
    "    # axes[i].text(0.75, 0.1, f\"Explained (PC2): {round(explained_variance[1],2)}\", transform=axes[i].transAxes)\n",
    "    fig.colorbar(scatter, ax=axes[i])\n",
    "    \n",
    "plt.tight_layout()\n",
    "plt.show()"
   ]
  },
  {
   "cell_type": "code",
   "execution_count": null,
   "metadata": {},
   "outputs": [],
   "source": []
  },
  {
   "cell_type": "code",
   "execution_count": null,
   "metadata": {},
   "outputs": [],
   "source": []
  },
  {
   "cell_type": "code",
   "execution_count": null,
   "metadata": {},
   "outputs": [],
   "source": []
  }
 ],
 "metadata": {
  "kernelspec": {
   "display_name": "moses",
   "language": "python",
   "name": "python3"
  },
  "language_info": {
   "codemirror_mode": {
    "name": "ipython",
    "version": 3
   },
   "file_extension": ".py",
   "mimetype": "text/x-python",
   "name": "python",
   "nbconvert_exporter": "python",
   "pygments_lexer": "ipython3",
   "version": "3.8.19"
  }
 },
 "nbformat": 4,
 "nbformat_minor": 2
}
