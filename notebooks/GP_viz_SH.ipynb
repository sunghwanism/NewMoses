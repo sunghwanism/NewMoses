{
 "cells": [
  {
   "cell_type": "code",
   "execution_count": null,
   "metadata": {},
   "outputs": [],
   "source": [
    "import numpy as np\n",
    "import torch\n",
    "from torch.optim import Adam\n",
    "from sklearn.gaussian_process import GaussianProcessRegressor\n",
    "\n",
    "import sys\n",
    "sys.path.append(\"..\")\n",
    "import moses\n",
    "from moses.vae import VAE\n",
    "from moses.vae_property import VAEPROPERTY\n",
    "from moses.utils import CharVocab, StringDataset, SELFIESVocab\n",
    "from moses.vae.trainer import VAETrainer\n",
    "from moses.vae_property.trainer import VAEPROPERTYTrainer \n",
    "from tqdm import tqdm\n",
    "\n",
    "\n",
    "import numpy as np\n",
    "import pandas as pd\n",
    "import torch\n",
    "from rdkit import Chem\n",
    "from rdkit.Chem import PandasTools\n",
    "import zipfile\n",
    "from io import BytesIO\n",
    "\n",
    "import selfies as sf"
   ]
  },
  {
   "cell_type": "markdown",
   "metadata": {},
   "source": [
    "### Try out with molecules"
   ]
  },
  {
   "cell_type": "code",
   "execution_count": null,
   "metadata": {},
   "outputs": [],
   "source": [
    "train_df = pd.read_csv(\"../moses/dataset/data/ZINC/train.csv\")\n",
    "train_df.head(3)"
   ]
  },
  {
   "cell_type": "code",
   "execution_count": null,
   "metadata": {},
   "outputs": [],
   "source": [
    "train_df = train_df[:50000]"
   ]
  },
  {
   "cell_type": "code",
   "execution_count": null,
   "metadata": {},
   "outputs": [],
   "source": [
    "folder_path = \"../checkpoints/ZINC_vae_property_20240605_152402\"\n",
    "config = torch.load(f'{folder_path}/vae_property_config.pt')\n",
    "vocab = torch.load(f'{folder_path}/vae_property_vocab.pt')\n",
    "\n",
    "print(f\"Use Selfies: {config.use_selfies}\")"
   ]
  },
  {
   "cell_type": "code",
   "execution_count": null,
   "metadata": {},
   "outputs": [],
   "source": [
    "config.reg_prop_tasks"
   ]
  },
  {
   "cell_type": "code",
   "execution_count": null,
   "metadata": {},
   "outputs": [],
   "source": [
    "model_path = f'{folder_path}/vae_property_model_080.pt'\n",
    "\n",
    "train_data = moses.get_dataset('train', config)[:50000]\n",
    "\n",
    "model = VAEPROPERTY(vocab, config)\n",
    "model.load_state_dict(torch.load(model_path))\n",
    "\n",
    "trainer = VAEPROPERTYTrainer(config)\n",
    "sample_loader = trainer.get_dataloader(model, train_data, shuffle=False)"
   ]
  },
  {
   "cell_type": "code",
   "execution_count": null,
   "metadata": {},
   "outputs": [],
   "source": [
    "model.eval()\n",
    "\n",
    "z_list = []\n",
    "y_list = []\n",
    "\n",
    "for step, batch in enumerate(sample_loader):\n",
    "    if len(batch[0]) == config.n_batch:\n",
    "        input_batch = tuple(data.to(model.device) for data in batch[0])\n",
    "        y1 = np.array(train_df.iloc[step*config.n_batch:(step+1)*config.n_batch].SAS)\n",
    "        y2 = np.array(train_df.iloc[step*config.n_batch:(step+1)*config.n_batch].qed)\n",
    "        y = 5*y2 + y1\n",
    "        mu, z, kl_loss = model.forward_encoder(input_batch)\n",
    "        z = mu.detach().cpu().numpy()\n",
    "        z_list.extend(z)\n",
    "        y_list.extend(y)\n",
    "\n",
    "z_list = np.array(z_list).squeeze()\n",
    "y_list = np.array(y_list)\n",
    "# y_list = y_list.squeeze()"
   ]
  },
  {
   "cell_type": "code",
   "execution_count": null,
   "metadata": {},
   "outputs": [],
   "source": [
    "print(z_list.shape)\n",
    "print(y_list.shape)"
   ]
  },
  {
   "cell_type": "code",
   "execution_count": null,
   "metadata": {},
   "outputs": [],
   "source": [
    "#def f(x):\n",
    "#    # 임의의 함수 예시 (사용자가 원하는 함수로 대체)\n",
    "#    return -np.sum((x - 2)**2)\n",
    "\n",
    "# Numerical gradient 계산 함수\n",
    "def numerical_gradient(f, clf, x, epsilon=1e-8):\n",
    "    grad = np.zeros_like(x)\n",
    "    x_plus = x.copy()\n",
    "    x_minus = x.copy()\n",
    "    x_plus += epsilon\n",
    "    x_minus -= epsilon\n",
    "    \n",
    "    grad = (f(x_plus.reshape(1,-1), clf) - f(x_minus.reshape(1,-1), clf)) / (2 * epsilon)\n",
    "    return grad\n",
    "\n",
    "# Adam Optimizer for Gradient Ascent\n",
    "def adam_gradient_ascent(f, clf, initial_x, learning_rate=0.01, max_iter=1000, tolerance=1e-9, beta1=0.9, beta2=0.999, epsilon=1e-8):\n",
    "    x = initial_x\n",
    "    m = np.zeros_like(x)  # Initialize the first moment vector\n",
    "    v = np.zeros_like(x)  # Initialize the second moment vector\n",
    "    t = 0  # Initialize timestep\n",
    "\n",
    "    for i in range(max_iter):\n",
    "        t += 1\n",
    "        grad = numerical_gradient(f, clf, x)\n",
    "        \n",
    "        m = beta1 * m + (1 - beta1) * grad  # Update biased first moment estimate\n",
    "        v = beta2 * v + (1 - beta2) * (grad ** 2)  # Update biased second moment estimate\n",
    "\n",
    "        m_hat = m / (1 - beta1 ** t)  # Compute bias-corrected first moment estimate\n",
    "        v_hat = v / (1 - beta2 ** t)  # Compute bias-corrected second moment estimate\n",
    "\n",
    "        new_x = x + learning_rate * m_hat / (np.sqrt(v_hat) + epsilon)  # Update the parameters\n",
    "        \n",
    "        # 수렴 조건 체크\n",
    "        if np.linalg.norm(new_x - x) < tolerance:\n",
    "            break\n",
    "        x = new_x\n",
    "       # print(f\"Iteration {i+1}: x = {x}, f(x) = {f(x)}\")\n",
    "    \n",
    "    return x"
   ]
  },
  {
   "cell_type": "code",
   "execution_count": null,
   "metadata": {},
   "outputs": [],
   "source": [
    "GP_train_X = z_list[:1000]\n",
    "GP_train_y = y_list[:1000]"
   ]
  },
  {
   "cell_type": "code",
   "execution_count": null,
   "metadata": {},
   "outputs": [],
   "source": [
    "rest_z = z_list[1000:1020]\n",
    "rest_y = y_list[1000:1020]"
   ]
  },
  {
   "cell_type": "code",
   "execution_count": null,
   "metadata": {},
   "outputs": [],
   "source": [
    "clf = GaussianProcessRegressor(random_state=42)\n",
    "clf.fit(GP_train_X, GP_train_y)"
   ]
  },
  {
   "cell_type": "code",
   "execution_count": null,
   "metadata": {},
   "outputs": [],
   "source": [
    "print(f\"R2 Score: {clf.score(rest_z, rest_y)}\")\n",
    "print(f\"R2 Score: {clf.score(GP_train_X, GP_train_y)}\")"
   ]
  },
  {
   "cell_type": "code",
   "execution_count": null,
   "metadata": {},
   "outputs": [],
   "source": [
    "def f(x, gaussian):\n",
    "    pred_mean = gaussian.predict(x)[0]\n",
    "\n",
    "    return pred_mean"
   ]
  },
  {
   "cell_type": "code",
   "execution_count": null,
   "metadata": {},
   "outputs": [],
   "source": [
    "rest_z.shape"
   ]
  },
  {
   "cell_type": "code",
   "execution_count": null,
   "metadata": {},
   "outputs": [],
   "source": [
    "optimal_z_list = []\n",
    "\n",
    "# Adam Gradient Ascent 수행\n",
    "for z in tqdm(rest_z):\n",
    "    initial_point = np.array(z)\n",
    "    optimal_z = adam_gradient_ascent(f, clf, initial_point)\n",
    "    optimal_z_list.append(optimal_z)"
   ]
  },
  {
   "cell_type": "code",
   "execution_count": null,
   "metadata": {},
   "outputs": [],
   "source": [
    "np.array(optimal_z_list).shape"
   ]
  },
  {
   "cell_type": "code",
   "execution_count": null,
   "metadata": {},
   "outputs": [],
   "source": [
    "optimal_z_list = torch.tensor(optimal_z_list).float()"
   ]
  },
  {
   "cell_type": "code",
   "execution_count": null,
   "metadata": {},
   "outputs": [],
   "source": [
    "gen_molecule = model.sample(n_batch=len(optimal_z_list), z=optimal_z_list, temp=1.0)"
   ]
  },
  {
   "cell_type": "code",
   "execution_count": null,
   "metadata": {},
   "outputs": [],
   "source": [
    "gen_molecule"
   ]
  },
  {
   "cell_type": "code",
   "execution_count": null,
   "metadata": {},
   "outputs": [],
   "source": [
    "if config.use_selfies:\n",
    "    \n",
    "    viz_df = pd.DataFrame({\"SELFIES\": gen_molecule})\n",
    "\n",
    "    smiles = []\n",
    "    for selfies in viz_df['SELFIES']:\n",
    "        smiles.append(sf.decoder(selfies))\n",
    "\n",
    "    viz_df['RoMol'] = smiles\n",
    "    viz_df['RoMol'] = viz_df['RoMol'].apply(Chem.MolFromSmiles)\n",
    "    display(PandasTools.FrameToGridImage(viz_df, column='RoMol', legendsCol='SELFIES', molsPerRow=4))\n",
    "else:\n",
    "    viz_df = pd.DataFrame({\"SMILES\": gen_molecule})\n",
    "    viz_df['RoMol'] = viz_df['SMILES'].apply(Chem.MolFromSmiles)\n",
    "    display(PandasTools.FrameToGridImage(viz_df, column='RoMol', legendsCol='SMILES', molsPerRow=4))"
   ]
  },
  {
   "cell_type": "code",
   "execution_count": null,
   "metadata": {},
   "outputs": [],
   "source": []
  },
  {
   "cell_type": "code",
   "execution_count": null,
   "metadata": {},
   "outputs": [],
   "source": []
  }
 ],
 "metadata": {
  "kernelspec": {
   "display_name": "LG_newmoses",
   "language": "python",
   "name": "python3"
  },
  "language_info": {
   "codemirror_mode": {
    "name": "ipython",
    "version": 3
   },
   "file_extension": ".py",
   "mimetype": "text/x-python",
   "name": "python",
   "nbconvert_exporter": "python",
   "pygments_lexer": "ipython3",
   "version": "3.8.19"
  }
 },
 "nbformat": 4,
 "nbformat_minor": 2
}
