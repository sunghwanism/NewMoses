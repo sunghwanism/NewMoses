{
 "cells": [
  {
   "cell_type": "code",
   "execution_count": null,
   "metadata": {},
   "outputs": [],
   "source": [
    "import sys\n",
    "sys.path.append('..')\n",
    "import moses"
   ]
  },
  {
   "cell_type": "code",
   "execution_count": null,
   "metadata": {},
   "outputs": [],
   "source": [
    "from torch.utils.data import DataLoader\n",
    "from moses import CharVocab, StringDataset\n",
    "\n",
    "train = moses.get_dataset('train')\n",
    "vocab = CharVocab.from_data(train)\n",
    "train_dataset = StringDataset(vocab, train)\n",
    "train_dataloader = DataLoader(\n",
    "    train_dataset, batch_size=512,\n",
    "    shuffle=True, collate_fn=train_dataset.default_collate\n",
    ")\n",
    "\n",
    "for with_bos, with_eos, lengths in train_dataloader:\n",
    "    bos, eos, lens = with_bos, with_eos, lengths\n",
    "    break"
   ]
  },
  {
   "cell_type": "code",
   "execution_count": null,
   "metadata": {},
   "outputs": [],
   "source": [
    "bos.shape, eos.shape, lens"
   ]
  }
 ],
 "metadata": {
  "kernelspec": {
   "display_name": "torch",
   "language": "python",
   "name": "python3"
  },
  "language_info": {
   "codemirror_mode": {
    "name": "ipython",
    "version": 3
   },
   "file_extension": ".py",
   "mimetype": "text/x-python",
   "name": "python",
   "nbconvert_exporter": "python",
   "pygments_lexer": "ipython3",
   "version": "3.9.15"
  }
 },
 "nbformat": 4,
 "nbformat_minor": 2
}
