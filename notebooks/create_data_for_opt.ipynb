{
 "cells": [
  {
   "cell_type": "code",
   "execution_count": 1,
   "metadata": {},
   "outputs": [],
   "source": [
    "import pandas as pd\n",
    "import numpy as np\n",
    "import matplotlib.pyplot as plt\n",
    "\n",
    "import zipfile\n",
    "from io import BytesIO\n"
   ]
  },
  {
   "cell_type": "code",
   "execution_count": 2,
   "metadata": {},
   "outputs": [
    {
     "name": "stdout",
     "output_type": "stream",
     "text": [
      "data size: 1584663\n"
     ]
    },
    {
     "data": {
      "text/plain": [
       "((1584663, 6),\n",
       "                                    SMILES  \\\n",
       " 0  CCCS(=O)c1ccc2[nH]c(=NC(=O)OC)[nH]c2c1   \n",
       " 1    CC(C)(C)C(=O)C(Oc1ccc(Cl)cc1)n1ccnc1   \n",
       " 2     Cc1c(Cl)cccc1Nc1ncccc1C(=O)OCC(O)CO   \n",
       " 3        Cn1cnc2c1c(=O)n(CC(O)CO)c(=O)n2C   \n",
       " 4          CC1Oc2ccc(Cl)cc2N(CC(O)CO)C1=O   \n",
       " \n",
       "                                              SELFIES     logP       qed  \\\n",
       " 0  [C][C][C][S][=Branch1][C][=O][C][=C][C][=C][NH...  1.68070  0.896898   \n",
       " 1  [C][C][Branch1][C][C][Branch1][C][C][C][=Branc...  3.72930  0.862259   \n",
       " 2  [C][C][=C][Branch1][C][Cl][C][=C][C][=C][Ring1...  2.29702  0.701022   \n",
       " 3  [C][N][C][=N][C][=C][Ring1][Branch1][C][=Branc... -2.21310  0.646083   \n",
       " 4  [C][C][O][C][=C][C][=C][Branch1][C][Cl][C][=C]...  0.80710  0.853457   \n",
       " \n",
       "         SAS  objective  \n",
       " 0  3.812618   0.671873  \n",
       " 1  2.936327   1.374970  \n",
       " 2  2.663795   0.841316  \n",
       " 3  2.989161   0.241255  \n",
       " 4  3.055750   1.211533  )"
      ]
     },
     "execution_count": 2,
     "metadata": {},
     "output_type": "execute_result"
    }
   ],
   "source": [
    "file_path = '../moses/dataset/data/ZINC/train.zip'\n",
    "with zipfile.ZipFile(file_path, 'r') as zip_ref:    \n",
    "        file = 'train.csv'\n",
    "        with zip_ref.open(file) as file:\n",
    "            # Read the CSV file into a pandas DataFrame\n",
    "            df= pd.read_csv(BytesIO(file.read()), header=0)\n",
    "\n",
    "df['objective'] = 5*df['qed'] - df['SAS']\n",
    "\n",
    "print(f'data size: {df.shape[0]}')\n",
    "df.shape, df.head()\n"
   ]
  },
  {
   "cell_type": "code",
   "execution_count": 4,
   "metadata": {},
   "outputs": [],
   "source": [
    "save_path = '../checkpoints/optimize_gpr/'"
   ]
  },
  {
   "cell_type": "code",
   "execution_count": 5,
   "metadata": {},
   "outputs": [
    {
     "name": "stdout",
     "output_type": "stream",
     "text": [
      "data size: 2000\n"
     ]
    },
    {
     "data": {
      "text/html": [
       "<div>\n",
       "<style scoped>\n",
       "    .dataframe tbody tr th:only-of-type {\n",
       "        vertical-align: middle;\n",
       "    }\n",
       "\n",
       "    .dataframe tbody tr th {\n",
       "        vertical-align: top;\n",
       "    }\n",
       "\n",
       "    .dataframe thead th {\n",
       "        text-align: right;\n",
       "    }\n",
       "</style>\n",
       "<table border=\"1\" class=\"dataframe\">\n",
       "  <thead>\n",
       "    <tr style=\"text-align: right;\">\n",
       "      <th></th>\n",
       "      <th>SMILES</th>\n",
       "      <th>SELFIES</th>\n",
       "      <th>logP</th>\n",
       "      <th>qed</th>\n",
       "      <th>SAS</th>\n",
       "      <th>objective</th>\n",
       "    </tr>\n",
       "  </thead>\n",
       "  <tbody>\n",
       "    <tr>\n",
       "      <th>1484353</th>\n",
       "      <td>COCCCCSc1nc2c(c(=O)[nH]1)CCC2</td>\n",
       "      <td>[C][O][C][C][C][C][S][C][=N][C][=C][Branch1][B...</td>\n",
       "      <td>1.77730</td>\n",
       "      <td>0.477440</td>\n",
       "      <td>2.629071</td>\n",
       "      <td>-0.241872</td>\n",
       "    </tr>\n",
       "    <tr>\n",
       "      <th>687287</th>\n",
       "      <td>Cc1csc(=O)n1CC(=O)NCCc1ccccc1Cl</td>\n",
       "      <td>[C][C][=C][S][C][=Branch1][C][=O][N][Ring1][=B...</td>\n",
       "      <td>2.23052</td>\n",
       "      <td>0.920477</td>\n",
       "      <td>2.108029</td>\n",
       "      <td>2.494356</td>\n",
       "    </tr>\n",
       "    <tr>\n",
       "      <th>1219398</th>\n",
       "      <td>Cc1cccc(NC(=O)N(CCC#N)Cc2ccccn2)c1C</td>\n",
       "      <td>[C][C][=C][C][=C][C][Branch2][Ring1][=Branch1]...</td>\n",
       "      <td>3.64622</td>\n",
       "      <td>0.916358</td>\n",
       "      <td>2.182469</td>\n",
       "      <td>2.399320</td>\n",
       "    </tr>\n",
       "    <tr>\n",
       "      <th>189502</th>\n",
       "      <td>Cc1ccc(C2=CCN(C(=O)c3ccc[nH]c3=O)CC2)cc1</td>\n",
       "      <td>[C][C][=C][C][=C][Branch2][Ring1][Branch2][C][...</td>\n",
       "      <td>2.61282</td>\n",
       "      <td>0.925364</td>\n",
       "      <td>2.260791</td>\n",
       "      <td>2.366030</td>\n",
       "    </tr>\n",
       "    <tr>\n",
       "      <th>1105259</th>\n",
       "      <td>Cn1c(-c2cccc(N)c2)nc2ccc(F)c(F)c21</td>\n",
       "      <td>[C][N][C][Branch1][N][C][=C][C][=C][C][Branch1...</td>\n",
       "      <td>3.10070</td>\n",
       "      <td>0.682311</td>\n",
       "      <td>2.308511</td>\n",
       "      <td>1.103043</td>\n",
       "    </tr>\n",
       "  </tbody>\n",
       "</table>\n",
       "</div>"
      ],
      "text/plain": [
       "                                           SMILES  \\\n",
       "1484353             COCCCCSc1nc2c(c(=O)[nH]1)CCC2   \n",
       "687287            Cc1csc(=O)n1CC(=O)NCCc1ccccc1Cl   \n",
       "1219398       Cc1cccc(NC(=O)N(CCC#N)Cc2ccccn2)c1C   \n",
       "189502   Cc1ccc(C2=CCN(C(=O)c3ccc[nH]c3=O)CC2)cc1   \n",
       "1105259        Cn1c(-c2cccc(N)c2)nc2ccc(F)c(F)c21   \n",
       "\n",
       "                                                   SELFIES     logP       qed  \\\n",
       "1484353  [C][O][C][C][C][C][S][C][=N][C][=C][Branch1][B...  1.77730  0.477440   \n",
       "687287   [C][C][=C][S][C][=Branch1][C][=O][N][Ring1][=B...  2.23052  0.920477   \n",
       "1219398  [C][C][=C][C][=C][C][Branch2][Ring1][=Branch1]...  3.64622  0.916358   \n",
       "189502   [C][C][=C][C][=C][Branch2][Ring1][Branch2][C][...  2.61282  0.925364   \n",
       "1105259  [C][N][C][Branch1][N][C][=C][C][=C][C][Branch1...  3.10070  0.682311   \n",
       "\n",
       "              SAS  objective  \n",
       "1484353  2.629071  -0.241872  \n",
       "687287   2.108029   2.494356  \n",
       "1219398  2.182469   2.399320  \n",
       "189502   2.260791   2.366030  \n",
       "1105259  2.308511   1.103043  "
      ]
     },
     "execution_count": 5,
     "metadata": {},
     "output_type": "execute_result"
    }
   ],
   "source": [
    "## create dataframe with data for GPR fitting (training)\n",
    "size = 2000\n",
    "np.random.seed(0)\n",
    "rand_indices = np.random.choice(len(df), size, replace=False)\n",
    "gpr_fit_df = df.iloc[rand_indices]\n",
    "gpr_fit_df.to_csv(f'{save_path}gpr_fit_df.csv', index=False)\n",
    "\n",
    "print(f'data size: {gpr_fit_df.shape[0]}')\n",
    "gpr_fit_df.head()"
   ]
  },
  {
   "cell_type": "code",
   "execution_count": 8,
   "metadata": {},
   "outputs": [
    {
     "name": "stdout",
     "output_type": "stream",
     "text": [
      "data size: 5\n"
     ]
    },
    {
     "data": {
      "text/html": [
       "<div>\n",
       "<style scoped>\n",
       "    .dataframe tbody tr th:only-of-type {\n",
       "        vertical-align: middle;\n",
       "    }\n",
       "\n",
       "    .dataframe tbody tr th {\n",
       "        vertical-align: top;\n",
       "    }\n",
       "\n",
       "    .dataframe thead th {\n",
       "        text-align: right;\n",
       "    }\n",
       "</style>\n",
       "<table border=\"1\" class=\"dataframe\">\n",
       "  <thead>\n",
       "    <tr style=\"text-align: right;\">\n",
       "      <th></th>\n",
       "      <th>SMILES</th>\n",
       "      <th>SELFIES</th>\n",
       "      <th>logP</th>\n",
       "      <th>qed</th>\n",
       "      <th>SAS</th>\n",
       "      <th>objective</th>\n",
       "    </tr>\n",
       "  </thead>\n",
       "  <tbody>\n",
       "    <tr>\n",
       "      <th>336362</th>\n",
       "      <td>O=C(Nc1cccc(O)c1)c1ccccc1-n1cnnn1</td>\n",
       "      <td>[O][=C][Branch1][=N][N][C][=C][C][=C][C][Branc...</td>\n",
       "      <td>1.62020</td>\n",
       "      <td>0.760604</td>\n",
       "      <td>2.034326</td>\n",
       "      <td>1.768693</td>\n",
       "    </tr>\n",
       "    <tr>\n",
       "      <th>421217</th>\n",
       "      <td>Cc1cc2c(NCCC(=O)NCc3cccnc3)ncnc2s1</td>\n",
       "      <td>[C][C][=C][C][=C][Branch2][Ring1][C][N][C][C][...</td>\n",
       "      <td>2.51312</td>\n",
       "      <td>0.727036</td>\n",
       "      <td>2.327182</td>\n",
       "      <td>1.307999</td>\n",
       "    </tr>\n",
       "    <tr>\n",
       "      <th>1418661</th>\n",
       "      <td>COCCN1CCN(C(=O)c2ccc(Cn3ccnc3)cc2)CC1=O</td>\n",
       "      <td>[C][O][C][C][N][C][C][N][Branch2][Ring1][#Bran...</td>\n",
       "      <td>0.86220</td>\n",
       "      <td>0.780937</td>\n",
       "      <td>2.271511</td>\n",
       "      <td>1.633172</td>\n",
       "    </tr>\n",
       "    <tr>\n",
       "      <th>1395012</th>\n",
       "      <td>Cc1ccc2ncc(C(=O)NCC3CCOC3C(C)C)n2c1</td>\n",
       "      <td>[C][C][C][=C][C][=N][C][=C][Branch2][Ring1][Ri...</td>\n",
       "      <td>2.43362</td>\n",
       "      <td>0.943391</td>\n",
       "      <td>3.555418</td>\n",
       "      <td>1.161539</td>\n",
       "    </tr>\n",
       "    <tr>\n",
       "      <th>160094</th>\n",
       "      <td>N#Cc1ccccc1OCC(=O)N1CCC2CCCCC2C1</td>\n",
       "      <td>[N][#C][C][=C][C][=C][C][=C][Ring1][=Branch1][...</td>\n",
       "      <td>2.97578</td>\n",
       "      <td>0.861747</td>\n",
       "      <td>2.830672</td>\n",
       "      <td>1.478065</td>\n",
       "    </tr>\n",
       "  </tbody>\n",
       "</table>\n",
       "</div>"
      ],
      "text/plain": [
       "                                          SMILES  \\\n",
       "336362         O=C(Nc1cccc(O)c1)c1ccccc1-n1cnnn1   \n",
       "421217        Cc1cc2c(NCCC(=O)NCc3cccnc3)ncnc2s1   \n",
       "1418661  COCCN1CCN(C(=O)c2ccc(Cn3ccnc3)cc2)CC1=O   \n",
       "1395012      Cc1ccc2ncc(C(=O)NCC3CCOC3C(C)C)n2c1   \n",
       "160094          N#Cc1ccccc1OCC(=O)N1CCC2CCCCC2C1   \n",
       "\n",
       "                                                   SELFIES     logP       qed  \\\n",
       "336362   [O][=C][Branch1][=N][N][C][=C][C][=C][C][Branc...  1.62020  0.760604   \n",
       "421217   [C][C][=C][C][=C][Branch2][Ring1][C][N][C][C][...  2.51312  0.727036   \n",
       "1418661  [C][O][C][C][N][C][C][N][Branch2][Ring1][#Bran...  0.86220  0.780937   \n",
       "1395012  [C][C][C][=C][C][=N][C][=C][Branch2][Ring1][Ri...  2.43362  0.943391   \n",
       "160094   [N][#C][C][=C][C][=C][C][=C][Ring1][=Branch1][...  2.97578  0.861747   \n",
       "\n",
       "              SAS  objective  \n",
       "336362   2.034326   1.768693  \n",
       "421217   2.327182   1.307999  \n",
       "1418661  2.271511   1.633172  \n",
       "1395012  3.555418   1.161539  \n",
       "160094   2.830672   1.478065  "
      ]
     },
     "execution_count": 8,
     "metadata": {},
     "output_type": "execute_result"
    }
   ],
   "source": [
    "## create dataframe with data for optimization start points\n",
    "size = 5\n",
    "np.random.seed(0)\n",
    "\n",
    "opt_start_df = df[(df['objective'] > 1) & (df['objective'] < 2)]\n",
    "\n",
    "rand_indices = np.random.choice(len(opt_start_df), size, replace=False)\n",
    "opt_start_df = opt_start_df.iloc[rand_indices]\n",
    "opt_start_df.to_csv(f'{save_path}opt_start_df.csv', index=False)\n",
    "\n",
    "print(f'data size: {opt_start_df.shape[0]}')\n",
    "opt_start_df.head()"
   ]
  },
  {
   "cell_type": "code",
   "execution_count": 7,
   "metadata": {},
   "outputs": [
    {
     "data": {
      "image/png": "[encoded data removed]",
      "text/plain": [
       "<Figure size 640x480 with 1 Axes>"
      ]
     },
     "metadata": {},
     "output_type": "display_data"
    }
   ],
   "source": [
    "# plot the distribution of objective values of df and gpr_train_df\n",
    "plt.figure()\n",
    "plt.hist(df['objective'], bins=100, alpha=0.5, label='All data', density=True)\n",
    "plt.hist(gpr_fit_df['objective'], bins=100, alpha=0.5, label='Training data', density=True)\n",
    "plt.hist(opt_start_df['objective'], bins=10, alpha=0.5, label='Optimization start data', density=True)\n",
    "plt.legend()\n",
    "plt.show()\n",
    "\n"
   ]
  }
 ],
 "metadata": {
  "kernelspec": {
   "display_name": "LG_newmoses",
   "language": "python",
   "name": "python3"
  },
  "language_info": {
   "codemirror_mode": {
    "name": "ipython",
    "version": 3
   },
   "file_extension": ".py",
   "mimetype": "text/x-python",
   "name": "python",
   "nbconvert_exporter": "python",
   "pygments_lexer": "ipython3",
   "version": "3.8.19"
  }
 },
 "nbformat": 4,
 "nbformat_minor": 2
}
