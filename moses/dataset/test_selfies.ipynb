{
 "cells": [
  {
   "cell_type": "code",
   "execution_count": 3,
   "metadata": {},
   "outputs": [],
   "source": [
    "import selfies as sf\n",
    "import os\n",
    "import pandas as pd"
   ]
  },
  {
   "cell_type": "code",
   "execution_count": 4,
   "metadata": {},
   "outputs": [],
   "source": [
    "split = 'train'\n",
    "\n",
    "# base_path = os.path.dirname(__file__)\n",
    "base_path = './'\n",
    "\n",
    "path = os.path.join(base_path, f'data/ZINC', split+'.csv')\n",
    "smiles = pd.read_csv(path)['SMILES'][:5].values\n",
    "\n",
    "# if config.use_selfies:\n",
    "selfies = [sf.encoder(smile) for smile in smiles]"
   ]
  },
  {
   "cell_type": "code",
   "execution_count": 5,
   "metadata": {},
   "outputs": [
    {
     "data": {
      "text/plain": [
       "'CCCS(=O)c1ccc2[nH]c(=NC(=O)OC)[nH]c2c1'"
      ]
     },
     "execution_count": 5,
     "metadata": {},
     "output_type": "execute_result"
    }
   ],
   "source": [
    "smiles[0]"
   ]
  },
  {
   "cell_type": "code",
   "execution_count": 6,
   "metadata": {},
   "outputs": [
    {
     "data": {
      "text/plain": [
       "'[C][C][C][S][=Branch1][C][=O][C][=C][C][=C][NH1][C][=Branch1][Branch2][=N][C][=Branch1][C][=O][O][C][NH1][C][Ring1][#Branch2][=C][Ring1][=C]'"
      ]
     },
     "execution_count": 6,
     "metadata": {},
     "output_type": "execute_result"
    }
   ],
   "source": [
    "selfies[0]"
   ]
  },
  {
   "cell_type": "code",
   "execution_count": 7,
   "metadata": {},
   "outputs": [
    {
     "data": {
      "text/plain": [
       "False"
      ]
     },
     "execution_count": 7,
     "metadata": {},
     "output_type": "execute_result"
    }
   ],
   "source": [
    "selfies[0].startswith(']') and selfies[0].endswith(']')"
   ]
  },
  {
   "cell_type": "code",
   "execution_count": 8,
   "metadata": {},
   "outputs": [],
   "source": [
    "import re"
   ]
  },
  {
   "cell_type": "code",
   "execution_count": 9,
   "metadata": {},
   "outputs": [],
   "source": [
    "result = re.findall(r'\\[([^]]+)\\]', selfies[0])\n"
   ]
  },
  {
   "cell_type": "code",
   "execution_count": 12,
   "metadata": {},
   "outputs": [
    {
     "data": {
      "text/plain": [
       "'[C][C][C][S][=Branch1][C][=O][C][=C][C][=C][NH1][C][=Branch1][Branch2][=N][C][=Branch1][C][=O][O][C][NH1][C][Ring1][#Branch2][=C][Ring1][=C]'"
      ]
     },
     "execution_count": 12,
     "metadata": {},
     "output_type": "execute_result"
    }
   ],
   "source": [
    "selfies[0]"
   ]
  },
  {
   "cell_type": "code",
   "execution_count": 10,
   "metadata": {},
   "outputs": [
    {
     "data": {
      "text/plain": [
       "['C',\n",
       " 'C',\n",
       " 'C',\n",
       " 'S',\n",
       " '=Branch1',\n",
       " 'C',\n",
       " '=O',\n",
       " 'C',\n",
       " '=C',\n",
       " 'C',\n",
       " '=C',\n",
       " 'NH1',\n",
       " 'C',\n",
       " '=Branch1',\n",
       " 'Branch2',\n",
       " '=N',\n",
       " 'C',\n",
       " '=Branch1',\n",
       " 'C',\n",
       " '=O',\n",
       " 'O',\n",
       " 'C',\n",
       " 'NH1',\n",
       " 'C',\n",
       " 'Ring1',\n",
       " '#Branch2',\n",
       " '=C',\n",
       " 'Ring1',\n",
       " '=C']"
      ]
     },
     "execution_count": 10,
     "metadata": {},
     "output_type": "execute_result"
    }
   ],
   "source": [
    "result"
   ]
  },
  {
   "cell_type": "code",
   "execution_count": null,
   "metadata": {},
   "outputs": [],
   "source": []
  }
 ],
 "metadata": {
  "kernelspec": {
   "display_name": "moses",
   "language": "python",
   "name": "python3"
  },
  "language_info": {
   "codemirror_mode": {
    "name": "ipython",
    "version": 3
   },
   "file_extension": ".py",
   "mimetype": "text/x-python",
   "name": "python",
   "nbconvert_exporter": "python",
   "pygments_lexer": "ipython3",
   "version": "3.8.19"
  },
  "orig_nbformat": 4
 },
 "nbformat": 4,
 "nbformat_minor": 2
}
